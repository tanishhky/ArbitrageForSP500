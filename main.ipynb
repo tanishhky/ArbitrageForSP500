{
  "cells": [
    {
      "cell_type": "code",
      "execution_count": 68,
      "metadata": {
        "id": "koml6g7p7y9e"
      },
      "outputs": [],
      "source": [
        "import yfinance as yf\n",
        "import numpy as np\n",
        "import pandas as pd\n",
        "from sklearn.linear_model import LinearRegression\n",
        "from tensorflow.keras.models import Sequential\n",
        "from tensorflow.keras.layers import Dense\n",
        "from sklearn.preprocessing import StandardScaler\n",
        "from sklearn.model_selection import train_test_split"
      ]
    },
    {
      "cell_type": "code",
      "execution_count": 69,
      "metadata": {
        "colab": {
          "base_uri": "https://localhost:8080/"
        },
        "id": "Pk2U_Pi98s1w",
        "outputId": "2574fedb-8391-4bc0-efaf-480c7abe0a2b"
      },
      "outputs": [
        {
          "name": "stderr",
          "output_type": "stream",
          "text": [
            "[*********************100%%**********************]  1 of 1 completed\n",
            "[*********************100%%**********************]  1 of 1 completed\n",
            "[*********************100%%**********************]  1 of 1 completed\n"
          ]
        }
      ],
      "source": [
        "# Define the SP500 tickers and sector index ticker\n",
        "sp500_tickers = ['AAPL', 'MSFT', 'GOOGL']  # Example tickers\n",
        "sector_index_ticker = 'XLC'  # Example sector index ticker for Technology\n",
        "\n",
        "# Fetch historical data for these tickers and the sector index\n",
        "def fetch_data(tickers, start_date, end_date):\n",
        "    data = {}\n",
        "    for ticker in tickers:\n",
        "        data[ticker] = yf.download(ticker, start=start_date, end=end_date)\n",
        "    return data\n",
        "\n",
        "data = fetch_data(sp500_tickers, '2004-08-12', '2024-08-12')\n"
      ]
    },
    {
      "cell_type": "code",
      "execution_count": 48,
      "metadata": {
        "colab": {
          "base_uri": "https://localhost:8080/"
        },
        "id": "5VdMFj_h81I7",
        "outputId": "6810fa30-7b37-41d4-b1ca-14a126d70887"
      },
      "outputs": [
        {
          "name": "stderr",
          "output_type": "stream",
          "text": [
            "\r[*********************100%%**********************]  1 of 1 completed\n"
          ]
        }
      ],
      "source": [
        "\n",
        "# Fetch the sector index data\n",
        "sector_index_data = yf.download(sector_index_ticker, start='2004-08-12', end='2024-08-12')\n",
        "\n",
        "def fetch_company_info(ticker):\n",
        "    company = yf.Ticker(ticker)\n",
        "    return company.info\n"
      ]
    },
    {
      "cell_type": "code",
      "execution_count": 70,
      "metadata": {
        "id": "qhCefEY48155"
      },
      "outputs": [],
      "source": [
        "def calculate_metrics(info):\n",
        "    metrics = {\n",
        "        'P/E Ratio': info.get('forwardEps') / info.get('previousClose') if info.get('forwardEps') and info.get('previousClose') else None,\n",
        "        # 'EPS': info.get('earningsPerShare'),\n",
        "        'P/B Ratio': info.get('priceToBook'),\n",
        "        'Dividend Yield': info.get('dividendYield'),\n",
        "        'Dividend Payout Ratio': info.get('payoutRatio'),\n",
        "        'ROE': info.get('returnOnEquity'),\n",
        "        'ROA': info.get('returnOnAssets'),\n",
        "        # 'ROI': info.get('returnOnInvestment'),\n",
        "        'Beta': info.get('beta'),\n",
        "        'Market Capitalization': info.get('marketCap'),\n",
        "        'Revenue Growth': info.get('revenueGrowth'),\n",
        "        # 'Net Profit Margin': info.get('netProfitMargin'),\n",
        "        # 'Gross Profit Margin': info.get('grossProfitMargin'),\n",
        "        # 'Operating Margin': info.get('operatingMargin'),\n",
        "        'Debt-to-Equity Ratio': info.get('debtToEquity'),\n",
        "        'Free Cash Flow': info.get('freeCashflow'),\n",
        "        'Current Ratio': info.get('currentRatio'),\n",
        "        'Quick Ratio': info.get('quickRatio'),\n",
        "        # 'Interest Coverage Ratio': info.get('interestCoverageRatio'),\n",
        "        # 'P/S Ratio': info.get('priceToSales'),\n",
        "        'PEG Ratio': info.get('pegRatio'),\n",
        "        # Additional metrics\n",
        "        # 'Alpha': None,\n",
        "        'Standard Deviation': None,\n",
        "        'Value at Risk (VaR)': None,\n",
        "        'Sharpe Ratio': None,\n",
        "        'Sortino Ratio': None,\n",
        "        'Maximum Drawdown': None,\n",
        "        'Downside Deviation': None,\n",
        "        'Tracking Error': None,\n",
        "        'R-squared': None,\n",
        "        'Treynor Ratio': None,\n",
        "        'Information Ratio': None,\n",
        "        'Conditional Value at Risk (CVaR)': None,\n",
        "        'Beta-adjusted Sharpe Ratio': None,\n",
        "        'Drawdown Duration': None,\n",
        "        'Ulcer Index': None,\n",
        "        'Jensen’s Alpha': None\n",
        "    }\n",
        "    return metrics\n"
      ]
    },
    {
      "cell_type": "code",
      "execution_count": 71,
      "metadata": {
        "id": "AIWGRrcF9C0M"
      },
      "outputs": [],
      "source": [
        "\n",
        "# Ensure company_data is defined\n",
        "company_data = data.get('AAPL')\n",
        "if company_data is None:\n",
        "    raise ValueError(\"Data for 'AAPL' not found in fetched data.\")\n",
        "\n",
        "# Ensure sector_index_data is defined\n",
        "if sector_index_data is None:\n",
        "    raise ValueError(f\"Data for sector index '{sector_index_ticker}' not found.\")\n",
        "\n",
        "company_info = fetch_company_info('AAPL')\n",
        "metrics = calculate_metrics(company_info)\n"
      ]
    },
    {
      "cell_type": "code",
      "execution_count": 72,
      "metadata": {
        "id": "Vet3_OQC9NrS"
      },
      "outputs": [],
      "source": [
        "\n",
        "def calculate_standard_deviation(price_data):\n",
        "    returns = price_data['Adj Close'].pct_change().dropna()\n",
        "    return returns.std()\n",
        "\n",
        "def calculate_var(price_data, confidence_level=0.95):\n",
        "    returns = price_data['Adj Close'].pct_change().dropna()\n",
        "    return returns.quantile(1 - confidence_level)\n",
        "\n",
        "def calculate_sharpe_ratio(price_data, risk_free_rate=0.01):\n",
        "    returns = price_data['Adj Close'].pct_change().dropna()\n",
        "    excess_returns = returns - risk_free_rate / 252\n",
        "    return excess_returns.mean() / excess_returns.std()\n",
        "\n",
        "def calculate_sortino_ratio(price_data, risk_free_rate=0.01):\n",
        "    returns = price_data['Adj Close'].pct_change().dropna()\n",
        "    excess_returns = returns - risk_free_rate / 252\n",
        "    downside_returns = excess_returns[excess_returns < 0]\n",
        "    return excess_returns.mean() / downside_returns.std()\n",
        "\n",
        "def calculate_max_drawdown(price_data):\n",
        "    rolling_max = price_data['Adj Close'].cummax()\n",
        "    drawdowns = (price_data['Adj Close'] - rolling_max) / rolling_max\n",
        "    return drawdowns.min()\n",
        "\n",
        "def calculate_downside_deviation(price_data, risk_free_rate=0.01):\n",
        "    returns = price_data['Adj Close'].pct_change().dropna()\n",
        "    downside_returns = returns[returns < risk_free_rate / 252]\n",
        "    return downside_returns.std()\n",
        "\n",
        "def calculate_tracking_error(company_data, index_data):\n",
        "    # Ensure both datasets have the same dates\n",
        "    common_dates = company_data.index.intersection(index_data.index)\n",
        "    company_returns = company_data.loc[common_dates, 'Adj Close'].pct_change().dropna()\n",
        "    index_returns = index_data.loc[common_dates, 'Adj Close'].pct_change().dropna()\n",
        "\n",
        "    # Check if there are any overlapping dates\n",
        "    if len(company_returns) == 0 or len(index_returns) == 0:\n",
        "        raise ValueError(\"No overlapping data points found.\")\n",
        "\n",
        "    # Ensure both series are aligned\n",
        "    aligned_data = pd.concat([company_returns, index_returns], axis=1).dropna()\n",
        "    company_returns_aligned = aligned_data.iloc[:, 0]\n",
        "    index_returns_aligned = aligned_data.iloc[:, 1]\n",
        "\n",
        "    # Compute Tracking Error\n",
        "    excess_returns = company_returns_aligned - index_returns_aligned\n",
        "    return excess_returns.std()\n",
        "\n",
        "def calculate_r_squared(company_data, index_data):\n",
        "    # Ensure both datasets have the same dates\n",
        "    common_dates = company_data.index.intersection(index_data.index)\n",
        "    company_returns = company_data.loc[common_dates, 'Adj Close'].pct_change().dropna()\n",
        "    index_returns = index_data.loc[common_dates, 'Adj Close'].pct_change().dropna()\n",
        "\n",
        "    # Check if there are any overlapping dates\n",
        "    if len(company_returns) == 0 or len(index_returns) == 0:\n",
        "        raise ValueError(\"No overlapping data points found.\")\n",
        "\n",
        "    # Ensure both series are aligned\n",
        "    aligned_data = pd.concat([company_returns, index_returns], axis=1).dropna()\n",
        "    company_returns_aligned = aligned_data.iloc[:, 0]\n",
        "    index_returns_aligned = aligned_data.iloc[:, 1]\n",
        "\n",
        "    # Fit the linear regression model\n",
        "    model = LinearRegression().fit(index_returns_aligned.values.reshape(-1, 1), company_returns_aligned.values)\n",
        "    return model.score(index_returns_aligned.values.reshape(-1, 1), company_returns_aligned.values)\n",
        "\n",
        "def calculate_treynor_ratio(price_data, risk_free_rate=0.01, beta=None):\n",
        "    returns = price_data['Adj Close'].pct_change().dropna()\n",
        "    excess_returns = returns.mean() - risk_free_rate / 252\n",
        "    return excess_returns / beta if beta else None\n",
        "\n",
        "def calculate_information_ratio(price_data, index_data):\n",
        "    # Ensure both datasets have the same dates\n",
        "    common_dates = price_data.index.intersection(index_data.index)\n",
        "    company_returns = price_data.loc[common_dates, 'Adj Close'].pct_change().dropna()\n",
        "    index_returns = index_data.loc[common_dates, 'Adj Close'].pct_change().dropna()\n",
        "\n",
        "    # Check if there are any overlapping dates\n",
        "    if len(company_returns) == 0 or len(index_returns) == 0:\n",
        "        raise ValueError(\"No overlapping data points found.\")\n",
        "\n",
        "    # Ensure both series are aligned\n",
        "    aligned_data = pd.concat([company_returns, index_returns], axis=1).dropna()\n",
        "    company_returns_aligned = aligned_data.iloc[:, 0]\n",
        "    index_returns_aligned = aligned_data.iloc[:, 1]\n",
        "\n",
        "    # Compute Information Ratio\n",
        "    excess_returns = company_returns_aligned - index_returns_aligned\n",
        "    return excess_returns.mean() / excess_returns.std()\n",
        "\n",
        "def calculate_cvar(price_data, confidence_level=0.95):\n",
        "    returns = price_data['Adj Close'].pct_change().dropna()\n",
        "    var = returns.quantile(1 - confidence_level)\n",
        "    cvar = returns[returns <= var].mean()\n",
        "    return cvar\n",
        "\n",
        "def calculate_beta(company_data, index_data):\n",
        "    # Ensure both datasets have the same dates\n",
        "    common_dates = company_data.index.intersection(index_data.index)\n",
        "    company_returns = company_data.loc[common_dates, 'Adj Close'].pct_change().dropna()\n",
        "    index_returns = index_data.loc[common_dates, 'Adj Close'].pct_change().dropna()\n",
        "\n",
        "    # Check if there are any overlapping dates\n",
        "    if len(company_returns) == 0 or len(index_returns) == 0:\n",
        "        raise ValueError(\"No overlapping data points found.\")\n",
        "\n",
        "    # Ensure both series are aligned\n",
        "    aligned_data = pd.concat([company_returns, index_returns], axis=1).dropna()\n",
        "    company_returns_aligned = aligned_data.iloc[:, 0]\n",
        "    index_returns_aligned = aligned_data.iloc[:, 1]\n",
        "\n",
        "    # Calculate Beta\n",
        "    covariance_matrix = np.cov(company_returns_aligned, index_returns_aligned)\n",
        "    beta = covariance_matrix[0, 1] / covariance_matrix[1, 1]\n",
        "    return beta\n",
        "\n",
        "def calculate_beta_adjusted_sharpe_ratio(price_data, index_data, risk_free_rate=0.01):\n",
        "    beta = calculate_beta(price_data, index_data)\n",
        "    sharpe_ratio = calculate_sharpe_ratio(price_data, risk_free_rate)\n",
        "    return sharpe_ratio / beta if beta else None\n",
        "\n",
        "def calculate_drawdown_duration(price_data):\n",
        "    rolling_max = price_data['Adj Close'].cummax()\n",
        "    drawdowns = (price_data['Adj Close'] - rolling_max) / rolling_max\n",
        "    drawdown_duration = (drawdowns < 0).astype(int).groupby((drawdowns >= 0).astype(int).cumsum()).cumsum().max()\n",
        "    return drawdown_duration\n",
        "\n",
        "def calculate_ulcer_index(price_data):\n",
        "    rolling_max = price_data['Adj Close'].cummax()\n",
        "    drawdowns = (price_data['Adj Close'] - rolling_max) / rolling_max\n",
        "    return (drawdowns ** 2).mean() ** 0.5\n",
        "\n",
        "def calculate_jensens_alpha(price_data, index_data, risk_free_rate=0.01):\n",
        "    # Ensure both datasets have the same dates\n",
        "    common_dates = price_data.index.intersection(index_data.index)\n",
        "    company_returns = price_data.loc[common_dates, 'Adj Close'].pct_change().dropna()\n",
        "    index_returns = index_data.loc[common_dates, 'Adj Close'].pct_change().dropna()\n",
        "\n",
        "    # Check if there are any overlapping dates\n",
        "    if len(company_returns) == 0 or len(index_returns) == 0:\n",
        "        raise ValueError(\"No overlapping data points found.\")\n",
        "\n",
        "    # Ensure both series are aligned\n",
        "    aligned_data = pd.concat([company_returns, index_returns], axis=1).dropna()\n",
        "    company_returns_aligned = aligned_data.iloc[:, 0]\n",
        "    index_returns_aligned = aligned_data.iloc[:, 1]\n",
        "\n",
        "    # Calculate Jensen’s Alpha\n",
        "    beta = calculate_beta(price_data, index_data)\n",
        "    expected_return = risk_free_rate / 252 + beta * (index_returns_aligned.mean() - risk_free_rate / 252)\n",
        "    alpha = company_returns_aligned.mean() - expected_return\n",
        "    return alpha"
      ]
    },
    {
      "cell_type": "code",
      "execution_count": 73,
      "metadata": {
        "id": "wRAMjVtG9SSV"
      },
      "outputs": [],
      "source": [
        "\n",
        "# Update metrics with calculations that require the sector index data\n",
        "metrics.update({\n",
        "    'Standard Deviation': calculate_standard_deviation(company_data),\n",
        "    'Value at Risk (VaR)': calculate_var(company_data),\n",
        "    'Sharpe Ratio': calculate_sharpe_ratio(company_data),\n",
        "    'Sortino Ratio': calculate_sortino_ratio(company_data),\n",
        "    'Maximum Drawdown': calculate_max_drawdown(company_data),\n",
        "    'Downside Deviation': calculate_downside_deviation(company_data),\n",
        "    'Tracking Error': calculate_tracking_error(company_data, sector_index_data),\n",
        "    'R-squared': calculate_r_squared(company_data, sector_index_data),\n",
        "    'Treynor Ratio': calculate_treynor_ratio(company_data, beta=company_info.get('beta')),\n",
        "    'Information Ratio': calculate_information_ratio(company_data, sector_index_data),\n",
        "    'Conditional Value at Risk (CVaR)': calculate_cvar(company_data),\n",
        "    'Beta-adjusted Sharpe Ratio': calculate_beta_adjusted_sharpe_ratio(company_data, sector_index_data),\n",
        "    'Drawdown Duration': calculate_drawdown_duration(company_data),\n",
        "    'Ulcer Index': calculate_ulcer_index(company_data),\n",
        "    'Jensen’s Alpha': calculate_jensens_alpha(company_data, sector_index_data)\n",
        "})\n"
      ]
    },
    {
      "cell_type": "code",
      "execution_count": 74,
      "metadata": {
        "colab": {
          "base_uri": "https://localhost:8080/"
        },
        "id": "qqCpbVs88Xt4",
        "outputId": "609ecb8c-2953-4b40-d079-cc5030bf35c7"
      },
      "outputs": [
        {
          "data": {
            "text/plain": [
              "{'P/E Ratio': 0.03176072966341034,\n",
              " 'P/B Ratio': 49.641716,\n",
              " 'Dividend Yield': 0.0046,\n",
              " 'Dividend Payout Ratio': 0.1476,\n",
              " 'ROE': 1.60583,\n",
              " 'ROA': 0.22612,\n",
              " 'Beta': 1.244,\n",
              " 'Market Capitalization': 3307347902464,\n",
              " 'Revenue Growth': 0.049,\n",
              " 'Debt-to-Equity Ratio': 151.862,\n",
              " 'Free Cash Flow': 86158123008,\n",
              " 'Current Ratio': 0.953,\n",
              " 'Quick Ratio': 0.798,\n",
              " 'PEG Ratio': 3.48,\n",
              " 'Standard Deviation': 0.020529283296472328,\n",
              " 'Value at Risk (VaR)': -0.03001321374796813,\n",
              " 'Sharpe Ratio': 0.06795364015161351,\n",
              " 'Sortino Ratio': 0.09627833164628401,\n",
              " 'Maximum Drawdown': -0.6086673465094341,\n",
              " 'Downside Deviation': 0.014489652093518117,\n",
              " 'Tracking Error': 0.013832101351809038,\n",
              " 'R-squared': 0.516793236502664,\n",
              " 'Treynor Ratio': 0.0011214144129413268,\n",
              " 'Information Ratio': 0.05314582929515003,\n",
              " 'Conditional Value at Risk (CVaR)': -0.0458154899114839,\n",
              " 'Beta-adjusted Sharpe Ratio': 0.07060655956224075,\n",
              " 'Drawdown Duration': 456,\n",
              " 'Ulcer Index': 0.16867095897325815,\n",
              " 'Jensen’s Alpha': 0.000752100711340366}"
            ]
          },
          "execution_count": 74,
          "metadata": {},
          "output_type": "execute_result"
        }
      ],
      "source": [
        "metrics"
      ]
    },
    {
      "cell_type": "code",
      "execution_count": 75,
      "metadata": {
        "colab": {
          "base_uri": "https://localhost:8080/"
        },
        "id": "ONg-9WAYa8W-",
        "outputId": "f8f83411-30ec-4313-a669-6a3adf1d724c"
      },
      "outputs": [
        {
          "data": {
            "text/plain": [
              "array([[ 3.17607297e-02,  4.96417160e+01,  4.60000000e-03,\n",
              "         1.47600000e-01,  1.60583000e+00,  2.26120000e-01,\n",
              "         1.24400000e+00,  3.30734790e+12,  4.90000000e-02,\n",
              "         1.51862000e+02,  8.61581230e+10,  9.53000000e-01,\n",
              "         7.98000000e-01,  3.48000000e+00,  2.05292833e-02,\n",
              "        -3.00132137e-02,  6.79536402e-02,  9.62783316e-02,\n",
              "        -6.08667347e-01,  1.44896521e-02,  1.38321014e-02,\n",
              "         5.16793237e-01,  1.12141441e-03,  5.31458293e-02,\n",
              "        -4.58154899e-02,  7.06065596e-02,  4.56000000e+02,\n",
              "         1.68670959e-01,  7.52100711e-04]])"
            ]
          },
          "execution_count": 75,
          "metadata": {},
          "output_type": "execute_result"
        }
      ],
      "source": [
        "X = np.array(list(metrics.values())).reshape(1, -1)  # Reshape to be a single sample\n",
        "X"
      ]
    },
    {
      "cell_type": "code",
      "execution_count": 76,
      "metadata": {
        "colab": {
          "base_uri": "https://localhost:8080/"
        },
        "id": "zH5pfBwhY1FG",
        "outputId": "8811137c-2b44-4366-90c2-7f00726a54ea"
      },
      "outputs": [
        {
          "data": {
            "text/plain": [
              "array([215.99000549])"
            ]
          },
          "execution_count": 76,
          "metadata": {},
          "output_type": "execute_result"
        }
      ],
      "source": [
        "# Extract the latest adjusted close price\n",
        "latest_date = company_data.index[-1]\n",
        "latest_adjusted_close_price = company_data.loc[latest_date, 'Adj Close']\n",
        "y = np.array([latest_adjusted_close_price])\n",
        "y"
      ]
    },
    {
      "cell_type": "code",
      "execution_count": 77,
      "metadata": {
        "colab": {
          "base_uri": "https://localhost:8080/"
        },
        "id": "uf4ES5LCbNz_",
        "outputId": "cf6d97a6-f08d-4a6e-873d-0dcb3649d20f"
      },
      "outputs": [
        {
          "name": "stdout",
          "output_type": "stream",
          "text": [
            "Epoch 1/20\n"
          ]
        },
        {
          "name": "stderr",
          "output_type": "stream",
          "text": [
            "/usr/local/lib/python3.10/dist-packages/keras/src/layers/core/dense.py:87: UserWarning: Do not pass an `input_shape`/`input_dim` argument to a layer. When using Sequential models, prefer using an `Input(shape)` object as the first layer in the model instead.\n",
            "  super().__init__(activity_regularizer=activity_regularizer, **kwargs)\n"
          ]
        },
        {
          "name": "stdout",
          "output_type": "stream",
          "text": [
            "\u001b[1m1/1\u001b[0m \u001b[32m━━━━━━━━━━━━━━━━━━━━\u001b[0m\u001b[37m\u001b[0m \u001b[1m5s\u001b[0m 5s/step - loss: 28874088168747232657408.0000\n",
            "Epoch 2/20\n",
            "\u001b[1m1/1\u001b[0m \u001b[32m━━━━━━━━━━━━━━━━━━━━\u001b[0m\u001b[37m\u001b[0m \u001b[1m0s\u001b[0m 33ms/step - loss: 28874088168747232657408.0000\n",
            "Epoch 3/20\n",
            "\u001b[1m1/1\u001b[0m \u001b[32m━━━━━━━━━━━━━━━━━━━━\u001b[0m\u001b[37m\u001b[0m \u001b[1m0s\u001b[0m 58ms/step - loss: nan\n",
            "Epoch 4/20\n",
            "\u001b[1m1/1\u001b[0m \u001b[32m━━━━━━━━━━━━━━━━━━━━\u001b[0m\u001b[37m\u001b[0m \u001b[1m0s\u001b[0m 33ms/step - loss: nan\n",
            "Epoch 5/20\n",
            "\u001b[1m1/1\u001b[0m \u001b[32m━━━━━━━━━━━━━━━━━━━━\u001b[0m\u001b[37m\u001b[0m \u001b[1m0s\u001b[0m 60ms/step - loss: nan\n",
            "Epoch 6/20\n",
            "\u001b[1m1/1\u001b[0m \u001b[32m━━━━━━━━━━━━━━━━━━━━\u001b[0m\u001b[37m\u001b[0m \u001b[1m0s\u001b[0m 57ms/step - loss: nan\n",
            "Epoch 7/20\n",
            "\u001b[1m1/1\u001b[0m \u001b[32m━━━━━━━━━━━━━━━━━━━━\u001b[0m\u001b[37m\u001b[0m \u001b[1m0s\u001b[0m 36ms/step - loss: nan\n",
            "Epoch 8/20\n",
            "\u001b[1m1/1\u001b[0m \u001b[32m━━━━━━━━━━━━━━━━━━━━\u001b[0m\u001b[37m\u001b[0m \u001b[1m0s\u001b[0m 32ms/step - loss: nan\n",
            "Epoch 9/20\n",
            "\u001b[1m1/1\u001b[0m \u001b[32m━━━━━━━━━━━━━━━━━━━━\u001b[0m\u001b[37m\u001b[0m \u001b[1m0s\u001b[0m 32ms/step - loss: nan\n",
            "Epoch 10/20\n",
            "\u001b[1m1/1\u001b[0m \u001b[32m━━━━━━━━━━━━━━━━━━━━\u001b[0m\u001b[37m\u001b[0m \u001b[1m0s\u001b[0m 35ms/step - loss: nan\n",
            "Epoch 11/20\n",
            "\u001b[1m1/1\u001b[0m \u001b[32m━━━━━━━━━━━━━━━━━━━━\u001b[0m\u001b[37m\u001b[0m \u001b[1m0s\u001b[0m 34ms/step - loss: nan\n",
            "Epoch 12/20\n",
            "\u001b[1m1/1\u001b[0m \u001b[32m━━━━━━━━━━━━━━━━━━━━\u001b[0m\u001b[37m\u001b[0m \u001b[1m0s\u001b[0m 43ms/step - loss: nan\n",
            "Epoch 13/20\n",
            "\u001b[1m1/1\u001b[0m \u001b[32m━━━━━━━━━━━━━━━━━━━━\u001b[0m\u001b[37m\u001b[0m \u001b[1m0s\u001b[0m 57ms/step - loss: nan\n",
            "Epoch 14/20\n",
            "\u001b[1m1/1\u001b[0m \u001b[32m━━━━━━━━━━━━━━━━━━━━\u001b[0m\u001b[37m\u001b[0m \u001b[1m0s\u001b[0m 42ms/step - loss: nan\n",
            "Epoch 15/20\n",
            "\u001b[1m1/1\u001b[0m \u001b[32m━━━━━━━━━━━━━━━━━━━━\u001b[0m\u001b[37m\u001b[0m \u001b[1m0s\u001b[0m 44ms/step - loss: nan\n",
            "Epoch 16/20\n",
            "\u001b[1m1/1\u001b[0m \u001b[32m━━━━━━━━━━━━━━━━━━━━\u001b[0m\u001b[37m\u001b[0m \u001b[1m0s\u001b[0m 55ms/step - loss: nan\n",
            "Epoch 17/20\n",
            "\u001b[1m1/1\u001b[0m \u001b[32m━━━━━━━━━━━━━━━━━━━━\u001b[0m\u001b[37m\u001b[0m \u001b[1m0s\u001b[0m 38ms/step - loss: nan\n",
            "Epoch 18/20\n",
            "\u001b[1m1/1\u001b[0m \u001b[32m━━━━━━━━━━━━━━━━━━━━\u001b[0m\u001b[37m\u001b[0m \u001b[1m0s\u001b[0m 53ms/step - loss: nan\n",
            "Epoch 19/20\n",
            "\u001b[1m1/1\u001b[0m \u001b[32m━━━━━━━━━━━━━━━━━━━━\u001b[0m\u001b[37m\u001b[0m \u001b[1m0s\u001b[0m 36ms/step - loss: nan\n",
            "Epoch 20/20\n",
            "\u001b[1m1/1\u001b[0m \u001b[32m━━━━━━━━━━━━━━━━━━━━\u001b[0m\u001b[37m\u001b[0m \u001b[1m0s\u001b[0m 32ms/step - loss: nan\n"
          ]
        },
        {
          "data": {
            "text/plain": [
              "<keras.src.callbacks.history.History at 0x7ac7283518d0>"
            ]
          },
          "execution_count": 77,
          "metadata": {},
          "output_type": "execute_result"
        }
      ],
      "source": [
        "\n",
        "# Initialize ANN model\n",
        "model = Sequential()\n",
        "\n",
        "# Input layer with 64 neurons\n",
        "model.add(Dense(64, input_dim=X.shape[1], activation='relu'))\n",
        "\n",
        "# Hidden layers with 32, 16, and 8 neurons\n",
        "model.add(Dense(32, activation='relu'))\n",
        "model.add(Dense(16, activation='relu'))\n",
        "model.add(Dense(8, activation='relu'))\n",
        "\n",
        "# Output layer with 1 neuron (for regression)\n",
        "model.add(Dense(1, activation='linear'))\n",
        "\n",
        "# Compile the model\n",
        "model.compile(optimizer='adam', loss='mean_squared_error')\n",
        "\n",
        "# Train model with 20 epochs\n",
        "model.fit(X, y, epochs=20, verbose=1)"
      ]
    },
    {
      "cell_type": "code",
      "execution_count": 58,
      "metadata": {
        "colab": {
          "base_uri": "https://localhost:8080/",
          "height": 490
        },
        "id": "14cwT_kE2CkJ",
        "outputId": "b862c68e-13af-4c4a-fd40-311a240547bf"
      },
      "outputs": [
        {
          "name": "stdout",
          "output_type": "stream",
          "text": [
            "Epoch 1/20\n"
          ]
        },
        {
          "ename": "ValueError",
          "evalue": "Exception encountered when calling Sequential.call().\n\n\u001b[1mInput 0 of layer \"dense_9\" is incompatible with the layer: expected axis -1 of input shape to have value 3, but received input with shape (None, 29)\u001b[0m\n\nArguments received by Sequential.call():\n  • inputs=tf.Tensor(shape=(None, 29), dtype=float32)\n  • training=True\n  • mask=None",
          "output_type": "error",
          "traceback": [
            "\u001b[0;31m---------------------------------------------------------------------------\u001b[0m",
            "\u001b[0;31mValueError\u001b[0m                                Traceback (most recent call last)",
            "\u001b[0;32m<ipython-input-58-c2d2ee71ef1b>\u001b[0m in \u001b[0;36m<cell line: 2>\u001b[0;34m()\u001b[0m\n\u001b[1;32m      1\u001b[0m \u001b[0;31m# Train the model with 20 epochs\u001b[0m\u001b[0;34m\u001b[0m\u001b[0;34m\u001b[0m\u001b[0m\n\u001b[0;32m----> 2\u001b[0;31m \u001b[0mhistory\u001b[0m \u001b[0;34m=\u001b[0m \u001b[0mmodel\u001b[0m\u001b[0;34m.\u001b[0m\u001b[0mfit\u001b[0m\u001b[0;34m(\u001b[0m\u001b[0mX\u001b[0m\u001b[0;34m,\u001b[0m \u001b[0my\u001b[0m\u001b[0;34m,\u001b[0m \u001b[0mepochs\u001b[0m\u001b[0;34m=\u001b[0m\u001b[0;36m20\u001b[0m\u001b[0;34m,\u001b[0m \u001b[0mverbose\u001b[0m\u001b[0;34m=\u001b[0m\u001b[0;36m1\u001b[0m\u001b[0;34m)\u001b[0m\u001b[0;34m\u001b[0m\u001b[0;34m\u001b[0m\u001b[0m\n\u001b[0m",
            "\u001b[0;32m/usr/local/lib/python3.10/dist-packages/keras/src/utils/traceback_utils.py\u001b[0m in \u001b[0;36merror_handler\u001b[0;34m(*args, **kwargs)\u001b[0m\n\u001b[1;32m    120\u001b[0m             \u001b[0;31m# To get the full stack trace, call:\u001b[0m\u001b[0;34m\u001b[0m\u001b[0;34m\u001b[0m\u001b[0m\n\u001b[1;32m    121\u001b[0m             \u001b[0;31m# `keras.config.disable_traceback_filtering()`\u001b[0m\u001b[0;34m\u001b[0m\u001b[0;34m\u001b[0m\u001b[0m\n\u001b[0;32m--> 122\u001b[0;31m             \u001b[0;32mraise\u001b[0m \u001b[0me\u001b[0m\u001b[0;34m.\u001b[0m\u001b[0mwith_traceback\u001b[0m\u001b[0;34m(\u001b[0m\u001b[0mfiltered_tb\u001b[0m\u001b[0;34m)\u001b[0m \u001b[0;32mfrom\u001b[0m \u001b[0;32mNone\u001b[0m\u001b[0;34m\u001b[0m\u001b[0;34m\u001b[0m\u001b[0m\n\u001b[0m\u001b[1;32m    123\u001b[0m         \u001b[0;32mfinally\u001b[0m\u001b[0;34m:\u001b[0m\u001b[0;34m\u001b[0m\u001b[0;34m\u001b[0m\u001b[0m\n\u001b[1;32m    124\u001b[0m             \u001b[0;32mdel\u001b[0m \u001b[0mfiltered_tb\u001b[0m\u001b[0;34m\u001b[0m\u001b[0;34m\u001b[0m\u001b[0m\n",
            "\u001b[0;32m/usr/local/lib/python3.10/dist-packages/keras/src/layers/input_spec.py\u001b[0m in \u001b[0;36massert_input_compatibility\u001b[0;34m(input_spec, inputs, layer_name)\u001b[0m\n\u001b[1;32m    225\u001b[0m                     \u001b[0;32mNone\u001b[0m\u001b[0;34m,\u001b[0m\u001b[0;34m\u001b[0m\u001b[0;34m\u001b[0m\u001b[0m\n\u001b[1;32m    226\u001b[0m                 }:\n\u001b[0;32m--> 227\u001b[0;31m                     raise ValueError(\n\u001b[0m\u001b[1;32m    228\u001b[0m                         \u001b[0;34mf'Input {input_index} of layer \"{layer_name}\" is '\u001b[0m\u001b[0;34m\u001b[0m\u001b[0;34m\u001b[0m\u001b[0m\n\u001b[1;32m    229\u001b[0m                         \u001b[0;34mf\"incompatible with the layer: expected axis {axis} \"\u001b[0m\u001b[0;34m\u001b[0m\u001b[0;34m\u001b[0m\u001b[0m\n",
            "\u001b[0;31mValueError\u001b[0m: Exception encountered when calling Sequential.call().\n\n\u001b[1mInput 0 of layer \"dense_9\" is incompatible with the layer: expected axis -1 of input shape to have value 3, but received input with shape (None, 29)\u001b[0m\n\nArguments received by Sequential.call():\n  • inputs=tf.Tensor(shape=(None, 29), dtype=float32)\n  • training=True\n  • mask=None"
          ]
        }
      ],
      "source": [
        "# Train the model with 20 epochs\n",
        "history = model.fit(X, y, epochs=20, verbose=1)"
      ]
    },
    {
      "cell_type": "code",
      "execution_count": 25,
      "metadata": {
        "colab": {
          "base_uri": "https://localhost:8080/",
          "height": 451
        },
        "id": "dEisu6-QUBI0",
        "outputId": "c3822efe-26f9-4fab-b1ad-1c8397ec649c"
      },
      "outputs": [
        {
          "data": {
            "image/png": "[encoded data removed]",
            "text/plain": [
              "<Figure size 1200x600 with 1 Axes>"
            ]
          },
          "metadata": {},
          "output_type": "display_data"
        }
      ],
      "source": [
        "import matplotlib.pyplot as plt\n",
        "\n",
        "# Assuming 'company_data' is your DataFrame containing the stock data\n",
        "plt.figure(figsize=(12, 6))\n",
        "plt.plot(company_data.index, company_data['Adj Close'])\n",
        "plt.xlabel('Date')\n",
        "plt.ylabel('Adjusted Close Price')\n",
        "plt.title('Adjusted Close Price Over Time')\n",
        "plt.grid(True)\n",
        "plt.show()"
      ]
    },
    {
      "cell_type": "markdown",
      "metadata": {
        "id": "y4VPi3Tl8Uf0"
      },
      "source": []
    },
    {
      "cell_type": "code",
      "execution_count": 82,
      "metadata": {
        "colab": {
          "base_uri": "https://localhost:8080/"
        },
        "id": "fDNl9_h9Mfx7",
        "outputId": "cda9e095-003e-4851-e004-680a0dbcc9a1"
      },
      "outputs": [
        {
          "name": "stderr",
          "output_type": "stream",
          "text": [
            "[*********************100%%**********************]  1 of 1 completed\n",
            "[*********************100%%**********************]  1 of 1 completed\n",
            "[*********************100%%**********************]  1 of 1 completed\n",
            "[*********************100%%**********************]  1 of 1 completed\n",
            "[*********************100%%**********************]  1 of 1 completed\n",
            "[*********************100%%**********************]  1 of 1 completed\n",
            "[*********************100%%**********************]  1 of 1 completed\n",
            "[*********************100%%**********************]  1 of 1 completed\n",
            "[*********************100%%**********************]  1 of 1 completed\n",
            "[*********************100%%**********************]  1 of 1 completed\n",
            "[*********************100%%**********************]  1 of 1 completed\n"
          ]
        },
        {
          "name": "stdout",
          "output_type": "stream",
          "text": [
            "Number of NaNs in X: 0\n",
            "Number of NaNs in y: 0\n"
          ]
        }
      ],
      "source": [
        "import yfinance as yf\n",
        "import numpy as np\n",
        "import pandas as pd\n",
        "from sklearn.model_selection import train_test_split\n",
        "from sklearn.linear_model import LinearRegression\n",
        "from tensorflow.keras.models import Sequential\n",
        "from tensorflow.keras.layers import Dense\n",
        "from sklearn.metrics import mean_squared_error, mean_absolute_error\n",
        "\n",
        "# Define the Technology sector tickers (example list)\n",
        "tech_tickers = [\n",
        "    'AAPL', 'MSFT', 'GOOGL', 'NVDA', 'META', 'INTC', 'AMD', 'CSCO', 'ORCL', 'IBM'\n",
        "    # Add more tickers as needed\n",
        "]\n",
        "\n",
        "sector_index_ticker = 'XLC'  # Example sector index ticker for Technology\n",
        "\n",
        "def fetch_data(tickers, start_date, end_date):\n",
        "    data = {}\n",
        "    for ticker in tickers:\n",
        "        data[ticker] = yf.download(ticker, start=start_date, end=end_date)\n",
        "    return data\n",
        "\n",
        "def fetch_company_info(ticker):\n",
        "    company = yf.Ticker(ticker)\n",
        "    return company.info\n",
        "\n",
        "# Fetch historical data\n",
        "data = fetch_data(tech_tickers, '2004-08-12', '2024-08-12')\n",
        "sector_index_data = yf.download(sector_index_ticker, start='2004-08-12', end='2024-08-12')\n",
        "\n",
        "def calculate_metrics(info):\n",
        "    metrics = {\n",
        "        'P/E Ratio': info.get('forwardEps') / info.get('previousClose') if info.get('forwardEps') and info.get('previousClose') else None,\n",
        "        'P/B Ratio': info.get('priceToBook'),\n",
        "        'Dividend Yield': info.get('dividendYield'),\n",
        "        'Dividend Payout Ratio': info.get('payoutRatio'),\n",
        "        'ROE': info.get('returnOnEquity'),\n",
        "        'ROA': info.get('returnOnAssets'),\n",
        "        'Beta': info.get('beta'),\n",
        "        'Market Capitalization': info.get('marketCap'),\n",
        "        'Revenue Growth': info.get('revenueGrowth'),\n",
        "        'Debt-to-Equity Ratio': info.get('debtToEquity'),\n",
        "        'Free Cash Flow': info.get('freeCashflow'),\n",
        "        'Current Ratio': info.get('currentRatio'),\n",
        "        'Quick Ratio': info.get('quickRatio'),\n",
        "        'PEG Ratio': info.get('pegRatio'),\n",
        "        'Standard Deviation': None,\n",
        "        'Value at Risk (VaR)': None,\n",
        "        'Sharpe Ratio': None,\n",
        "        'Sortino Ratio': None,\n",
        "        'Maximum Drawdown': None,\n",
        "        'Downside Deviation': None,\n",
        "        'Tracking Error': None,\n",
        "        'R-squared': None,\n",
        "        'Treynor Ratio': None,\n",
        "        'Information Ratio': None,\n",
        "        'Conditional Value at Risk (CVaR)': None,\n",
        "        'Beta-adjusted Sharpe Ratio': None,\n",
        "        'Drawdown Duration': None,\n",
        "        'Ulcer Index': None,\n",
        "        'Jensen’s Alpha': None\n",
        "    }\n",
        "    return metrics\n",
        "\n",
        "def calculate_standard_deviation(price_data):\n",
        "    returns = price_data['Adj Close'].pct_change().dropna()\n",
        "    return returns.std()\n",
        "\n",
        "def calculate_var(price_data, confidence_level=0.95):\n",
        "    returns = price_data['Adj Close'].pct_change().dropna()\n",
        "    return returns.quantile(1 - confidence_level)\n",
        "\n",
        "def calculate_sharpe_ratio(price_data, risk_free_rate=0.01):\n",
        "    returns = price_data['Adj Close'].pct_change().dropna()\n",
        "    excess_returns = returns - risk_free_rate / 252\n",
        "    return excess_returns.mean() / excess_returns.std()\n",
        "\n",
        "def calculate_sortino_ratio(price_data, risk_free_rate=0.01):\n",
        "    returns = price_data['Adj Close'].pct_change().dropna()\n",
        "    excess_returns = returns - risk_free_rate / 252\n",
        "    downside_returns = excess_returns[excess_returns < 0]\n",
        "    return excess_returns.mean() / downside_returns.std()\n",
        "\n",
        "def calculate_max_drawdown(price_data):\n",
        "    rolling_max = price_data['Adj Close'].cummax()\n",
        "    drawdowns = (price_data['Adj Close'] - rolling_max) / rolling_max\n",
        "    return drawdowns.min()\n",
        "\n",
        "def calculate_downside_deviation(price_data, risk_free_rate=0.01):\n",
        "    returns = price_data['Adj Close'].pct_change().dropna()\n",
        "    downside_returns = returns[returns < risk_free_rate / 252]\n",
        "    return downside_returns.std()\n",
        "\n",
        "def calculate_tracking_error(company_data, index_data):\n",
        "    common_dates = company_data.index.intersection(index_data.index)\n",
        "    company_returns = company_data.loc[common_dates, 'Adj Close'].pct_change().dropna()\n",
        "    index_returns = index_data.loc[common_dates, 'Adj Close'].pct_change().dropna()\n",
        "\n",
        "    if len(company_returns) == 0 or len(index_returns) == 0:\n",
        "        raise ValueError(\"No overlapping data points found.\")\n",
        "\n",
        "    aligned_data = pd.concat([company_returns, index_returns], axis=1).dropna()\n",
        "    company_returns_aligned = aligned_data.iloc[:, 0]\n",
        "    index_returns_aligned = aligned_data.iloc[:, 1]\n",
        "\n",
        "    excess_returns = company_returns_aligned - index_returns_aligned\n",
        "    return excess_returns.std()\n",
        "\n",
        "def calculate_r_squared(company_data, index_data):\n",
        "    common_dates = company_data.index.intersection(index_data.index)\n",
        "    company_returns = company_data.loc[common_dates, 'Adj Close'].pct_change().dropna()\n",
        "    index_returns = index_data.loc[common_dates, 'Adj Close'].pct_change().dropna()\n",
        "\n",
        "    if len(company_returns) == 0 or len(index_returns) == 0:\n",
        "        raise ValueError(\"No overlapping data points found.\")\n",
        "\n",
        "    aligned_data = pd.concat([company_returns, index_returns], axis=1).dropna()\n",
        "    company_returns_aligned = aligned_data.iloc[:, 0]\n",
        "    index_returns_aligned = aligned_data.iloc[:, 1]\n",
        "\n",
        "    model = LinearRegression().fit(index_returns_aligned.values.reshape(-1, 1), company_returns_aligned.values)\n",
        "    return model.score(index_returns_aligned.values.reshape(-1, 1), company_returns_aligned.values)\n",
        "\n",
        "def calculate_treynor_ratio(price_data, risk_free_rate=0.01, beta=None):\n",
        "    returns = price_data['Adj Close'].pct_change().dropna()\n",
        "    excess_returns = returns.mean() - risk_free_rate / 252\n",
        "    return excess_returns / beta if beta else None\n",
        "\n",
        "def calculate_information_ratio(price_data, index_data):\n",
        "    common_dates = price_data.index.intersection(index_data.index)\n",
        "    company_returns = price_data.loc[common_dates, 'Adj Close'].pct_change().dropna()\n",
        "    index_returns = index_data.loc[common_dates, 'Adj Close'].pct_change().dropna()\n",
        "\n",
        "    if len(company_returns) == 0 or len(index_returns) == 0:\n",
        "        raise ValueError(\"No overlapping data points found.\")\n",
        "\n",
        "    aligned_data = pd.concat([company_returns, index_returns], axis=1).dropna()\n",
        "    company_returns_aligned = aligned_data.iloc[:, 0]\n",
        "    index_returns_aligned = aligned_data.iloc[:, 1]\n",
        "\n",
        "    excess_returns = company_returns_aligned - index_returns_aligned\n",
        "    return excess_returns.mean() / excess_returns.std()\n",
        "\n",
        "def calculate_cvar(price_data, confidence_level=0.95):\n",
        "    returns = price_data['Adj Close'].pct_change().dropna()\n",
        "    var = returns.quantile(1 - confidence_level)\n",
        "    cvar = returns[returns <= var].mean()\n",
        "    return cvar\n",
        "\n",
        "def calculate_beta(company_data, index_data):\n",
        "    common_dates = company_data.index.intersection(index_data.index)\n",
        "    company_returns = company_data.loc[common_dates, 'Adj Close'].pct_change().dropna()\n",
        "    index_returns = index_data.loc[common_dates, 'Adj Close'].pct_change().dropna()\n",
        "\n",
        "    if len(company_returns) == 0 or len(index_returns) == 0:\n",
        "        raise ValueError(\"No overlapping data points found.\")\n",
        "\n",
        "    aligned_data = pd.concat([company_returns, index_returns], axis=1).dropna()\n",
        "    company_returns_aligned = aligned_data.iloc[:, 0]\n",
        "    index_returns_aligned = aligned_data.iloc[:, 1]\n",
        "\n",
        "    covariance_matrix = np.cov(company_returns_aligned, index_returns_aligned)\n",
        "    beta = covariance_matrix[0, 1] / covariance_matrix[1, 1]\n",
        "    return beta\n",
        "\n",
        "def calculate_beta_adjusted_sharpe_ratio(price_data, index_data, risk_free_rate=0.01):\n",
        "    beta = calculate_beta(price_data, index_data)\n",
        "    sharpe_ratio = calculate_sharpe_ratio(price_data, risk_free_rate)\n",
        "    return sharpe_ratio / beta if beta else None\n",
        "\n",
        "def calculate_drawdown_duration(price_data):\n",
        "    rolling_max = price_data['Adj Close'].cummax()\n",
        "    drawdowns = (price_data['Adj Close'] - rolling_max) / rolling_max\n",
        "    drawdown_duration = (drawdowns < 0).astype(int).groupby((drawdowns >= 0).astype(int).cumsum()).cumsum().max()\n",
        "    return drawdown_duration\n",
        "\n",
        "def calculate_ulcer_index(price_data):\n",
        "    rolling_max = price_data['Adj Close'].cummax()\n",
        "    drawdowns = (price_data['Adj Close'] - rolling_max) / rolling_max\n",
        "    return np.sqrt((drawdowns**2).mean())\n",
        "\n",
        "def calculate_jensens_alpha(company_data, index_data, risk_free_rate=0.01):\n",
        "    common_dates = company_data.index.intersection(index_data.index)\n",
        "    company_returns = company_data.loc[common_dates, 'Adj Close'].pct_change().dropna()\n",
        "    index_returns = index_data.loc[common_dates, 'Adj Close'].pct_change().dropna()\n",
        "\n",
        "    if len(company_returns) == 0 or len(index_returns) == 0:\n",
        "        raise ValueError(\"No overlapping data points found.\")\n",
        "\n",
        "    aligned_data = pd.concat([company_returns, index_returns], axis=1).dropna()\n",
        "    company_returns_aligned = aligned_data.iloc[:, 0]\n",
        "    index_returns_aligned = aligned_data.iloc[:, 1]\n",
        "\n",
        "    model = LinearRegression().fit(index_returns_aligned.values.reshape(-1, 1), company_returns_aligned.values)\n",
        "    alpha = company_returns_aligned.mean() - (risk_free_rate / 252) - model.coef_[0] * index_returns_aligned.mean()\n",
        "    return alpha\n",
        "\n",
        "# Calculate metrics for each company\n",
        "results = []\n",
        "for ticker in tech_tickers:\n",
        "    company_data = data[ticker]\n",
        "    company_info = fetch_company_info(ticker)\n",
        "\n",
        "    metrics = calculate_metrics(company_info)\n",
        "\n",
        "    try:\n",
        "        metrics['Standard Deviation'] = calculate_standard_deviation(company_data)\n",
        "        metrics['Value at Risk (VaR)'] = calculate_var(company_data)\n",
        "        metrics['Sharpe Ratio'] = calculate_sharpe_ratio(company_data)\n",
        "        metrics['Sortino Ratio'] = calculate_sortino_ratio(company_data)\n",
        "        metrics['Maximum Drawdown'] = calculate_max_drawdown(company_data)\n",
        "        metrics['Downside Deviation'] = calculate_downside_deviation(company_data)\n",
        "        metrics['Tracking Error'] = calculate_tracking_error(company_data, sector_index_data)\n",
        "        metrics['R-squared'] = calculate_r_squared(company_data, sector_index_data)\n",
        "        metrics['Treynor Ratio'] = calculate_treynor_ratio(company_data, beta=calculate_beta(company_data, sector_index_data))\n",
        "        metrics['Information Ratio'] = calculate_information_ratio(company_data, sector_index_data)\n",
        "        metrics['Conditional Value at Risk (CVaR)'] = calculate_cvar(company_data)\n",
        "        metrics['Beta-adjusted Sharpe Ratio'] = calculate_beta_adjusted_sharpe_ratio(company_data, sector_index_data)\n",
        "        metrics['Drawdown Duration'] = calculate_drawdown_duration(company_data)\n",
        "        metrics['Ulcer Index'] = calculate_ulcer_index(company_data)\n",
        "        metrics['Jensen’s Alpha'] = calculate_jensens_alpha(company_data, sector_index_data)\n",
        "    except Exception as e:\n",
        "        print(f\"Error processing {ticker}: {e}\")\n",
        "        continue\n",
        "\n",
        "    metrics['AdjustedClose'] = company_data['Adj Close'].iloc[-1]  # Use the latest adjusted close price\n",
        "    results.append(metrics)\n",
        "\n",
        "# Convert results to DataFrame\n",
        "df = pd.DataFrame(results)\n",
        "\n",
        "# Drop rows with NaN values (if any)\n",
        "df = df.dropna()\n",
        "\n",
        "# Split into features (X) and target (y)\n",
        "X = df.drop(columns=['AdjustedClose'])\n",
        "y = df['AdjustedClose']\n",
        "\n",
        "# Check for NaNs in your features and target\n",
        "print(\"Number of NaNs in X:\", X.isna().sum().sum())\n",
        "print(\"Number of NaNs in y:\", y.isna().sum())\n",
        "\n",
        "# # Split the data into training and testing sets\n",
        "# X_train, X_test, y_train, y_test = train_test_split(X, y, test_size=0.2, random_state=42)\n",
        "\n",
        "# # Initialize ANN model\n",
        "# model = Sequential()\n",
        "# model.add(Dense(64, input_dim=X_train.shape[1], activation='relu'))\n",
        "# model.add(Dense(32, activation='relu'))\n",
        "# model.add(Dense(16, activation='relu'))\n",
        "# model.add(Dense(8, activation='relu'))\n",
        "# model.add(Dense(1, activation='linear'))\n",
        "\n",
        "# # Compile the model\n",
        "# model.compile(optimizer='adam', loss='mean_squared_error')\n",
        "\n",
        "# # Train the model\n",
        "# history = model.fit(X_train, y_train, epochs=20, verbose=1, validation_data=(X_test, y_test))\n",
        "\n",
        "# # Evaluate the model\n",
        "# loss = model.evaluate(X_test, y_test)\n",
        "# print(f\"Test Loss: {loss}\")\n",
        "\n",
        "# # Make predictions\n",
        "# predictions = model.predict(X_test)\n",
        "\n",
        "# # Calculate metrics\n",
        "# mse = mean_squared_error(y_test, predictions)\n",
        "# mae = mean_absolute_error(y_test, predictions)\n",
        "\n",
        "# print(f\"Mean Squared Error: {mse}\")\n",
        "# print(f\"Mean Absolute Error: {mae}\")\n"
      ]
    }
  ],
  "metadata": {
    "colab": {
      "provenance": []
    },
    "kernelspec": {
      "display_name": "Python 3",
      "name": "python3"
    },
    "language_info": {
      "name": "python",
      "version": "3.9.6"
    }
  },
  "nbformat": 4,
  "nbformat_minor": 0
}
