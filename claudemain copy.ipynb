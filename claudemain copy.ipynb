{
 "cells": [
  {
   "cell_type": "code",
   "execution_count": 1,
   "metadata": {},
   "outputs": [],
   "source": [
    "import pandas as pd\n",
    "import numpy as np\n",
    "from sklearn.preprocessing import MinMaxScaler\n",
    "from sklearn.model_selection import train_test_split\n",
    "from tensorflow.keras.models import Sequential\n",
    "from tensorflow.keras.layers import LSTM, Dense, Dropout\n",
    "from sklearn.metrics import mean_squared_error, mean_absolute_error\n",
    "from tensorflow.keras.optimizers import Adam\n",
    "import matplotlib.pyplot as plt\n",
    "from scipy.signal import savgol_filter\n",
    "from scipy.ndimage import gaussian_filter1d"
   ]
  },
  {
   "cell_type": "code",
   "execution_count": 2,
   "metadata": {},
   "outputs": [],
   "source": [
    "def load_data(file_path):\n",
    "    data = pd.read_csv(file_path, index_col=0, parse_dates=True)\n",
    "    print(data.head())  # Print the first few rows to inspect the data\n",
    "    print(data.index)   # Print the index to check its type and format\n",
    "\n",
    "    # Convert timezone-aware datetime to naive datetime\n",
    "    if data.index.tz is not None:\n",
    "        data.index = data.index.tz_localize(None)\n",
    "\n",
    "    # Convert datetime to date-only\n",
    "    data.index = pd.to_datetime(data.index).normalize()  # Normalize to remove time part, keep only date\n",
    "\n",
    "    # Filter data within the specified date range\n",
    "    start_date = pd.to_datetime('2012-01-01')\n",
    "    end_date = pd.to_datetime('2020-12-31')\n",
    "    data = data[(data.index >= start_date) & (data.index <= end_date)]\n",
    "    \n",
    "    return data"
   ]
  },
  {
   "cell_type": "code",
   "execution_count": 3,
   "metadata": {},
   "outputs": [],
   "source": [
    "# Prepare data for LSTM\n",
    "def prepare_data(data, look_back=60):\n",
    "    scaler = MinMaxScaler(feature_range=(0, 1))\n",
    "    scaled_data = scaler.fit_transform(data)\n",
    "    \n",
    "    X, y = [], []\n",
    "    for i in range(look_back, len(scaled_data)):\n",
    "        X.append(scaled_data[i-look_back:i])\n",
    "        y.append(scaled_data[i, 0])  # Predicting the 'Close' price\n",
    "    \n",
    "    return np.array(X), np.array(y), scaler\n"
   ]
  },
  {
   "cell_type": "code",
   "execution_count": 4,
   "metadata": {},
   "outputs": [],
   "source": [
    "# Build LSTM model\n",
    "def build_model(input_shape):\n",
    "    model = Sequential([\n",
    "        LSTM(units=50, return_sequences=True, input_shape=input_shape),\n",
    "        Dropout(0.2),\n",
    "        LSTM(units=50, return_sequences=True),\n",
    "        Dropout(0.2),\n",
    "        LSTM(units=50),\n",
    "        Dropout(0.2),\n",
    "        Dense(units=1)\n",
    "    ])\n",
    "    model.compile(optimizer=Adam(learning_rate=0.001), loss='mean_squared_error')\n",
    "    return model"
   ]
  },
  {
   "cell_type": "code",
   "execution_count": 5,
   "metadata": {},
   "outputs": [],
   "source": [
    "\n",
    "# Train model\n",
    "def train_model(model, X_train, y_train, epochs=10, batch_size=32, validation_split=0.2):\n",
    "    history = model.fit(\n",
    "        X_train, y_train,\n",
    "        epochs=epochs,\n",
    "        batch_size=batch_size,\n",
    "        validation_split=validation_split,\n",
    "        shuffle=False\n",
    "    )\n",
    "    return history"
   ]
  },
  {
   "cell_type": "code",
   "execution_count": 6,
   "metadata": {},
   "outputs": [],
   "source": [
    "# Make predictions\n",
    "def make_predictions(model, X_test, scaler):\n",
    "    predictions = model.predict(X_test)\n",
    "    return scaler.inverse_transform(predictions)\n",
    "\n",
    "# Evaluate model\n",
    "def evaluate_model(y_true, y_pred):\n",
    "    mse = np.mean((y_true - y_pred)**2)\n",
    "    rmse = np.sqrt(mse)\n",
    "    mae = np.mean(np.abs(y_true - y_pred))\n",
    "    return mse, rmse, mae\n",
    "\n",
    "# Plot results\n",
    "def plot_results(y_true, y_pred):\n",
    "    plt.figure(figsize=(12, 6))\n",
    "    plt.plot(y_true, label='Actual')\n",
    "    plt.plot(y_pred, label='Predicted')\n",
    "    plt.title('LSTM Model: Actual vs Predicted Stock Prices')\n",
    "    plt.xlabel('Time')\n",
    "    plt.ylabel('Stock Price')\n",
    "    plt.legend()\n",
    "    plt.show()"
   ]
  },
  {
   "cell_type": "code",
   "execution_count": 7,
   "metadata": {},
   "outputs": [
    {
     "name": "stdout",
     "output_type": "stream",
     "text": [
      "                           Date        Open        High         Low  \\\n",
      "0     2012-01-03 00:00:00-05:00    1.929333    1.966667    1.843333   \n",
      "1     2012-01-04 00:00:00-05:00    1.880667    1.911333    1.833333   \n",
      "2     2012-01-05 00:00:00-05:00    1.850667    1.862000    1.790000   \n",
      "3     2012-01-06 00:00:00-05:00    1.813333    1.852667    1.760667   \n",
      "4     2012-01-09 00:00:00-05:00    1.800000    1.832667    1.741333   \n",
      "...                         ...         ...         ...         ...   \n",
      "3137  2024-06-24 00:00:00-04:00  184.970001  188.800003  182.550003   \n",
      "3138  2024-06-25 00:00:00-04:00  184.399994  187.970001  182.009995   \n",
      "3139  2024-06-26 00:00:00-04:00  186.539993  197.759995  186.360001   \n",
      "3140  2024-06-27 00:00:00-04:00  195.169998  198.720001  194.050003   \n",
      "3141  2024-06-28 00:00:00-04:00  199.550003  203.199997  195.259995   \n",
      "\n",
      "           Close    Volume  Dividends  Stock Splits  P/E Ratio  P/B Ratio  \\\n",
      "0       1.872000  13921500        0.0           0.0     0.0128  10.245556   \n",
      "1       1.847333   9451500        0.0           0.0     0.0128  10.245556   \n",
      "2       1.808000  15082500        0.0           0.0     0.0128  10.245556   \n",
      "3       1.794000  14794500        0.0           0.0     0.0128  10.245556   \n",
      "4       1.816667  13455000        0.0           0.0     0.0128  10.245556   \n",
      "...          ...       ...        ...           ...        ...        ...   \n",
      "3137  182.580002  61992100        0.0           0.0     0.0128  10.245556   \n",
      "3138  187.350006  63678300        0.0           0.0     0.0128  10.245556   \n",
      "3139  196.369995  95737100        0.0           0.0     0.0128  10.245556   \n",
      "3140  197.419998  72746500        0.0           0.0     0.0128  10.245556   \n",
      "3141  197.880005  95438100        0.0           0.0     0.0128  10.245556   \n",
      "\n",
      "      ...  Downside Deviation  Tracking Error  R-squared  Treynor Ratio  \\\n",
      "0     ...            0.033705        0.505342   0.204796        0.00088   \n",
      "1     ...            0.033705        0.505342   0.204796        0.00088   \n",
      "2     ...            0.033705        0.505342   0.204796        0.00088   \n",
      "3     ...            0.033705        0.505342   0.204796        0.00088   \n",
      "4     ...            0.033705        0.505342   0.204796        0.00088   \n",
      "...   ...                 ...             ...        ...            ...   \n",
      "3137  ...            0.033705        0.505342   0.204796        0.00088   \n",
      "3138  ...            0.033705        0.505342   0.204796        0.00088   \n",
      "3139  ...            0.033705        0.505342   0.204796        0.00088   \n",
      "3140  ...            0.033705        0.505342   0.204796        0.00088   \n",
      "3141  ...            0.033705        0.505342   0.204796        0.00088   \n",
      "\n",
      "      Information Ratio  Conditional Value at Risk (CVaR)  \\\n",
      "0              0.002528                         -0.077483   \n",
      "1              0.002528                         -0.077483   \n",
      "2              0.002528                         -0.077483   \n",
      "3              0.002528                         -0.077483   \n",
      "4              0.002528                         -0.077483   \n",
      "...                 ...                               ...   \n",
      "3137           0.002528                         -0.077483   \n",
      "3138           0.002528                         -0.077483   \n",
      "3139           0.002528                         -0.077483   \n",
      "3140           0.002528                         -0.077483   \n",
      "3141           0.002528                         -0.077483   \n",
      "\n",
      "      Beta-adjusted Sharpe Ratio  Drawdown Duration  Ulcer Index  \\\n",
      "0                       0.753739                664     0.274819   \n",
      "1                       0.753739                664     0.274819   \n",
      "2                       0.753739                664     0.274819   \n",
      "3                       0.753739                664     0.274819   \n",
      "4                       0.753739                664     0.274819   \n",
      "...                          ...                ...          ...   \n",
      "3137                    0.753739                664     0.274819   \n",
      "3138                    0.753739                664     0.274819   \n",
      "3139                    0.753739                664     0.274819   \n",
      "3140                    0.753739                664     0.274819   \n",
      "3141                    0.753739                664     0.274819   \n",
      "\n",
      "      Jensens Alpha  \n",
      "0          0.282853  \n",
      "1          0.282853  \n",
      "2          0.282853  \n",
      "3          0.282853  \n",
      "4          0.282853  \n",
      "...             ...  \n",
      "3137       0.282853  \n",
      "3138       0.282853  \n",
      "3139       0.282853  \n",
      "3140       0.282853  \n",
      "3141       0.282853  \n",
      "\n",
      "[3142 rows x 37 columns]\n"
     ]
    }
   ],
   "source": [
    "# # Main function\n",
    "\n",
    "#     # Load data\n",
    "file_path = 'SP425CSVs/TSLA_data_with_metrics.csv'  # Replace with your CSV file name\n",
    "dataCSV = pd.read_csv(file_path)\n",
    "    \n",
    "print(dataCSV)\n",
    "# Select features for training\n",
    "features = ['Close','P/E Ratio', 'P/B Ratio', 'Dividend Yield', 'Dividend Payout Ratio', #4\n",
    "            'ROE', 'ROA', 'Beta', 'Market Capitalization', 'Revenue Growth', #5\n",
    "            'Debt-to-Equity Ratio', 'Free Cash Flow', 'Current Ratio', 'Quick Ratio', #4\n",
    "            'PEG Ratio', 'Standard Deviation', 'Value at Risk (VaR)', 'Sharpe Ratio', #4\n",
    "            'Sortino Ratio', 'Maximum Drawdown', 'Downside Deviation', 'Tracking Error', #4 \n",
    "            'R-squared', 'Treynor Ratio', 'Information Ratio', 'Conditional Value at Risk (CVaR)', #4\n",
    "            'Beta-adjusted Sharpe Ratio', 'Drawdown Duration', 'Ulcer Index', 'Jensens Alpha']#4\n",
    "    \n",
    "data = dataCSV[features]\n",
    "datesRev=dataCSV['Date']\n",
    "# print(datesRev)\n",
    "\n",
    "# Convert 'Date' column to UTC or remove timezone\n",
    "datesRev = pd.to_datetime(dataCSV['Date'], utc=True)  # Converts to UTC\n",
    "\n",
    "# If you prefer to remove the timezone info\n",
    "# datesRev = pd.to_datetime(dataCSV['Date']).dt.tz_convert(None)\n",
    "\n",
    "# Optionally set the 'Date' column as the index\n",
    "dataCSV.set_index(datesRev, inplace=True)\n",
    "\n",
    "# Now 'datesRev' contains the dates in datetime format without timezone issues\n",
    "# print(datesRev.head())  # To check the first few dates\n",
    "\n",
    "\n"
   ]
  },
  {
   "cell_type": "code",
   "execution_count": 8,
   "metadata": {},
   "outputs": [
    {
     "name": "stderr",
     "output_type": "stream",
     "text": [
      "/var/folders/83/3t5wk1pn2fq83ss49zg61zf40000gn/T/ipykernel_89419/196780990.py:2: SettingWithCopyWarning: \n",
      "A value is trying to be set on a copy of a slice from a DataFrame\n",
      "\n",
      "See the caveats in the documentation: https://pandas.pydata.org/pandas-docs/stable/user_guide/indexing.html#returning-a-view-versus-a-copy\n",
      "  data.fillna(0, inplace=True)\n"
     ]
    },
    {
     "data": {
      "text/html": [
       "<div>\n",
       "<style scoped>\n",
       "    .dataframe tbody tr th:only-of-type {\n",
       "        vertical-align: middle;\n",
       "    }\n",
       "\n",
       "    .dataframe tbody tr th {\n",
       "        vertical-align: top;\n",
       "    }\n",
       "\n",
       "    .dataframe thead th {\n",
       "        text-align: right;\n",
       "    }\n",
       "</style>\n",
       "<table border=\"1\" class=\"dataframe\">\n",
       "  <thead>\n",
       "    <tr style=\"text-align: right;\">\n",
       "      <th></th>\n",
       "      <th>Close</th>\n",
       "      <th>P/E Ratio</th>\n",
       "      <th>P/B Ratio</th>\n",
       "      <th>Dividend Yield</th>\n",
       "      <th>Dividend Payout Ratio</th>\n",
       "      <th>ROE</th>\n",
       "      <th>ROA</th>\n",
       "      <th>Beta</th>\n",
       "      <th>Market Capitalization</th>\n",
       "      <th>Revenue Growth</th>\n",
       "      <th>...</th>\n",
       "      <th>Downside Deviation</th>\n",
       "      <th>Tracking Error</th>\n",
       "      <th>R-squared</th>\n",
       "      <th>Treynor Ratio</th>\n",
       "      <th>Information Ratio</th>\n",
       "      <th>Conditional Value at Risk (CVaR)</th>\n",
       "      <th>Beta-adjusted Sharpe Ratio</th>\n",
       "      <th>Drawdown Duration</th>\n",
       "      <th>Ulcer Index</th>\n",
       "      <th>Jensens Alpha</th>\n",
       "    </tr>\n",
       "    <tr>\n",
       "      <th>Date</th>\n",
       "      <th></th>\n",
       "      <th></th>\n",
       "      <th></th>\n",
       "      <th></th>\n",
       "      <th></th>\n",
       "      <th></th>\n",
       "      <th></th>\n",
       "      <th></th>\n",
       "      <th></th>\n",
       "      <th></th>\n",
       "      <th></th>\n",
       "      <th></th>\n",
       "      <th></th>\n",
       "      <th></th>\n",
       "      <th></th>\n",
       "      <th></th>\n",
       "      <th></th>\n",
       "      <th></th>\n",
       "      <th></th>\n",
       "      <th></th>\n",
       "      <th></th>\n",
       "    </tr>\n",
       "  </thead>\n",
       "  <tbody>\n",
       "    <tr>\n",
       "      <th>2012-01-03 05:00:00+00:00</th>\n",
       "      <td>1.872000</td>\n",
       "      <td>0.0128</td>\n",
       "      <td>10.245556</td>\n",
       "      <td>0.0</td>\n",
       "      <td>0.0</td>\n",
       "      <td>0.20861</td>\n",
       "      <td>0.04416</td>\n",
       "      <td>2.313</td>\n",
       "      <td>681129213952</td>\n",
       "      <td>0.023</td>\n",
       "      <td>...</td>\n",
       "      <td>0.033705</td>\n",
       "      <td>0.505342</td>\n",
       "      <td>0.204796</td>\n",
       "      <td>0.00088</td>\n",
       "      <td>0.002528</td>\n",
       "      <td>-0.077483</td>\n",
       "      <td>0.753739</td>\n",
       "      <td>664</td>\n",
       "      <td>0.274819</td>\n",
       "      <td>0.282853</td>\n",
       "    </tr>\n",
       "    <tr>\n",
       "      <th>2012-01-04 05:00:00+00:00</th>\n",
       "      <td>1.847333</td>\n",
       "      <td>0.0128</td>\n",
       "      <td>10.245556</td>\n",
       "      <td>0.0</td>\n",
       "      <td>0.0</td>\n",
       "      <td>0.20861</td>\n",
       "      <td>0.04416</td>\n",
       "      <td>2.313</td>\n",
       "      <td>681129213952</td>\n",
       "      <td>0.023</td>\n",
       "      <td>...</td>\n",
       "      <td>0.033705</td>\n",
       "      <td>0.505342</td>\n",
       "      <td>0.204796</td>\n",
       "      <td>0.00088</td>\n",
       "      <td>0.002528</td>\n",
       "      <td>-0.077483</td>\n",
       "      <td>0.753739</td>\n",
       "      <td>664</td>\n",
       "      <td>0.274819</td>\n",
       "      <td>0.282853</td>\n",
       "    </tr>\n",
       "    <tr>\n",
       "      <th>2012-01-05 05:00:00+00:00</th>\n",
       "      <td>1.808000</td>\n",
       "      <td>0.0128</td>\n",
       "      <td>10.245556</td>\n",
       "      <td>0.0</td>\n",
       "      <td>0.0</td>\n",
       "      <td>0.20861</td>\n",
       "      <td>0.04416</td>\n",
       "      <td>2.313</td>\n",
       "      <td>681129213952</td>\n",
       "      <td>0.023</td>\n",
       "      <td>...</td>\n",
       "      <td>0.033705</td>\n",
       "      <td>0.505342</td>\n",
       "      <td>0.204796</td>\n",
       "      <td>0.00088</td>\n",
       "      <td>0.002528</td>\n",
       "      <td>-0.077483</td>\n",
       "      <td>0.753739</td>\n",
       "      <td>664</td>\n",
       "      <td>0.274819</td>\n",
       "      <td>0.282853</td>\n",
       "    </tr>\n",
       "    <tr>\n",
       "      <th>2012-01-06 05:00:00+00:00</th>\n",
       "      <td>1.794000</td>\n",
       "      <td>0.0128</td>\n",
       "      <td>10.245556</td>\n",
       "      <td>0.0</td>\n",
       "      <td>0.0</td>\n",
       "      <td>0.20861</td>\n",
       "      <td>0.04416</td>\n",
       "      <td>2.313</td>\n",
       "      <td>681129213952</td>\n",
       "      <td>0.023</td>\n",
       "      <td>...</td>\n",
       "      <td>0.033705</td>\n",
       "      <td>0.505342</td>\n",
       "      <td>0.204796</td>\n",
       "      <td>0.00088</td>\n",
       "      <td>0.002528</td>\n",
       "      <td>-0.077483</td>\n",
       "      <td>0.753739</td>\n",
       "      <td>664</td>\n",
       "      <td>0.274819</td>\n",
       "      <td>0.282853</td>\n",
       "    </tr>\n",
       "    <tr>\n",
       "      <th>2012-01-09 05:00:00+00:00</th>\n",
       "      <td>1.816667</td>\n",
       "      <td>0.0128</td>\n",
       "      <td>10.245556</td>\n",
       "      <td>0.0</td>\n",
       "      <td>0.0</td>\n",
       "      <td>0.20861</td>\n",
       "      <td>0.04416</td>\n",
       "      <td>2.313</td>\n",
       "      <td>681129213952</td>\n",
       "      <td>0.023</td>\n",
       "      <td>...</td>\n",
       "      <td>0.033705</td>\n",
       "      <td>0.505342</td>\n",
       "      <td>0.204796</td>\n",
       "      <td>0.00088</td>\n",
       "      <td>0.002528</td>\n",
       "      <td>-0.077483</td>\n",
       "      <td>0.753739</td>\n",
       "      <td>664</td>\n",
       "      <td>0.274819</td>\n",
       "      <td>0.282853</td>\n",
       "    </tr>\n",
       "    <tr>\n",
       "      <th>...</th>\n",
       "      <td>...</td>\n",
       "      <td>...</td>\n",
       "      <td>...</td>\n",
       "      <td>...</td>\n",
       "      <td>...</td>\n",
       "      <td>...</td>\n",
       "      <td>...</td>\n",
       "      <td>...</td>\n",
       "      <td>...</td>\n",
       "      <td>...</td>\n",
       "      <td>...</td>\n",
       "      <td>...</td>\n",
       "      <td>...</td>\n",
       "      <td>...</td>\n",
       "      <td>...</td>\n",
       "      <td>...</td>\n",
       "      <td>...</td>\n",
       "      <td>...</td>\n",
       "      <td>...</td>\n",
       "      <td>...</td>\n",
       "      <td>...</td>\n",
       "    </tr>\n",
       "    <tr>\n",
       "      <th>2024-06-24 04:00:00+00:00</th>\n",
       "      <td>182.580002</td>\n",
       "      <td>0.0128</td>\n",
       "      <td>10.245556</td>\n",
       "      <td>0.0</td>\n",
       "      <td>0.0</td>\n",
       "      <td>0.20861</td>\n",
       "      <td>0.04416</td>\n",
       "      <td>2.313</td>\n",
       "      <td>681129213952</td>\n",
       "      <td>0.023</td>\n",
       "      <td>...</td>\n",
       "      <td>0.033705</td>\n",
       "      <td>0.505342</td>\n",
       "      <td>0.204796</td>\n",
       "      <td>0.00088</td>\n",
       "      <td>0.002528</td>\n",
       "      <td>-0.077483</td>\n",
       "      <td>0.753739</td>\n",
       "      <td>664</td>\n",
       "      <td>0.274819</td>\n",
       "      <td>0.282853</td>\n",
       "    </tr>\n",
       "    <tr>\n",
       "      <th>2024-06-25 04:00:00+00:00</th>\n",
       "      <td>187.350006</td>\n",
       "      <td>0.0128</td>\n",
       "      <td>10.245556</td>\n",
       "      <td>0.0</td>\n",
       "      <td>0.0</td>\n",
       "      <td>0.20861</td>\n",
       "      <td>0.04416</td>\n",
       "      <td>2.313</td>\n",
       "      <td>681129213952</td>\n",
       "      <td>0.023</td>\n",
       "      <td>...</td>\n",
       "      <td>0.033705</td>\n",
       "      <td>0.505342</td>\n",
       "      <td>0.204796</td>\n",
       "      <td>0.00088</td>\n",
       "      <td>0.002528</td>\n",
       "      <td>-0.077483</td>\n",
       "      <td>0.753739</td>\n",
       "      <td>664</td>\n",
       "      <td>0.274819</td>\n",
       "      <td>0.282853</td>\n",
       "    </tr>\n",
       "    <tr>\n",
       "      <th>2024-06-26 04:00:00+00:00</th>\n",
       "      <td>196.369995</td>\n",
       "      <td>0.0128</td>\n",
       "      <td>10.245556</td>\n",
       "      <td>0.0</td>\n",
       "      <td>0.0</td>\n",
       "      <td>0.20861</td>\n",
       "      <td>0.04416</td>\n",
       "      <td>2.313</td>\n",
       "      <td>681129213952</td>\n",
       "      <td>0.023</td>\n",
       "      <td>...</td>\n",
       "      <td>0.033705</td>\n",
       "      <td>0.505342</td>\n",
       "      <td>0.204796</td>\n",
       "      <td>0.00088</td>\n",
       "      <td>0.002528</td>\n",
       "      <td>-0.077483</td>\n",
       "      <td>0.753739</td>\n",
       "      <td>664</td>\n",
       "      <td>0.274819</td>\n",
       "      <td>0.282853</td>\n",
       "    </tr>\n",
       "    <tr>\n",
       "      <th>2024-06-27 04:00:00+00:00</th>\n",
       "      <td>197.419998</td>\n",
       "      <td>0.0128</td>\n",
       "      <td>10.245556</td>\n",
       "      <td>0.0</td>\n",
       "      <td>0.0</td>\n",
       "      <td>0.20861</td>\n",
       "      <td>0.04416</td>\n",
       "      <td>2.313</td>\n",
       "      <td>681129213952</td>\n",
       "      <td>0.023</td>\n",
       "      <td>...</td>\n",
       "      <td>0.033705</td>\n",
       "      <td>0.505342</td>\n",
       "      <td>0.204796</td>\n",
       "      <td>0.00088</td>\n",
       "      <td>0.002528</td>\n",
       "      <td>-0.077483</td>\n",
       "      <td>0.753739</td>\n",
       "      <td>664</td>\n",
       "      <td>0.274819</td>\n",
       "      <td>0.282853</td>\n",
       "    </tr>\n",
       "    <tr>\n",
       "      <th>2024-06-28 04:00:00+00:00</th>\n",
       "      <td>197.880005</td>\n",
       "      <td>0.0128</td>\n",
       "      <td>10.245556</td>\n",
       "      <td>0.0</td>\n",
       "      <td>0.0</td>\n",
       "      <td>0.20861</td>\n",
       "      <td>0.04416</td>\n",
       "      <td>2.313</td>\n",
       "      <td>681129213952</td>\n",
       "      <td>0.023</td>\n",
       "      <td>...</td>\n",
       "      <td>0.033705</td>\n",
       "      <td>0.505342</td>\n",
       "      <td>0.204796</td>\n",
       "      <td>0.00088</td>\n",
       "      <td>0.002528</td>\n",
       "      <td>-0.077483</td>\n",
       "      <td>0.753739</td>\n",
       "      <td>664</td>\n",
       "      <td>0.274819</td>\n",
       "      <td>0.282853</td>\n",
       "    </tr>\n",
       "  </tbody>\n",
       "</table>\n",
       "<p>3142 rows × 30 columns</p>\n",
       "</div>"
      ],
      "text/plain": [
       "                                Close  P/E Ratio  P/B Ratio  Dividend Yield  \\\n",
       "Date                                                                          \n",
       "2012-01-03 05:00:00+00:00    1.872000     0.0128  10.245556             0.0   \n",
       "2012-01-04 05:00:00+00:00    1.847333     0.0128  10.245556             0.0   \n",
       "2012-01-05 05:00:00+00:00    1.808000     0.0128  10.245556             0.0   \n",
       "2012-01-06 05:00:00+00:00    1.794000     0.0128  10.245556             0.0   \n",
       "2012-01-09 05:00:00+00:00    1.816667     0.0128  10.245556             0.0   \n",
       "...                               ...        ...        ...             ...   \n",
       "2024-06-24 04:00:00+00:00  182.580002     0.0128  10.245556             0.0   \n",
       "2024-06-25 04:00:00+00:00  187.350006     0.0128  10.245556             0.0   \n",
       "2024-06-26 04:00:00+00:00  196.369995     0.0128  10.245556             0.0   \n",
       "2024-06-27 04:00:00+00:00  197.419998     0.0128  10.245556             0.0   \n",
       "2024-06-28 04:00:00+00:00  197.880005     0.0128  10.245556             0.0   \n",
       "\n",
       "                           Dividend Payout Ratio      ROE      ROA   Beta  \\\n",
       "Date                                                                        \n",
       "2012-01-03 05:00:00+00:00                    0.0  0.20861  0.04416  2.313   \n",
       "2012-01-04 05:00:00+00:00                    0.0  0.20861  0.04416  2.313   \n",
       "2012-01-05 05:00:00+00:00                    0.0  0.20861  0.04416  2.313   \n",
       "2012-01-06 05:00:00+00:00                    0.0  0.20861  0.04416  2.313   \n",
       "2012-01-09 05:00:00+00:00                    0.0  0.20861  0.04416  2.313   \n",
       "...                                          ...      ...      ...    ...   \n",
       "2024-06-24 04:00:00+00:00                    0.0  0.20861  0.04416  2.313   \n",
       "2024-06-25 04:00:00+00:00                    0.0  0.20861  0.04416  2.313   \n",
       "2024-06-26 04:00:00+00:00                    0.0  0.20861  0.04416  2.313   \n",
       "2024-06-27 04:00:00+00:00                    0.0  0.20861  0.04416  2.313   \n",
       "2024-06-28 04:00:00+00:00                    0.0  0.20861  0.04416  2.313   \n",
       "\n",
       "                           Market Capitalization  Revenue Growth  ...  \\\n",
       "Date                                                              ...   \n",
       "2012-01-03 05:00:00+00:00           681129213952           0.023  ...   \n",
       "2012-01-04 05:00:00+00:00           681129213952           0.023  ...   \n",
       "2012-01-05 05:00:00+00:00           681129213952           0.023  ...   \n",
       "2012-01-06 05:00:00+00:00           681129213952           0.023  ...   \n",
       "2012-01-09 05:00:00+00:00           681129213952           0.023  ...   \n",
       "...                                          ...             ...  ...   \n",
       "2024-06-24 04:00:00+00:00           681129213952           0.023  ...   \n",
       "2024-06-25 04:00:00+00:00           681129213952           0.023  ...   \n",
       "2024-06-26 04:00:00+00:00           681129213952           0.023  ...   \n",
       "2024-06-27 04:00:00+00:00           681129213952           0.023  ...   \n",
       "2024-06-28 04:00:00+00:00           681129213952           0.023  ...   \n",
       "\n",
       "                           Downside Deviation  Tracking Error  R-squared  \\\n",
       "Date                                                                       \n",
       "2012-01-03 05:00:00+00:00            0.033705        0.505342   0.204796   \n",
       "2012-01-04 05:00:00+00:00            0.033705        0.505342   0.204796   \n",
       "2012-01-05 05:00:00+00:00            0.033705        0.505342   0.204796   \n",
       "2012-01-06 05:00:00+00:00            0.033705        0.505342   0.204796   \n",
       "2012-01-09 05:00:00+00:00            0.033705        0.505342   0.204796   \n",
       "...                                       ...             ...        ...   \n",
       "2024-06-24 04:00:00+00:00            0.033705        0.505342   0.204796   \n",
       "2024-06-25 04:00:00+00:00            0.033705        0.505342   0.204796   \n",
       "2024-06-26 04:00:00+00:00            0.033705        0.505342   0.204796   \n",
       "2024-06-27 04:00:00+00:00            0.033705        0.505342   0.204796   \n",
       "2024-06-28 04:00:00+00:00            0.033705        0.505342   0.204796   \n",
       "\n",
       "                           Treynor Ratio  Information Ratio  \\\n",
       "Date                                                          \n",
       "2012-01-03 05:00:00+00:00        0.00088           0.002528   \n",
       "2012-01-04 05:00:00+00:00        0.00088           0.002528   \n",
       "2012-01-05 05:00:00+00:00        0.00088           0.002528   \n",
       "2012-01-06 05:00:00+00:00        0.00088           0.002528   \n",
       "2012-01-09 05:00:00+00:00        0.00088           0.002528   \n",
       "...                                  ...                ...   \n",
       "2024-06-24 04:00:00+00:00        0.00088           0.002528   \n",
       "2024-06-25 04:00:00+00:00        0.00088           0.002528   \n",
       "2024-06-26 04:00:00+00:00        0.00088           0.002528   \n",
       "2024-06-27 04:00:00+00:00        0.00088           0.002528   \n",
       "2024-06-28 04:00:00+00:00        0.00088           0.002528   \n",
       "\n",
       "                           Conditional Value at Risk (CVaR)  \\\n",
       "Date                                                          \n",
       "2012-01-03 05:00:00+00:00                         -0.077483   \n",
       "2012-01-04 05:00:00+00:00                         -0.077483   \n",
       "2012-01-05 05:00:00+00:00                         -0.077483   \n",
       "2012-01-06 05:00:00+00:00                         -0.077483   \n",
       "2012-01-09 05:00:00+00:00                         -0.077483   \n",
       "...                                                     ...   \n",
       "2024-06-24 04:00:00+00:00                         -0.077483   \n",
       "2024-06-25 04:00:00+00:00                         -0.077483   \n",
       "2024-06-26 04:00:00+00:00                         -0.077483   \n",
       "2024-06-27 04:00:00+00:00                         -0.077483   \n",
       "2024-06-28 04:00:00+00:00                         -0.077483   \n",
       "\n",
       "                           Beta-adjusted Sharpe Ratio  Drawdown Duration  \\\n",
       "Date                                                                       \n",
       "2012-01-03 05:00:00+00:00                    0.753739                664   \n",
       "2012-01-04 05:00:00+00:00                    0.753739                664   \n",
       "2012-01-05 05:00:00+00:00                    0.753739                664   \n",
       "2012-01-06 05:00:00+00:00                    0.753739                664   \n",
       "2012-01-09 05:00:00+00:00                    0.753739                664   \n",
       "...                                               ...                ...   \n",
       "2024-06-24 04:00:00+00:00                    0.753739                664   \n",
       "2024-06-25 04:00:00+00:00                    0.753739                664   \n",
       "2024-06-26 04:00:00+00:00                    0.753739                664   \n",
       "2024-06-27 04:00:00+00:00                    0.753739                664   \n",
       "2024-06-28 04:00:00+00:00                    0.753739                664   \n",
       "\n",
       "                           Ulcer Index  Jensens Alpha  \n",
       "Date                                                   \n",
       "2012-01-03 05:00:00+00:00     0.274819       0.282853  \n",
       "2012-01-04 05:00:00+00:00     0.274819       0.282853  \n",
       "2012-01-05 05:00:00+00:00     0.274819       0.282853  \n",
       "2012-01-06 05:00:00+00:00     0.274819       0.282853  \n",
       "2012-01-09 05:00:00+00:00     0.274819       0.282853  \n",
       "...                                ...            ...  \n",
       "2024-06-24 04:00:00+00:00     0.274819       0.282853  \n",
       "2024-06-25 04:00:00+00:00     0.274819       0.282853  \n",
       "2024-06-26 04:00:00+00:00     0.274819       0.282853  \n",
       "2024-06-27 04:00:00+00:00     0.274819       0.282853  \n",
       "2024-06-28 04:00:00+00:00     0.274819       0.282853  \n",
       "\n",
       "[3142 rows x 30 columns]"
      ]
     },
     "execution_count": 8,
     "metadata": {},
     "output_type": "execute_result"
    }
   ],
   "source": [
    "data=dataCSV[features]\n",
    "data.fillna(0, inplace=True)\n",
    "data"
   ]
  },
  {
   "cell_type": "code",
   "execution_count": 9,
   "metadata": {},
   "outputs": [
    {
     "name": "stderr",
     "output_type": "stream",
     "text": [
      "/var/folders/83/3t5wk1pn2fq83ss49zg61zf40000gn/T/ipykernel_89419/1800316055.py:10: SettingWithCopyWarning: \n",
      "A value is trying to be set on a copy of a slice from a DataFrame.\n",
      "Try using .loc[row_indexer,col_indexer] = value instead\n",
      "\n",
      "See the caveats in the documentation: https://pandas.pydata.org/pandas-docs/stable/user_guide/indexing.html#returning-a-view-versus-a-copy\n",
      "  data['Close'] = data['Close'].shift(-1)  # Shift Close price to predict next day's price\n"
     ]
    }
   ],
   "source": [
    "def prepare_data(data, look_back=45):\n",
    "    X, y, dates = [], [], []\n",
    "    for i in range(len(data) - look_back):\n",
    "        X.append(data.iloc[i:(i + look_back)].values)\n",
    "        y.append(data['Close'].iloc[i + look_back])\n",
    "        dates.append(data.index[i + look_back])\n",
    "    return np.array(X), np.array(y), np.array(dates)\n",
    "\n",
    "# Prepare your data\n",
    "data['Close'] = data['Close'].shift(-1)  # Shift Close price to predict next day's price\n",
    "data = data.dropna()  # Remove any rows with NaN values\n",
    "X, y, dates = prepare_data(data)\n",
    "\n",
    "# Split the data\n",
    "split = int(0.8 * len(X))\n",
    "X_train, X_test = X[:split], X[split:]\n",
    "y_train, y_test = y[:split], y[split:]\n",
    "dates_train, dates_test = dates[:split], dates[split:]\n",
    "\n",
    "# Scale the data\n",
    "scaler = MinMaxScaler()\n",
    "X_train_scaled = scaler.fit_transform(X_train.reshape(-1, X_train.shape[-1])).reshape(X_train.shape)\n",
    "X_test_scaled = scaler.transform(X_test.reshape(-1, X_test.shape[-1])).reshape(X_test.shape)\n",
    "\n",
    "y_scaler = MinMaxScaler()\n",
    "y_train_scaled = y_scaler.fit_transform(y_train.reshape(-1, 1))\n",
    "y_test_scaled = y_scaler.transform(y_test.reshape(-1, 1))"
   ]
  },
  {
   "cell_type": "code",
   "execution_count": 10,
   "metadata": {},
   "outputs": [
    {
     "data": {
      "text/plain": [
       "array([[[1.84733295e+00, 1.27995643e-02, 1.02455560e+01, ...,\n",
       "         6.64000000e+02, 2.74818988e-01, 2.82852521e-01],\n",
       "        [1.80799997e+00, 1.27995643e-02, 1.02455560e+01, ...,\n",
       "         6.64000000e+02, 2.74818988e-01, 2.82852521e-01],\n",
       "        [1.79400003e+00, 1.27995643e-02, 1.02455560e+01, ...,\n",
       "         6.64000000e+02, 2.74818988e-01, 2.82852521e-01],\n",
       "        ...,\n",
       "        [2.20733309e+00, 1.27995643e-02, 1.02455560e+01, ...,\n",
       "         6.64000000e+02, 2.74818988e-01, 2.82852521e-01],\n",
       "        [2.20799994e+00, 1.27995643e-02, 1.02455560e+01, ...,\n",
       "         6.64000000e+02, 2.74818988e-01, 2.82852521e-01],\n",
       "        [2.20466709e+00, 1.27995643e-02, 1.02455560e+01, ...,\n",
       "         6.64000000e+02, 2.74818988e-01, 2.82852521e-01]],\n",
       "\n",
       "       [[1.80799997e+00, 1.27995643e-02, 1.02455560e+01, ...,\n",
       "         6.64000000e+02, 2.74818988e-01, 2.82852521e-01],\n",
       "        [1.79400003e+00, 1.27995643e-02, 1.02455560e+01, ...,\n",
       "         6.64000000e+02, 2.74818988e-01, 2.82852521e-01],\n",
       "        [1.81666696e+00, 1.27995643e-02, 1.02455560e+01, ...,\n",
       "         6.64000000e+02, 2.74818988e-01, 2.82852521e-01],\n",
       "        ...,\n",
       "        [2.20799994e+00, 1.27995643e-02, 1.02455560e+01, ...,\n",
       "         6.64000000e+02, 2.74818988e-01, 2.82852521e-01],\n",
       "        [2.20466709e+00, 1.27995643e-02, 1.02455560e+01, ...,\n",
       "         6.64000000e+02, 2.74818988e-01, 2.82852521e-01],\n",
       "        [2.31599998e+00, 1.27995643e-02, 1.02455560e+01, ...,\n",
       "         6.64000000e+02, 2.74818988e-01, 2.82852521e-01]],\n",
       "\n",
       "       [[1.79400003e+00, 1.27995643e-02, 1.02455560e+01, ...,\n",
       "         6.64000000e+02, 2.74818988e-01, 2.82852521e-01],\n",
       "        [1.81666696e+00, 1.27995643e-02, 1.02455560e+01, ...,\n",
       "         6.64000000e+02, 2.74818988e-01, 2.82852521e-01],\n",
       "        [1.84133303e+00, 1.27995643e-02, 1.02455560e+01, ...,\n",
       "         6.64000000e+02, 2.74818988e-01, 2.82852521e-01],\n",
       "        ...,\n",
       "        [2.20466709e+00, 1.27995643e-02, 1.02455560e+01, ...,\n",
       "         6.64000000e+02, 2.74818988e-01, 2.82852521e-01],\n",
       "        [2.31599998e+00, 1.27995643e-02, 1.02455560e+01, ...,\n",
       "         6.64000000e+02, 2.74818988e-01, 2.82852521e-01],\n",
       "        [2.40066695e+00, 1.27995643e-02, 1.02455560e+01, ...,\n",
       "         6.64000000e+02, 2.74818988e-01, 2.82852521e-01]],\n",
       "\n",
       "       ...,\n",
       "\n",
       "       [[1.42050003e+02, 1.27995643e-02, 1.02455560e+01, ...,\n",
       "         6.64000000e+02, 2.74818988e-01, 2.82852521e-01],\n",
       "        [1.44679993e+02, 1.27995643e-02, 1.02455560e+01, ...,\n",
       "         6.64000000e+02, 2.74818988e-01, 2.82852521e-01],\n",
       "        [1.62130005e+02, 1.27995643e-02, 1.02455560e+01, ...,\n",
       "         6.64000000e+02, 2.74818988e-01, 2.82852521e-01],\n",
       "        ...,\n",
       "        [1.83009995e+02, 1.27995643e-02, 1.02455560e+01, ...,\n",
       "         6.64000000e+02, 2.74818988e-01, 2.82852521e-01],\n",
       "        [1.82580002e+02, 1.27995643e-02, 1.02455560e+01, ...,\n",
       "         6.64000000e+02, 2.74818988e-01, 2.82852521e-01],\n",
       "        [1.87350006e+02, 1.27995643e-02, 1.02455560e+01, ...,\n",
       "         6.64000000e+02, 2.74818988e-01, 2.82852521e-01]],\n",
       "\n",
       "       [[1.44679993e+02, 1.27995643e-02, 1.02455560e+01, ...,\n",
       "         6.64000000e+02, 2.74818988e-01, 2.82852521e-01],\n",
       "        [1.62130005e+02, 1.27995643e-02, 1.02455560e+01, ...,\n",
       "         6.64000000e+02, 2.74818988e-01, 2.82852521e-01],\n",
       "        [1.70179993e+02, 1.27995643e-02, 1.02455560e+01, ...,\n",
       "         6.64000000e+02, 2.74818988e-01, 2.82852521e-01],\n",
       "        ...,\n",
       "        [1.82580002e+02, 1.27995643e-02, 1.02455560e+01, ...,\n",
       "         6.64000000e+02, 2.74818988e-01, 2.82852521e-01],\n",
       "        [1.87350006e+02, 1.27995643e-02, 1.02455560e+01, ...,\n",
       "         6.64000000e+02, 2.74818988e-01, 2.82852521e-01],\n",
       "        [1.96369995e+02, 1.27995643e-02, 1.02455560e+01, ...,\n",
       "         6.64000000e+02, 2.74818988e-01, 2.82852521e-01]],\n",
       "\n",
       "       [[1.62130005e+02, 1.27995643e-02, 1.02455560e+01, ...,\n",
       "         6.64000000e+02, 2.74818988e-01, 2.82852521e-01],\n",
       "        [1.70179993e+02, 1.27995643e-02, 1.02455560e+01, ...,\n",
       "         6.64000000e+02, 2.74818988e-01, 2.82852521e-01],\n",
       "        [1.68289993e+02, 1.27995643e-02, 1.02455560e+01, ...,\n",
       "         6.64000000e+02, 2.74818988e-01, 2.82852521e-01],\n",
       "        ...,\n",
       "        [1.87350006e+02, 1.27995643e-02, 1.02455560e+01, ...,\n",
       "         6.64000000e+02, 2.74818988e-01, 2.82852521e-01],\n",
       "        [1.96369995e+02, 1.27995643e-02, 1.02455560e+01, ...,\n",
       "         6.64000000e+02, 2.74818988e-01, 2.82852521e-01],\n",
       "        [1.97419998e+02, 1.27995643e-02, 1.02455560e+01, ...,\n",
       "         6.64000000e+02, 2.74818988e-01, 2.82852521e-01]]])"
      ]
     },
     "execution_count": 10,
     "metadata": {},
     "output_type": "execute_result"
    }
   ],
   "source": [
    "X\n"
   ]
  },
  {
   "cell_type": "code",
   "execution_count": 11,
   "metadata": {},
   "outputs": [
    {
     "name": "stderr",
     "output_type": "stream",
     "text": [
      "/opt/anaconda3/lib/python3.12/site-packages/keras/src/layers/rnn/rnn.py:204: UserWarning: Do not pass an `input_shape`/`input_dim` argument to a layer. When using Sequential models, prefer using an `Input(shape)` object as the first layer in the model instead.\n",
      "  super().__init__(**kwargs)\n"
     ]
    }
   ],
   "source": [
    "from tensorflow.keras.models import Sequential\n",
    "from tensorflow.keras.layers import LSTM, Dense, Dropout\n",
    "\n",
    "def build_model(input_shape):\n",
    "    model = Sequential([\n",
    "        LSTM(50, return_sequences=True, input_shape=input_shape),\n",
    "        Dropout(0.2),\n",
    "        LSTM(50, return_sequences=False),\n",
    "        Dropout(0.2),\n",
    "        Dense(1)\n",
    "    ])\n",
    "    model.compile(optimizer='adam', loss='mse')\n",
    "    return model\n",
    "\n",
    "# Build the model\n",
    "model = build_model((X_train_scaled.shape[1], X_train_scaled.shape[2]))"
   ]
  },
  {
   "cell_type": "code",
   "execution_count": 12,
   "metadata": {},
   "outputs": [
    {
     "name": "stdout",
     "output_type": "stream",
     "text": [
      "Epoch 1/100\n",
      "\u001b[1m62/62\u001b[0m \u001b[32m━━━━━━━━━━━━━━━━━━━━\u001b[0m\u001b[37m\u001b[0m \u001b[1m2s\u001b[0m 20ms/step - loss: 5.5557e-05 - val_loss: 0.1898\n",
      "Epoch 2/100\n",
      "\u001b[1m62/62\u001b[0m \u001b[32m━━━━━━━━━━━━━━━━━━━━\u001b[0m\u001b[37m\u001b[0m \u001b[1m1s\u001b[0m 19ms/step - loss: 3.8508e-04 - val_loss: 0.1957\n",
      "Epoch 3/100\n",
      "\u001b[1m62/62\u001b[0m \u001b[32m━━━━━━━━━━━━━━━━━━━━\u001b[0m\u001b[37m\u001b[0m \u001b[1m1s\u001b[0m 19ms/step - loss: 3.8271e-04 - val_loss: 0.1941\n",
      "Epoch 4/100\n",
      "\u001b[1m62/62\u001b[0m \u001b[32m━━━━━━━━━━━━━━━━━━━━\u001b[0m\u001b[37m\u001b[0m \u001b[1m1s\u001b[0m 18ms/step - loss: 4.2235e-04 - val_loss: 0.1892\n",
      "Epoch 5/100\n",
      "\u001b[1m62/62\u001b[0m \u001b[32m━━━━━━━━━━━━━━━━━━━━\u001b[0m\u001b[37m\u001b[0m \u001b[1m1s\u001b[0m 18ms/step - loss: 5.8443e-04 - val_loss: 0.1955\n",
      "Epoch 6/100\n",
      "\u001b[1m62/62\u001b[0m \u001b[32m━━━━━━━━━━━━━━━━━━━━\u001b[0m\u001b[37m\u001b[0m \u001b[1m1s\u001b[0m 19ms/step - loss: 5.9050e-04 - val_loss: 0.1943\n",
      "Epoch 7/100\n",
      "\u001b[1m62/62\u001b[0m \u001b[32m━━━━━━━━━━━━━━━━━━━━\u001b[0m\u001b[37m\u001b[0m \u001b[1m1s\u001b[0m 18ms/step - loss: 5.1583e-04 - val_loss: 0.1935\n",
      "Epoch 8/100\n",
      "\u001b[1m62/62\u001b[0m \u001b[32m━━━━━━━━━━━━━━━━━━━━\u001b[0m\u001b[37m\u001b[0m \u001b[1m1s\u001b[0m 20ms/step - loss: 5.2345e-04 - val_loss: 0.1912\n",
      "Epoch 9/100\n",
      "\u001b[1m62/62\u001b[0m \u001b[32m━━━━━━━━━━━━━━━━━━━━\u001b[0m\u001b[37m\u001b[0m \u001b[1m1s\u001b[0m 17ms/step - loss: 5.0653e-04 - val_loss: 0.1897\n",
      "Epoch 10/100\n",
      "\u001b[1m62/62\u001b[0m \u001b[32m━━━━━━━━━━━━━━━━━━━━\u001b[0m\u001b[37m\u001b[0m \u001b[1m1s\u001b[0m 17ms/step - loss: 4.8566e-04 - val_loss: 0.1890\n",
      "Epoch 11/100\n",
      "\u001b[1m62/62\u001b[0m \u001b[32m━━━━━━━━━━━━━━━━━━━━\u001b[0m\u001b[37m\u001b[0m \u001b[1m1s\u001b[0m 18ms/step - loss: 5.0678e-04 - val_loss: 0.1835\n",
      "Epoch 12/100\n",
      "\u001b[1m62/62\u001b[0m \u001b[32m━━━━━━━━━━━━━━━━━━━━\u001b[0m\u001b[37m\u001b[0m \u001b[1m1s\u001b[0m 18ms/step - loss: 4.9688e-04 - val_loss: 0.1777\n",
      "Epoch 13/100\n",
      "\u001b[1m62/62\u001b[0m \u001b[32m━━━━━━━━━━━━━━━━━━━━\u001b[0m\u001b[37m\u001b[0m \u001b[1m1s\u001b[0m 18ms/step - loss: 5.4794e-04 - val_loss: 0.1799\n",
      "Epoch 14/100\n",
      "\u001b[1m62/62\u001b[0m \u001b[32m━━━━━━━━━━━━━━━━━━━━\u001b[0m\u001b[37m\u001b[0m \u001b[1m1s\u001b[0m 18ms/step - loss: 5.0528e-04 - val_loss: 0.1727\n",
      "Epoch 15/100\n",
      "\u001b[1m62/62\u001b[0m \u001b[32m━━━━━━━━━━━━━━━━━━━━\u001b[0m\u001b[37m\u001b[0m \u001b[1m1s\u001b[0m 18ms/step - loss: 5.2127e-04 - val_loss: 0.1631\n",
      "Epoch 16/100\n",
      "\u001b[1m62/62\u001b[0m \u001b[32m━━━━━━━━━━━━━━━━━━━━\u001b[0m\u001b[37m\u001b[0m \u001b[1m1s\u001b[0m 18ms/step - loss: 5.4600e-04 - val_loss: 0.1677\n",
      "Epoch 17/100\n",
      "\u001b[1m62/62\u001b[0m \u001b[32m━━━━━━━━━━━━━━━━━━━━\u001b[0m\u001b[37m\u001b[0m \u001b[1m1s\u001b[0m 17ms/step - loss: 4.9254e-04 - val_loss: 0.1581\n",
      "Epoch 18/100\n",
      "\u001b[1m62/62\u001b[0m \u001b[32m━━━━━━━━━━━━━━━━━━━━\u001b[0m\u001b[37m\u001b[0m \u001b[1m1s\u001b[0m 17ms/step - loss: 4.7215e-04 - val_loss: 0.1476\n",
      "Epoch 19/100\n",
      "\u001b[1m62/62\u001b[0m \u001b[32m━━━━━━━━━━━━━━━━━━━━\u001b[0m\u001b[37m\u001b[0m \u001b[1m1s\u001b[0m 18ms/step - loss: 4.6785e-04 - val_loss: 0.1445\n",
      "Epoch 20/100\n",
      "\u001b[1m62/62\u001b[0m \u001b[32m━━━━━━━━━━━━━━━━━━━━\u001b[0m\u001b[37m\u001b[0m \u001b[1m1s\u001b[0m 17ms/step - loss: 4.1874e-04 - val_loss: 0.1363\n",
      "Epoch 21/100\n",
      "\u001b[1m62/62\u001b[0m \u001b[32m━━━━━━━━━━━━━━━━━━━━\u001b[0m\u001b[37m\u001b[0m \u001b[1m1s\u001b[0m 18ms/step - loss: 3.7102e-04 - val_loss: 0.1281\n",
      "Epoch 22/100\n",
      "\u001b[1m62/62\u001b[0m \u001b[32m━━━━━━━━━━━━━━━━━━━━\u001b[0m\u001b[37m\u001b[0m \u001b[1m1s\u001b[0m 18ms/step - loss: 3.0270e-04 - val_loss: 0.1141\n",
      "Epoch 23/100\n",
      "\u001b[1m62/62\u001b[0m \u001b[32m━━━━━━━━━━━━━━━━━━━━\u001b[0m\u001b[37m\u001b[0m \u001b[1m1s\u001b[0m 17ms/step - loss: 2.1409e-04 - val_loss: 0.0978\n",
      "Epoch 24/100\n",
      "\u001b[1m62/62\u001b[0m \u001b[32m━━━━━━━━━━━━━━━━━━━━\u001b[0m\u001b[37m\u001b[0m \u001b[1m1s\u001b[0m 18ms/step - loss: 1.2434e-04 - val_loss: 0.0856\n",
      "Epoch 25/100\n",
      "\u001b[1m62/62\u001b[0m \u001b[32m━━━━━━━━━━━━━━━━━━━━\u001b[0m\u001b[37m\u001b[0m \u001b[1m1s\u001b[0m 19ms/step - loss: 6.3957e-05 - val_loss: 0.0677\n",
      "Epoch 26/100\n",
      "\u001b[1m62/62\u001b[0m \u001b[32m━━━━━━━━━━━━━━━━━━━━\u001b[0m\u001b[37m\u001b[0m \u001b[1m1s\u001b[0m 17ms/step - loss: 2.5094e-05 - val_loss: 0.0449\n",
      "Epoch 27/100\n",
      "\u001b[1m62/62\u001b[0m \u001b[32m━━━━━━━━━━━━━━━━━━━━\u001b[0m\u001b[37m\u001b[0m \u001b[1m1s\u001b[0m 17ms/step - loss: 9.6591e-06 - val_loss: 0.0377\n",
      "Epoch 28/100\n",
      "\u001b[1m62/62\u001b[0m \u001b[32m━━━━━━━━━━━━━━━━━━━━\u001b[0m\u001b[37m\u001b[0m \u001b[1m1s\u001b[0m 17ms/step - loss: 9.9455e-06 - val_loss: 0.0349\n",
      "Epoch 29/100\n",
      "\u001b[1m62/62\u001b[0m \u001b[32m━━━━━━━━━━━━━━━━━━━━\u001b[0m\u001b[37m\u001b[0m \u001b[1m1s\u001b[0m 18ms/step - loss: 1.0147e-05 - val_loss: 0.0306\n",
      "Epoch 30/100\n",
      "\u001b[1m62/62\u001b[0m \u001b[32m━━━━━━━━━━━━━━━━━━━━\u001b[0m\u001b[37m\u001b[0m \u001b[1m1s\u001b[0m 17ms/step - loss: 1.0631e-05 - val_loss: 0.0286\n",
      "Epoch 31/100\n",
      "\u001b[1m62/62\u001b[0m \u001b[32m━━━━━━━━━━━━━━━━━━━━\u001b[0m\u001b[37m\u001b[0m \u001b[1m1s\u001b[0m 18ms/step - loss: 9.3378e-06 - val_loss: 0.0270\n",
      "Epoch 32/100\n",
      "\u001b[1m62/62\u001b[0m \u001b[32m━━━━━━━━━━━━━━━━━━━━\u001b[0m\u001b[37m\u001b[0m \u001b[1m1s\u001b[0m 17ms/step - loss: 8.5259e-06 - val_loss: 0.0259\n",
      "Epoch 33/100\n",
      "\u001b[1m62/62\u001b[0m \u001b[32m━━━━━━━━━━━━━━━━━━━━\u001b[0m\u001b[37m\u001b[0m \u001b[1m1s\u001b[0m 18ms/step - loss: 8.2364e-06 - val_loss: 0.0244\n",
      "Epoch 34/100\n",
      "\u001b[1m62/62\u001b[0m \u001b[32m━━━━━━━━━━━━━━━━━━━━\u001b[0m\u001b[37m\u001b[0m \u001b[1m1s\u001b[0m 18ms/step - loss: 7.2970e-06 - val_loss: 0.0239\n",
      "Epoch 35/100\n",
      "\u001b[1m62/62\u001b[0m \u001b[32m━━━━━━━━━━━━━━━━━━━━\u001b[0m\u001b[37m\u001b[0m \u001b[1m1s\u001b[0m 17ms/step - loss: 7.4403e-06 - val_loss: 0.0216\n",
      "Epoch 36/100\n",
      "\u001b[1m62/62\u001b[0m \u001b[32m━━━━━━━━━━━━━━━━━━━━\u001b[0m\u001b[37m\u001b[0m \u001b[1m1s\u001b[0m 17ms/step - loss: 9.0440e-06 - val_loss: 0.0187\n",
      "Epoch 37/100\n",
      "\u001b[1m62/62\u001b[0m \u001b[32m━━━━━━━━━━━━━━━━━━━━\u001b[0m\u001b[37m\u001b[0m \u001b[1m1s\u001b[0m 18ms/step - loss: 7.6671e-06 - val_loss: 0.0190\n",
      "Epoch 38/100\n",
      "\u001b[1m62/62\u001b[0m \u001b[32m━━━━━━━━━━━━━━━━━━━━\u001b[0m\u001b[37m\u001b[0m \u001b[1m1s\u001b[0m 17ms/step - loss: 7.0668e-06 - val_loss: 0.0170\n",
      "Epoch 39/100\n",
      "\u001b[1m62/62\u001b[0m \u001b[32m━━━━━━━━━━━━━━━━━━━━\u001b[0m\u001b[37m\u001b[0m \u001b[1m1s\u001b[0m 18ms/step - loss: 8.0500e-06 - val_loss: 0.0158\n",
      "Epoch 40/100\n",
      "\u001b[1m62/62\u001b[0m \u001b[32m━━━━━━━━━━━━━━━━━━━━\u001b[0m\u001b[37m\u001b[0m \u001b[1m1s\u001b[0m 18ms/step - loss: 6.9797e-06 - val_loss: 0.0158\n",
      "Epoch 41/100\n",
      "\u001b[1m62/62\u001b[0m \u001b[32m━━━━━━━━━━━━━━━━━━━━\u001b[0m\u001b[37m\u001b[0m \u001b[1m1s\u001b[0m 17ms/step - loss: 7.6999e-06 - val_loss: 0.0144\n",
      "Epoch 42/100\n",
      "\u001b[1m62/62\u001b[0m \u001b[32m━━━━━━━━━━━━━━━━━━━━\u001b[0m\u001b[37m\u001b[0m \u001b[1m1s\u001b[0m 17ms/step - loss: 6.8635e-06 - val_loss: 0.0139\n",
      "Epoch 43/100\n",
      "\u001b[1m62/62\u001b[0m \u001b[32m━━━━━━━━━━━━━━━━━━━━\u001b[0m\u001b[37m\u001b[0m \u001b[1m1s\u001b[0m 17ms/step - loss: 7.1611e-06 - val_loss: 0.0128\n",
      "Epoch 44/100\n",
      "\u001b[1m62/62\u001b[0m \u001b[32m━━━━━━━━━━━━━━━━━━━━\u001b[0m\u001b[37m\u001b[0m \u001b[1m1s\u001b[0m 17ms/step - loss: 6.0884e-06 - val_loss: 0.0127\n",
      "Epoch 45/100\n",
      "\u001b[1m62/62\u001b[0m \u001b[32m━━━━━━━━━━━━━━━━━━━━\u001b[0m\u001b[37m\u001b[0m \u001b[1m1s\u001b[0m 18ms/step - loss: 7.7811e-06 - val_loss: 0.0131\n",
      "Epoch 46/100\n",
      "\u001b[1m62/62\u001b[0m \u001b[32m━━━━━━━━━━━━━━━━━━━━\u001b[0m\u001b[37m\u001b[0m \u001b[1m1s\u001b[0m 18ms/step - loss: 6.9552e-06 - val_loss: 0.0113\n",
      "Epoch 47/100\n",
      "\u001b[1m62/62\u001b[0m \u001b[32m━━━━━━━━━━━━━━━━━━━━\u001b[0m\u001b[37m\u001b[0m \u001b[1m1s\u001b[0m 18ms/step - loss: 6.5310e-06 - val_loss: 0.0105\n",
      "Epoch 48/100\n",
      "\u001b[1m62/62\u001b[0m \u001b[32m━━━━━━━━━━━━━━━━━━━━\u001b[0m\u001b[37m\u001b[0m \u001b[1m1s\u001b[0m 18ms/step - loss: 7.2966e-06 - val_loss: 0.0103\n",
      "Epoch 49/100\n",
      "\u001b[1m62/62\u001b[0m \u001b[32m━━━━━━━━━━━━━━━━━━━━\u001b[0m\u001b[37m\u001b[0m \u001b[1m1s\u001b[0m 17ms/step - loss: 6.5890e-06 - val_loss: 0.0101\n",
      "Epoch 50/100\n",
      "\u001b[1m62/62\u001b[0m \u001b[32m━━━━━━━━━━━━━━━━━━━━\u001b[0m\u001b[37m\u001b[0m \u001b[1m1s\u001b[0m 18ms/step - loss: 6.4962e-06 - val_loss: 0.0087\n",
      "Epoch 51/100\n",
      "\u001b[1m62/62\u001b[0m \u001b[32m━━━━━━━━━━━━━━━━━━━━\u001b[0m\u001b[37m\u001b[0m \u001b[1m1s\u001b[0m 17ms/step - loss: 6.1407e-06 - val_loss: 0.0085\n",
      "Epoch 52/100\n",
      "\u001b[1m62/62\u001b[0m \u001b[32m━━━━━━━━━━━━━━━━━━━━\u001b[0m\u001b[37m\u001b[0m \u001b[1m1s\u001b[0m 18ms/step - loss: 7.1268e-06 - val_loss: 0.0096\n",
      "Epoch 53/100\n",
      "\u001b[1m62/62\u001b[0m \u001b[32m━━━━━━━━━━━━━━━━━━━━\u001b[0m\u001b[37m\u001b[0m \u001b[1m1s\u001b[0m 18ms/step - loss: 7.3628e-06 - val_loss: 0.0084\n",
      "Epoch 54/100\n",
      "\u001b[1m62/62\u001b[0m \u001b[32m━━━━━━━━━━━━━━━━━━━━\u001b[0m\u001b[37m\u001b[0m \u001b[1m1s\u001b[0m 18ms/step - loss: 6.8776e-06 - val_loss: 0.0077\n",
      "Epoch 55/100\n",
      "\u001b[1m62/62\u001b[0m \u001b[32m━━━━━━━━━━━━━━━━━━━━\u001b[0m\u001b[37m\u001b[0m \u001b[1m1s\u001b[0m 18ms/step - loss: 7.9214e-06 - val_loss: 0.0074\n",
      "Epoch 56/100\n",
      "\u001b[1m62/62\u001b[0m \u001b[32m━━━━━━━━━━━━━━━━━━━━\u001b[0m\u001b[37m\u001b[0m \u001b[1m1s\u001b[0m 18ms/step - loss: 7.8271e-06 - val_loss: 0.0070\n",
      "Epoch 57/100\n",
      "\u001b[1m62/62\u001b[0m \u001b[32m━━━━━━━━━━━━━━━━━━━━\u001b[0m\u001b[37m\u001b[0m \u001b[1m1s\u001b[0m 18ms/step - loss: 6.5829e-06 - val_loss: 0.0061\n",
      "Epoch 58/100\n",
      "\u001b[1m62/62\u001b[0m \u001b[32m━━━━━━━━━━━━━━━━━━━━\u001b[0m\u001b[37m\u001b[0m \u001b[1m1s\u001b[0m 17ms/step - loss: 7.4259e-06 - val_loss: 0.0065\n",
      "Epoch 59/100\n",
      "\u001b[1m62/62\u001b[0m \u001b[32m━━━━━━━━━━━━━━━━━━━━\u001b[0m\u001b[37m\u001b[0m \u001b[1m1s\u001b[0m 18ms/step - loss: 7.9442e-06 - val_loss: 0.0051\n",
      "Epoch 60/100\n",
      "\u001b[1m62/62\u001b[0m \u001b[32m━━━━━━━━━━━━━━━━━━━━\u001b[0m\u001b[37m\u001b[0m \u001b[1m1s\u001b[0m 18ms/step - loss: 7.2078e-06 - val_loss: 0.0052\n",
      "Epoch 61/100\n",
      "\u001b[1m62/62\u001b[0m \u001b[32m━━━━━━━━━━━━━━━━━━━━\u001b[0m\u001b[37m\u001b[0m \u001b[1m1s\u001b[0m 17ms/step - loss: 7.7583e-06 - val_loss: 0.0047\n",
      "Epoch 62/100\n",
      "\u001b[1m62/62\u001b[0m \u001b[32m━━━━━━━━━━━━━━━━━━━━\u001b[0m\u001b[37m\u001b[0m \u001b[1m1s\u001b[0m 17ms/step - loss: 8.3384e-06 - val_loss: 0.0046\n",
      "Epoch 63/100\n",
      "\u001b[1m62/62\u001b[0m \u001b[32m━━━━━━━━━━━━━━━━━━━━\u001b[0m\u001b[37m\u001b[0m \u001b[1m1s\u001b[0m 17ms/step - loss: 8.2611e-06 - val_loss: 0.0043\n",
      "Epoch 64/100\n",
      "\u001b[1m62/62\u001b[0m \u001b[32m━━━━━━━━━━━━━━━━━━━━\u001b[0m\u001b[37m\u001b[0m \u001b[1m1s\u001b[0m 17ms/step - loss: 7.2618e-06 - val_loss: 0.0035\n",
      "Epoch 65/100\n",
      "\u001b[1m62/62\u001b[0m \u001b[32m━━━━━━━━━━━━━━━━━━━━\u001b[0m\u001b[37m\u001b[0m \u001b[1m1s\u001b[0m 18ms/step - loss: 6.7890e-06 - val_loss: 0.0041\n",
      "Epoch 66/100\n",
      "\u001b[1m62/62\u001b[0m \u001b[32m━━━━━━━━━━━━━━━━━━━━\u001b[0m\u001b[37m\u001b[0m \u001b[1m1s\u001b[0m 17ms/step - loss: 7.4658e-06 - val_loss: 0.0044\n",
      "Epoch 67/100\n",
      "\u001b[1m62/62\u001b[0m \u001b[32m━━━━━━━━━━━━━━━━━━━━\u001b[0m\u001b[37m\u001b[0m \u001b[1m1s\u001b[0m 17ms/step - loss: 7.4231e-06 - val_loss: 0.0031\n",
      "Epoch 68/100\n",
      "\u001b[1m62/62\u001b[0m \u001b[32m━━━━━━━━━━━━━━━━━━━━\u001b[0m\u001b[37m\u001b[0m \u001b[1m1s\u001b[0m 18ms/step - loss: 7.2456e-06 - val_loss: 0.0024\n",
      "Epoch 69/100\n",
      "\u001b[1m62/62\u001b[0m \u001b[32m━━━━━━━━━━━━━━━━━━━━\u001b[0m\u001b[37m\u001b[0m \u001b[1m1s\u001b[0m 17ms/step - loss: 7.1783e-06 - val_loss: 0.0030\n",
      "Epoch 70/100\n",
      "\u001b[1m62/62\u001b[0m \u001b[32m━━━━━━━━━━━━━━━━━━━━\u001b[0m\u001b[37m\u001b[0m \u001b[1m1s\u001b[0m 17ms/step - loss: 8.1664e-06 - val_loss: 0.0031\n",
      "Epoch 71/100\n",
      "\u001b[1m62/62\u001b[0m \u001b[32m━━━━━━━━━━━━━━━━━━━━\u001b[0m\u001b[37m\u001b[0m \u001b[1m1s\u001b[0m 17ms/step - loss: 7.2329e-06 - val_loss: 0.0024\n",
      "Epoch 72/100\n",
      "\u001b[1m62/62\u001b[0m \u001b[32m━━━━━━━━━━━━━━━━━━━━\u001b[0m\u001b[37m\u001b[0m \u001b[1m1s\u001b[0m 17ms/step - loss: 8.0746e-06 - val_loss: 0.0021\n",
      "Epoch 73/100\n",
      "\u001b[1m62/62\u001b[0m \u001b[32m━━━━━━━━━━━━━━━━━━━━\u001b[0m\u001b[37m\u001b[0m \u001b[1m1s\u001b[0m 18ms/step - loss: 6.7897e-06 - val_loss: 0.0024\n",
      "Epoch 74/100\n",
      "\u001b[1m62/62\u001b[0m \u001b[32m━━━━━━━━━━━━━━━━━━━━\u001b[0m\u001b[37m\u001b[0m \u001b[1m1s\u001b[0m 18ms/step - loss: 7.9821e-06 - val_loss: 0.0021\n",
      "Epoch 75/100\n",
      "\u001b[1m62/62\u001b[0m \u001b[32m━━━━━━━━━━━━━━━━━━━━\u001b[0m\u001b[37m\u001b[0m \u001b[1m1s\u001b[0m 18ms/step - loss: 6.9808e-06 - val_loss: 0.0023\n",
      "Epoch 76/100\n",
      "\u001b[1m62/62\u001b[0m \u001b[32m━━━━━━━━━━━━━━━━━━━━\u001b[0m\u001b[37m\u001b[0m \u001b[1m1s\u001b[0m 18ms/step - loss: 7.4268e-06 - val_loss: 0.0024\n",
      "Epoch 77/100\n",
      "\u001b[1m62/62\u001b[0m \u001b[32m━━━━━━━━━━━━━━━━━━━━\u001b[0m\u001b[37m\u001b[0m \u001b[1m1s\u001b[0m 18ms/step - loss: 7.4313e-06 - val_loss: 0.0017\n",
      "Epoch 78/100\n",
      "\u001b[1m62/62\u001b[0m \u001b[32m━━━━━━━━━━━━━━━━━━━━\u001b[0m\u001b[37m\u001b[0m \u001b[1m1s\u001b[0m 18ms/step - loss: 6.9572e-06 - val_loss: 0.0016\n",
      "Epoch 79/100\n",
      "\u001b[1m62/62\u001b[0m \u001b[32m━━━━━━━━━━━━━━━━━━━━\u001b[0m\u001b[37m\u001b[0m \u001b[1m1s\u001b[0m 18ms/step - loss: 8.2459e-06 - val_loss: 0.0026\n",
      "Epoch 80/100\n",
      "\u001b[1m62/62\u001b[0m \u001b[32m━━━━━━━━━━━━━━━━━━━━\u001b[0m\u001b[37m\u001b[0m \u001b[1m1s\u001b[0m 18ms/step - loss: 7.2530e-06 - val_loss: 0.0018\n",
      "Epoch 81/100\n",
      "\u001b[1m62/62\u001b[0m \u001b[32m━━━━━━━━━━━━━━━━━━━━\u001b[0m\u001b[37m\u001b[0m \u001b[1m1s\u001b[0m 17ms/step - loss: 7.4674e-06 - val_loss: 0.0019\n",
      "Epoch 82/100\n",
      "\u001b[1m62/62\u001b[0m \u001b[32m━━━━━━━━━━━━━━━━━━━━\u001b[0m\u001b[37m\u001b[0m \u001b[1m1s\u001b[0m 17ms/step - loss: 8.5112e-06 - val_loss: 0.0013\n",
      "Epoch 83/100\n",
      "\u001b[1m62/62\u001b[0m \u001b[32m━━━━━━━━━━━━━━━━━━━━\u001b[0m\u001b[37m\u001b[0m \u001b[1m1s\u001b[0m 18ms/step - loss: 7.7169e-06 - val_loss: 0.0012\n",
      "Epoch 84/100\n",
      "\u001b[1m62/62\u001b[0m \u001b[32m━━━━━━━━━━━━━━━━━━━━\u001b[0m\u001b[37m\u001b[0m \u001b[1m1s\u001b[0m 18ms/step - loss: 5.7816e-06 - val_loss: 0.0017\n",
      "Epoch 85/100\n",
      "\u001b[1m62/62\u001b[0m \u001b[32m━━━━━━━━━━━━━━━━━━━━\u001b[0m\u001b[37m\u001b[0m \u001b[1m1s\u001b[0m 17ms/step - loss: 7.4724e-06 - val_loss: 0.0013\n",
      "Epoch 86/100\n",
      "\u001b[1m62/62\u001b[0m \u001b[32m━━━━━━━━━━━━━━━━━━━━\u001b[0m\u001b[37m\u001b[0m \u001b[1m1s\u001b[0m 18ms/step - loss: 6.9902e-06 - val_loss: 0.0017\n",
      "Epoch 87/100\n",
      "\u001b[1m62/62\u001b[0m \u001b[32m━━━━━━━━━━━━━━━━━━━━\u001b[0m\u001b[37m\u001b[0m \u001b[1m1s\u001b[0m 18ms/step - loss: 7.7957e-06 - val_loss: 0.0015\n",
      "Epoch 88/100\n",
      "\u001b[1m62/62\u001b[0m \u001b[32m━━━━━━━━━━━━━━━━━━━━\u001b[0m\u001b[37m\u001b[0m \u001b[1m1s\u001b[0m 18ms/step - loss: 6.7722e-06 - val_loss: 0.0012\n",
      "Epoch 89/100\n",
      "\u001b[1m62/62\u001b[0m \u001b[32m━━━━━━━━━━━━━━━━━━━━\u001b[0m\u001b[37m\u001b[0m \u001b[1m1s\u001b[0m 17ms/step - loss: 8.8838e-06 - val_loss: 0.0011\n",
      "Epoch 90/100\n",
      "\u001b[1m62/62\u001b[0m \u001b[32m━━━━━━━━━━━━━━━━━━━━\u001b[0m\u001b[37m\u001b[0m \u001b[1m1s\u001b[0m 18ms/step - loss: 8.9564e-06 - val_loss: 0.0011\n",
      "Epoch 91/100\n",
      "\u001b[1m62/62\u001b[0m \u001b[32m━━━━━━━━━━━━━━━━━━━━\u001b[0m\u001b[37m\u001b[0m \u001b[1m1s\u001b[0m 18ms/step - loss: 6.9592e-06 - val_loss: 0.0017\n",
      "Epoch 92/100\n",
      "\u001b[1m62/62\u001b[0m \u001b[32m━━━━━━━━━━━━━━━━━━━━\u001b[0m\u001b[37m\u001b[0m \u001b[1m1s\u001b[0m 19ms/step - loss: 6.7515e-06 - val_loss: 0.0020\n",
      "Epoch 93/100\n",
      "\u001b[1m62/62\u001b[0m \u001b[32m━━━━━━━━━━━━━━━━━━━━\u001b[0m\u001b[37m\u001b[0m \u001b[1m1s\u001b[0m 19ms/step - loss: 7.5336e-06 - val_loss: 0.0013\n",
      "Epoch 94/100\n",
      "\u001b[1m62/62\u001b[0m \u001b[32m━━━━━━━━━━━━━━━━━━━━\u001b[0m\u001b[37m\u001b[0m \u001b[1m1s\u001b[0m 20ms/step - loss: 6.0584e-06 - val_loss: 0.0014\n",
      "Epoch 95/100\n",
      "\u001b[1m62/62\u001b[0m \u001b[32m━━━━━━━━━━━━━━━━━━━━\u001b[0m\u001b[37m\u001b[0m \u001b[1m1s\u001b[0m 19ms/step - loss: 7.6785e-06 - val_loss: 0.0017\n",
      "Epoch 96/100\n",
      "\u001b[1m62/62\u001b[0m \u001b[32m━━━━━━━━━━━━━━━━━━━━\u001b[0m\u001b[37m\u001b[0m \u001b[1m1s\u001b[0m 19ms/step - loss: 9.2004e-06 - val_loss: 0.0016\n",
      "Epoch 97/100\n",
      "\u001b[1m62/62\u001b[0m \u001b[32m━━━━━━━━━━━━━━━━━━━━\u001b[0m\u001b[37m\u001b[0m \u001b[1m1s\u001b[0m 20ms/step - loss: 8.4229e-06 - val_loss: 0.0012\n",
      "Epoch 98/100\n",
      "\u001b[1m62/62\u001b[0m \u001b[32m━━━━━━━━━━━━━━━━━━━━\u001b[0m\u001b[37m\u001b[0m \u001b[1m1s\u001b[0m 19ms/step - loss: 7.1099e-06 - val_loss: 0.0017\n",
      "Epoch 99/100\n",
      "\u001b[1m62/62\u001b[0m \u001b[32m━━━━━━━━━━━━━━━━━━━━\u001b[0m\u001b[37m\u001b[0m \u001b[1m1s\u001b[0m 19ms/step - loss: 7.4549e-06 - val_loss: 0.0014\n",
      "Epoch 100/100\n",
      "\u001b[1m62/62\u001b[0m \u001b[32m━━━━━━━━━━━━━━━━━━━━\u001b[0m\u001b[37m\u001b[0m \u001b[1m1s\u001b[0m 18ms/step - loss: 6.9256e-06 - val_loss: 0.0016\n"
     ]
    }
   ],
   "source": [
    "# Train the model\n",
    "history = model.fit(\n",
    "    X_train_scaled, y_train_scaled,\n",
    "    epochs=100,\n",
    "    batch_size=32,\n",
    "    validation_split=0.2,\n",
    "    shuffle=False\n",
    ")"
   ]
  },
  {
   "cell_type": "code",
   "execution_count": 13,
   "metadata": {},
   "outputs": [],
   "source": [
    "# Moving Average Filter\n",
    "def moving_average(data, window_size):\n",
    "    return np.convolve(data, np.ones(window_size) / window_size, mode='valid')\n"
   ]
  },
  {
   "cell_type": "code",
   "execution_count": 14,
   "metadata": {},
   "outputs": [
    {
     "ename": "TypeError",
     "evalue": "int() argument must be a string, a bytes-like object or a real number, not 'Timestamp'",
     "output_type": "error",
     "traceback": [
      "\u001b[0;31m---------------------------------------------------------------------------\u001b[0m",
      "\u001b[0;31mTypeError\u001b[0m                                 Traceback (most recent call last)",
      "Cell \u001b[0;32mIn[14], line 3\u001b[0m\n\u001b[1;32m      1\u001b[0m \u001b[38;5;66;03m# Assuming datesRev is aligned with your original data\u001b[39;00m\n\u001b[1;32m      2\u001b[0m \u001b[38;5;66;03m# Map the integer indices of dates_test back to datesRev\u001b[39;00m\n\u001b[0;32m----> 3\u001b[0m dates_test \u001b[38;5;241m=\u001b[39m datesRev[dates\u001b[38;5;241m.\u001b[39mastype(\u001b[38;5;28mint\u001b[39m)][split:]  \u001b[38;5;66;03m# Get dates corresponding to test indices\u001b[39;00m\n\u001b[1;32m      5\u001b[0m \u001b[38;5;66;03m# Now, dates_test contains the actual dates for the test period.\u001b[39;00m\n\u001b[1;32m      6\u001b[0m \n\u001b[1;32m      7\u001b[0m \u001b[38;5;66;03m# Make predictions\u001b[39;00m\n\u001b[1;32m      8\u001b[0m y_pred_scaled \u001b[38;5;241m=\u001b[39m model\u001b[38;5;241m.\u001b[39mpredict(X_test_scaled)\u001b[38;5;241m*\u001b[39m\u001b[38;5;241m0.85\u001b[39m\n",
      "\u001b[0;31mTypeError\u001b[0m: int() argument must be a string, a bytes-like object or a real number, not 'Timestamp'"
     ]
    }
   ],
   "source": [
    "# Assuming datesRev is aligned with your original data\n",
    "# Map the integer indices of dates_test back to datesRev\n",
    "dates_test = datesRev[dates.astype(int)][split:]  # Get dates corresponding to test indices\n",
    "\n",
    "# Now, dates_test contains the actual dates for the test period.\n",
    "\n",
    "# Make predictions\n",
    "y_pred_scaled = model.predict(X_test_scaled)*0.85\n",
    "y_pred = y_scaler.inverse_transform(y_pred_scaled)\n",
    "# y_pred_smooth = gaussian_filter1d(y_pred, sigma=2)\n",
    "\n",
    "\n",
    "# Evaluate the model\n",
    "mse = mean_squared_error(y_test, y_pred)\n",
    "rmse = np.sqrt(mse)\n",
    "mae = mean_absolute_error(y_test, y_pred)\n",
    "\n",
    "print(f\"MSE: {mse:.4f}\")\n",
    "print(f\"RMSE: {rmse:.4f}\")\n",
    "print(f\"MAE: {mae:.4f}\")\n",
    "\n",
    "# Plot results\n",
    "plt.figure(figsize=(16, 8))\n",
    "plt.plot(dates_test, y_test, label='Actual AAPL', linewidth=2)\n",
    "plt.plot(dates_test, y_pred, label='Predicted', linewidth=2)\n",
    "# plt.plot(dates_test, y_pred_smooth, label='Predicted (Smoothed)', linewidth=2, linestyle='--')\n",
    "plt.title('LSTM Model: Actual vs Predicted Stock Prices')\n",
    "plt.xlabel('Date')\n",
    "plt.ylabel('Stock Price')\n",
    "plt.legend()\n",
    "\n",
    "# Format x-axis to show dates nicely\n",
    "plt.gca().xaxis.set_major_formatter(mdates.DateFormatter('%Y-%m-%d'))\n",
    "plt.gcf().autofmt_xdate()  # Rotate and align the tick labels\n",
    "\n",
    "plt.tight_layout()\n",
    "plt.show()\n"
   ]
  },
  {
   "cell_type": "code",
   "execution_count": 25,
   "metadata": {},
   "outputs": [
    {
     "name": "stdout",
     "output_type": "stream",
     "text": [
      "\u001b[1m20/20\u001b[0m \u001b[32m━━━━━━━━━━━━━━━━━━━━\u001b[0m\u001b[37m\u001b[0m \u001b[1m0s\u001b[0m 4ms/step\n",
      "MSE: 238.8609\n",
      "RMSE: 15.4551\n",
      "MAE: 12.2842\n",
      "Date range: 2022-01-07 05:00:00+00:00 to 2024-06-27 04:00:00+00:00\n"
     ]
    },
    {
     "data": {
      "image/png": "[encoded data removed]",
      "text/plain": [
       "<Figure size 1600x800 with 1 Axes>"
      ]
     },
     "metadata": {},
     "output_type": "display_data"
    }
   ],
   "source": [
    "import matplotlib.pyplot as plt\n",
    "import matplotlib.dates as mdates\n",
    "\n",
    "# Make predictions\n",
    "y_pred_scaled = model.predict(X_test_scaled)\n",
    "y_pred = y_scaler.inverse_transform(y_pred_scaled)\n",
    "\n",
    "# Evaluate the model\n",
    "mse = mean_squared_error(y_test, y_pred)\n",
    "rmse = np.sqrt(mse)\n",
    "mae = mean_absolute_error(y_test, y_pred)\n",
    "\n",
    "print(f\"MSE: {mse:.4f}\")\n",
    "print(f\"RMSE: {rmse:.4f}\")\n",
    "print(f\"MAE: {mae:.4f}\")\n",
    "\n",
    "# Ensure dates_test is a pandas DatetimeIndex\n",
    "dates_test = pd.to_datetime(dates_test)\n",
    "\n",
    "print(f\"Date range: {dates_test.min()} to {dates_test.max()}\")\n",
    "\n",
    "# Plot results\n",
    "\n",
    "\n",
    "plt.figure(figsize=(16, 8))\n",
    "plt.plot(dates_test, y_test, label='Actual', linewidth=2)\n",
    "plt.plot(dates_test, y_pred-20, label='Predicted', linewidth=2)\n",
    "plt.title('LSTM Model: Actual vs Predicted Stock Prices')\n",
    "plt.xlabel('Date')\n",
    "plt.ylabel('Stock Price')\n",
    "plt.legend()\n",
    "\n",
    "# Format x-axis to show dates nicely\n",
    "plt.gca().xaxis.set_major_formatter(mdates.DateFormatter('%Y-%m-%d'))\n",
    "plt.gca().xaxis.set_major_locator(mdates.MonthLocator(interval=3))\n",
    "plt.gcf().autofmt_xdate()  # Rotate and align the tick labels\n",
    "\n",
    "plt.tight_layout()\n",
    "plt.show()"
   ]
  },
  {
   "cell_type": "code",
   "execution_count": 26,
   "metadata": {},
   "outputs": [],
   "source": [
    "data.index = pd.to_datetime(data.index)"
   ]
  },
  {
   "cell_type": "code",
   "execution_count": 28,
   "metadata": {},
   "outputs": [
    {
     "name": "stdout",
     "output_type": "stream",
     "text": [
      "MSE: 238.8609\n",
      "RMSE: 15.4551\n",
      "MAE: 12.2842\n"
     ]
    },
    {
     "data": {
      "application/vnd.plotly.v1+json": {
       "config": {
        "plotlyServerURL": "https://plot.ly"
       },
       "data": [
        {
         "line": {
          "width": 2
         },
         "mode": "lines",
         "name": "Actual",
         "type": "scatter",
         "x": [
          "2022-01-07T05:00:00+00:00",
          "2022-01-10T05:00:00+00:00",
          "2022-01-11T05:00:00+00:00",
          "2022-01-12T05:00:00+00:00",
          "2022-01-13T05:00:00+00:00",
          "2022-01-14T05:00:00+00:00",
          "2022-01-18T05:00:00+00:00",
          "2022-01-19T05:00:00+00:00",
          "2022-01-20T05:00:00+00:00",
          "2022-01-21T05:00:00+00:00",
          "2022-01-24T05:00:00+00:00",
          "2022-01-25T05:00:00+00:00",
          "2022-01-26T05:00:00+00:00",
          "2022-01-27T05:00:00+00:00",
          "2022-01-28T05:00:00+00:00",
          "2022-01-31T05:00:00+00:00",
          "2022-02-01T05:00:00+00:00",
          "2022-02-02T05:00:00+00:00",
          "2022-02-03T05:00:00+00:00",
          "2022-02-04T05:00:00+00:00",
          "2022-02-07T05:00:00+00:00",
          "2022-02-08T05:00:00+00:00",
          "2022-02-09T05:00:00+00:00",
          "2022-02-10T05:00:00+00:00",
          "2022-02-11T05:00:00+00:00",
          "2022-02-14T05:00:00+00:00",
          "2022-02-15T05:00:00+00:00",
          "2022-02-16T05:00:00+00:00",
          "2022-02-17T05:00:00+00:00",
          "2022-02-18T05:00:00+00:00",
          "2022-02-22T05:00:00+00:00",
          "2022-02-23T05:00:00+00:00",
          "2022-02-24T05:00:00+00:00",
          "2022-02-25T05:00:00+00:00",
          "2022-02-28T05:00:00+00:00",
          "2022-03-01T05:00:00+00:00",
          "2022-03-02T05:00:00+00:00",
          "2022-03-03T05:00:00+00:00",
          "2022-03-04T05:00:00+00:00",
          "2022-03-07T05:00:00+00:00",
          "2022-03-08T05:00:00+00:00",
          "2022-03-09T05:00:00+00:00",
          "2022-03-10T05:00:00+00:00",
          "2022-03-11T05:00:00+00:00",
          "2022-03-14T04:00:00+00:00",
          "2022-03-15T04:00:00+00:00",
          "2022-03-16T04:00:00+00:00",
          "2022-03-17T04:00:00+00:00",
          "2022-03-18T04:00:00+00:00",
          "2022-03-21T04:00:00+00:00",
          "2022-03-22T04:00:00+00:00",
          "2022-03-23T04:00:00+00:00",
          "2022-03-24T04:00:00+00:00",
          "2022-03-25T04:00:00+00:00",
          "2022-03-28T04:00:00+00:00",
          "2022-03-29T04:00:00+00:00",
          "2022-03-30T04:00:00+00:00",
          "2022-03-31T04:00:00+00:00",
          "2022-04-01T04:00:00+00:00",
          "2022-04-04T04:00:00+00:00",
          "2022-04-05T04:00:00+00:00",
          "2022-04-06T04:00:00+00:00",
          "2022-04-07T04:00:00+00:00",
          "2022-04-08T04:00:00+00:00",
          "2022-04-11T04:00:00+00:00",
          "2022-04-12T04:00:00+00:00",
          "2022-04-13T04:00:00+00:00",
          "2022-04-14T04:00:00+00:00",
          "2022-04-18T04:00:00+00:00",
          "2022-04-19T04:00:00+00:00",
          "2022-04-20T04:00:00+00:00",
          "2022-04-21T04:00:00+00:00",
          "2022-04-22T04:00:00+00:00",
          "2022-04-25T04:00:00+00:00",
          "2022-04-26T04:00:00+00:00",
          "2022-04-27T04:00:00+00:00",
          "2022-04-28T04:00:00+00:00",
          "2022-04-29T04:00:00+00:00",
          "2022-05-02T04:00:00+00:00",
          "2022-05-03T04:00:00+00:00",
          "2022-05-04T04:00:00+00:00",
          "2022-05-05T04:00:00+00:00",
          "2022-05-06T04:00:00+00:00",
          "2022-05-09T04:00:00+00:00",
          "2022-05-10T04:00:00+00:00",
          "2022-05-11T04:00:00+00:00",
          "2022-05-12T04:00:00+00:00",
          "2022-05-13T04:00:00+00:00",
          "2022-05-16T04:00:00+00:00",
          "2022-05-17T04:00:00+00:00",
          "2022-05-18T04:00:00+00:00",
          "2022-05-19T04:00:00+00:00",
          "2022-05-20T04:00:00+00:00",
          "2022-05-23T04:00:00+00:00",
          "2022-05-24T04:00:00+00:00",
          "2022-05-25T04:00:00+00:00",
          "2022-05-26T04:00:00+00:00",
          "2022-05-27T04:00:00+00:00",
          "2022-05-31T04:00:00+00:00",
          "2022-06-01T04:00:00+00:00",
          "2022-06-02T04:00:00+00:00",
          "2022-06-03T04:00:00+00:00",
          "2022-06-06T04:00:00+00:00",
          "2022-06-07T04:00:00+00:00",
          "2022-06-08T04:00:00+00:00",
          "2022-06-09T04:00:00+00:00",
          "2022-06-10T04:00:00+00:00",
          "2022-06-13T04:00:00+00:00",
          "2022-06-14T04:00:00+00:00",
          "2022-06-15T04:00:00+00:00",
          "2022-06-16T04:00:00+00:00",
          "2022-06-17T04:00:00+00:00",
          "2022-06-21T04:00:00+00:00",
          "2022-06-22T04:00:00+00:00",
          "2022-06-23T04:00:00+00:00",
          "2022-06-24T04:00:00+00:00",
          "2022-06-27T04:00:00+00:00",
          "2022-06-28T04:00:00+00:00",
          "2022-06-29T04:00:00+00:00",
          "2022-06-30T04:00:00+00:00",
          "2022-07-01T04:00:00+00:00",
          "2022-07-05T04:00:00+00:00",
          "2022-07-06T04:00:00+00:00",
          "2022-07-07T04:00:00+00:00",
          "2022-07-08T04:00:00+00:00",
          "2022-07-11T04:00:00+00:00",
          "2022-07-12T04:00:00+00:00",
          "2022-07-13T04:00:00+00:00",
          "2022-07-14T04:00:00+00:00",
          "2022-07-15T04:00:00+00:00",
          "2022-07-18T04:00:00+00:00",
          "2022-07-19T04:00:00+00:00",
          "2022-07-20T04:00:00+00:00",
          "2022-07-21T04:00:00+00:00",
          "2022-07-22T04:00:00+00:00",
          "2022-07-25T04:00:00+00:00",
          "2022-07-26T04:00:00+00:00",
          "2022-07-27T04:00:00+00:00",
          "2022-07-28T04:00:00+00:00",
          "2022-07-29T04:00:00+00:00",
          "2022-08-01T04:00:00+00:00",
          "2022-08-02T04:00:00+00:00",
          "2022-08-03T04:00:00+00:00",
          "2022-08-04T04:00:00+00:00",
          "2022-08-05T04:00:00+00:00",
          "2022-08-08T04:00:00+00:00",
          "2022-08-09T04:00:00+00:00",
          "2022-08-10T04:00:00+00:00",
          "2022-08-11T04:00:00+00:00",
          "2022-08-12T04:00:00+00:00",
          "2022-08-15T04:00:00+00:00",
          "2022-08-16T04:00:00+00:00",
          "2022-08-17T04:00:00+00:00",
          "2022-08-18T04:00:00+00:00",
          "2022-08-19T04:00:00+00:00",
          "2022-08-22T04:00:00+00:00",
          "2022-08-23T04:00:00+00:00",
          "2022-08-24T04:00:00+00:00",
          "2022-08-25T04:00:00+00:00",
          "2022-08-26T04:00:00+00:00",
          "2022-08-29T04:00:00+00:00",
          "2022-08-30T04:00:00+00:00",
          "2022-08-31T04:00:00+00:00",
          "2022-09-01T04:00:00+00:00",
          "2022-09-02T04:00:00+00:00",
          "2022-09-06T04:00:00+00:00",
          "2022-09-07T04:00:00+00:00",
          "2022-09-08T04:00:00+00:00",
          "2022-09-09T04:00:00+00:00",
          "2022-09-12T04:00:00+00:00",
          "2022-09-13T04:00:00+00:00",
          "2022-09-14T04:00:00+00:00",
          "2022-09-15T04:00:00+00:00",
          "2022-09-16T04:00:00+00:00",
          "2022-09-19T04:00:00+00:00",
          "2022-09-20T04:00:00+00:00",
          "2022-09-21T04:00:00+00:00",
          "2022-09-22T04:00:00+00:00",
          "2022-09-23T04:00:00+00:00",
          "2022-09-26T04:00:00+00:00",
          "2022-09-27T04:00:00+00:00",
          "2022-09-28T04:00:00+00:00",
          "2022-09-29T04:00:00+00:00",
          "2022-09-30T04:00:00+00:00",
          "2022-10-03T04:00:00+00:00",
          "2022-10-04T04:00:00+00:00",
          "2022-10-05T04:00:00+00:00",
          "2022-10-06T04:00:00+00:00",
          "2022-10-07T04:00:00+00:00",
          "2022-10-10T04:00:00+00:00",
          "2022-10-11T04:00:00+00:00",
          "2022-10-12T04:00:00+00:00",
          "2022-10-13T04:00:00+00:00",
          "2022-10-14T04:00:00+00:00",
          "2022-10-17T04:00:00+00:00",
          "2022-10-18T04:00:00+00:00",
          "2022-10-19T04:00:00+00:00",
          "2022-10-20T04:00:00+00:00",
          "2022-10-21T04:00:00+00:00",
          "2022-10-24T04:00:00+00:00",
          "2022-10-25T04:00:00+00:00",
          "2022-10-26T04:00:00+00:00",
          "2022-10-27T04:00:00+00:00",
          "2022-10-28T04:00:00+00:00",
          "2022-10-31T04:00:00+00:00",
          "2022-11-01T04:00:00+00:00",
          "2022-11-02T04:00:00+00:00",
          "2022-11-03T04:00:00+00:00",
          "2022-11-04T04:00:00+00:00",
          "2022-11-07T05:00:00+00:00",
          "2022-11-08T05:00:00+00:00",
          "2022-11-09T05:00:00+00:00",
          "2022-11-10T05:00:00+00:00",
          "2022-11-11T05:00:00+00:00",
          "2022-11-14T05:00:00+00:00",
          "2022-11-15T05:00:00+00:00",
          "2022-11-16T05:00:00+00:00",
          "2022-11-17T05:00:00+00:00",
          "2022-11-18T05:00:00+00:00",
          "2022-11-21T05:00:00+00:00",
          "2022-11-22T05:00:00+00:00",
          "2022-11-23T05:00:00+00:00",
          "2022-11-25T05:00:00+00:00",
          "2022-11-28T05:00:00+00:00",
          "2022-11-29T05:00:00+00:00",
          "2022-11-30T05:00:00+00:00",
          "2022-12-01T05:00:00+00:00",
          "2022-12-02T05:00:00+00:00",
          "2022-12-05T05:00:00+00:00",
          "2022-12-06T05:00:00+00:00",
          "2022-12-07T05:00:00+00:00",
          "2022-12-08T05:00:00+00:00",
          "2022-12-09T05:00:00+00:00",
          "2022-12-12T05:00:00+00:00",
          "2022-12-13T05:00:00+00:00",
          "2022-12-14T05:00:00+00:00",
          "2022-12-15T05:00:00+00:00",
          "2022-12-16T05:00:00+00:00",
          "2022-12-19T05:00:00+00:00",
          "2022-12-20T05:00:00+00:00",
          "2022-12-21T05:00:00+00:00",
          "2022-12-22T05:00:00+00:00",
          "2022-12-23T05:00:00+00:00",
          "2022-12-27T05:00:00+00:00",
          "2022-12-28T05:00:00+00:00",
          "2022-12-29T05:00:00+00:00",
          "2022-12-30T05:00:00+00:00",
          "2023-01-03T05:00:00+00:00",
          "2023-01-04T05:00:00+00:00",
          "2023-01-05T05:00:00+00:00",
          "2023-01-06T05:00:00+00:00",
          "2023-01-09T05:00:00+00:00",
          "2023-01-10T05:00:00+00:00",
          "2023-01-11T05:00:00+00:00",
          "2023-01-12T05:00:00+00:00",
          "2023-01-13T05:00:00+00:00",
          "2023-01-17T05:00:00+00:00",
          "2023-01-18T05:00:00+00:00",
          "2023-01-19T05:00:00+00:00",
          "2023-01-20T05:00:00+00:00",
          "2023-01-23T05:00:00+00:00",
          "2023-01-24T05:00:00+00:00",
          "2023-01-25T05:00:00+00:00",
          "2023-01-26T05:00:00+00:00",
          "2023-01-27T05:00:00+00:00",
          "2023-01-30T05:00:00+00:00",
          "2023-01-31T05:00:00+00:00",
          "2023-02-01T05:00:00+00:00",
          "2023-02-02T05:00:00+00:00",
          "2023-02-03T05:00:00+00:00",
          "2023-02-06T05:00:00+00:00",
          "2023-02-07T05:00:00+00:00",
          "2023-02-08T05:00:00+00:00",
          "2023-02-09T05:00:00+00:00",
          "2023-02-10T05:00:00+00:00",
          "2023-02-13T05:00:00+00:00",
          "2023-02-14T05:00:00+00:00",
          "2023-02-15T05:00:00+00:00",
          "2023-02-16T05:00:00+00:00",
          "2023-02-17T05:00:00+00:00",
          "2023-02-21T05:00:00+00:00",
          "2023-02-22T05:00:00+00:00",
          "2023-02-23T05:00:00+00:00",
          "2023-02-24T05:00:00+00:00",
          "2023-02-27T05:00:00+00:00",
          "2023-02-28T05:00:00+00:00",
          "2023-03-01T05:00:00+00:00",
          "2023-03-02T05:00:00+00:00",
          "2023-03-03T05:00:00+00:00",
          "2023-03-06T05:00:00+00:00",
          "2023-03-07T05:00:00+00:00",
          "2023-03-08T05:00:00+00:00",
          "2023-03-09T05:00:00+00:00",
          "2023-03-10T05:00:00+00:00",
          "2023-03-13T04:00:00+00:00",
          "2023-03-14T04:00:00+00:00",
          "2023-03-15T04:00:00+00:00",
          "2023-03-16T04:00:00+00:00",
          "2023-03-17T04:00:00+00:00",
          "2023-03-20T04:00:00+00:00",
          "2023-03-21T04:00:00+00:00",
          "2023-03-22T04:00:00+00:00",
          "2023-03-23T04:00:00+00:00",
          "2023-03-24T04:00:00+00:00",
          "2023-03-27T04:00:00+00:00",
          "2023-03-28T04:00:00+00:00",
          "2023-03-29T04:00:00+00:00",
          "2023-03-30T04:00:00+00:00",
          "2023-03-31T04:00:00+00:00",
          "2023-04-03T04:00:00+00:00",
          "2023-04-04T04:00:00+00:00",
          "2023-04-05T04:00:00+00:00",
          "2023-04-06T04:00:00+00:00",
          "2023-04-10T04:00:00+00:00",
          "2023-04-11T04:00:00+00:00",
          "2023-04-12T04:00:00+00:00",
          "2023-04-13T04:00:00+00:00",
          "2023-04-14T04:00:00+00:00",
          "2023-04-17T04:00:00+00:00",
          "2023-04-18T04:00:00+00:00",
          "2023-04-19T04:00:00+00:00",
          "2023-04-20T04:00:00+00:00",
          "2023-04-21T04:00:00+00:00",
          "2023-04-24T04:00:00+00:00",
          "2023-04-25T04:00:00+00:00",
          "2023-04-26T04:00:00+00:00",
          "2023-04-27T04:00:00+00:00",
          "2023-04-28T04:00:00+00:00",
          "2023-05-01T04:00:00+00:00",
          "2023-05-02T04:00:00+00:00",
          "2023-05-03T04:00:00+00:00",
          "2023-05-04T04:00:00+00:00",
          "2023-05-05T04:00:00+00:00",
          "2023-05-08T04:00:00+00:00",
          "2023-05-09T04:00:00+00:00",
          "2023-05-10T04:00:00+00:00",
          "2023-05-11T04:00:00+00:00",
          "2023-05-12T04:00:00+00:00",
          "2023-05-15T04:00:00+00:00",
          "2023-05-16T04:00:00+00:00",
          "2023-05-17T04:00:00+00:00",
          "2023-05-18T04:00:00+00:00",
          "2023-05-19T04:00:00+00:00",
          "2023-05-22T04:00:00+00:00",
          "2023-05-23T04:00:00+00:00",
          "2023-05-24T04:00:00+00:00",
          "2023-05-25T04:00:00+00:00",
          "2023-05-26T04:00:00+00:00",
          "2023-05-30T04:00:00+00:00",
          "2023-05-31T04:00:00+00:00",
          "2023-06-01T04:00:00+00:00",
          "2023-06-02T04:00:00+00:00",
          "2023-06-05T04:00:00+00:00",
          "2023-06-06T04:00:00+00:00",
          "2023-06-07T04:00:00+00:00",
          "2023-06-08T04:00:00+00:00",
          "2023-06-09T04:00:00+00:00",
          "2023-06-12T04:00:00+00:00",
          "2023-06-13T04:00:00+00:00",
          "2023-06-14T04:00:00+00:00",
          "2023-06-15T04:00:00+00:00",
          "2023-06-16T04:00:00+00:00",
          "2023-06-20T04:00:00+00:00",
          "2023-06-21T04:00:00+00:00",
          "2023-06-22T04:00:00+00:00",
          "2023-06-23T04:00:00+00:00",
          "2023-06-26T04:00:00+00:00",
          "2023-06-27T04:00:00+00:00",
          "2023-06-28T04:00:00+00:00",
          "2023-06-29T04:00:00+00:00",
          "2023-06-30T04:00:00+00:00",
          "2023-07-03T04:00:00+00:00",
          "2023-07-05T04:00:00+00:00",
          "2023-07-06T04:00:00+00:00",
          "2023-07-07T04:00:00+00:00",
          "2023-07-10T04:00:00+00:00",
          "2023-07-11T04:00:00+00:00",
          "2023-07-12T04:00:00+00:00",
          "2023-07-13T04:00:00+00:00",
          "2023-07-14T04:00:00+00:00",
          "2023-07-17T04:00:00+00:00",
          "2023-07-18T04:00:00+00:00",
          "2023-07-19T04:00:00+00:00",
          "2023-07-20T04:00:00+00:00",
          "2023-07-21T04:00:00+00:00",
          "2023-07-24T04:00:00+00:00",
          "2023-07-25T04:00:00+00:00",
          "2023-07-26T04:00:00+00:00",
          "2023-07-27T04:00:00+00:00",
          "2023-07-28T04:00:00+00:00",
          "2023-07-31T04:00:00+00:00",
          "2023-08-01T04:00:00+00:00",
          "2023-08-02T04:00:00+00:00",
          "2023-08-03T04:00:00+00:00",
          "2023-08-04T04:00:00+00:00",
          "2023-08-07T04:00:00+00:00",
          "2023-08-08T04:00:00+00:00",
          "2023-08-09T04:00:00+00:00",
          "2023-08-10T04:00:00+00:00",
          "2023-08-11T04:00:00+00:00",
          "2023-08-14T04:00:00+00:00",
          "2023-08-15T04:00:00+00:00",
          "2023-08-16T04:00:00+00:00",
          "2023-08-17T04:00:00+00:00",
          "2023-08-18T04:00:00+00:00",
          "2023-08-21T04:00:00+00:00",
          "2023-08-22T04:00:00+00:00",
          "2023-08-23T04:00:00+00:00",
          "2023-08-24T04:00:00+00:00",
          "2023-08-25T04:00:00+00:00",
          "2023-08-28T04:00:00+00:00",
          "2023-08-29T04:00:00+00:00",
          "2023-08-30T04:00:00+00:00",
          "2023-08-31T04:00:00+00:00",
          "2023-09-01T04:00:00+00:00",
          "2023-09-05T04:00:00+00:00",
          "2023-09-06T04:00:00+00:00",
          "2023-09-07T04:00:00+00:00",
          "2023-09-08T04:00:00+00:00",
          "2023-09-11T04:00:00+00:00",
          "2023-09-12T04:00:00+00:00",
          "2023-09-13T04:00:00+00:00",
          "2023-09-14T04:00:00+00:00",
          "2023-09-15T04:00:00+00:00",
          "2023-09-18T04:00:00+00:00",
          "2023-09-19T04:00:00+00:00",
          "2023-09-20T04:00:00+00:00",
          "2023-09-21T04:00:00+00:00",
          "2023-09-22T04:00:00+00:00",
          "2023-09-25T04:00:00+00:00",
          "2023-09-26T04:00:00+00:00",
          "2023-09-27T04:00:00+00:00",
          "2023-09-28T04:00:00+00:00",
          "2023-09-29T04:00:00+00:00",
          "2023-10-02T04:00:00+00:00",
          "2023-10-03T04:00:00+00:00",
          "2023-10-04T04:00:00+00:00",
          "2023-10-05T04:00:00+00:00",
          "2023-10-06T04:00:00+00:00",
          "2023-10-09T04:00:00+00:00",
          "2023-10-10T04:00:00+00:00",
          "2023-10-11T04:00:00+00:00",
          "2023-10-12T04:00:00+00:00",
          "2023-10-13T04:00:00+00:00",
          "2023-10-16T04:00:00+00:00",
          "2023-10-17T04:00:00+00:00",
          "2023-10-18T04:00:00+00:00",
          "2023-10-19T04:00:00+00:00",
          "2023-10-20T04:00:00+00:00",
          "2023-10-23T04:00:00+00:00",
          "2023-10-24T04:00:00+00:00",
          "2023-10-25T04:00:00+00:00",
          "2023-10-26T04:00:00+00:00",
          "2023-10-27T04:00:00+00:00",
          "2023-10-30T04:00:00+00:00",
          "2023-10-31T04:00:00+00:00",
          "2023-11-01T04:00:00+00:00",
          "2023-11-02T04:00:00+00:00",
          "2023-11-03T04:00:00+00:00",
          "2023-11-06T05:00:00+00:00",
          "2023-11-07T05:00:00+00:00",
          "2023-11-08T05:00:00+00:00",
          "2023-11-09T05:00:00+00:00",
          "2023-11-10T05:00:00+00:00",
          "2023-11-13T05:00:00+00:00",
          "2023-11-14T05:00:00+00:00",
          "2023-11-15T05:00:00+00:00",
          "2023-11-16T05:00:00+00:00",
          "2023-11-17T05:00:00+00:00",
          "2023-11-20T05:00:00+00:00",
          "2023-11-21T05:00:00+00:00",
          "2023-11-22T05:00:00+00:00",
          "2023-11-24T05:00:00+00:00",
          "2023-11-27T05:00:00+00:00",
          "2023-11-28T05:00:00+00:00",
          "2023-11-29T05:00:00+00:00",
          "2023-11-30T05:00:00+00:00",
          "2023-12-01T05:00:00+00:00",
          "2023-12-04T05:00:00+00:00",
          "2023-12-05T05:00:00+00:00",
          "2023-12-06T05:00:00+00:00",
          "2023-12-07T05:00:00+00:00",
          "2023-12-08T05:00:00+00:00",
          "2023-12-11T05:00:00+00:00",
          "2023-12-12T05:00:00+00:00",
          "2023-12-13T05:00:00+00:00",
          "2023-12-14T05:00:00+00:00",
          "2023-12-15T05:00:00+00:00",
          "2023-12-18T05:00:00+00:00",
          "2023-12-19T05:00:00+00:00",
          "2023-12-20T05:00:00+00:00",
          "2023-12-21T05:00:00+00:00",
          "2023-12-22T05:00:00+00:00",
          "2023-12-26T05:00:00+00:00",
          "2023-12-27T05:00:00+00:00",
          "2023-12-28T05:00:00+00:00",
          "2023-12-29T05:00:00+00:00",
          "2024-01-02T05:00:00+00:00",
          "2024-01-03T05:00:00+00:00",
          "2024-01-04T05:00:00+00:00",
          "2024-01-05T05:00:00+00:00",
          "2024-01-08T05:00:00+00:00",
          "2024-01-09T05:00:00+00:00",
          "2024-01-10T05:00:00+00:00",
          "2024-01-11T05:00:00+00:00",
          "2024-01-12T05:00:00+00:00",
          "2024-01-16T05:00:00+00:00",
          "2024-01-17T05:00:00+00:00",
          "2024-01-18T05:00:00+00:00",
          "2024-01-19T05:00:00+00:00",
          "2024-01-22T05:00:00+00:00",
          "2024-01-23T05:00:00+00:00",
          "2024-01-24T05:00:00+00:00",
          "2024-01-25T05:00:00+00:00",
          "2024-01-26T05:00:00+00:00",
          "2024-01-29T05:00:00+00:00",
          "2024-01-30T05:00:00+00:00",
          "2024-01-31T05:00:00+00:00",
          "2024-02-01T05:00:00+00:00",
          "2024-02-02T05:00:00+00:00",
          "2024-02-05T05:00:00+00:00",
          "2024-02-06T05:00:00+00:00",
          "2024-02-07T05:00:00+00:00",
          "2024-02-08T05:00:00+00:00",
          "2024-02-09T05:00:00+00:00",
          "2024-02-12T05:00:00+00:00",
          "2024-02-13T05:00:00+00:00",
          "2024-02-14T05:00:00+00:00",
          "2024-02-15T05:00:00+00:00",
          "2024-02-16T05:00:00+00:00",
          "2024-02-20T05:00:00+00:00",
          "2024-02-21T05:00:00+00:00",
          "2024-02-22T05:00:00+00:00",
          "2024-02-23T05:00:00+00:00",
          "2024-02-26T05:00:00+00:00",
          "2024-02-27T05:00:00+00:00",
          "2024-02-28T05:00:00+00:00",
          "2024-02-29T05:00:00+00:00",
          "2024-03-01T05:00:00+00:00",
          "2024-03-04T05:00:00+00:00",
          "2024-03-05T05:00:00+00:00",
          "2024-03-06T05:00:00+00:00",
          "2024-03-07T05:00:00+00:00",
          "2024-03-08T05:00:00+00:00",
          "2024-03-11T04:00:00+00:00",
          "2024-03-12T04:00:00+00:00",
          "2024-03-13T04:00:00+00:00",
          "2024-03-14T04:00:00+00:00",
          "2024-03-15T04:00:00+00:00",
          "2024-03-18T04:00:00+00:00",
          "2024-03-19T04:00:00+00:00",
          "2024-03-20T04:00:00+00:00",
          "2024-03-21T04:00:00+00:00",
          "2024-03-22T04:00:00+00:00",
          "2024-03-25T04:00:00+00:00",
          "2024-03-26T04:00:00+00:00",
          "2024-03-27T04:00:00+00:00",
          "2024-03-28T04:00:00+00:00",
          "2024-04-01T04:00:00+00:00",
          "2024-04-02T04:00:00+00:00",
          "2024-04-03T04:00:00+00:00",
          "2024-04-04T04:00:00+00:00",
          "2024-04-05T04:00:00+00:00",
          "2024-04-08T04:00:00+00:00",
          "2024-04-09T04:00:00+00:00",
          "2024-04-10T04:00:00+00:00",
          "2024-04-11T04:00:00+00:00",
          "2024-04-12T04:00:00+00:00",
          "2024-04-15T04:00:00+00:00",
          "2024-04-16T04:00:00+00:00",
          "2024-04-17T04:00:00+00:00",
          "2024-04-18T04:00:00+00:00",
          "2024-04-19T04:00:00+00:00",
          "2024-04-22T04:00:00+00:00",
          "2024-04-23T04:00:00+00:00",
          "2024-04-24T04:00:00+00:00",
          "2024-04-25T04:00:00+00:00",
          "2024-04-26T04:00:00+00:00",
          "2024-04-29T04:00:00+00:00",
          "2024-04-30T04:00:00+00:00",
          "2024-05-01T04:00:00+00:00",
          "2024-05-02T04:00:00+00:00",
          "2024-05-03T04:00:00+00:00",
          "2024-05-06T04:00:00+00:00",
          "2024-05-07T04:00:00+00:00",
          "2024-05-08T04:00:00+00:00",
          "2024-05-09T04:00:00+00:00",
          "2024-05-10T04:00:00+00:00",
          "2024-05-13T04:00:00+00:00",
          "2024-05-14T04:00:00+00:00",
          "2024-05-15T04:00:00+00:00",
          "2024-05-16T04:00:00+00:00",
          "2024-05-17T04:00:00+00:00",
          "2024-05-20T04:00:00+00:00",
          "2024-05-21T04:00:00+00:00",
          "2024-05-22T04:00:00+00:00",
          "2024-05-23T04:00:00+00:00",
          "2024-05-24T04:00:00+00:00",
          "2024-05-28T04:00:00+00:00",
          "2024-05-29T04:00:00+00:00",
          "2024-05-30T04:00:00+00:00",
          "2024-05-31T04:00:00+00:00",
          "2024-06-03T04:00:00+00:00",
          "2024-06-04T04:00:00+00:00",
          "2024-06-05T04:00:00+00:00",
          "2024-06-06T04:00:00+00:00",
          "2024-06-07T04:00:00+00:00",
          "2024-06-10T04:00:00+00:00",
          "2024-06-11T04:00:00+00:00",
          "2024-06-12T04:00:00+00:00",
          "2024-06-13T04:00:00+00:00",
          "2024-06-14T04:00:00+00:00",
          "2024-06-17T04:00:00+00:00",
          "2024-06-18T04:00:00+00:00",
          "2024-06-20T04:00:00+00:00",
          "2024-06-21T04:00:00+00:00",
          "2024-06-24T04:00:00+00:00",
          "2024-06-25T04:00:00+00:00",
          "2024-06-26T04:00:00+00:00",
          "2024-06-27T04:00:00+00:00"
         ],
         "y": [
          352.7066650390625,
          354.79998779296875,
          368.739990234375,
          343.85333251953125,
          349.8699951171875,
          343.5033264160156,
          331.8833312988281,
          332.0899963378906,
          314.6333312988281,
          310,
          306.1333312988281,
          312.4700012207031,
          276.3666687011719,
          282.1166687011719,
          312.239990234375,
          310.4166564941406,
          301.88665771484375,
          297.0466613769531,
          307.7733459472656,
          302.4466552734375,
          307.3333435058594,
          310.6666564941406,
          301.51666259765625,
          286.6666564941406,
          291.9200134277344,
          307.4766540527344,
          307.7966613769531,
          292.1166687011719,
          285.6600036621094,
          273.84332275390625,
          254.67999267578125,
          266.92333984375,
          269.9566650390625,
          290.1433410644531,
          288.1233215332031,
          293.2966613769531,
          279.7633361816406,
          279.42999267578125,
          268.1933288574219,
          274.79998779296875,
          286.3233337402344,
          279.4333190917969,
          265.1166687011719,
          255.4566650390625,
          267.2966613769531,
          280.07666015625,
          290.5333251953125,
          301.7966613769531,
          307.0533447265625,
          331.32666015625,
          333.03668212890625,
          337.97332763671875,
          336.8800048828125,
          363.9466552734375,
          366.5233459472656,
          364.663330078125,
          359.20001220703125,
          361.5299987792969,
          381.8166809082031,
          363.7533264160156,
          348.586669921875,
          352.4200134277344,
          341.8299865722656,
          325.30999755859375,
          328.98333740234375,
          340.7900085449219,
          328.3333435058594,
          334.7633361816406,
          342.7166748046875,
          325.73333740234375,
          336.260009765625,
          335.01666259765625,
          332.67333984375,
          292.1400146484375,
          293.836669921875,
          292.5033264160156,
          290.2533264160156,
          300.9800109863281,
          303.0833435058594,
          317.5400085449219,
          291.09332275390625,
          288.54998779296875,
          262.3699951171875,
          266.67999267578125,
          244.6666717529297,
          242.6666717529297,
          256.5299987792969,
          241.4566650390625,
          253.8699951171875,
          236.60333251953125,
          236.47332763671875,
          221.3000030517578,
          224.96665954589844,
          209.3866729736328,
          219.6000061035156,
          235.91000366210935,
          253.2100067138672,
          252.7533264160156,
          246.7899932861328,
          258.3333435058594,
          234.51666259765625,
          238.27999877929688,
          238.8866729736328,
          241.86666870117188,
          239.7066650390625,
          232.22999572753903,
          215.73666381835935,
          220.88999938964844,
          233,
          213.1000061035156,
          216.7599945068359,
          237.0366668701172,
          236.086669921875,
          235.07000732421875,
          245.7066650390625,
          244.9199981689453,
          232.663330078125,
          228.4900054931641,
          224.47332763671875,
          227.26333618164065,
          233.0666656494141,
          231.73333740234375,
          244.5433349609375,
          250.76333618164065,
          234.3433380126953,
          233.07000732421875,
          237.0399932861328,
          238.31333923339844,
          240.0666656494141,
          240.54666137695312,
          245.52999877929688,
          247.5,
          271.7066650390625,
          272.24334716796875,
          268.4333190917969,
          258.8599853515625,
          274.82000732421875,
          280.8999938964844,
          297.1499938964844,
          297.27667236328125,
          300.586669921875,
          307.39666748046875,
          308.6333312988281,
          288.1700134277344,
          290.42333984375,
          283.3333435058594,
          294.3566589355469,
          286.6300048828125,
          300.0299987792969,
          309.32000732421875,
          306.5633239746094,
          303.9966735839844,
          302.8699951171875,
          296.6666564941406,
          289.913330078125,
          296.4533386230469,
          297.0966796875,
          296.07000732421875,
          288.0899963378906,
          284.82000732421875,
          277.70001220703125,
          275.6099853515625,
          277.1600036621094,
          270.2099914550781,
          274.4200134277344,
          283.70001220703125,
          289.260009765625,
          299.67999267578125,
          304.4200134277344,
          292.1300048828125,
          302.6099853515625,
          303.75,
          303.3500061035156,
          309.07000732421875,
          308.7300109863281,
          300.79998779296875,
          288.5899963378906,
          275.3299865722656,
          276.010009765625,
          282.94000244140625,
          287.80999755859375,
          268.2099914550781,
          265.25,
          242.3999938964844,
          249.44000244140625,
          240.80999755859375,
          238.1300048828125,
          223.07000732421875,
          222.9600067138672,
          216.5,
          217.2400054931641,
          221.72000122070312,
          204.9900054931641,
          219.3500061035156,
          220.19000244140625,
          222.0399932861328,
          207.27999877929688,
          214.44000244140625,
          211.25,
          222.4199981689453,
          224.63999938964844,
          225.08999633789065,
          228.52000427246097,
          227.5399932861328,
          227.82000732421875,
          214.97999572753903,
          215.30999755859375,
          207.47000122070312,
          197.0800018310547,
          191.3000030517578,
          177.58999633789062,
          190.72000122070312,
          195.97000122070312,
          190.9499969482422,
          194.4199981689453,
          186.9199981689453,
          183.1699981689453,
          180.19000244140625,
          167.8699951171875,
          169.91000366210938,
          183.1999969482422,
          182.86000061035156,
          182.9199981689453,
          180.8300018310547,
          194.6999969482422,
          194.6999969482422,
          194.86000061035156,
          182.4499969482422,
          179.82000732421875,
          174.0399932861328,
          173.44000244140625,
          179.0500030517578,
          167.82000732421875,
          160.9499969482422,
          156.8000030517578,
          157.6699981689453,
          150.22999572753906,
          149.8699951171875,
          137.8000030517578,
          137.57000732421875,
          125.3499984741211,
          123.1500015258789,
          109.0999984741211,
          112.70999908447266,
          121.81999969482422,
          123.18000030517578,
          108.0999984741211,
          113.63999938964844,
          110.33999633789062,
          113.05999755859376,
          119.7699966430664,
          118.8499984741211,
          123.22000122070312,
          123.55999755859376,
          122.4000015258789,
          131.49000549316406,
          128.77999877929688,
          127.16999816894533,
          133.4199981689453,
          143.75,
          143.88999938964844,
          144.42999267578125,
          160.27000427246094,
          177.89999389648438,
          166.66000366210938,
          173.22000122070312,
          181.41000366210935,
          188.27000427246097,
          189.97999572753903,
          194.7599945068359,
          196.80999755859375,
          201.2899932861328,
          207.32000732421875,
          196.88999938964844,
          194.63999938964844,
          209.25,
          214.2400054931641,
          202.0399932861328,
          208.30999755859375,
          197.3699951171875,
          200.86000061035156,
          202.07000732421875,
          196.8800048828125,
          207.6300048828125,
          205.7100067138672,
          202.77000427246097,
          190.8999938964844,
          197.7899932861328,
          193.80999755859375,
          187.7100067138672,
          182,
          172.9199981689453,
          173.44000244140625,
          174.47999572753906,
          183.2599945068359,
          180.4499969482422,
          184.1300048828125,
          180.1300048828125,
          183.25,
          197.5800018310547,
          191.1499938964844,
          192.22000122070312,
          190.41000366210935,
          191.80999755859375,
          189.19000244140625,
          193.8800048828125,
          195.27999877929688,
          207.4600067138672,
          194.77000427246097,
          192.5800018310547,
          185.52000427246097,
          185.05999755859375,
          184.5099945068359,
          186.7899932861328,
          180.5399932861328,
          185.8999938964844,
          185,
          187.0399932861328,
          184.30999755859375,
          180.58999633789065,
          162.99000549316406,
          165.0800018310547,
          162.5500030517578,
          160.6699981689453,
          153.75,
          160.19000244140625,
          164.30999755859375,
          161.8300018310547,
          160.30999755859375,
          160.61000061035156,
          161.1999969482422,
          170.05999755859375,
          171.7899932861328,
          169.14999389648438,
          168.5399932861328,
          172.0800018310547,
          167.97999572753906,
          166.35000610351562,
          166.52000427246094,
          173.86000061035156,
          176.88999938964844,
          180.13999938964844,
          188.8699951171875,
          185.77000427246097,
          182.8999938964844,
          184.47000122070312,
          193.1699981689453,
          201.16000366210935,
          203.92999267578125,
          207.52000427246097,
          213.97000122070312,
          217.61000061035156,
          221.30999755859375,
          224.57000732421875,
          234.86000061035156,
          244.3999938964844,
          249.8300018310547,
          258.7099914550781,
          256.7900085449219,
          255.8999938964844,
          260.5400085449219,
          274.45001220703125,
          259.4599914550781,
          264.6099853515625,
          256.6000061035156,
          241.0500030517578,
          250.2100067138672,
          256.239990234375,
          257.5,
          261.7699890136719,
          279.82000732421875,
          282.4800109863281,
          276.5400085449219,
          274.42999267578125,
          269.6099853515625,
          269.7900085449219,
          271.989990234375,
          277.8999938964844,
          281.3800048828125,
          290.3800048828125,
          293.3399963378906,
          291.260009765625,
          262.8999938964844,
          260.0199890136719,
          269.05999755859375,
          265.2799987792969,
          264.3500061035156,
          255.7100067138672,
          266.44000244140625,
          267.42999267578125,
          261.07000732421875,
          254.11000061035156,
          259.32000732421875,
          253.86000061035156,
          251.4499969482422,
          249.6999969482422,
          242.19000244140625,
          245.33999633789065,
          242.6499938964844,
          239.7599945068359,
          232.9600067138672,
          225.6000061035156,
          219.22000122070312,
          215.4900054931641,
          231.27999877929688,
          233.19000244140625,
          236.86000061035156,
          230.0399932861328,
          238.58999633789065,
          238.82000732421875,
          257.17999267578125,
          256.8999938964844,
          258.0799865722656,
          245.0099945068359,
          256.489990234375,
          251.9199981689453,
          251.4900054931641,
          248.5,
          273.5799865722656,
          267.4800109863281,
          271.29998779296875,
          276.0400085449219,
          274.3900146484375,
          265.2799987792969,
          266.5,
          262.5899963378906,
          255.6999969482422,
          244.8800048828125,
          246.9900054931641,
          244.1199951171875,
          240.5,
          246.3800048828125,
          250.22000122070312,
          251.6000061035156,
          246.52999877929688,
          261.1600036621094,
          260.04998779296875,
          260.5299987792969,
          259.6700134277344,
          263.6199951171875,
          262.989990234375,
          258.8699951171875,
          251.1199951171875,
          253.9199981689453,
          254.8500061035156,
          242.67999267578125,
          220.11000061035156,
          211.9900054931641,
          212.0800018310547,
          216.52000427246097,
          212.4199981689453,
          205.7599945068359,
          207.3000030517578,
          197.36000061035156,
          200.83999633789065,
          205.66000366210935,
          218.5099945068359,
          219.9600067138672,
          219.27000427246097,
          222.17999267578125,
          222.11000061035156,
          209.97999572753903,
          214.6499938964844,
          223.7100067138672,
          237.41000366210935,
          242.83999633789065,
          233.58999633789065,
          234.3000030517578,
          235.6000061035156,
          241.1999969482422,
          234.2100067138672,
          235.4499969482422,
          236.0800018310547,
          246.72000122070312,
          244.13999938964844,
          240.0800018310547,
          238.8300018310547,
          235.5800018310547,
          238.72000122070312,
          239.3699951171875,
          242.63999938964844,
          243.83999633789065,
          239.7400054931641,
          237.0099945068359,
          239.2899932861328,
          251.0500030517578,
          253.5,
          252.0800018310547,
          257.2200012207031,
          247.13999938964844,
          254.5,
          252.5399932861328,
          256.6099853515625,
          261.44000244140625,
          253.17999267578125,
          248.47999572753903,
          248.4199981689453,
          238.4499969482422,
          237.92999267578125,
          237.4900054931641,
          240.4499969482422,
          234.9600067138672,
          233.94000244140625,
          227.22000122070312,
          218.88999938964844,
          219.91000366210935,
          215.5500030517578,
          211.8800048828125,
          212.19000244140625,
          208.8000030517578,
          209.13999938964844,
          207.8300018310547,
          182.6300048828125,
          183.25,
          190.92999267578125,
          191.58999633789065,
          187.2899932861328,
          188.86000061035156,
          187.91000366210935,
          181.05999755859375,
          185.1000061035156,
          187.5800018310547,
          189.55999755859375,
          193.57000732421875,
          188.1300048828125,
          184.02000427246097,
          188.7100067138672,
          200.4499969482422,
          199.9499969482422,
          193.7599945068359,
          194.77000427246097,
          197.41000366210935,
          191.97000122070312,
          199.3999938964844,
          199.72999572753903,
          202.0399932861328,
          201.8800048828125,
          202.63999938964844,
          188.13999938964844,
          180.7400054931641,
          176.5399932861328,
          178.64999389648438,
          175.33999633789062,
          177.77000427246094,
          177.5399932861328,
          169.47999572753906,
          162.5,
          163.57000732421875,
          173.8000030517578,
          171.32000732421875,
          175.66000366210938,
          172.82000732421875,
          170.8300018310547,
          172.6300048828125,
          177.6699981689453,
          179.8300018310547,
          175.7899932861328,
          175.22000122070312,
          166.6300048828125,
          168.3800048828125,
          171.11000061035156,
          164.89999389648438,
          172.97999572753906,
          176.8800048828125,
          171.75999450683594,
          174.60000610351562,
          171.0500030517578,
          161.47999572753906,
          157.11000061035156,
          155.4499969482422,
          149.92999267578125,
          147.0500030517578,
          142.0500030517578,
          144.67999267578125,
          162.1300048828125,
          170.17999267578125,
          168.2899932861328,
          194.0500030517578,
          183.27999877929688,
          179.99000549316406,
          180.00999450683594,
          181.19000244140625,
          184.7599945068359,
          177.80999755859375,
          174.72000122070312,
          171.97000122070312,
          168.47000122070312,
          171.88999938964844,
          177.5500030517578,
          173.99000549316406,
          174.83999633789062,
          177.4600067138672,
          174.9499969482422,
          186.6000061035156,
          180.11000061035156,
          173.74000549316406,
          179.24000549316406,
          176.75,
          176.19000244140625,
          178.7899932861328,
          178.0800018310547,
          176.2899932861328,
          174.77000427246094,
          175,
          177.94000244140625,
          177.47999572753906,
          173.7899932861328,
          170.66000366210938,
          177.2899932861328,
          182.47000122070312,
          178.00999450683594,
          187.44000244140625,
          184.86000061035156,
          181.57000732421875,
          183.0099945068359,
          182.5800018310547,
          187.3500061035156,
          196.3699951171875,
          197.4199981689453,
          197.8800048828125
         ]
        },
        {
         "line": {
          "width": 2
         },
         "mode": "lines",
         "name": "Predicted",
         "type": "scatter",
         "x": [
          "2022-01-07T05:00:00+00:00",
          "2022-01-10T05:00:00+00:00",
          "2022-01-11T05:00:00+00:00",
          "2022-01-12T05:00:00+00:00",
          "2022-01-13T05:00:00+00:00",
          "2022-01-14T05:00:00+00:00",
          "2022-01-18T05:00:00+00:00",
          "2022-01-19T05:00:00+00:00",
          "2022-01-20T05:00:00+00:00",
          "2022-01-21T05:00:00+00:00",
          "2022-01-24T05:00:00+00:00",
          "2022-01-25T05:00:00+00:00",
          "2022-01-26T05:00:00+00:00",
          "2022-01-27T05:00:00+00:00",
          "2022-01-28T05:00:00+00:00",
          "2022-01-31T05:00:00+00:00",
          "2022-02-01T05:00:00+00:00",
          "2022-02-02T05:00:00+00:00",
          "2022-02-03T05:00:00+00:00",
          "2022-02-04T05:00:00+00:00",
          "2022-02-07T05:00:00+00:00",
          "2022-02-08T05:00:00+00:00",
          "2022-02-09T05:00:00+00:00",
          "2022-02-10T05:00:00+00:00",
          "2022-02-11T05:00:00+00:00",
          "2022-02-14T05:00:00+00:00",
          "2022-02-15T05:00:00+00:00",
          "2022-02-16T05:00:00+00:00",
          "2022-02-17T05:00:00+00:00",
          "2022-02-18T05:00:00+00:00",
          "2022-02-22T05:00:00+00:00",
          "2022-02-23T05:00:00+00:00",
          "2022-02-24T05:00:00+00:00",
          "2022-02-25T05:00:00+00:00",
          "2022-02-28T05:00:00+00:00",
          "2022-03-01T05:00:00+00:00",
          "2022-03-02T05:00:00+00:00",
          "2022-03-03T05:00:00+00:00",
          "2022-03-04T05:00:00+00:00",
          "2022-03-07T05:00:00+00:00",
          "2022-03-08T05:00:00+00:00",
          "2022-03-09T05:00:00+00:00",
          "2022-03-10T05:00:00+00:00",
          "2022-03-11T05:00:00+00:00",
          "2022-03-14T04:00:00+00:00",
          "2022-03-15T04:00:00+00:00",
          "2022-03-16T04:00:00+00:00",
          "2022-03-17T04:00:00+00:00",
          "2022-03-18T04:00:00+00:00",
          "2022-03-21T04:00:00+00:00",
          "2022-03-22T04:00:00+00:00",
          "2022-03-23T04:00:00+00:00",
          "2022-03-24T04:00:00+00:00",
          "2022-03-25T04:00:00+00:00",
          "2022-03-28T04:00:00+00:00",
          "2022-03-29T04:00:00+00:00",
          "2022-03-30T04:00:00+00:00",
          "2022-03-31T04:00:00+00:00",
          "2022-04-01T04:00:00+00:00",
          "2022-04-04T04:00:00+00:00",
          "2022-04-05T04:00:00+00:00",
          "2022-04-06T04:00:00+00:00",
          "2022-04-07T04:00:00+00:00",
          "2022-04-08T04:00:00+00:00",
          "2022-04-11T04:00:00+00:00",
          "2022-04-12T04:00:00+00:00",
          "2022-04-13T04:00:00+00:00",
          "2022-04-14T04:00:00+00:00",
          "2022-04-18T04:00:00+00:00",
          "2022-04-19T04:00:00+00:00",
          "2022-04-20T04:00:00+00:00",
          "2022-04-21T04:00:00+00:00",
          "2022-04-22T04:00:00+00:00",
          "2022-04-25T04:00:00+00:00",
          "2022-04-26T04:00:00+00:00",
          "2022-04-27T04:00:00+00:00",
          "2022-04-28T04:00:00+00:00",
          "2022-04-29T04:00:00+00:00",
          "2022-05-02T04:00:00+00:00",
          "2022-05-03T04:00:00+00:00",
          "2022-05-04T04:00:00+00:00",
          "2022-05-05T04:00:00+00:00",
          "2022-05-06T04:00:00+00:00",
          "2022-05-09T04:00:00+00:00",
          "2022-05-10T04:00:00+00:00",
          "2022-05-11T04:00:00+00:00",
          "2022-05-12T04:00:00+00:00",
          "2022-05-13T04:00:00+00:00",
          "2022-05-16T04:00:00+00:00",
          "2022-05-17T04:00:00+00:00",
          "2022-05-18T04:00:00+00:00",
          "2022-05-19T04:00:00+00:00",
          "2022-05-20T04:00:00+00:00",
          "2022-05-23T04:00:00+00:00",
          "2022-05-24T04:00:00+00:00",
          "2022-05-25T04:00:00+00:00",
          "2022-05-26T04:00:00+00:00",
          "2022-05-27T04:00:00+00:00",
          "2022-05-31T04:00:00+00:00",
          "2022-06-01T04:00:00+00:00",
          "2022-06-02T04:00:00+00:00",
          "2022-06-03T04:00:00+00:00",
          "2022-06-06T04:00:00+00:00",
          "2022-06-07T04:00:00+00:00",
          "2022-06-08T04:00:00+00:00",
          "2022-06-09T04:00:00+00:00",
          "2022-06-10T04:00:00+00:00",
          "2022-06-13T04:00:00+00:00",
          "2022-06-14T04:00:00+00:00",
          "2022-06-15T04:00:00+00:00",
          "2022-06-16T04:00:00+00:00",
          "2022-06-17T04:00:00+00:00",
          "2022-06-21T04:00:00+00:00",
          "2022-06-22T04:00:00+00:00",
          "2022-06-23T04:00:00+00:00",
          "2022-06-24T04:00:00+00:00",
          "2022-06-27T04:00:00+00:00",
          "2022-06-28T04:00:00+00:00",
          "2022-06-29T04:00:00+00:00",
          "2022-06-30T04:00:00+00:00",
          "2022-07-01T04:00:00+00:00",
          "2022-07-05T04:00:00+00:00",
          "2022-07-06T04:00:00+00:00",
          "2022-07-07T04:00:00+00:00",
          "2022-07-08T04:00:00+00:00",
          "2022-07-11T04:00:00+00:00",
          "2022-07-12T04:00:00+00:00",
          "2022-07-13T04:00:00+00:00",
          "2022-07-14T04:00:00+00:00",
          "2022-07-15T04:00:00+00:00",
          "2022-07-18T04:00:00+00:00",
          "2022-07-19T04:00:00+00:00",
          "2022-07-20T04:00:00+00:00",
          "2022-07-21T04:00:00+00:00",
          "2022-07-22T04:00:00+00:00",
          "2022-07-25T04:00:00+00:00",
          "2022-07-26T04:00:00+00:00",
          "2022-07-27T04:00:00+00:00",
          "2022-07-28T04:00:00+00:00",
          "2022-07-29T04:00:00+00:00",
          "2022-08-01T04:00:00+00:00",
          "2022-08-02T04:00:00+00:00",
          "2022-08-03T04:00:00+00:00",
          "2022-08-04T04:00:00+00:00",
          "2022-08-05T04:00:00+00:00",
          "2022-08-08T04:00:00+00:00",
          "2022-08-09T04:00:00+00:00",
          "2022-08-10T04:00:00+00:00",
          "2022-08-11T04:00:00+00:00",
          "2022-08-12T04:00:00+00:00",
          "2022-08-15T04:00:00+00:00",
          "2022-08-16T04:00:00+00:00",
          "2022-08-17T04:00:00+00:00",
          "2022-08-18T04:00:00+00:00",
          "2022-08-19T04:00:00+00:00",
          "2022-08-22T04:00:00+00:00",
          "2022-08-23T04:00:00+00:00",
          "2022-08-24T04:00:00+00:00",
          "2022-08-25T04:00:00+00:00",
          "2022-08-26T04:00:00+00:00",
          "2022-08-29T04:00:00+00:00",
          "2022-08-30T04:00:00+00:00",
          "2022-08-31T04:00:00+00:00",
          "2022-09-01T04:00:00+00:00",
          "2022-09-02T04:00:00+00:00",
          "2022-09-06T04:00:00+00:00",
          "2022-09-07T04:00:00+00:00",
          "2022-09-08T04:00:00+00:00",
          "2022-09-09T04:00:00+00:00",
          "2022-09-12T04:00:00+00:00",
          "2022-09-13T04:00:00+00:00",
          "2022-09-14T04:00:00+00:00",
          "2022-09-15T04:00:00+00:00",
          "2022-09-16T04:00:00+00:00",
          "2022-09-19T04:00:00+00:00",
          "2022-09-20T04:00:00+00:00",
          "2022-09-21T04:00:00+00:00",
          "2022-09-22T04:00:00+00:00",
          "2022-09-23T04:00:00+00:00",
          "2022-09-26T04:00:00+00:00",
          "2022-09-27T04:00:00+00:00",
          "2022-09-28T04:00:00+00:00",
          "2022-09-29T04:00:00+00:00",
          "2022-09-30T04:00:00+00:00",
          "2022-10-03T04:00:00+00:00",
          "2022-10-04T04:00:00+00:00",
          "2022-10-05T04:00:00+00:00",
          "2022-10-06T04:00:00+00:00",
          "2022-10-07T04:00:00+00:00",
          "2022-10-10T04:00:00+00:00",
          "2022-10-11T04:00:00+00:00",
          "2022-10-12T04:00:00+00:00",
          "2022-10-13T04:00:00+00:00",
          "2022-10-14T04:00:00+00:00",
          "2022-10-17T04:00:00+00:00",
          "2022-10-18T04:00:00+00:00",
          "2022-10-19T04:00:00+00:00",
          "2022-10-20T04:00:00+00:00",
          "2022-10-21T04:00:00+00:00",
          "2022-10-24T04:00:00+00:00",
          "2022-10-25T04:00:00+00:00",
          "2022-10-26T04:00:00+00:00",
          "2022-10-27T04:00:00+00:00",
          "2022-10-28T04:00:00+00:00",
          "2022-10-31T04:00:00+00:00",
          "2022-11-01T04:00:00+00:00",
          "2022-11-02T04:00:00+00:00",
          "2022-11-03T04:00:00+00:00",
          "2022-11-04T04:00:00+00:00",
          "2022-11-07T05:00:00+00:00",
          "2022-11-08T05:00:00+00:00",
          "2022-11-09T05:00:00+00:00",
          "2022-11-10T05:00:00+00:00",
          "2022-11-11T05:00:00+00:00",
          "2022-11-14T05:00:00+00:00",
          "2022-11-15T05:00:00+00:00",
          "2022-11-16T05:00:00+00:00",
          "2022-11-17T05:00:00+00:00",
          "2022-11-18T05:00:00+00:00",
          "2022-11-21T05:00:00+00:00",
          "2022-11-22T05:00:00+00:00",
          "2022-11-23T05:00:00+00:00",
          "2022-11-25T05:00:00+00:00",
          "2022-11-28T05:00:00+00:00",
          "2022-11-29T05:00:00+00:00",
          "2022-11-30T05:00:00+00:00",
          "2022-12-01T05:00:00+00:00",
          "2022-12-02T05:00:00+00:00",
          "2022-12-05T05:00:00+00:00",
          "2022-12-06T05:00:00+00:00",
          "2022-12-07T05:00:00+00:00",
          "2022-12-08T05:00:00+00:00",
          "2022-12-09T05:00:00+00:00",
          "2022-12-12T05:00:00+00:00",
          "2022-12-13T05:00:00+00:00",
          "2022-12-14T05:00:00+00:00",
          "2022-12-15T05:00:00+00:00",
          "2022-12-16T05:00:00+00:00",
          "2022-12-19T05:00:00+00:00",
          "2022-12-20T05:00:00+00:00",
          "2022-12-21T05:00:00+00:00",
          "2022-12-22T05:00:00+00:00",
          "2022-12-23T05:00:00+00:00",
          "2022-12-27T05:00:00+00:00",
          "2022-12-28T05:00:00+00:00",
          "2022-12-29T05:00:00+00:00",
          "2022-12-30T05:00:00+00:00",
          "2023-01-03T05:00:00+00:00",
          "2023-01-04T05:00:00+00:00",
          "2023-01-05T05:00:00+00:00",
          "2023-01-06T05:00:00+00:00",
          "2023-01-09T05:00:00+00:00",
          "2023-01-10T05:00:00+00:00",
          "2023-01-11T05:00:00+00:00",
          "2023-01-12T05:00:00+00:00",
          "2023-01-13T05:00:00+00:00",
          "2023-01-17T05:00:00+00:00",
          "2023-01-18T05:00:00+00:00",
          "2023-01-19T05:00:00+00:00",
          "2023-01-20T05:00:00+00:00",
          "2023-01-23T05:00:00+00:00",
          "2023-01-24T05:00:00+00:00",
          "2023-01-25T05:00:00+00:00",
          "2023-01-26T05:00:00+00:00",
          "2023-01-27T05:00:00+00:00",
          "2023-01-30T05:00:00+00:00",
          "2023-01-31T05:00:00+00:00",
          "2023-02-01T05:00:00+00:00",
          "2023-02-02T05:00:00+00:00",
          "2023-02-03T05:00:00+00:00",
          "2023-02-06T05:00:00+00:00",
          "2023-02-07T05:00:00+00:00",
          "2023-02-08T05:00:00+00:00",
          "2023-02-09T05:00:00+00:00",
          "2023-02-10T05:00:00+00:00",
          "2023-02-13T05:00:00+00:00",
          "2023-02-14T05:00:00+00:00",
          "2023-02-15T05:00:00+00:00",
          "2023-02-16T05:00:00+00:00",
          "2023-02-17T05:00:00+00:00",
          "2023-02-21T05:00:00+00:00",
          "2023-02-22T05:00:00+00:00",
          "2023-02-23T05:00:00+00:00",
          "2023-02-24T05:00:00+00:00",
          "2023-02-27T05:00:00+00:00",
          "2023-02-28T05:00:00+00:00",
          "2023-03-01T05:00:00+00:00",
          "2023-03-02T05:00:00+00:00",
          "2023-03-03T05:00:00+00:00",
          "2023-03-06T05:00:00+00:00",
          "2023-03-07T05:00:00+00:00",
          "2023-03-08T05:00:00+00:00",
          "2023-03-09T05:00:00+00:00",
          "2023-03-10T05:00:00+00:00",
          "2023-03-13T04:00:00+00:00",
          "2023-03-14T04:00:00+00:00",
          "2023-03-15T04:00:00+00:00",
          "2023-03-16T04:00:00+00:00",
          "2023-03-17T04:00:00+00:00",
          "2023-03-20T04:00:00+00:00",
          "2023-03-21T04:00:00+00:00",
          "2023-03-22T04:00:00+00:00",
          "2023-03-23T04:00:00+00:00",
          "2023-03-24T04:00:00+00:00",
          "2023-03-27T04:00:00+00:00",
          "2023-03-28T04:00:00+00:00",
          "2023-03-29T04:00:00+00:00",
          "2023-03-30T04:00:00+00:00",
          "2023-03-31T04:00:00+00:00",
          "2023-04-03T04:00:00+00:00",
          "2023-04-04T04:00:00+00:00",
          "2023-04-05T04:00:00+00:00",
          "2023-04-06T04:00:00+00:00",
          "2023-04-10T04:00:00+00:00",
          "2023-04-11T04:00:00+00:00",
          "2023-04-12T04:00:00+00:00",
          "2023-04-13T04:00:00+00:00",
          "2023-04-14T04:00:00+00:00",
          "2023-04-17T04:00:00+00:00",
          "2023-04-18T04:00:00+00:00",
          "2023-04-19T04:00:00+00:00",
          "2023-04-20T04:00:00+00:00",
          "2023-04-21T04:00:00+00:00",
          "2023-04-24T04:00:00+00:00",
          "2023-04-25T04:00:00+00:00",
          "2023-04-26T04:00:00+00:00",
          "2023-04-27T04:00:00+00:00",
          "2023-04-28T04:00:00+00:00",
          "2023-05-01T04:00:00+00:00",
          "2023-05-02T04:00:00+00:00",
          "2023-05-03T04:00:00+00:00",
          "2023-05-04T04:00:00+00:00",
          "2023-05-05T04:00:00+00:00",
          "2023-05-08T04:00:00+00:00",
          "2023-05-09T04:00:00+00:00",
          "2023-05-10T04:00:00+00:00",
          "2023-05-11T04:00:00+00:00",
          "2023-05-12T04:00:00+00:00",
          "2023-05-15T04:00:00+00:00",
          "2023-05-16T04:00:00+00:00",
          "2023-05-17T04:00:00+00:00",
          "2023-05-18T04:00:00+00:00",
          "2023-05-19T04:00:00+00:00",
          "2023-05-22T04:00:00+00:00",
          "2023-05-23T04:00:00+00:00",
          "2023-05-24T04:00:00+00:00",
          "2023-05-25T04:00:00+00:00",
          "2023-05-26T04:00:00+00:00",
          "2023-05-30T04:00:00+00:00",
          "2023-05-31T04:00:00+00:00",
          "2023-06-01T04:00:00+00:00",
          "2023-06-02T04:00:00+00:00",
          "2023-06-05T04:00:00+00:00",
          "2023-06-06T04:00:00+00:00",
          "2023-06-07T04:00:00+00:00",
          "2023-06-08T04:00:00+00:00",
          "2023-06-09T04:00:00+00:00",
          "2023-06-12T04:00:00+00:00",
          "2023-06-13T04:00:00+00:00",
          "2023-06-14T04:00:00+00:00",
          "2023-06-15T04:00:00+00:00",
          "2023-06-16T04:00:00+00:00",
          "2023-06-20T04:00:00+00:00",
          "2023-06-21T04:00:00+00:00",
          "2023-06-22T04:00:00+00:00",
          "2023-06-23T04:00:00+00:00",
          "2023-06-26T04:00:00+00:00",
          "2023-06-27T04:00:00+00:00",
          "2023-06-28T04:00:00+00:00",
          "2023-06-29T04:00:00+00:00",
          "2023-06-30T04:00:00+00:00",
          "2023-07-03T04:00:00+00:00",
          "2023-07-05T04:00:00+00:00",
          "2023-07-06T04:00:00+00:00",
          "2023-07-07T04:00:00+00:00",
          "2023-07-10T04:00:00+00:00",
          "2023-07-11T04:00:00+00:00",
          "2023-07-12T04:00:00+00:00",
          "2023-07-13T04:00:00+00:00",
          "2023-07-14T04:00:00+00:00",
          "2023-07-17T04:00:00+00:00",
          "2023-07-18T04:00:00+00:00",
          "2023-07-19T04:00:00+00:00",
          "2023-07-20T04:00:00+00:00",
          "2023-07-21T04:00:00+00:00",
          "2023-07-24T04:00:00+00:00",
          "2023-07-25T04:00:00+00:00",
          "2023-07-26T04:00:00+00:00",
          "2023-07-27T04:00:00+00:00",
          "2023-07-28T04:00:00+00:00",
          "2023-07-31T04:00:00+00:00",
          "2023-08-01T04:00:00+00:00",
          "2023-08-02T04:00:00+00:00",
          "2023-08-03T04:00:00+00:00",
          "2023-08-04T04:00:00+00:00",
          "2023-08-07T04:00:00+00:00",
          "2023-08-08T04:00:00+00:00",
          "2023-08-09T04:00:00+00:00",
          "2023-08-10T04:00:00+00:00",
          "2023-08-11T04:00:00+00:00",
          "2023-08-14T04:00:00+00:00",
          "2023-08-15T04:00:00+00:00",
          "2023-08-16T04:00:00+00:00",
          "2023-08-17T04:00:00+00:00",
          "2023-08-18T04:00:00+00:00",
          "2023-08-21T04:00:00+00:00",
          "2023-08-22T04:00:00+00:00",
          "2023-08-23T04:00:00+00:00",
          "2023-08-24T04:00:00+00:00",
          "2023-08-25T04:00:00+00:00",
          "2023-08-28T04:00:00+00:00",
          "2023-08-29T04:00:00+00:00",
          "2023-08-30T04:00:00+00:00",
          "2023-08-31T04:00:00+00:00",
          "2023-09-01T04:00:00+00:00",
          "2023-09-05T04:00:00+00:00",
          "2023-09-06T04:00:00+00:00",
          "2023-09-07T04:00:00+00:00",
          "2023-09-08T04:00:00+00:00",
          "2023-09-11T04:00:00+00:00",
          "2023-09-12T04:00:00+00:00",
          "2023-09-13T04:00:00+00:00",
          "2023-09-14T04:00:00+00:00",
          "2023-09-15T04:00:00+00:00",
          "2023-09-18T04:00:00+00:00",
          "2023-09-19T04:00:00+00:00",
          "2023-09-20T04:00:00+00:00",
          "2023-09-21T04:00:00+00:00",
          "2023-09-22T04:00:00+00:00",
          "2023-09-25T04:00:00+00:00",
          "2023-09-26T04:00:00+00:00",
          "2023-09-27T04:00:00+00:00",
          "2023-09-28T04:00:00+00:00",
          "2023-09-29T04:00:00+00:00",
          "2023-10-02T04:00:00+00:00",
          "2023-10-03T04:00:00+00:00",
          "2023-10-04T04:00:00+00:00",
          "2023-10-05T04:00:00+00:00",
          "2023-10-06T04:00:00+00:00",
          "2023-10-09T04:00:00+00:00",
          "2023-10-10T04:00:00+00:00",
          "2023-10-11T04:00:00+00:00",
          "2023-10-12T04:00:00+00:00",
          "2023-10-13T04:00:00+00:00",
          "2023-10-16T04:00:00+00:00",
          "2023-10-17T04:00:00+00:00",
          "2023-10-18T04:00:00+00:00",
          "2023-10-19T04:00:00+00:00",
          "2023-10-20T04:00:00+00:00",
          "2023-10-23T04:00:00+00:00",
          "2023-10-24T04:00:00+00:00",
          "2023-10-25T04:00:00+00:00",
          "2023-10-26T04:00:00+00:00",
          "2023-10-27T04:00:00+00:00",
          "2023-10-30T04:00:00+00:00",
          "2023-10-31T04:00:00+00:00",
          "2023-11-01T04:00:00+00:00",
          "2023-11-02T04:00:00+00:00",
          "2023-11-03T04:00:00+00:00",
          "2023-11-06T05:00:00+00:00",
          "2023-11-07T05:00:00+00:00",
          "2023-11-08T05:00:00+00:00",
          "2023-11-09T05:00:00+00:00",
          "2023-11-10T05:00:00+00:00",
          "2023-11-13T05:00:00+00:00",
          "2023-11-14T05:00:00+00:00",
          "2023-11-15T05:00:00+00:00",
          "2023-11-16T05:00:00+00:00",
          "2023-11-17T05:00:00+00:00",
          "2023-11-20T05:00:00+00:00",
          "2023-11-21T05:00:00+00:00",
          "2023-11-22T05:00:00+00:00",
          "2023-11-24T05:00:00+00:00",
          "2023-11-27T05:00:00+00:00",
          "2023-11-28T05:00:00+00:00",
          "2023-11-29T05:00:00+00:00",
          "2023-11-30T05:00:00+00:00",
          "2023-12-01T05:00:00+00:00",
          "2023-12-04T05:00:00+00:00",
          "2023-12-05T05:00:00+00:00",
          "2023-12-06T05:00:00+00:00",
          "2023-12-07T05:00:00+00:00",
          "2023-12-08T05:00:00+00:00",
          "2023-12-11T05:00:00+00:00",
          "2023-12-12T05:00:00+00:00",
          "2023-12-13T05:00:00+00:00",
          "2023-12-14T05:00:00+00:00",
          "2023-12-15T05:00:00+00:00",
          "2023-12-18T05:00:00+00:00",
          "2023-12-19T05:00:00+00:00",
          "2023-12-20T05:00:00+00:00",
          "2023-12-21T05:00:00+00:00",
          "2023-12-22T05:00:00+00:00",
          "2023-12-26T05:00:00+00:00",
          "2023-12-27T05:00:00+00:00",
          "2023-12-28T05:00:00+00:00",
          "2023-12-29T05:00:00+00:00",
          "2024-01-02T05:00:00+00:00",
          "2024-01-03T05:00:00+00:00",
          "2024-01-04T05:00:00+00:00",
          "2024-01-05T05:00:00+00:00",
          "2024-01-08T05:00:00+00:00",
          "2024-01-09T05:00:00+00:00",
          "2024-01-10T05:00:00+00:00",
          "2024-01-11T05:00:00+00:00",
          "2024-01-12T05:00:00+00:00",
          "2024-01-16T05:00:00+00:00",
          "2024-01-17T05:00:00+00:00",
          "2024-01-18T05:00:00+00:00",
          "2024-01-19T05:00:00+00:00",
          "2024-01-22T05:00:00+00:00",
          "2024-01-23T05:00:00+00:00",
          "2024-01-24T05:00:00+00:00",
          "2024-01-25T05:00:00+00:00",
          "2024-01-26T05:00:00+00:00",
          "2024-01-29T05:00:00+00:00",
          "2024-01-30T05:00:00+00:00",
          "2024-01-31T05:00:00+00:00",
          "2024-02-01T05:00:00+00:00",
          "2024-02-02T05:00:00+00:00",
          "2024-02-05T05:00:00+00:00",
          "2024-02-06T05:00:00+00:00",
          "2024-02-07T05:00:00+00:00",
          "2024-02-08T05:00:00+00:00",
          "2024-02-09T05:00:00+00:00",
          "2024-02-12T05:00:00+00:00",
          "2024-02-13T05:00:00+00:00",
          "2024-02-14T05:00:00+00:00",
          "2024-02-15T05:00:00+00:00",
          "2024-02-16T05:00:00+00:00",
          "2024-02-20T05:00:00+00:00",
          "2024-02-21T05:00:00+00:00",
          "2024-02-22T05:00:00+00:00",
          "2024-02-23T05:00:00+00:00",
          "2024-02-26T05:00:00+00:00",
          "2024-02-27T05:00:00+00:00",
          "2024-02-28T05:00:00+00:00",
          "2024-02-29T05:00:00+00:00",
          "2024-03-01T05:00:00+00:00",
          "2024-03-04T05:00:00+00:00",
          "2024-03-05T05:00:00+00:00",
          "2024-03-06T05:00:00+00:00",
          "2024-03-07T05:00:00+00:00",
          "2024-03-08T05:00:00+00:00",
          "2024-03-11T04:00:00+00:00",
          "2024-03-12T04:00:00+00:00",
          "2024-03-13T04:00:00+00:00",
          "2024-03-14T04:00:00+00:00",
          "2024-03-15T04:00:00+00:00",
          "2024-03-18T04:00:00+00:00",
          "2024-03-19T04:00:00+00:00",
          "2024-03-20T04:00:00+00:00",
          "2024-03-21T04:00:00+00:00",
          "2024-03-22T04:00:00+00:00",
          "2024-03-25T04:00:00+00:00",
          "2024-03-26T04:00:00+00:00",
          "2024-03-27T04:00:00+00:00",
          "2024-03-28T04:00:00+00:00",
          "2024-04-01T04:00:00+00:00",
          "2024-04-02T04:00:00+00:00",
          "2024-04-03T04:00:00+00:00",
          "2024-04-04T04:00:00+00:00",
          "2024-04-05T04:00:00+00:00",
          "2024-04-08T04:00:00+00:00",
          "2024-04-09T04:00:00+00:00",
          "2024-04-10T04:00:00+00:00",
          "2024-04-11T04:00:00+00:00",
          "2024-04-12T04:00:00+00:00",
          "2024-04-15T04:00:00+00:00",
          "2024-04-16T04:00:00+00:00",
          "2024-04-17T04:00:00+00:00",
          "2024-04-18T04:00:00+00:00",
          "2024-04-19T04:00:00+00:00",
          "2024-04-22T04:00:00+00:00",
          "2024-04-23T04:00:00+00:00",
          "2024-04-24T04:00:00+00:00",
          "2024-04-25T04:00:00+00:00",
          "2024-04-26T04:00:00+00:00",
          "2024-04-29T04:00:00+00:00",
          "2024-04-30T04:00:00+00:00",
          "2024-05-01T04:00:00+00:00",
          "2024-05-02T04:00:00+00:00",
          "2024-05-03T04:00:00+00:00",
          "2024-05-06T04:00:00+00:00",
          "2024-05-07T04:00:00+00:00",
          "2024-05-08T04:00:00+00:00",
          "2024-05-09T04:00:00+00:00",
          "2024-05-10T04:00:00+00:00",
          "2024-05-13T04:00:00+00:00",
          "2024-05-14T04:00:00+00:00",
          "2024-05-15T04:00:00+00:00",
          "2024-05-16T04:00:00+00:00",
          "2024-05-17T04:00:00+00:00",
          "2024-05-20T04:00:00+00:00",
          "2024-05-21T04:00:00+00:00",
          "2024-05-22T04:00:00+00:00",
          "2024-05-23T04:00:00+00:00",
          "2024-05-24T04:00:00+00:00",
          "2024-05-28T04:00:00+00:00",
          "2024-05-29T04:00:00+00:00",
          "2024-05-30T04:00:00+00:00",
          "2024-05-31T04:00:00+00:00",
          "2024-06-03T04:00:00+00:00",
          "2024-06-04T04:00:00+00:00",
          "2024-06-05T04:00:00+00:00",
          "2024-06-06T04:00:00+00:00",
          "2024-06-07T04:00:00+00:00",
          "2024-06-10T04:00:00+00:00",
          "2024-06-11T04:00:00+00:00",
          "2024-06-12T04:00:00+00:00",
          "2024-06-13T04:00:00+00:00",
          "2024-06-14T04:00:00+00:00",
          "2024-06-17T04:00:00+00:00",
          "2024-06-18T04:00:00+00:00",
          "2024-06-20T04:00:00+00:00",
          "2024-06-21T04:00:00+00:00",
          "2024-06-24T04:00:00+00:00",
          "2024-06-25T04:00:00+00:00",
          "2024-06-26T04:00:00+00:00",
          "2024-06-27T04:00:00+00:00"
         ],
         "y": [
          [
           329.7109680175781
          ],
          [
           325.59344482421875
          ],
          [
           324.4878234863281
          ],
          [
           328.60467529296875
          ],
          [
           325.98443603515625
          ],
          [
           324.4990234375
          ],
          [
           321.7919006347656
          ],
          [
           316.3747253417969
          ],
          [
           312.0440979003906
          ],
          [
           304.2430114746094
          ],
          [
           296.77032470703125
          ],
          [
           290.6038818359375
          ],
          [
           288.7707214355469
          ],
          [
           278.00738525390625
          ],
          [
           270.3876647949219
          ],
          [
           275.0408630371094
          ],
          [
           281.0379333496094
          ],
          [
           283.4383850097656
          ],
          [
           282.8392028808594
          ],
          [
           284.7281188964844
          ],
          [
           284.91064453125
          ],
          [
           286.06689453125
          ],
          [
           287.99737548828125
          ],
          [
           286.7861022949219
          ],
          [
           280.6989440917969
          ],
          [
           276.7496337890625
          ],
          [
           279.1438293457031
          ],
          [
           282.59283447265625
          ],
          [
           280.788818359375
          ],
          [
           276.3354187011719
          ],
          [
           268.85455322265625
          ],
          [
           256.9539489746094
          ],
          [
           251.44886779785156
          ],
          [
           250.36270141601562
          ],
          [
           257.3699951171875
          ],
          [
           263.9225158691406
          ],
          [
           270.13629150390625
          ],
          [
           270.1723937988281
          ],
          [
           268.3785400390625
          ],
          [
           262.9367980957031
          ],
          [
           260.1504211425781
          ],
          [
           262.35302734375
          ],
          [
           263.153564453125
          ],
          [
           259.138427734375
          ],
          [
           252.13572692871094
          ],
          [
           250.1444091796875
          ],
          [
           254.0332489013672
          ],
          [
           261.61676025390625
          ],
          [
           271.32427978515625
          ],
          [
           280.0989074707031
          ],
          [
           292.8498840332031
          ],
          [
           302.7601318359375
          ],
          [
           310.08087158203125
          ],
          [
           313.7843017578125
          ],
          [
           322.6587829589844
          ],
          [
           330.2994689941406
          ],
          [
           334.6747741699219
          ],
          [
           335.1856689453125
          ],
          [
           334.96728515625
          ],
          [
           339.8988952636719
          ],
          [
           339.4727478027344
          ],
          [
           333.817626953125
          ],
          [
           329.5024108886719
          ],
          [
           323.6744079589844
          ],
          [
           314.6349182128906
          ],
          [
           308.7279968261719
          ],
          [
           308.9004211425781
          ],
          [
           307.1950378417969
          ],
          [
           307.777587890625
          ],
          [
           311.0827941894531
          ],
          [
           309.281982421875
          ],
          [
           309.9266662597656
          ],
          [
           310.4541320800781
          ],
          [
           310.1690673828125
          ],
          [
           297.91864013671875
          ],
          [
           286.8975524902344
          ],
          [
           278.92315673828125
          ],
          [
           273.7400207519531
          ],
          [
           274.4883117675781
          ],
          [
           277.467529296875
          ],
          [
           284.706298828125
          ],
          [
           283.0387878417969
          ],
          [
           278.98455810546875
          ],
          [
           267.30389404296875
          ],
          [
           258.5157470703125
          ],
          [
           246.2338104248047
          ],
          [
           236.510986328125
          ],
          [
           235.11326599121094
          ],
          [
           232.0071563720703
          ],
          [
           233.85362243652344
          ],
          [
           231.17710876464844
          ],
          [
           228.3494873046875
          ],
          [
           221.5171661376953
          ],
          [
           216.99156188964844
          ],
          [
           209.51934814453125
          ],
          [
           207.0855712890625
          ],
          [
           212.1290283203125
          ],
          [
           223.3182373046875
          ],
          [
           232.66873168945312
          ],
          [
           236.7779998779297
          ],
          [
           241.57366943359375
          ],
          [
           237.2165069580078
          ],
          [
           232.77818298339844
          ],
          [
           229.55316162109375
          ],
          [
           228.57794189453125
          ],
          [
           227.9131622314453
          ],
          [
           225.30894470214844
          ],
          [
           217.82684326171875
          ],
          [
           213.06723022460938
          ],
          [
           214.42848205566406
          ],
          [
           210.8462371826172
          ],
          [
           208.5042724609375
          ],
          [
           213.7286834716797
          ],
          [
           219.12753295898438
          ],
          [
           222.72962951660156
          ],
          [
           228.02146911621094
          ],
          [
           231.67803955078125
          ],
          [
           229.76919555664062
          ],
          [
           225.46302795410156
          ],
          [
           220.34786987304688
          ],
          [
           217.43479919433594
          ],
          [
           217.92971801757812
          ],
          [
           218.9151611328125
          ],
          [
           223.9568634033203
          ],
          [
           230.49392700195312
          ],
          [
           230.26019287109375
          ],
          [
           227.84011840820312
          ],
          [
           226.59228515625
          ],
          [
           226.33242797851562
          ],
          [
           226.98634338378906
          ],
          [
           227.86537170410156
          ],
          [
           230.1317596435547
          ],
          [
           232.67039489746094
          ],
          [
           242.02444458007812
          ],
          [
           250.28150939941406
          ],
          [
           254.50518798828125
          ],
          [
           253.19192504882812
          ],
          [
           255.46653747558594
          ],
          [
           259.5033874511719
          ],
          [
           267.6061096191406
          ],
          [
           274.1510314941406
          ],
          [
           279.1949462890625
          ],
          [
           284.0836486816406
          ],
          [
           287.528564453125
          ],
          [
           283.258544921875
          ],
          [
           278.8471984863281
          ],
          [
           273.3251953125
          ],
          [
           272.58209228515625
          ],
          [
           270.9962158203125
          ],
          [
           273.97467041015625
          ],
          [
           280.00323486328125
          ],
          [
           284.22869873046875
          ],
          [
           285.970458984375
          ],
          [
           286.0756530761719
          ],
          [
           283.7119445800781
          ],
          [
           279.30413818359375
          ],
          [
           277.6221618652344
          ],
          [
           277.3135681152344
          ],
          [
           277.27117919921875
          ],
          [
           275.0083312988281
          ],
          [
           271.9566345214844
          ],
          [
           267.47552490234375
          ],
          [
           263.42864990234375
          ],
          [
           261.2908630371094
          ],
          [
           258.303466796875
          ],
          [
           257.50225830078125
          ],
          [
           260.44970703125
          ],
          [
           265.2505187988281
          ],
          [
           272.2673645019531
          ],
          [
           279.0429992675781
          ],
          [
           279.90771484375
          ],
          [
           281.97686767578125
          ],
          [
           283.715576171875
          ],
          [
           284.6021728515625
          ],
          [
           286.59002685546875
          ],
          [
           288.03021240234375
          ],
          [
           286.5006408691406
          ],
          [
           280.9828796386719
          ],
          [
           272.034912109375
          ],
          [
           265.1224365234375
          ],
          [
           263.04962158203125
          ],
          [
           264.59332275390625
          ],
          [
           260.9006042480469
          ],
          [
           256.3393859863281
          ],
          [
           245.8194580078125
          ],
          [
           239.31434631347656
          ],
          [
           233.20631408691406
          ],
          [
           228.5922088623047
          ],
          [
           221.2864532470703
          ],
          [
           215.78628540039062
          ],
          [
           210.59677124023438
          ],
          [
           207.62969970703125
          ],
          [
           207.86671447753906
          ],
          [
           203.74337768554688
          ],
          [
           204.56634521484375
          ],
          [
           206.74928283691406
          ],
          [
           209.36843872070312
          ],
          [
           206.58663940429688
          ],
          [
           205.50003051757812
          ],
          [
           204.04701232910156
          ],
          [
           206.58004760742188
          ],
          [
           210.11692810058594
          ],
          [
           213.0384979248047
          ],
          [
           215.952392578125
          ],
          [
           217.54356384277344
          ],
          [
           218.27186584472656
          ],
          [
           214.31239318847656
          ],
          [
           210.3462371826172
          ],
          [
           204.9784393310547
          ],
          [
           197.5972900390625
          ],
          [
           190.18545532226562
          ],
          [
           180.7414093017578
          ],
          [
           178.22799682617188
          ],
          [
           180.38458251953125
          ],
          [
           181.90640258789062
          ],
          [
           184.16065979003906
          ],
          [
           183.51487731933594
          ],
          [
           181.0447235107422
          ],
          [
           177.78054809570312
          ],
          [
           171.23135375976562
          ],
          [
           166.50863647460938
          ],
          [
           168.1951141357422
          ],
          [
           171.21548461914062
          ],
          [
           173.91305541992188
          ],
          [
           175.05690002441406
          ],
          [
           179.90216064453125
          ],
          [
           184.1529083251953
          ],
          [
           186.9233856201172
          ],
          [
           184.23562622070312
          ],
          [
           179.8562774658203
          ],
          [
           174.2969512939453
          ],
          [
           169.925537109375
          ],
          [
           169.1747589111328
          ],
          [
           166.15037536621094
          ],
          [
           161.37857055664062
          ],
          [
           156.32208251953125
          ],
          [
           153.15383911132812
          ],
          [
           149.20034790039062
          ],
          [
           146.3294219970703
          ],
          [
           140.80490112304688
          ],
          [
           136.32400512695312
          ],
          [
           129.5892791748047
          ],
          [
           123.74336242675781
          ],
          [
           115.45401000976562
          ],
          [
           110.4428482055664
          ],
          [
           111.1898193359375
          ],
          [
           114.13603210449219
          ],
          [
           112.0469970703125
          ],
          [
           111.0724105834961
          ],
          [
           109.58336639404297
          ],
          [
           109.33702850341797
          ],
          [
           111.78470611572266
          ],
          [
           113.9963150024414
          ],
          [
           116.93421173095703
          ],
          [
           119.23881530761719
          ],
          [
           120.19129943847656
          ],
          [
           123.37845611572266
          ],
          [
           125.22148895263672
          ],
          [
           125.51152801513672
          ],
          [
           127.23600006103516
          ],
          [
           132.17864990234375
          ],
          [
           136.51573181152344
          ],
          [
           139.46580505371094
          ],
          [
           146.20765686035156
          ],
          [
           157.5581817626953
          ],
          [
           162.8408660888672
          ],
          [
           166.74884033203125
          ],
          [
           171.35641479492188
          ],
          [
           176.67776489257812
          ],
          [
           180.87989807128906
          ],
          [
           184.82460021972656
          ],
          [
           187.92019653320312
          ],
          [
           191.08824157714844
          ],
          [
           195.0642852783203
          ],
          [
           194.50135803222656
          ],
          [
           192.03134155273438
          ],
          [
           194.3719482421875
          ],
          [
           198.82237243652344
          ],
          [
           198.58470153808594
          ],
          [
           199.1708984375
          ],
          [
           196.1056671142578
          ],
          [
           194.10665893554688
          ],
          [
           193.3465118408203
          ],
          [
           191.53639221191406
          ],
          [
           193.57398986816406
          ],
          [
           195.43429565429688
          ],
          [
           195.81228637695312
          ],
          [
           191.80322265625
          ],
          [
           190.03292846679688
          ],
          [
           188.05880737304688
          ],
          [
           184.74649047851562
          ],
          [
           180.301513671875
          ],
          [
           174.01744079589844
          ],
          [
           169.451904296875
          ],
          [
           167.26321411132812
          ],
          [
           169.5217742919922
          ],
          [
           171.5989227294922
          ],
          [
           174.35203552246094
          ],
          [
           175.13510131835938
          ],
          [
           176.11407470703125
          ],
          [
           181.41590881347656
          ],
          [
           184.08668518066406
          ],
          [
           185.52870178222656
          ],
          [
           185.4298553466797
          ],
          [
           185.26258850097656
          ],
          [
           184.1717071533203
          ],
          [
           184.65805053710938
          ],
          [
           185.8585662841797
          ],
          [
           190.8648223876953
          ],
          [
           191.23040771484375
          ],
          [
           189.51910400390625
          ],
          [
           185.3160400390625
          ],
          [
           181.51072692871094
          ],
          [
           178.80682373046875
          ],
          [
           178.09390258789062
          ],
          [
           176.2436981201172
          ],
          [
           176.55081176757812
          ],
          [
           177.12840270996094
          ],
          [
           178.36001586914062
          ],
          [
           178.5237274169922
          ],
          [
           177.1289520263672
          ],
          [
           169.9221954345703
          ],
          [
           163.99525451660156
          ],
          [
           159.40936279296875
          ],
          [
           156.18060302734375
          ],
          [
           152.2667694091797
          ],
          [
           151.716064453125
          ],
          [
           153.8081512451172
          ],
          [
           155.35653686523438
          ],
          [
           155.86862182617188
          ],
          [
           156.0159149169922
          ],
          [
           156.16017150878906
          ],
          [
           159.13912963867188
          ],
          [
           162.52374267578125
          ],
          [
           164.0951385498047
          ],
          [
           164.39700317382812
          ],
          [
           165.29441833496094
          ],
          [
           164.63613891601562
          ],
          [
           163.1704559326172
          ],
          [
           161.94126892089844
          ],
          [
           163.5706024169922
          ],
          [
           166.51785278320312
          ],
          [
           170.0388946533203
          ],
          [
           175.46734619140625
          ],
          [
           178.64498901367188
          ],
          [
           179.1779327392578
          ],
          [
           179.14244079589844
          ],
          [
           181.6317901611328
          ],
          [
           186.54351806640625
          ],
          [
           191.4528045654297
          ],
          [
           195.931640625
          ],
          [
           200.83262634277344
          ],
          [
           205.30874633789062
          ],
          [
           209.2838897705078
          ],
          [
           212.7319793701172
          ],
          [
           218.04832458496094
          ],
          [
           225.0283203125
          ],
          [
           231.82272338867188
          ],
          [
           239.04266357421875
          ],
          [
           243.28155517578125
          ],
          [
           244.91253662109375
          ],
          [
           246.50584411621094
          ],
          [
           251.64535522460938
          ],
          [
           251.3235626220703
          ],
          [
           251.2572784423828
          ],
          [
           248.57205200195312
          ],
          [
           241.12371826171875
          ],
          [
           237.5747833251953
          ],
          [
           238.0211181640625
          ],
          [
           239.983642578125
          ],
          [
           243.2654571533203
          ],
          [
           251.5143280029297
          ],
          [
           259.24468994140625
          ],
          [
           262.61126708984375
          ],
          [
           262.9762878417969
          ],
          [
           260.6742248535156
          ],
          [
           258.22674560546875
          ],
          [
           257.0367736816406
          ],
          [
           258.3451843261719
          ],
          [
           261.0061340332031
          ],
          [
           265.9955749511719
          ],
          [
           270.9176330566406
          ],
          [
           273.6460266113281
          ],
          [
           266.2392272949219
          ],
          [
           257.45269775390625
          ],
          [
           253.54554748535156
          ],
          [
           250.9895782470703
          ],
          [
           249.5762481689453
          ],
          [
           246.41705322265625
          ],
          [
           247.30136108398438
          ],
          [
           249.32994079589844
          ],
          [
           249.21676635742188
          ],
          [
           246.47694396972656
          ],
          [
           245.48373413085938
          ],
          [
           243.4966583251953
          ],
          [
           241.18792724609375
          ],
          [
           238.9934539794922
          ],
          [
           235.20509338378906
          ],
          [
           233.25448608398438
          ],
          [
           231.60504150390625
          ],
          [
           229.7781982421875
          ],
          [
           226.42138671875
          ],
          [
           221.44422912597656
          ],
          [
           215.60482788085938
          ],
          [
           210.2438507080078
          ],
          [
           211.89854431152344
          ],
          [
           215.70481872558594
          ],
          [
           220.32896423339844
          ],
          [
           221.63925170898438
          ],
          [
           224.33583068847656
          ],
          [
           226.46139526367188
          ],
          [
           233.4654083251953
          ],
          [
           239.3274383544922
          ],
          [
           243.38388061523438
          ],
          [
           241.42584228515625
          ],
          [
           241.87942504882812
          ],
          [
           241.12351989746094
          ],
          [
           240.14028930664062
          ],
          [
           238.4210662841797
          ],
          [
           244.86761474609375
          ],
          [
           249.50474548339844
          ],
          [
           253.56129455566406
          ],
          [
           257.52667236328125
          ],
          [
           259.5758056640625
          ],
          [
           257.5522766113281
          ],
          [
           255.31585693359375
          ],
          [
           252.3344268798828
          ],
          [
           247.9269256591797
          ],
          [
           241.1591339111328
          ],
          [
           236.60958862304688
          ],
          [
           233.2529296875
          ],
          [
           230.3493194580078
          ],
          [
           230.54367065429688
          ],
          [
           232.86627197265625
          ],
          [
           235.624755859375
          ],
          [
           236.13050842285156
          ],
          [
           240.45289611816406
          ],
          [
           243.9559783935547
          ],
          [
           246.2993621826172
          ],
          [
           247.21839904785156
          ],
          [
           248.5653839111328
          ],
          [
           249.27484130859375
          ],
          [
           248.2534637451172
          ],
          [
           244.6183319091797
          ],
          [
           242.24989318847656
          ],
          [
           241.20556640625
          ],
          [
           237.10455322265625
          ],
          [
           226.42620849609375
          ],
          [
           214.73287963867188
          ],
          [
           206.46463012695312
          ],
          [
           203.40272521972656
          ],
          [
           201.79830932617188
          ],
          [
           199.35520935058594
          ],
          [
           198.20553588867188
          ],
          [
           194.6847686767578
          ],
          [
           192.88125610351562
          ],
          [
           193.72122192382812
          ],
          [
           199.27903747558594
          ],
          [
           204.92454528808594
          ],
          [
           208.6574249267578
          ],
          [
           211.5260467529297
          ],
          [
           213.04701232910156
          ],
          [
           209.66729736328125
          ],
          [
           207.37559509277344
          ],
          [
           208.8495330810547
          ],
          [
           215.27029418945312
          ],
          [
           222.79104614257812
          ],
          [
           225.3705291748047
          ],
          [
           225.9541778564453
          ],
          [
           225.9710693359375
          ],
          [
           227.42626953125
          ],
          [
           226.4947967529297
          ],
          [
           225.59481811523438
          ],
          [
           225.10707092285156
          ],
          [
           228.24478149414062
          ],
          [
           230.55697631835938
          ],
          [
           230.71591186523438
          ],
          [
           229.80581665039062
          ],
          [
           227.7740020751953
          ],
          [
           227.0268096923828
          ],
          [
           227.0421142578125
          ],
          [
           228.3435516357422
          ],
          [
           229.9973602294922
          ],
          [
           229.96591186523438
          ],
          [
           228.6276092529297
          ],
          [
           228.0238494873047
          ],
          [
           231.47352600097656
          ],
          [
           235.6855926513672
          ],
          [
           238.3980255126953
          ],
          [
           241.42535400390625
          ],
          [
           240.30494689941406
          ],
          [
           240.65724182128906
          ],
          [
           240.49607849121094
          ],
          [
           241.5098419189453
          ],
          [
           243.9829864501953
          ],
          [
           243.49441528320312
          ],
          [
           240.9219970703125
          ],
          [
           238.49449157714844
          ],
          [
           233.6749725341797
          ],
          [
           229.61370849609375
          ],
          [
           226.92083740234375
          ],
          [
           226.51380920410156
          ],
          [
           225.26223754882812
          ],
          [
           224.01539611816406
          ],
          [
           221.08334350585938
          ],
          [
           216.01724243164062
          ],
          [
           212.32363891601562
          ],
          [
           208.80813598632812
          ],
          [
           205.41641235351562
          ],
          [
           203.36598205566406
          ],
          [
           201.36856079101562
          ],
          [
           200.2743682861328
          ],
          [
           199.4524688720703
          ],
          [
           190.87928771972656
          ],
          [
           183.12425231933594
          ],
          [
           180.495361328125
          ],
          [
           180.5235137939453
          ],
          [
           180.17176818847656
          ],
          [
           180.54043579101562
          ],
          [
           180.76380920410156
          ],
          [
           178.69056701660156
          ],
          [
           177.961669921875
          ],
          [
           178.61715698242188
          ],
          [
           180.14317321777344
          ],
          [
           182.77806091308594
          ],
          [
           183.1242218017578
          ],
          [
           181.3676300048828
          ],
          [
           181.02134704589844
          ],
          [
           184.93505859375
          ],
          [
           188.6490020751953
          ],
          [
           189.1852264404297
          ],
          [
           188.93856811523438
          ],
          [
           189.27284240722656
          ],
          [
           187.81961059570312
          ],
          [
           188.72903442382812
          ],
          [
           190.06936645507812
          ],
          [
           191.9013214111328
          ],
          [
           193.23812866210938
          ],
          [
           194.24307250976562
          ],
          [
           190.07760620117188
          ],
          [
           183.32528686523438
          ],
          [
           176.49212646484375
          ],
          [
           172.50335693359375
          ],
          [
           169.637451171875
          ],
          [
           169.0336151123047
          ],
          [
           169.38034057617188
          ],
          [
           167.41188049316406
          ],
          [
           163.2093505859375
          ],
          [
           160.05795288085938
          ],
          [
           161.59140014648438
          ],
          [
           163.25640869140625
          ],
          [
           166.01022338867188
          ],
          [
           167.29261779785156
          ],
          [
           167.09017944335938
          ],
          [
           167.0423583984375
          ],
          [
           168.63038635253906
          ],
          [
           170.8555145263672
          ],
          [
           171.23399353027344
          ],
          [
           170.7591552734375
          ],
          [
           167.29342651367188
          ],
          [
           164.6071014404297
          ],
          [
           163.84629821777344
          ],
          [
           161.89456176757812
          ],
          [
           162.9873046875
          ],
          [
           165.92483520507812
          ],
          [
           166.87112426757812
          ],
          [
           167.9237518310547
          ],
          [
           167.4379119873047
          ],
          [
           163.47637939453125
          ],
          [
           158.27330017089844
          ],
          [
           153.75253295898438
          ],
          [
           149.0744171142578
          ],
          [
           145.0074920654297
          ],
          [
           140.8911590576172
          ],
          [
           139.1013641357422
          ],
          [
           144.4864959716797
          ],
          [
           153.06082153320312
          ],
          [
           159.37945556640625
          ],
          [
           171.46572875976562
          ],
          [
           177.6081085205078
          ],
          [
           178.90829467773438
          ],
          [
           178.0450897216797
          ],
          [
           176.8888397216797
          ],
          [
           176.9864959716797
          ],
          [
           175.0577850341797
          ],
          [
           172.16928100585938
          ],
          [
           169.00433349609375
          ],
          [
           165.64564514160156
          ],
          [
           164.49920654296875
          ],
          [
           166.30477905273438
          ],
          [
           167.34503173828125
          ],
          [
           168.23475646972656
          ],
          [
           169.6604766845703
          ],
          [
           169.94119262695312
          ],
          [
           173.6025848388672
          ],
          [
           174.86935424804688
          ],
          [
           172.9833984375
          ],
          [
           172.50173950195312
          ],
          [
           171.64614868164062
          ],
          [
           170.78721618652344
          ],
          [
           171.0591583251953
          ],
          [
           171.3540802001953
          ],
          [
           171.01832580566406
          ],
          [
           170.12557983398438
          ],
          [
           169.4282989501953
          ],
          [
           169.97171020507812
          ],
          [
           170.56240844726562
          ],
          [
           169.8048553466797
          ],
          [
           167.88107299804688
          ],
          [
           168.3891143798828
          ],
          [
           171.11373901367188
          ],
          [
           172.20138549804688
          ],
          [
           175.60763549804688
          ],
          [
           177.67771911621094
          ],
          [
           177.62570190429688
          ],
          [
           177.36724853515625
          ],
          [
           176.88392639160156
          ],
          [
           178.0055389404297
          ],
          [
           182.1425323486328
          ],
          [
           186.1660614013672
          ]
         ]
        }
       ],
       "layout": {
        "hovermode": "x",
        "template": {
         "data": {
          "bar": [
           {
            "error_x": {
             "color": "#2a3f5f"
            },
            "error_y": {
             "color": "#2a3f5f"
            },
            "marker": {
             "line": {
              "color": "#E5ECF6",
              "width": 0.5
             },
             "pattern": {
              "fillmode": "overlay",
              "size": 10,
              "solidity": 0.2
             }
            },
            "type": "bar"
           }
          ],
          "barpolar": [
           {
            "marker": {
             "line": {
              "color": "#E5ECF6",
              "width": 0.5
             },
             "pattern": {
              "fillmode": "overlay",
              "size": 10,
              "solidity": 0.2
             }
            },
            "type": "barpolar"
           }
          ],
          "carpet": [
           {
            "aaxis": {
             "endlinecolor": "#2a3f5f",
             "gridcolor": "white",
             "linecolor": "white",
             "minorgridcolor": "white",
             "startlinecolor": "#2a3f5f"
            },
            "baxis": {
             "endlinecolor": "#2a3f5f",
             "gridcolor": "white",
             "linecolor": "white",
             "minorgridcolor": "white",
             "startlinecolor": "#2a3f5f"
            },
            "type": "carpet"
           }
          ],
          "choropleth": [
           {
            "colorbar": {
             "outlinewidth": 0,
             "ticks": ""
            },
            "type": "choropleth"
           }
          ],
          "contour": [
           {
            "colorbar": {
             "outlinewidth": 0,
             "ticks": ""
            },
            "colorscale": [
             [
              0,
              "#0d0887"
             ],
             [
              0.1111111111111111,
              "#46039f"
             ],
             [
              0.2222222222222222,
              "#7201a8"
             ],
             [
              0.3333333333333333,
              "#9c179e"
             ],
             [
              0.4444444444444444,
              "#bd3786"
             ],
             [
              0.5555555555555556,
              "#d8576b"
             ],
             [
              0.6666666666666666,
              "#ed7953"
             ],
             [
              0.7777777777777778,
              "#fb9f3a"
             ],
             [
              0.8888888888888888,
              "#fdca26"
             ],
             [
              1,
              "#f0f921"
             ]
            ],
            "type": "contour"
           }
          ],
          "contourcarpet": [
           {
            "colorbar": {
             "outlinewidth": 0,
             "ticks": ""
            },
            "type": "contourcarpet"
           }
          ],
          "heatmap": [
           {
            "colorbar": {
             "outlinewidth": 0,
             "ticks": ""
            },
            "colorscale": [
             [
              0,
              "#0d0887"
             ],
             [
              0.1111111111111111,
              "#46039f"
             ],
             [
              0.2222222222222222,
              "#7201a8"
             ],
             [
              0.3333333333333333,
              "#9c179e"
             ],
             [
              0.4444444444444444,
              "#bd3786"
             ],
             [
              0.5555555555555556,
              "#d8576b"
             ],
             [
              0.6666666666666666,
              "#ed7953"
             ],
             [
              0.7777777777777778,
              "#fb9f3a"
             ],
             [
              0.8888888888888888,
              "#fdca26"
             ],
             [
              1,
              "#f0f921"
             ]
            ],
            "type": "heatmap"
           }
          ],
          "heatmapgl": [
           {
            "colorbar": {
             "outlinewidth": 0,
             "ticks": ""
            },
            "colorscale": [
             [
              0,
              "#0d0887"
             ],
             [
              0.1111111111111111,
              "#46039f"
             ],
             [
              0.2222222222222222,
              "#7201a8"
             ],
             [
              0.3333333333333333,
              "#9c179e"
             ],
             [
              0.4444444444444444,
              "#bd3786"
             ],
             [
              0.5555555555555556,
              "#d8576b"
             ],
             [
              0.6666666666666666,
              "#ed7953"
             ],
             [
              0.7777777777777778,
              "#fb9f3a"
             ],
             [
              0.8888888888888888,
              "#fdca26"
             ],
             [
              1,
              "#f0f921"
             ]
            ],
            "type": "heatmapgl"
           }
          ],
          "histogram": [
           {
            "marker": {
             "pattern": {
              "fillmode": "overlay",
              "size": 10,
              "solidity": 0.2
             }
            },
            "type": "histogram"
           }
          ],
          "histogram2d": [
           {
            "colorbar": {
             "outlinewidth": 0,
             "ticks": ""
            },
            "colorscale": [
             [
              0,
              "#0d0887"
             ],
             [
              0.1111111111111111,
              "#46039f"
             ],
             [
              0.2222222222222222,
              "#7201a8"
             ],
             [
              0.3333333333333333,
              "#9c179e"
             ],
             [
              0.4444444444444444,
              "#bd3786"
             ],
             [
              0.5555555555555556,
              "#d8576b"
             ],
             [
              0.6666666666666666,
              "#ed7953"
             ],
             [
              0.7777777777777778,
              "#fb9f3a"
             ],
             [
              0.8888888888888888,
              "#fdca26"
             ],
             [
              1,
              "#f0f921"
             ]
            ],
            "type": "histogram2d"
           }
          ],
          "histogram2dcontour": [
           {
            "colorbar": {
             "outlinewidth": 0,
             "ticks": ""
            },
            "colorscale": [
             [
              0,
              "#0d0887"
             ],
             [
              0.1111111111111111,
              "#46039f"
             ],
             [
              0.2222222222222222,
              "#7201a8"
             ],
             [
              0.3333333333333333,
              "#9c179e"
             ],
             [
              0.4444444444444444,
              "#bd3786"
             ],
             [
              0.5555555555555556,
              "#d8576b"
             ],
             [
              0.6666666666666666,
              "#ed7953"
             ],
             [
              0.7777777777777778,
              "#fb9f3a"
             ],
             [
              0.8888888888888888,
              "#fdca26"
             ],
             [
              1,
              "#f0f921"
             ]
            ],
            "type": "histogram2dcontour"
           }
          ],
          "mesh3d": [
           {
            "colorbar": {
             "outlinewidth": 0,
             "ticks": ""
            },
            "type": "mesh3d"
           }
          ],
          "parcoords": [
           {
            "line": {
             "colorbar": {
              "outlinewidth": 0,
              "ticks": ""
             }
            },
            "type": "parcoords"
           }
          ],
          "pie": [
           {
            "automargin": true,
            "type": "pie"
           }
          ],
          "scatter": [
           {
            "fillpattern": {
             "fillmode": "overlay",
             "size": 10,
             "solidity": 0.2
            },
            "type": "scatter"
           }
          ],
          "scatter3d": [
           {
            "line": {
             "colorbar": {
              "outlinewidth": 0,
              "ticks": ""
             }
            },
            "marker": {
             "colorbar": {
              "outlinewidth": 0,
              "ticks": ""
             }
            },
            "type": "scatter3d"
           }
          ],
          "scattercarpet": [
           {
            "marker": {
             "colorbar": {
              "outlinewidth": 0,
              "ticks": ""
             }
            },
            "type": "scattercarpet"
           }
          ],
          "scattergeo": [
           {
            "marker": {
             "colorbar": {
              "outlinewidth": 0,
              "ticks": ""
             }
            },
            "type": "scattergeo"
           }
          ],
          "scattergl": [
           {
            "marker": {
             "colorbar": {
              "outlinewidth": 0,
              "ticks": ""
             }
            },
            "type": "scattergl"
           }
          ],
          "scattermapbox": [
           {
            "marker": {
             "colorbar": {
              "outlinewidth": 0,
              "ticks": ""
             }
            },
            "type": "scattermapbox"
           }
          ],
          "scatterpolar": [
           {
            "marker": {
             "colorbar": {
              "outlinewidth": 0,
              "ticks": ""
             }
            },
            "type": "scatterpolar"
           }
          ],
          "scatterpolargl": [
           {
            "marker": {
             "colorbar": {
              "outlinewidth": 0,
              "ticks": ""
             }
            },
            "type": "scatterpolargl"
           }
          ],
          "scatterternary": [
           {
            "marker": {
             "colorbar": {
              "outlinewidth": 0,
              "ticks": ""
             }
            },
            "type": "scatterternary"
           }
          ],
          "surface": [
           {
            "colorbar": {
             "outlinewidth": 0,
             "ticks": ""
            },
            "colorscale": [
             [
              0,
              "#0d0887"
             ],
             [
              0.1111111111111111,
              "#46039f"
             ],
             [
              0.2222222222222222,
              "#7201a8"
             ],
             [
              0.3333333333333333,
              "#9c179e"
             ],
             [
              0.4444444444444444,
              "#bd3786"
             ],
             [
              0.5555555555555556,
              "#d8576b"
             ],
             [
              0.6666666666666666,
              "#ed7953"
             ],
             [
              0.7777777777777778,
              "#fb9f3a"
             ],
             [
              0.8888888888888888,
              "#fdca26"
             ],
             [
              1,
              "#f0f921"
             ]
            ],
            "type": "surface"
           }
          ],
          "table": [
           {
            "cells": {
             "fill": {
              "color": "#EBF0F8"
             },
             "line": {
              "color": "white"
             }
            },
            "header": {
             "fill": {
              "color": "#C8D4E3"
             },
             "line": {
              "color": "white"
             }
            },
            "type": "table"
           }
          ]
         },
         "layout": {
          "annotationdefaults": {
           "arrowcolor": "#2a3f5f",
           "arrowhead": 0,
           "arrowwidth": 1
          },
          "autotypenumbers": "strict",
          "coloraxis": {
           "colorbar": {
            "outlinewidth": 0,
            "ticks": ""
           }
          },
          "colorscale": {
           "diverging": [
            [
             0,
             "#8e0152"
            ],
            [
             0.1,
             "#c51b7d"
            ],
            [
             0.2,
             "#de77ae"
            ],
            [
             0.3,
             "#f1b6da"
            ],
            [
             0.4,
             "#fde0ef"
            ],
            [
             0.5,
             "#f7f7f7"
            ],
            [
             0.6,
             "#e6f5d0"
            ],
            [
             0.7,
             "#b8e186"
            ],
            [
             0.8,
             "#7fbc41"
            ],
            [
             0.9,
             "#4d9221"
            ],
            [
             1,
             "#276419"
            ]
           ],
           "sequential": [
            [
             0,
             "#0d0887"
            ],
            [
             0.1111111111111111,
             "#46039f"
            ],
            [
             0.2222222222222222,
             "#7201a8"
            ],
            [
             0.3333333333333333,
             "#9c179e"
            ],
            [
             0.4444444444444444,
             "#bd3786"
            ],
            [
             0.5555555555555556,
             "#d8576b"
            ],
            [
             0.6666666666666666,
             "#ed7953"
            ],
            [
             0.7777777777777778,
             "#fb9f3a"
            ],
            [
             0.8888888888888888,
             "#fdca26"
            ],
            [
             1,
             "#f0f921"
            ]
           ],
           "sequentialminus": [
            [
             0,
             "#0d0887"
            ],
            [
             0.1111111111111111,
             "#46039f"
            ],
            [
             0.2222222222222222,
             "#7201a8"
            ],
            [
             0.3333333333333333,
             "#9c179e"
            ],
            [
             0.4444444444444444,
             "#bd3786"
            ],
            [
             0.5555555555555556,
             "#d8576b"
            ],
            [
             0.6666666666666666,
             "#ed7953"
            ],
            [
             0.7777777777777778,
             "#fb9f3a"
            ],
            [
             0.8888888888888888,
             "#fdca26"
            ],
            [
             1,
             "#f0f921"
            ]
           ]
          },
          "colorway": [
           "#636efa",
           "#EF553B",
           "#00cc96",
           "#ab63fa",
           "#FFA15A",
           "#19d3f3",
           "#FF6692",
           "#B6E880",
           "#FF97FF",
           "#FECB52"
          ],
          "font": {
           "color": "#2a3f5f"
          },
          "geo": {
           "bgcolor": "white",
           "lakecolor": "white",
           "landcolor": "#E5ECF6",
           "showlakes": true,
           "showland": true,
           "subunitcolor": "white"
          },
          "hoverlabel": {
           "align": "left"
          },
          "hovermode": "closest",
          "mapbox": {
           "style": "light"
          },
          "paper_bgcolor": "white",
          "plot_bgcolor": "#E5ECF6",
          "polar": {
           "angularaxis": {
            "gridcolor": "white",
            "linecolor": "white",
            "ticks": ""
           },
           "bgcolor": "#E5ECF6",
           "radialaxis": {
            "gridcolor": "white",
            "linecolor": "white",
            "ticks": ""
           }
          },
          "scene": {
           "xaxis": {
            "backgroundcolor": "#E5ECF6",
            "gridcolor": "white",
            "gridwidth": 2,
            "linecolor": "white",
            "showbackground": true,
            "ticks": "",
            "zerolinecolor": "white"
           },
           "yaxis": {
            "backgroundcolor": "#E5ECF6",
            "gridcolor": "white",
            "gridwidth": 2,
            "linecolor": "white",
            "showbackground": true,
            "ticks": "",
            "zerolinecolor": "white"
           },
           "zaxis": {
            "backgroundcolor": "#E5ECF6",
            "gridcolor": "white",
            "gridwidth": 2,
            "linecolor": "white",
            "showbackground": true,
            "ticks": "",
            "zerolinecolor": "white"
           }
          },
          "shapedefaults": {
           "line": {
            "color": "#2a3f5f"
           }
          },
          "ternary": {
           "aaxis": {
            "gridcolor": "white",
            "linecolor": "white",
            "ticks": ""
           },
           "baxis": {
            "gridcolor": "white",
            "linecolor": "white",
            "ticks": ""
           },
           "bgcolor": "#E5ECF6",
           "caxis": {
            "gridcolor": "white",
            "linecolor": "white",
            "ticks": ""
           }
          },
          "title": {
           "x": 0.05
          },
          "xaxis": {
           "automargin": true,
           "gridcolor": "white",
           "linecolor": "white",
           "ticks": "",
           "title": {
            "standoff": 15
           },
           "zerolinecolor": "white",
           "zerolinewidth": 2
          },
          "yaxis": {
           "automargin": true,
           "gridcolor": "white",
           "linecolor": "white",
           "ticks": "",
           "title": {
            "standoff": 15
           },
           "zerolinecolor": "white",
           "zerolinewidth": 2
          }
         }
        },
        "title": {
         "text": "LSTM Model: Actual vs Predicted Stock Prices"
        },
        "xaxis": {
         "tickformat": "%Y-%m-%d",
         "title": {
          "text": "Date"
         }
        },
        "yaxis": {
         "title": {
          "text": "Stock Price"
         }
        }
       }
      }
     },
     "metadata": {},
     "output_type": "display_data"
    }
   ],
   "source": [
    "import pandas as pd\n",
    "import numpy as np\n",
    "import plotly.graph_objs as go\n",
    "from plotly.subplots import make_subplots\n",
    "from sklearn.metrics import mean_squared_error, mean_absolute_error\n",
    "\n",
    "# Assuming dates_test, y_test, and y_pred are already defined\n",
    "# Ensure dates_test is a pandas DatetimeIndex\n",
    "dates_test = pd.to_datetime(dates_test)\n",
    "\n",
    "# Evaluate the model\n",
    "mse = mean_squared_error(y_test, y_pred)\n",
    "rmse = np.sqrt(mse)\n",
    "mae = mean_absolute_error(y_test, y_pred)\n",
    "\n",
    "print(f\"MSE: {mse:.4f}\")\n",
    "print(f\"RMSE: {rmse:.4f}\")\n",
    "print(f\"MAE: {mae:.4f}\")\n",
    "\n",
    "# Create traces for actual and predicted values\n",
    "# trace_actual = go.Scatter(\n",
    "#     x=dates_test, \n",
    "#     y=y_test, \n",
    "#     mode='lines', \n",
    "#     name='Actual', \n",
    "#     line=dict(width=2)\n",
    "# )\n",
    "\n",
    "trace_predicted = go.Scatter(\n",
    "    x=dates_test, \n",
    "    y=y_pred,  # Removed the -20 adjustment to keep predictions accurate\n",
    "    mode='lines', \n",
    "    name='Predicted', \n",
    "    line=dict(width=2)\n",
    ")\n",
    "\n",
    "# Create layout\n",
    "layout = go.Layout(\n",
    "    title='LSTM Model: Actual vs Predicted Stock Prices',\n",
    "    xaxis=dict(title='Date', tickformat='%Y-%m-%d'),\n",
    "    yaxis=dict(title='Stock Price'),\n",
    "    hovermode='x',  # Add hovermode for interactive hover\n",
    ")\n",
    "\n",
    "# Create the figure\n",
    "fig = go.Figure(data=[trace_actual, trace_predicted], layout=layout)\n",
    "\n",
    "# Show interactive plot\n",
    "fig.show()\n"
   ]
  }
 ],
 "metadata": {
  "kernelspec": {
   "display_name": "Python 3",
   "language": "python",
   "name": "python3"
  },
  "language_info": {
   "codemirror_mode": {
    "name": "ipython",
    "version": 3
   },
   "file_extension": ".py",
   "mimetype": "text/x-python",
   "name": "python",
   "nbconvert_exporter": "python",
   "pygments_lexer": "ipython3",
   "version": "3.12.4"
  }
 },
 "nbformat": 4,
 "nbformat_minor": 2
}
