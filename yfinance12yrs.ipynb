{
 "cells": [
  {
   "cell_type": "code",
   "execution_count": 46,
   "metadata": {},
   "outputs": [],
   "source": [
    "import yfinance as yf\n",
    "import pandas as pd\n",
    "import numpy as np\n",
    "from scipy import stats\n",
    "import time\n",
    "\n",
    "def download_stock_data(ticker, start_date, end_date):\n",
    "    stock = yf.Ticker(ticker)\n",
    "    data = stock.history(start=start_date, end=end_date)\n",
    "    return data, stock.info\n",
    "\n",
    "def calculate_standard_deviation(data):\n",
    "    return data['Close'].pct_change().std() * np.sqrt(252)\n",
    "\n",
    "def calculate_var(data, confidence_level=0.95):\n",
    "    returns = data['Close'].pct_change().dropna()\n",
    "    return np.percentile(returns, 100 * (1 - confidence_level))\n",
    "\n",
    "def calculate_sharpe_ratio(data, risk_free_rate=0.02):\n",
    "    returns = data['Close'].pct_change().dropna()\n",
    "    excess_returns = returns - risk_free_rate / 252\n",
    "    return np.sqrt(252) * excess_returns.mean() / excess_returns.std()\n",
    "\n",
    "def calculate_sortino_ratio(data, risk_free_rate=0.02, target_return=0):\n",
    "    returns = data['Close'].pct_change().dropna()\n",
    "    downside_returns = returns[returns < target_return]\n",
    "    excess_returns = returns - risk_free_rate / 252\n",
    "    return np.sqrt(252) * excess_returns.mean() / downside_returns.std()\n",
    "\n",
    "def calculate_max_drawdown(data):\n",
    "    returns = data['Close'].pct_change().dropna()\n",
    "    cumulative_returns = (1 + returns).cumprod()\n",
    "    peak = cumulative_returns.expanding(min_periods=1).max()\n",
    "    drawdown = (cumulative_returns / peak) - 1\n",
    "    return drawdown.min()\n",
    "\n",
    "def calculate_downside_deviation(data, target_return=0):\n",
    "    returns = data['Close'].pct_change().dropna()\n",
    "    downside_returns = returns[returns < target_return]\n",
    "    return np.sqrt(np.mean(downside_returns**2))\n",
    "\n",
    "def calculate_tracking_error(company_data, sector_index_data):\n",
    "    company_returns = company_data['Close'].pct_change().dropna()\n",
    "    index_returns = sector_index_data['Close'].pct_change().dropna()\n",
    "    return np.std(company_returns - index_returns) * np.sqrt(252)\n",
    "\n",
    "def calculate_r_squared(company_data, sector_index_data):\n",
    "    company_returns = company_data['Close'].pct_change().dropna()\n",
    "    index_returns = sector_index_data['Close'].pct_change().dropna()\n",
    "    slope, intercept, r_value, _, _ = stats.linregress(index_returns, company_returns)\n",
    "    return r_value**2\n",
    "\n",
    "def calculate_treynor_ratio(company_data, beta, risk_free_rate=0.02):\n",
    "    returns = company_data['Close'].pct_change().dropna()\n",
    "    excess_returns = returns.mean() - risk_free_rate / 252\n",
    "    return excess_returns / beta\n",
    "\n",
    "def calculate_information_ratio(company_data, sector_index_data):\n",
    "    company_returns = company_data['Close'].pct_change().dropna()\n",
    "    index_returns = sector_index_data['Close'].pct_change().dropna()\n",
    "    return (company_returns.mean() - index_returns.mean()) / calculate_tracking_error(company_data, sector_index_data)\n",
    "\n",
    "def calculate_cvar(data, confidence_level=0.95):\n",
    "    returns = data['Close'].pct_change().dropna()\n",
    "    var = calculate_var(data, confidence_level)\n",
    "    return returns[returns <= var].mean()\n",
    "\n",
    "def calculate_beta_adjusted_sharpe_ratio(company_data, sector_index_data, risk_free_rate=0.02):\n",
    "    company_returns = company_data['Close'].pct_change().dropna()\n",
    "    index_returns = sector_index_data['Close'].pct_change().dropna()\n",
    "    beta = stats.linregress(index_returns, company_returns).slope\n",
    "    excess_returns = company_returns - risk_free_rate / 252\n",
    "    return np.sqrt(252) * excess_returns.mean() / (excess_returns.std() * beta)\n",
    "\n",
    "def calculate_drawdown_duration(data):\n",
    "    returns = data['Close'].pct_change().dropna()\n",
    "    cumulative_returns = (1 + returns).cumprod()\n",
    "    drawdown = (cumulative_returns / cumulative_returns.cummax()) - 1\n",
    "    drawdown_periods = (drawdown < 0).astype(int)\n",
    "    return drawdown_periods.groupby((drawdown_periods != drawdown_periods.shift()).cumsum()).sum().max()\n",
    "\n",
    "def calculate_ulcer_index(data):\n",
    "    returns = data['Close'].pct_change().dropna()\n",
    "    cumulative_returns = (1 + returns).cumprod()\n",
    "    drawdown = (cumulative_returns / cumulative_returns.cummax()) - 1\n",
    "    return np.sqrt(np.mean(drawdown**2))\n",
    "\n",
    "def calculate_jensens_alpha(company_data, sector_index_data, risk_free_rate=0.02):\n",
    "    company_returns = company_data['Close'].pct_change().dropna()\n",
    "    index_returns = sector_index_data['Close'].pct_change().dropna()\n",
    "    beta = stats.linregress(index_returns, company_returns).slope\n",
    "    expected_return = risk_free_rate + beta * (index_returns.mean() * 252 - risk_free_rate)\n",
    "    return company_returns.mean() * 252 - expected_return\n"
   ]
  },
  {
   "cell_type": "code",
   "execution_count": 47,
   "metadata": {},
   "outputs": [],
   "source": [
    "\n",
    "def main(ticker, sector_index_ticker=\"XLK\", start_date=\"2012-01-01\", end_date=\"2024-06-30\"):\n",
    "    company_data, company_info = download_stock_data(ticker, start_date, end_date)\n",
    "    sector_index_data, _ = download_stock_data(sector_index_ticker, start_date, end_date)\n",
    "\n",
    "    metrics = {\n",
    "        'P/E Ratio': company_info.get('forwardEps') / company_info.get('previousClose') if company_info.get('forwardEps') and company_info.get('previousClose') else None,\n",
    "        'P/B Ratio': company_info.get('priceToBook'),\n",
    "        'Dividend Yield': company_info.get('dividendYield'),\n",
    "        'Dividend Payout Ratio': company_info.get('payoutRatio'),\n",
    "        'ROE': company_info.get('returnOnEquity'),\n",
    "        'ROA': company_info.get('returnOnAssets'),\n",
    "        'Beta': company_info.get('beta'),\n",
    "        'Market Capitalization': company_info.get('marketCap'),\n",
    "        'Revenue Growth': company_info.get('revenueGrowth'),\n",
    "        'Debt-to-Equity Ratio': company_info.get('debtToEquity'),\n",
    "        'Free Cash Flow': company_info.get('freeCashflow'),\n",
    "        'Current Ratio': company_info.get('currentRatio'),\n",
    "        'Quick Ratio': company_info.get('quickRatio'),\n",
    "        'PEG Ratio': company_info.get('pegRatio'),\n",
    "        'Standard Deviation': calculate_standard_deviation(company_data),\n",
    "        'Value at Risk (VaR)': calculate_var(company_data),\n",
    "        'Sharpe Ratio': calculate_sharpe_ratio(company_data),\n",
    "        'Sortino Ratio': calculate_sortino_ratio(company_data),\n",
    "        'Maximum Drawdown': calculate_max_drawdown(company_data),\n",
    "        'Downside Deviation': calculate_downside_deviation(company_data),\n",
    "        'Tracking Error': calculate_tracking_error(company_data, sector_index_data),\n",
    "        'R-squared': calculate_r_squared(company_data, sector_index_data),\n",
    "        'Treynor Ratio': calculate_treynor_ratio(company_data, beta=company_info.get('beta')),\n",
    "        'Information Ratio': calculate_information_ratio(company_data, sector_index_data),\n",
    "        'Conditional Value at Risk (CVaR)': calculate_cvar(company_data),\n",
    "        'Beta-adjusted Sharpe Ratio': calculate_beta_adjusted_sharpe_ratio(company_data, sector_index_data),\n",
    "        'Drawdown Duration': calculate_drawdown_duration(company_data),\n",
    "        'Ulcer Index': calculate_ulcer_index(company_data),\n",
    "        'Jensens Alpha': calculate_jensens_alpha(company_data, sector_index_data)\n",
    "    }\n",
    "\n",
    "    # Add metrics to the company data\n",
    "    for metric, value in metrics.items():\n",
    "        company_data[metric] = value\n",
    "\n",
    "    # Save the data to a CSV file\n",
    "    output_filename = f\"{ticker}_data_with_metrics.csv\"\n",
    "    company_data.to_csv(output_filename)\n",
    "    print(f\"Data saved to {output_filename}\")\n",
    "\n"
   ]
  },
  {
   "cell_type": "code",
   "execution_count": 48,
   "metadata": {},
   "outputs": [
    {
     "name": "stdout",
     "output_type": "stream",
     "text": [
      "Data saved to MMM_data_with_metrics.csv\n",
      "Data saved to AOS_data_with_metrics.csv\n",
      "Data saved to ABT_data_with_metrics.csv\n",
      "An error occurred with ticker ABBV: all the input array dimensions except for the concatenation axis must match exactly, but along dimension 1, the array at index 0 has size 3141 and the array at index 1 has size 2891\n",
      "Data saved to ACN_data_with_metrics.csv\n"
     ]
    },
    {
     "name": "stderr",
     "output_type": "stream",
     "text": [
      "$ATVI: possibly delisted; no timezone found\n",
      "404 Client Error: Not Found for url: https://query2.finance.yahoo.com/v10/finance/quoteSummary/ATVI?modules=financialData%2CquoteType%2CdefaultKeyStatistics%2CassetProfile%2CsummaryDetail&corsDomain=finance.yahoo.com&formatted=false&symbol=ATVI&crumb=DMZZV4qzhQk\n"
     ]
    },
    {
     "name": "stdout",
     "output_type": "stream",
     "text": [
      "An error occurred with ticker ATVI: attempt to get argmax of an empty sequence\n",
      "Data saved to ADM_data_with_metrics.csv\n",
      "Data saved to ADBE_data_with_metrics.csv\n",
      "Data saved to ADP_data_with_metrics.csv\n",
      "Data saved to AAP_data_with_metrics.csv\n",
      "Data saved to AES_data_with_metrics.csv\n",
      "Data saved to AFL_data_with_metrics.csv\n",
      "Data saved to A_data_with_metrics.csv\n",
      "Data saved to APD_data_with_metrics.csv\n",
      "Data saved to AKAM_data_with_metrics.csv\n",
      "Data saved to ALK_data_with_metrics.csv\n",
      "Data saved to ALB_data_with_metrics.csv\n",
      "Data saved to ARE_data_with_metrics.csv\n",
      "Data saved to ALGN_data_with_metrics.csv\n",
      "An error occurred with ticker ALLE: all the input array dimensions except for the concatenation axis must match exactly, but along dimension 1, the array at index 0 has size 3141 and the array at index 1 has size 2669\n",
      "Data saved to LNT_data_with_metrics.csv\n",
      "Data saved to ALL_data_with_metrics.csv\n",
      "Data saved to GOOGL_data_with_metrics.csv\n",
      "Data saved to GOOG_data_with_metrics.csv\n",
      "Data saved to MO_data_with_metrics.csv\n",
      "Data saved to AMZN_data_with_metrics.csv\n",
      "An error occurred with ticker AMCR: all the input array dimensions except for the concatenation axis must match exactly, but along dimension 1, the array at index 0 has size 3141 and the array at index 1 has size 3049\n",
      "Data saved to AMD_data_with_metrics.csv\n",
      "Data saved to AEE_data_with_metrics.csv\n",
      "Data saved to AAL_data_with_metrics.csv\n",
      "Data saved to AEP_data_with_metrics.csv\n",
      "Data saved to AXP_data_with_metrics.csv\n",
      "Data saved to AIG_data_with_metrics.csv\n",
      "Data saved to AMT_data_with_metrics.csv\n",
      "Data saved to AWK_data_with_metrics.csv\n",
      "Data saved to AMP_data_with_metrics.csv\n"
     ]
    },
    {
     "name": "stderr",
     "output_type": "stream",
     "text": [
      "$ABC: possibly delisted; no timezone found\n",
      "404 Client Error: Not Found for url: https://query2.finance.yahoo.com/v10/finance/quoteSummary/ABC?modules=financialData%2CquoteType%2CdefaultKeyStatistics%2CassetProfile%2CsummaryDetail&corsDomain=finance.yahoo.com&formatted=false&symbol=ABC&crumb=DMZZV4qzhQk\n"
     ]
    },
    {
     "name": "stdout",
     "output_type": "stream",
     "text": [
      "An error occurred with ticker ABC: attempt to get argmax of an empty sequence\n",
      "Data saved to AME_data_with_metrics.csv\n",
      "Data saved to AMGN_data_with_metrics.csv\n",
      "Data saved to APH_data_with_metrics.csv\n",
      "Data saved to ADI_data_with_metrics.csv\n",
      "Data saved to ANSS_data_with_metrics.csv\n"
     ]
    },
    {
     "name": "stderr",
     "output_type": "stream",
     "text": [
      "$ANTM: possibly delisted; no timezone found\n"
     ]
    },
    {
     "name": "stdout",
     "output_type": "stream",
     "text": [
      "An error occurred with ticker ANTM: attempt to get argmax of an empty sequence\n",
      "Data saved to AON_data_with_metrics.csv\n",
      "Data saved to APA_data_with_metrics.csv\n",
      "Data saved to AAPL_data_with_metrics.csv\n",
      "Data saved to AMAT_data_with_metrics.csv\n",
      "Data saved to APTV_data_with_metrics.csv\n",
      "An error occurred with ticker ANET: all the input array dimensions except for the concatenation axis must match exactly, but along dimension 1, the array at index 0 has size 3141 and the array at index 1 has size 2532\n",
      "Data saved to AJG_data_with_metrics.csv\n",
      "Data saved to AIZ_data_with_metrics.csv\n",
      "Data saved to T_data_with_metrics.csv\n",
      "Data saved to ATO_data_with_metrics.csv\n",
      "Data saved to ADSK_data_with_metrics.csv\n",
      "Data saved to AZO_data_with_metrics.csv\n",
      "Data saved to AVB_data_with_metrics.csv\n",
      "Data saved to AVY_data_with_metrics.csv\n",
      "Data saved to BKR_data_with_metrics.csv\n",
      "Data saved to BALL_data_with_metrics.csv\n",
      "Data saved to BAC_data_with_metrics.csv\n",
      "Data saved to BBWI_data_with_metrics.csv\n",
      "Data saved to BAX_data_with_metrics.csv\n",
      "Data saved to BDX_data_with_metrics.csv\n",
      "Data saved to WRB_data_with_metrics.csv\n"
     ]
    },
    {
     "name": "stderr",
     "output_type": "stream",
     "text": [
      "$BRK.B: possibly delisted; no timezone found\n"
     ]
    },
    {
     "name": "stdout",
     "output_type": "stream",
     "text": [
      "An error occurred with ticker BRK.B: attempt to get argmax of an empty sequence\n",
      "Data saved to BBY_data_with_metrics.csv\n",
      "Data saved to BIO_data_with_metrics.csv\n",
      "Data saved to TECH_data_with_metrics.csv\n",
      "Data saved to BIIB_data_with_metrics.csv\n",
      "Data saved to BLK_data_with_metrics.csv\n",
      "Data saved to BK_data_with_metrics.csv\n",
      "Data saved to BA_data_with_metrics.csv\n",
      "Data saved to BKNG_data_with_metrics.csv\n",
      "Data saved to BWA_data_with_metrics.csv\n",
      "Data saved to BXP_data_with_metrics.csv\n",
      "Data saved to BSX_data_with_metrics.csv\n",
      "Data saved to BMY_data_with_metrics.csv\n",
      "Data saved to AVGO_data_with_metrics.csv\n",
      "Data saved to BR_data_with_metrics.csv\n",
      "Data saved to BRO_data_with_metrics.csv\n"
     ]
    },
    {
     "name": "stderr",
     "output_type": "stream",
     "text": [
      "$BF.B: possibly delisted; no price data found  (1d 2012-01-01 -> 2024-06-30)\n"
     ]
    },
    {
     "name": "stdout",
     "output_type": "stream",
     "text": [
      "An error occurred with ticker BF.B: attempt to get argmax of an empty sequence\n",
      "Data saved to CHRW_data_with_metrics.csv\n"
     ]
    },
    {
     "name": "stderr",
     "output_type": "stream",
     "text": [
      "$COG: possibly delisted; no timezone found\n"
     ]
    },
    {
     "name": "stdout",
     "output_type": "stream",
     "text": [
      "An error occurred with ticker COG: attempt to get argmax of an empty sequence\n",
      "Data saved to CDNS_data_with_metrics.csv\n",
      "Data saved to CPB_data_with_metrics.csv\n",
      "Data saved to COF_data_with_metrics.csv\n",
      "Data saved to CAH_data_with_metrics.csv\n",
      "Data saved to KMX_data_with_metrics.csv\n",
      "Data saved to CCL_data_with_metrics.csv\n",
      "An error occurred with ticker CARR: all the input array dimensions except for the concatenation axis must match exactly, but along dimension 1, the array at index 0 has size 3141 and the array at index 1 has size 1076\n",
      "An error occurred with ticker CTLT: all the input array dimensions except for the concatenation axis must match exactly, but along dimension 1, the array at index 0 has size 3141 and the array at index 1 has size 2494\n",
      "Data saved to CAT_data_with_metrics.csv\n",
      "Data saved to CBOE_data_with_metrics.csv\n",
      "Data saved to CBRE_data_with_metrics.csv\n",
      "An error occurred with ticker CDW: all the input array dimensions except for the concatenation axis must match exactly, but along dimension 1, the array at index 0 has size 3141 and the array at index 1 has size 2769\n",
      "Data saved to CE_data_with_metrics.csv\n",
      "Data saved to CNC_data_with_metrics.csv\n",
      "Data saved to CNP_data_with_metrics.csv\n"
     ]
    },
    {
     "name": "stderr",
     "output_type": "stream",
     "text": [
      "$CERN: possibly delisted; no timezone found\n"
     ]
    },
    {
     "name": "stdout",
     "output_type": "stream",
     "text": [
      "An error occurred with ticker CERN: attempt to get argmax of an empty sequence\n",
      "Data saved to CF_data_with_metrics.csv\n",
      "Data saved to CRL_data_with_metrics.csv\n",
      "Data saved to SCHW_data_with_metrics.csv\n",
      "Data saved to CHTR_data_with_metrics.csv\n",
      "Data saved to CVX_data_with_metrics.csv\n",
      "Data saved to CMG_data_with_metrics.csv\n",
      "Data saved to CB_data_with_metrics.csv\n",
      "Data saved to CHD_data_with_metrics.csv\n",
      "Data saved to CI_data_with_metrics.csv\n",
      "Data saved to CINF_data_with_metrics.csv\n",
      "Data saved to CTAS_data_with_metrics.csv\n",
      "Data saved to CSCO_data_with_metrics.csv\n",
      "Data saved to C_data_with_metrics.csv\n",
      "An error occurred with ticker CFG: all the input array dimensions except for the concatenation axis must match exactly, but along dimension 1, the array at index 0 has size 3141 and the array at index 1 has size 2456\n"
     ]
    },
    {
     "name": "stderr",
     "output_type": "stream",
     "text": [
      "$CTXS: possibly delisted; no timezone found\n"
     ]
    },
    {
     "name": "stdout",
     "output_type": "stream",
     "text": [
      "An error occurred with ticker CTXS: attempt to get argmax of an empty sequence\n",
      "Data saved to CLX_data_with_metrics.csv\n",
      "Data saved to CME_data_with_metrics.csv\n",
      "Data saved to CMS_data_with_metrics.csv\n",
      "Data saved to KO_data_with_metrics.csv\n",
      "Data saved to CTSH_data_with_metrics.csv\n",
      "Data saved to CL_data_with_metrics.csv\n",
      "Data saved to CMCSA_data_with_metrics.csv\n",
      "Data saved to CMA_data_with_metrics.csv\n",
      "Data saved to CAG_data_with_metrics.csv\n",
      "Data saved to COP_data_with_metrics.csv\n",
      "Data saved to ED_data_with_metrics.csv\n",
      "Data saved to STZ_data_with_metrics.csv\n",
      "Data saved to COO_data_with_metrics.csv\n",
      "Data saved to CPRT_data_with_metrics.csv\n",
      "Data saved to GLW_data_with_metrics.csv\n",
      "An error occurred with ticker CTVA: all the input array dimensions except for the concatenation axis must match exactly, but along dimension 1, the array at index 0 has size 3141 and the array at index 1 has size 1282\n",
      "Data saved to COST_data_with_metrics.csv\n",
      "Data saved to CTRA_data_with_metrics.csv\n",
      "Data saved to CCI_data_with_metrics.csv\n",
      "Data saved to CSX_data_with_metrics.csv\n",
      "Data saved to CMI_data_with_metrics.csv\n",
      "Data saved to CVS_data_with_metrics.csv\n",
      "Data saved to DHI_data_with_metrics.csv\n",
      "Data saved to DHR_data_with_metrics.csv\n",
      "Data saved to DRI_data_with_metrics.csv\n",
      "Data saved to DVA_data_with_metrics.csv\n",
      "Data saved to DE_data_with_metrics.csv\n",
      "Data saved to DAL_data_with_metrics.csv\n",
      "Data saved to XRAY_data_with_metrics.csv\n",
      "Data saved to DVN_data_with_metrics.csv\n",
      "Data saved to DXCM_data_with_metrics.csv\n",
      "An error occurred with ticker FANG: all the input array dimensions except for the concatenation axis must match exactly, but along dimension 1, the array at index 0 has size 3141 and the array at index 1 has size 2944\n",
      "Data saved to DLR_data_with_metrics.csv\n",
      "Data saved to DFS_data_with_metrics.csv\n"
     ]
    },
    {
     "name": "stderr",
     "output_type": "stream",
     "text": [
      "$DISCA: possibly delisted; no timezone found\n"
     ]
    },
    {
     "name": "stdout",
     "output_type": "stream",
     "text": [
      "An error occurred with ticker DISCA: attempt to get argmax of an empty sequence\n"
     ]
    },
    {
     "name": "stderr",
     "output_type": "stream",
     "text": [
      "$DISCK: possibly delisted; no timezone found\n"
     ]
    },
    {
     "name": "stdout",
     "output_type": "stream",
     "text": [
      "An error occurred with ticker DISCK: attempt to get argmax of an empty sequence\n"
     ]
    },
    {
     "name": "stderr",
     "output_type": "stream",
     "text": [
      "$DISH: possibly delisted; no timezone found\n",
      "404 Client Error: Not Found for url: https://query2.finance.yahoo.com/v10/finance/quoteSummary/DISH?modules=financialData%2CquoteType%2CdefaultKeyStatistics%2CassetProfile%2CsummaryDetail&corsDomain=finance.yahoo.com&formatted=false&symbol=DISH&crumb=DMZZV4qzhQk\n"
     ]
    },
    {
     "name": "stdout",
     "output_type": "stream",
     "text": [
      "An error occurred with ticker DISH: attempt to get argmax of an empty sequence\n",
      "Data saved to DG_data_with_metrics.csv\n",
      "Data saved to DLTR_data_with_metrics.csv\n",
      "Data saved to D_data_with_metrics.csv\n",
      "Data saved to DPZ_data_with_metrics.csv\n",
      "Data saved to DOV_data_with_metrics.csv\n",
      "An error occurred with ticker DOW: all the input array dimensions except for the concatenation axis must match exactly, but along dimension 1, the array at index 0 has size 3141 and the array at index 1 has size 1328\n",
      "Data saved to DTE_data_with_metrics.csv\n",
      "Data saved to DUK_data_with_metrics.csv\n"
     ]
    },
    {
     "name": "stderr",
     "output_type": "stream",
     "text": [
      "$DRE: possibly delisted; no timezone found\n"
     ]
    },
    {
     "name": "stdout",
     "output_type": "stream",
     "text": [
      "An error occurred with ticker DRE: attempt to get argmax of an empty sequence\n",
      "Data saved to DD_data_with_metrics.csv\n",
      "Data saved to DXC_data_with_metrics.csv\n",
      "Data saved to EMN_data_with_metrics.csv\n",
      "Data saved to ETN_data_with_metrics.csv\n",
      "Data saved to EBAY_data_with_metrics.csv\n",
      "Data saved to ECL_data_with_metrics.csv\n",
      "Data saved to EIX_data_with_metrics.csv\n",
      "Data saved to EW_data_with_metrics.csv\n",
      "Data saved to EA_data_with_metrics.csv\n",
      "Data saved to EMR_data_with_metrics.csv\n",
      "An error occurred with ticker ENPH: all the input array dimensions except for the concatenation axis must match exactly, but along dimension 1, the array at index 0 has size 3141 and the array at index 1 has size 3080\n",
      "Data saved to ETR_data_with_metrics.csv\n",
      "Data saved to EOG_data_with_metrics.csv\n",
      "Data saved to EFX_data_with_metrics.csv\n",
      "Data saved to EQIX_data_with_metrics.csv\n",
      "Data saved to EQR_data_with_metrics.csv\n",
      "Data saved to ESS_data_with_metrics.csv\n",
      "Data saved to EL_data_with_metrics.csv\n",
      "An error occurred with ticker ETSY: all the input array dimensions except for the concatenation axis must match exactly, but along dimension 1, the array at index 0 has size 3141 and the array at index 1 has size 2316\n"
     ]
    },
    {
     "name": "stderr",
     "output_type": "stream",
     "text": [
      "$RE: possibly delisted; no timezone found\n",
      "404 Client Error: Not Found for url: https://query2.finance.yahoo.com/v10/finance/quoteSummary/RE?modules=financialData%2CquoteType%2CdefaultKeyStatistics%2CassetProfile%2CsummaryDetail&corsDomain=finance.yahoo.com&formatted=false&symbol=RE&crumb=DMZZV4qzhQk\n"
     ]
    },
    {
     "name": "stdout",
     "output_type": "stream",
     "text": [
      "An error occurred with ticker RE: attempt to get argmax of an empty sequence\n",
      "Data saved to EVRG_data_with_metrics.csv\n",
      "Data saved to ES_data_with_metrics.csv\n",
      "Data saved to EXC_data_with_metrics.csv\n",
      "Data saved to EXPE_data_with_metrics.csv\n",
      "Data saved to EXPD_data_with_metrics.csv\n",
      "Data saved to EXR_data_with_metrics.csv\n",
      "Data saved to XOM_data_with_metrics.csv\n",
      "Data saved to FFIV_data_with_metrics.csv\n"
     ]
    },
    {
     "name": "stderr",
     "output_type": "stream",
     "text": [
      "$FB: possibly delisted; no timezone found\n"
     ]
    },
    {
     "name": "stdout",
     "output_type": "stream",
     "text": [
      "An error occurred with ticker FB: attempt to get argmax of an empty sequence\n",
      "Data saved to FAST_data_with_metrics.csv\n",
      "Data saved to FRT_data_with_metrics.csv\n",
      "Data saved to FDX_data_with_metrics.csv\n",
      "Data saved to FIS_data_with_metrics.csv\n",
      "Data saved to FITB_data_with_metrics.csv\n",
      "Data saved to FE_data_with_metrics.csv\n"
     ]
    },
    {
     "name": "stderr",
     "output_type": "stream",
     "text": [
      "$FRC: possibly delisted; no timezone found\n"
     ]
    },
    {
     "name": "stdout",
     "output_type": "stream",
     "text": [
      "An error occurred with ticker FRC: attempt to get argmax of an empty sequence\n",
      "An error occurred with ticker FISV: all the input array dimensions except for the concatenation axis must match exactly, but along dimension 1, the array at index 0 has size 3141 and the array at index 1 has size 272\n"
     ]
    },
    {
     "name": "stderr",
     "output_type": "stream",
     "text": [
      "$FLT: possibly delisted; no timezone found\n",
      "404 Client Error: Not Found for url: https://query2.finance.yahoo.com/v10/finance/quoteSummary/FLT?modules=financialData%2CquoteType%2CdefaultKeyStatistics%2CassetProfile%2CsummaryDetail&corsDomain=finance.yahoo.com&formatted=false&symbol=FLT&crumb=DMZZV4qzhQk\n"
     ]
    },
    {
     "name": "stdout",
     "output_type": "stream",
     "text": [
      "An error occurred with ticker FLT: attempt to get argmax of an empty sequence\n",
      "Data saved to FMC_data_with_metrics.csv\n",
      "Data saved to F_data_with_metrics.csv\n",
      "Data saved to FTNT_data_with_metrics.csv\n",
      "An error occurred with ticker FTV: all the input array dimensions except for the concatenation axis must match exactly, but along dimension 1, the array at index 0 has size 3141 and the array at index 1 has size 2009\n"
     ]
    },
    {
     "name": "stderr",
     "output_type": "stream",
     "text": [
      "$FBHS: possibly delisted; no timezone found\n"
     ]
    },
    {
     "name": "stdout",
     "output_type": "stream",
     "text": [
      "An error occurred with ticker FBHS: attempt to get argmax of an empty sequence\n",
      "An error occurred with ticker FOXA: all the input array dimensions except for the concatenation axis must match exactly, but along dimension 1, the array at index 0 has size 3141 and the array at index 1 has size 1334\n",
      "An error occurred with ticker FOX: all the input array dimensions except for the concatenation axis must match exactly, but along dimension 1, the array at index 0 has size 3141 and the array at index 1 has size 1333\n",
      "Data saved to BEN_data_with_metrics.csv\n",
      "Data saved to FCX_data_with_metrics.csv\n",
      "Data saved to GPS_data_with_metrics.csv\n",
      "Data saved to GRMN_data_with_metrics.csv\n",
      "Data saved to IT_data_with_metrics.csv\n",
      "Data saved to GNRC_data_with_metrics.csv\n",
      "Data saved to GD_data_with_metrics.csv\n",
      "Data saved to GE_data_with_metrics.csv\n",
      "Data saved to GIS_data_with_metrics.csv\n",
      "Data saved to GM_data_with_metrics.csv\n",
      "Data saved to GPC_data_with_metrics.csv\n",
      "Data saved to GILD_data_with_metrics.csv\n",
      "Data saved to GL_data_with_metrics.csv\n",
      "Data saved to GPN_data_with_metrics.csv\n",
      "Data saved to GS_data_with_metrics.csv\n",
      "Data saved to HAL_data_with_metrics.csv\n",
      "Data saved to HIG_data_with_metrics.csv\n",
      "Data saved to HAS_data_with_metrics.csv\n",
      "Data saved to HCA_data_with_metrics.csv\n"
     ]
    },
    {
     "name": "stderr",
     "output_type": "stream",
     "text": [
      "$PEAK: possibly delisted; no timezone found\n",
      "404 Client Error: Not Found for url: https://query2.finance.yahoo.com/v10/finance/quoteSummary/PEAK?modules=financialData%2CquoteType%2CdefaultKeyStatistics%2CassetProfile%2CsummaryDetail&corsDomain=finance.yahoo.com&formatted=false&symbol=PEAK&crumb=DMZZV4qzhQk\n"
     ]
    },
    {
     "name": "stdout",
     "output_type": "stream",
     "text": [
      "An error occurred with ticker PEAK: attempt to get argmax of an empty sequence\n",
      "Data saved to HSIC_data_with_metrics.csv\n",
      "Data saved to HSY_data_with_metrics.csv\n",
      "Data saved to HES_data_with_metrics.csv\n",
      "An error occurred with ticker HPE: all the input array dimensions except for the concatenation axis must match exactly, but along dimension 1, the array at index 0 has size 3141 and the array at index 1 has size 2187\n",
      "An error occurred with ticker HLT: all the input array dimensions except for the concatenation axis must match exactly, but along dimension 1, the array at index 0 has size 3141 and the array at index 1 has size 2652\n",
      "Data saved to HOLX_data_with_metrics.csv\n",
      "Data saved to HD_data_with_metrics.csv\n",
      "Data saved to HON_data_with_metrics.csv\n",
      "Data saved to HRL_data_with_metrics.csv\n",
      "Data saved to HST_data_with_metrics.csv\n",
      "An error occurred with ticker HWM: all the input array dimensions except for the concatenation axis must match exactly, but along dimension 1, the array at index 0 has size 3141 and the array at index 1 has size 1925\n",
      "Data saved to HPQ_data_with_metrics.csv\n",
      "Data saved to HUM_data_with_metrics.csv\n",
      "Data saved to HBAN_data_with_metrics.csv\n",
      "Data saved to HII_data_with_metrics.csv\n",
      "Data saved to IBM_data_with_metrics.csv\n",
      "Data saved to IEX_data_with_metrics.csv\n",
      "Data saved to IDXX_data_with_metrics.csv\n"
     ]
    },
    {
     "name": "stderr",
     "output_type": "stream",
     "text": [
      "$INFO: possibly delisted; no timezone found\n"
     ]
    },
    {
     "name": "stdout",
     "output_type": "stream",
     "text": [
      "An error occurred with ticker INFO: attempt to get argmax of an empty sequence\n",
      "Data saved to ITW_data_with_metrics.csv\n",
      "Data saved to ILMN_data_with_metrics.csv\n",
      "Data saved to INCY_data_with_metrics.csv\n",
      "An error occurred with ticker IR: all the input array dimensions except for the concatenation axis must match exactly, but along dimension 1, the array at index 0 has size 3141 and the array at index 1 has size 1793\n",
      "Data saved to INTC_data_with_metrics.csv\n",
      "Data saved to ICE_data_with_metrics.csv\n",
      "Data saved to IP_data_with_metrics.csv\n",
      "Data saved to IPG_data_with_metrics.csv\n",
      "Data saved to IFF_data_with_metrics.csv\n",
      "Data saved to INTU_data_with_metrics.csv\n",
      "Data saved to ISRG_data_with_metrics.csv\n",
      "Data saved to IVZ_data_with_metrics.csv\n",
      "Data saved to IPGP_data_with_metrics.csv\n",
      "An error occurred with ticker IQV: all the input array dimensions except for the concatenation axis must match exactly, but along dimension 1, the array at index 0 has size 3141 and the array at index 1 has size 2803\n",
      "Data saved to IRM_data_with_metrics.csv\n",
      "Data saved to JBHT_data_with_metrics.csv\n",
      "Data saved to JKHY_data_with_metrics.csv\n",
      "Data saved to J_data_with_metrics.csv\n",
      "Data saved to JNJ_data_with_metrics.csv\n",
      "Data saved to JCI_data_with_metrics.csv\n",
      "Data saved to JPM_data_with_metrics.csv\n",
      "Data saved to JNPR_data_with_metrics.csv\n",
      "Data saved to K_data_with_metrics.csv\n",
      "Data saved to KEY_data_with_metrics.csv\n",
      "An error occurred with ticker KEYS: all the input array dimensions except for the concatenation axis must match exactly, but along dimension 1, the array at index 0 has size 3141 and the array at index 1 has size 2438\n",
      "Data saved to KMB_data_with_metrics.csv\n",
      "Data saved to KIM_data_with_metrics.csv\n",
      "Data saved to KMI_data_with_metrics.csv\n",
      "Data saved to KLAC_data_with_metrics.csv\n",
      "An error occurred with ticker KHC: all the input array dimensions except for the concatenation axis must match exactly, but along dimension 1, the array at index 0 has size 3141 and the array at index 1 has size 2261\n",
      "Data saved to KR_data_with_metrics.csv\n",
      "Data saved to LHX_data_with_metrics.csv\n",
      "Data saved to LH_data_with_metrics.csv\n",
      "Data saved to LRCX_data_with_metrics.csv\n",
      "An error occurred with ticker LW: all the input array dimensions except for the concatenation axis must match exactly, but along dimension 1, the array at index 0 has size 3141 and the array at index 1 has size 1918\n",
      "Data saved to LVS_data_with_metrics.csv\n",
      "Data saved to LDOS_data_with_metrics.csv\n",
      "Data saved to LEN_data_with_metrics.csv\n",
      "Data saved to LLY_data_with_metrics.csv\n",
      "Data saved to LNC_data_with_metrics.csv\n",
      "Data saved to LIN_data_with_metrics.csv\n",
      "Data saved to LYV_data_with_metrics.csv\n",
      "Data saved to LKQ_data_with_metrics.csv\n",
      "Data saved to LMT_data_with_metrics.csv\n",
      "Data saved to L_data_with_metrics.csv\n",
      "Data saved to LOW_data_with_metrics.csv\n",
      "Data saved to LUMN_data_with_metrics.csv\n",
      "Data saved to LYB_data_with_metrics.csv\n",
      "Data saved to MTB_data_with_metrics.csv\n",
      "Data saved to MRO_data_with_metrics.csv\n",
      "Data saved to MPC_data_with_metrics.csv\n",
      "Data saved to MKTX_data_with_metrics.csv\n",
      "Data saved to MAR_data_with_metrics.csv\n",
      "Data saved to MMC_data_with_metrics.csv\n",
      "Data saved to MLM_data_with_metrics.csv\n",
      "Data saved to MAS_data_with_metrics.csv\n",
      "Data saved to MA_data_with_metrics.csv\n",
      "Data saved to MTCH_data_with_metrics.csv\n",
      "Data saved to MKC_data_with_metrics.csv\n",
      "Data saved to MCD_data_with_metrics.csv\n",
      "Data saved to MCK_data_with_metrics.csv\n",
      "Data saved to MDT_data_with_metrics.csv\n",
      "Data saved to MRK_data_with_metrics.csv\n",
      "Data saved to MET_data_with_metrics.csv\n",
      "Data saved to MTD_data_with_metrics.csv\n",
      "Data saved to MGM_data_with_metrics.csv\n",
      "Data saved to MCHP_data_with_metrics.csv\n",
      "Data saved to MU_data_with_metrics.csv\n",
      "Data saved to MSFT_data_with_metrics.csv\n",
      "Data saved to MAA_data_with_metrics.csv\n",
      "An error occurred with ticker MRNA: all the input array dimensions except for the concatenation axis must match exactly, but along dimension 1, the array at index 0 has size 3141 and the array at index 1 has size 1397\n",
      "Data saved to MHK_data_with_metrics.csv\n",
      "Data saved to TAP_data_with_metrics.csv\n",
      "Data saved to MDLZ_data_with_metrics.csv\n",
      "Data saved to MPWR_data_with_metrics.csv\n",
      "Data saved to MNST_data_with_metrics.csv\n",
      "Data saved to MCO_data_with_metrics.csv\n",
      "Data saved to MS_data_with_metrics.csv\n",
      "Data saved to MOS_data_with_metrics.csv\n",
      "Data saved to MSI_data_with_metrics.csv\n",
      "Data saved to MSCI_data_with_metrics.csv\n",
      "Data saved to NDAQ_data_with_metrics.csv\n",
      "Data saved to NTAP_data_with_metrics.csv\n",
      "Data saved to NFLX_data_with_metrics.csv\n",
      "Data saved to NWL_data_with_metrics.csv\n",
      "Data saved to NEM_data_with_metrics.csv\n",
      "An error occurred with ticker NWSA: all the input array dimensions except for the concatenation axis must match exactly, but along dimension 1, the array at index 0 has size 3141 and the array at index 1 has size 2775\n",
      "An error occurred with ticker NWS: all the input array dimensions except for the concatenation axis must match exactly, but along dimension 1, the array at index 0 has size 3141 and the array at index 1 has size 2775\n",
      "Data saved to NEE_data_with_metrics.csv\n"
     ]
    },
    {
     "name": "stderr",
     "output_type": "stream",
     "text": [
      "$NLSN: possibly delisted; no timezone found\n"
     ]
    },
    {
     "name": "stdout",
     "output_type": "stream",
     "text": [
      "An error occurred with ticker NLSN: attempt to get argmax of an empty sequence\n",
      "Data saved to NKE_data_with_metrics.csv\n",
      "Data saved to NI_data_with_metrics.csv\n",
      "Data saved to NSC_data_with_metrics.csv\n",
      "Data saved to NTRS_data_with_metrics.csv\n",
      "Data saved to NOC_data_with_metrics.csv\n"
     ]
    },
    {
     "name": "stderr",
     "output_type": "stream",
     "text": [
      "$NLOK: possibly delisted; no timezone found\n"
     ]
    },
    {
     "name": "stdout",
     "output_type": "stream",
     "text": [
      "An error occurred with ticker NLOK: attempt to get argmax of an empty sequence\n",
      "An error occurred with ticker NCLH: all the input array dimensions except for the concatenation axis must match exactly, but along dimension 1, the array at index 0 has size 3141 and the array at index 1 has size 2879\n",
      "Data saved to NRG_data_with_metrics.csv\n",
      "Data saved to NUE_data_with_metrics.csv\n",
      "Data saved to NVDA_data_with_metrics.csv\n",
      "Data saved to NVR_data_with_metrics.csv\n",
      "Data saved to NXPI_data_with_metrics.csv\n",
      "Data saved to ORLY_data_with_metrics.csv\n",
      "Data saved to OXY_data_with_metrics.csv\n",
      "Data saved to ODFL_data_with_metrics.csv\n",
      "Data saved to OMC_data_with_metrics.csv\n",
      "Data saved to OKE_data_with_metrics.csv\n",
      "Data saved to ORCL_data_with_metrics.csv\n",
      "An error occurred with ticker OGN: all the input array dimensions except for the concatenation axis must match exactly, but along dimension 1, the array at index 0 has size 3141 and the array at index 1 has size 785\n",
      "An error occurred with ticker OTIS: all the input array dimensions except for the concatenation axis must match exactly, but along dimension 1, the array at index 0 has size 3141 and the array at index 1 has size 1076\n",
      "Data saved to PCAR_data_with_metrics.csv\n",
      "Data saved to PKG_data_with_metrics.csv\n",
      "Data saved to PH_data_with_metrics.csv\n",
      "Data saved to PAYX_data_with_metrics.csv\n",
      "An error occurred with ticker PAYC: all the input array dimensions except for the concatenation axis must match exactly, but along dimension 1, the array at index 0 has size 3141 and the array at index 1 has size 2568\n",
      "An error occurred with ticker PYPL: all the input array dimensions except for the concatenation axis must match exactly, but along dimension 1, the array at index 0 has size 3141 and the array at index 1 has size 2261\n",
      "Data saved to PNR_data_with_metrics.csv\n"
     ]
    },
    {
     "name": "stderr",
     "output_type": "stream",
     "text": [
      "$PBCT: possibly delisted; no timezone found\n"
     ]
    },
    {
     "name": "stdout",
     "output_type": "stream",
     "text": [
      "An error occurred with ticker PBCT: attempt to get argmax of an empty sequence\n",
      "Data saved to PEP_data_with_metrics.csv\n"
     ]
    },
    {
     "name": "stderr",
     "output_type": "stream",
     "text": [
      "$PKI: possibly delisted; no timezone found\n"
     ]
    },
    {
     "name": "stdout",
     "output_type": "stream",
     "text": [
      "An error occurred with ticker PKI: attempt to get argmax of an empty sequence\n",
      "Data saved to PFE_data_with_metrics.csv\n",
      "Data saved to PM_data_with_metrics.csv\n",
      "An error occurred with ticker PSX: all the input array dimensions except for the concatenation axis must match exactly, but along dimension 1, the array at index 0 has size 3141 and the array at index 1 has size 3072\n",
      "Data saved to PNW_data_with_metrics.csv\n"
     ]
    },
    {
     "name": "stderr",
     "output_type": "stream",
     "text": [
      "$PXD: possibly delisted; no timezone found\n",
      "404 Client Error: Not Found for url: https://query2.finance.yahoo.com/v10/finance/quoteSummary/PXD?modules=financialData%2CquoteType%2CdefaultKeyStatistics%2CassetProfile%2CsummaryDetail&corsDomain=finance.yahoo.com&formatted=false&symbol=PXD&crumb=DMZZV4qzhQk\n"
     ]
    },
    {
     "name": "stdout",
     "output_type": "stream",
     "text": [
      "An error occurred with ticker PXD: attempt to get argmax of an empty sequence\n",
      "Data saved to PNC_data_with_metrics.csv\n",
      "Data saved to POOL_data_with_metrics.csv\n",
      "Data saved to PPG_data_with_metrics.csv\n",
      "Data saved to PPL_data_with_metrics.csv\n",
      "Data saved to PFG_data_with_metrics.csv\n",
      "Data saved to PG_data_with_metrics.csv\n",
      "Data saved to PGR_data_with_metrics.csv\n",
      "Data saved to PLD_data_with_metrics.csv\n",
      "Data saved to PRU_data_with_metrics.csv\n",
      "Data saved to PEG_data_with_metrics.csv\n",
      "Data saved to PSA_data_with_metrics.csv\n",
      "Data saved to PHM_data_with_metrics.csv\n",
      "Data saved to PVH_data_with_metrics.csv\n",
      "An error occurred with ticker QRVO: all the input array dimensions except for the concatenation axis must match exactly, but along dimension 1, the array at index 0 has size 3141 and the array at index 1 has size 2387\n",
      "Data saved to QCOM_data_with_metrics.csv\n",
      "Data saved to PWR_data_with_metrics.csv\n",
      "Data saved to DGX_data_with_metrics.csv\n",
      "Data saved to RL_data_with_metrics.csv\n",
      "Data saved to RJF_data_with_metrics.csv\n",
      "Data saved to RTX_data_with_metrics.csv\n",
      "Data saved to O_data_with_metrics.csv\n",
      "Data saved to REG_data_with_metrics.csv\n",
      "Data saved to REGN_data_with_metrics.csv\n",
      "Data saved to RF_data_with_metrics.csv\n",
      "Data saved to RSG_data_with_metrics.csv\n",
      "Data saved to RMD_data_with_metrics.csv\n",
      "Data saved to RHI_data_with_metrics.csv\n",
      "Data saved to ROK_data_with_metrics.csv\n",
      "Data saved to ROL_data_with_metrics.csv\n",
      "Data saved to ROP_data_with_metrics.csv\n",
      "Data saved to ROST_data_with_metrics.csv\n",
      "Data saved to RCL_data_with_metrics.csv\n",
      "Data saved to SPGI_data_with_metrics.csv\n",
      "Data saved to CRM_data_with_metrics.csv\n",
      "Data saved to SBAC_data_with_metrics.csv\n",
      "Data saved to SLB_data_with_metrics.csv\n",
      "Data saved to STX_data_with_metrics.csv\n",
      "Data saved to SEE_data_with_metrics.csv\n",
      "Data saved to SRE_data_with_metrics.csv\n",
      "An error occurred with ticker NOW: all the input array dimensions except for the concatenation axis must match exactly, but along dimension 1, the array at index 0 has size 3141 and the array at index 1 has size 3017\n",
      "Data saved to SHW_data_with_metrics.csv\n",
      "Data saved to SPG_data_with_metrics.csv\n",
      "Data saved to SWKS_data_with_metrics.csv\n",
      "Data saved to SBUX_data_with_metrics.csv\n",
      "Data saved to STT_data_with_metrics.csv\n",
      "Data saved to STE_data_with_metrics.csv\n",
      "Data saved to SYK_data_with_metrics.csv\n"
     ]
    },
    {
     "name": "stderr",
     "output_type": "stream",
     "text": [
      "$SIVB: possibly delisted; no price data found  (1d 2012-01-01 -> 2024-06-30)\n"
     ]
    },
    {
     "name": "stdout",
     "output_type": "stream",
     "text": [
      "An error occurred with ticker SIVB: attempt to get argmax of an empty sequence\n",
      "An error occurred with ticker SYF: all the input array dimensions except for the concatenation axis must match exactly, but along dimension 1, the array at index 0 has size 3141 and the array at index 1 has size 2494\n",
      "Data saved to SNPS_data_with_metrics.csv\n",
      "Data saved to SYY_data_with_metrics.csv\n",
      "Data saved to TMUS_data_with_metrics.csv\n",
      "Data saved to TROW_data_with_metrics.csv\n",
      "Data saved to TTWO_data_with_metrics.csv\n",
      "Data saved to TPR_data_with_metrics.csv\n",
      "Data saved to TGT_data_with_metrics.csv\n",
      "Data saved to TEL_data_with_metrics.csv\n",
      "Data saved to TDY_data_with_metrics.csv\n",
      "Data saved to TFX_data_with_metrics.csv\n",
      "Data saved to TER_data_with_metrics.csv\n",
      "Data saved to TSLA_data_with_metrics.csv\n",
      "Data saved to TXN_data_with_metrics.csv\n",
      "Data saved to TXT_data_with_metrics.csv\n",
      "Data saved to TMO_data_with_metrics.csv\n",
      "Data saved to TJX_data_with_metrics.csv\n",
      "Data saved to TSCO_data_with_metrics.csv\n",
      "Data saved to TT_data_with_metrics.csv\n",
      "Data saved to TDG_data_with_metrics.csv\n",
      "Data saved to TRV_data_with_metrics.csv\n",
      "Data saved to TRMB_data_with_metrics.csv\n",
      "Data saved to TFC_data_with_metrics.csv\n"
     ]
    },
    {
     "name": "stderr",
     "output_type": "stream",
     "text": [
      "$TWTR: possibly delisted; no timezone found\n"
     ]
    },
    {
     "name": "stdout",
     "output_type": "stream",
     "text": [
      "An error occurred with ticker TWTR: attempt to get argmax of an empty sequence\n",
      "Data saved to TYL_data_with_metrics.csv\n",
      "Data saved to TSN_data_with_metrics.csv\n",
      "Data saved to USB_data_with_metrics.csv\n",
      "Data saved to UDR_data_with_metrics.csv\n",
      "Data saved to ULTA_data_with_metrics.csv\n",
      "Data saved to UAA_data_with_metrics.csv\n",
      "An error occurred with ticker UA: all the input array dimensions except for the concatenation axis must match exactly, but along dimension 1, the array at index 0 has size 3141 and the array at index 1 has size 2080\n",
      "Data saved to UNP_data_with_metrics.csv\n",
      "Data saved to UAL_data_with_metrics.csv\n",
      "Data saved to UPS_data_with_metrics.csv\n",
      "Data saved to URI_data_with_metrics.csv\n",
      "Data saved to UNH_data_with_metrics.csv\n",
      "Data saved to UHS_data_with_metrics.csv\n",
      "Data saved to VLO_data_with_metrics.csv\n",
      "Data saved to VTR_data_with_metrics.csv\n",
      "Data saved to VRSN_data_with_metrics.csv\n",
      "Data saved to VRSK_data_with_metrics.csv\n",
      "Data saved to VZ_data_with_metrics.csv\n",
      "Data saved to VRTX_data_with_metrics.csv\n",
      "Data saved to VFC_data_with_metrics.csv\n",
      "Data saved to VTRS_data_with_metrics.csv\n",
      "Data saved to V_data_with_metrics.csv\n",
      "An error occurred with ticker VNT: all the input array dimensions except for the concatenation axis must match exactly, but along dimension 1, the array at index 0 has size 3141 and the array at index 1 has size 945\n",
      "Data saved to VNO_data_with_metrics.csv\n",
      "Data saved to VMC_data_with_metrics.csv\n",
      "Data saved to WRK_data_with_metrics.csv\n",
      "Data saved to WAB_data_with_metrics.csv\n",
      "Data saved to WMT_data_with_metrics.csv\n",
      "Data saved to WBA_data_with_metrics.csv\n",
      "Data saved to DIS_data_with_metrics.csv\n",
      "Data saved to WM_data_with_metrics.csv\n",
      "Data saved to WAT_data_with_metrics.csv\n",
      "Data saved to WEC_data_with_metrics.csv\n",
      "Data saved to WFC_data_with_metrics.csv\n",
      "Data saved to WELL_data_with_metrics.csv\n",
      "Data saved to WST_data_with_metrics.csv\n",
      "Data saved to WDC_data_with_metrics.csv\n",
      "Data saved to WU_data_with_metrics.csv\n",
      "Data saved to WRB_data_with_metrics.csv\n",
      "Data saved to GWW_data_with_metrics.csv\n",
      "Data saved to WY_data_with_metrics.csv\n",
      "Data saved to WHR_data_with_metrics.csv\n",
      "Data saved to WMB_data_with_metrics.csv\n"
     ]
    },
    {
     "name": "stderr",
     "output_type": "stream",
     "text": [
      "$WLTW: possibly delisted; no timezone found\n"
     ]
    },
    {
     "name": "stdout",
     "output_type": "stream",
     "text": [
      "An error occurred with ticker WLTW: attempt to get argmax of an empty sequence\n",
      "Data saved to WYNN_data_with_metrics.csv\n",
      "Data saved to XEL_data_with_metrics.csv\n"
     ]
    },
    {
     "name": "stderr",
     "output_type": "stream",
     "text": [
      "$XLNX: possibly delisted; no timezone found\n"
     ]
    },
    {
     "name": "stdout",
     "output_type": "stream",
     "text": [
      "An error occurred with ticker XLNX: attempt to get argmax of an empty sequence\n",
      "Data saved to XYL_data_with_metrics.csv\n",
      "Data saved to YUM_data_with_metrics.csv\n",
      "Data saved to ZBRA_data_with_metrics.csv\n",
      "Data saved to ZBH_data_with_metrics.csv\n",
      "Data saved to ZION_data_with_metrics.csv\n",
      "An error occurred with ticker ZTS: all the input array dimensions except for the concatenation axis must match exactly, but along dimension 1, the array at index 0 has size 3141 and the array at index 1 has size 2870\n"
     ]
    }
   ],
   "source": [
    "if __name__ == \"__main__\":\n",
    "    sp500=np.array(['MMM', 'AOS', 'ABT', 'ABBV', 'ACN', 'ATVI', 'ADM', 'ADBE', 'ADP', 'AAP', 'AES', 'AFL', 'A', 'APD', 'AKAM', 'ALK', 'ALB', 'ARE', 'ALGN', 'ALLE', 'LNT', 'ALL', 'GOOGL', 'GOOG', 'MO', 'AMZN', 'AMCR', 'AMD', 'AEE', 'AAL', 'AEP', 'AXP', 'AIG', 'AMT', 'AWK', 'AMP', 'ABC', 'AME', 'AMGN', 'APH', 'ADI', 'ANSS', 'ANTM', 'AON', 'APA', 'AAPL', 'AMAT', 'APTV', 'ANET', 'AJG', 'AIZ', 'T', 'ATO', 'ADSK', 'AZO', 'AVB', 'AVY', 'BKR', 'BALL', 'BAC', 'BBWI', 'BAX', 'BDX', 'WRB', 'BRK.B', 'BBY', 'BIO', 'TECH', 'BIIB', 'BLK', 'BK', 'BA', 'BKNG', 'BWA', 'BXP', 'BSX', 'BMY', 'AVGO', 'BR', 'BRO', 'BF.B', 'CHRW', 'COG', 'CDNS', 'CPB', 'COF', 'CAH', 'KMX', 'CCL', 'CARR', 'CTLT', 'CAT', 'CBOE', 'CBRE', 'CDW', 'CE', 'CNC', 'CNP', 'CERN', 'CF', 'CRL', 'SCHW', 'CHTR', 'CVX', 'CMG', 'CB', 'CHD', 'CI', 'CINF', 'CTAS', 'CSCO', 'C', 'CFG', 'CTXS', 'CLX', 'CME', 'CMS', 'KO', 'CTSH', 'CL', 'CMCSA', 'CMA', 'CAG', 'COP', 'ED', 'STZ', 'COO', 'CPRT', 'GLW', 'CTVA', 'COST', 'CTRA', 'CCI', 'CSX', 'CMI', 'CVS', 'DHI', 'DHR', 'DRI', 'DVA', 'DE', 'DAL', 'XRAY', 'DVN', 'DXCM', 'FANG', 'DLR', 'DFS', 'DISCA', 'DISCK', 'DISH', 'DG', 'DLTR', 'D', 'DPZ', 'DOV', 'DOW', 'DTE', 'DUK', 'DRE', 'DD', 'DXC', 'EMN', 'ETN', 'EBAY', 'ECL', 'EIX', 'EW', 'EA', 'EMR', 'ENPH', 'ETR', 'EOG', 'EFX', 'EQIX', 'EQR', 'ESS', 'EL', 'ETSY', 'RE', 'EVRG', 'ES', 'EXC', 'EXPE', 'EXPD', 'EXR', 'XOM', 'FFIV', 'FB', 'FAST', 'FRT', 'FDX', 'FIS', 'FITB', 'FE', 'FRC', 'FISV', 'FLT', 'FMC', 'F', 'FTNT', 'FTV', 'FBHS', 'FOXA', 'FOX', 'BEN', 'FCX', 'GPS', 'GRMN', 'IT', 'GNRC', 'GD', 'GE', 'GIS', 'GM', 'GPC', 'GILD', 'GL', 'GPN', 'GS', 'HAL', 'HIG', 'HAS', 'HCA', 'PEAK', 'HSIC', 'HSY', 'HES', 'HPE', 'HLT', 'HOLX', 'HD', 'HON', 'HRL', 'HST', 'HWM', 'HPQ', 'HUM', 'HBAN', 'HII', 'IBM', 'IEX', 'IDXX', 'INFO', 'ITW', 'ILMN', 'INCY', 'IR', 'INTC', 'ICE', 'IP', 'IPG', 'IFF', 'INTU', 'ISRG', 'IVZ', 'IPGP', 'IQV', 'IRM', 'JBHT', 'JKHY', 'J', 'JNJ', 'JCI', 'JPM', 'JNPR', 'K', 'KEY', 'KEYS', 'KMB', 'KIM', 'KMI', 'KLAC', 'KHC', 'KR', 'LHX', 'LH', 'LRCX', 'LW', 'LVS', 'LDOS', 'LEN', 'LLY', 'LNC', 'LIN', 'LYV', 'LKQ', 'LMT', 'L', 'LOW', 'LUMN', 'LYB', 'MTB', 'MRO', 'MPC', 'MKTX', 'MAR', 'MMC', 'MLM', 'MAS', 'MA', 'MTCH', 'MKC', 'MCD', 'MCK', 'MDT', 'MRK', 'MET', 'MTD', 'MGM', 'MCHP', 'MU', 'MSFT', 'MAA', 'MRNA', 'MHK', 'TAP', 'MDLZ', 'MPWR', 'MNST', 'MCO', 'MS', 'MOS', 'MSI', 'MSCI', 'NDAQ', 'NTAP', 'NFLX', 'NWL', 'NEM', 'NWSA', 'NWS', 'NEE', 'NLSN', 'NKE', 'NI', 'NSC', 'NTRS', 'NOC', 'NLOK', 'NCLH', 'NRG', 'NUE', 'NVDA', 'NVR', 'NXPI', 'ORLY', 'OXY', 'ODFL', 'OMC', 'OKE', 'ORCL', 'OGN', 'OTIS', 'PCAR', 'PKG', 'PH', 'PAYX', 'PAYC', 'PYPL', 'PNR', 'PBCT', 'PEP', 'PKI', 'PFE', 'PM', 'PSX', 'PNW', 'PXD', 'PNC', 'POOL', 'PPG', 'PPL', 'PFG', 'PG', 'PGR', 'PLD', 'PRU', 'PEG', 'PSA', 'PHM', 'PVH', 'QRVO', 'QCOM', 'PWR', 'DGX', 'RL', 'RJF', 'RTX', 'O', 'REG', 'REGN', 'RF', 'RSG', 'RMD', 'RHI', 'ROK', 'ROL', 'ROP', 'ROST', 'RCL', 'SPGI', 'CRM', 'SBAC', 'SLB', 'STX', 'SEE', 'SRE', 'NOW', 'SHW', 'SPG', 'SWKS', 'SBUX', 'STT', 'STE', 'SYK', 'SIVB', 'SYF', 'SNPS', 'SYY', 'TMUS', 'TROW', 'TTWO', 'TPR', 'TGT', 'TEL', 'TDY', 'TFX', 'TER', 'TSLA', 'TXN', 'TXT', 'TMO', 'TJX', 'TSCO', 'TT', 'TDG', 'TRV', 'TRMB', 'TFC', 'TWTR', 'TYL', 'TSN', 'USB', 'UDR', 'ULTA', 'UAA', 'UA', 'UNP', 'UAL', 'UPS', 'URI', 'UNH', 'UHS', 'VLO', 'VTR', 'VRSN', 'VRSK', 'VZ', 'VRTX', 'VFC', 'VTRS', 'V', 'VNT', 'VNO', 'VMC', 'WRK', 'WAB', 'WMT', 'WBA', 'DIS', 'WM', 'WAT', 'WEC', 'WFC', 'WELL', 'WST', 'WDC', 'WU', 'WRB', 'GWW', 'WY', 'WHR', 'WMB', 'WLTW', 'WYNN', 'XEL', 'XLNX', 'XYL', 'YUM', 'ZBRA', 'ZBH', 'ZION', 'ZTS'])\n",
    "    # sp500_tickers = s  # Replace with your array of tickers\n",
    "\n",
    "    # Iterate through each ticker in the array\n",
    "    for ticker in sp500:\n",
    "        try:\n",
    "            main(ticker)\n",
    "            time.sleep(10)\n",
    "        except Exception as e:\n",
    "            print(f\"An error occurred with ticker {ticker}: {e}\")"
   ]
  }
 ],
 "metadata": {
  "kernelspec": {
   "display_name": "Python 3",
   "language": "python",
   "name": "python3"
  },
  "language_info": {
   "codemirror_mode": {
    "name": "ipython",
    "version": 3
   },
   "file_extension": ".py",
   "mimetype": "text/x-python",
   "name": "python",
   "nbconvert_exporter": "python",
   "pygments_lexer": "ipython3",
   "version": "3.11.5"
  }
 },
 "nbformat": 4,
 "nbformat_minor": 2
}
