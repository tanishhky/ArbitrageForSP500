{
 "cells": [
  {
   "cell_type": "code",
   "execution_count": 2,
   "metadata": {},
   "outputs": [
    {
     "name": "stderr",
     "output_type": "stream",
     "text": [
      "/var/folders/83/3t5wk1pn2fq83ss49zg61zf40000gn/T/ipykernel_24432/1337409805.py:11: FutureWarning: The default fill_method='pad' in Series.pct_change is deprecated and will be removed in a future version. Either fill in any non-leading NA values prior to calling pct_change or specify 'fill_method=None' to not fill NA values.\n",
      "  earnings_growth = financials['Net Income'].pct_change().iloc[-1] * 100  # Latest YoY growth in net income\n",
      "/var/folders/83/3t5wk1pn2fq83ss49zg61zf40000gn/T/ipykernel_24432/1337409805.py:11: FutureWarning: Downcasting object dtype arrays on .fillna, .ffill, .bfill is deprecated and will change in a future version. Call result.infer_objects(copy=False) instead. To opt-in to the future behavior, set `pd.set_option('future.no_silent_downcasting', True)`\n",
      "  earnings_growth = financials['Net Income'].pct_change().iloc[-1] * 100  # Latest YoY growth in net income\n",
      "/var/folders/83/3t5wk1pn2fq83ss49zg61zf40000gn/T/ipykernel_24432/1337409805.py:21: FutureWarning: The default fill_method='pad' in Series.pct_change is deprecated and will be removed in a future version. Either fill in any non-leading NA values prior to calling pct_change or specify 'fill_method=None' to not fill NA values.\n",
      "  annual_growth = financials['Net Income'].pct_change().mean() * 100  # Average annual growth\n",
      "/var/folders/83/3t5wk1pn2fq83ss49zg61zf40000gn/T/ipykernel_24432/1337409805.py:21: FutureWarning: Downcasting object dtype arrays on .fillna, .ffill, .bfill is deprecated and will change in a future version. Call result.infer_objects(copy=False) instead. To opt-in to the future behavior, set `pd.set_option('future.no_silent_downcasting', True)`\n",
      "  annual_growth = financials['Net Income'].pct_change().mean() * 100  # Average annual growth\n"
     ]
    },
    {
     "name": "stdout",
     "output_type": "stream",
     "text": [
      "Results for MMM:\n",
      "Earnings Growth (C): 0.0\n",
      "Annual Earnings Growth (A): -47.016636429673895\n",
      "Institutional Sponsorship (I): 191314025\n",
      "ROE: N/A\n",
      "Debt-to-Equity: N/A\n",
      "Dividend Growth: 3.2323700160828883\n",
      "\n"
     ]
    },
    {
     "name": "stderr",
     "output_type": "stream",
     "text": [
      "/var/folders/83/3t5wk1pn2fq83ss49zg61zf40000gn/T/ipykernel_24432/1337409805.py:11: FutureWarning: Downcasting object dtype arrays on .fillna, .ffill, .bfill is deprecated and will change in a future version. Call result.infer_objects(copy=False) instead. To opt-in to the future behavior, set `pd.set_option('future.no_silent_downcasting', True)`\n",
      "  earnings_growth = financials['Net Income'].pct_change().iloc[-1] * 100  # Latest YoY growth in net income\n",
      "/var/folders/83/3t5wk1pn2fq83ss49zg61zf40000gn/T/ipykernel_24432/1337409805.py:21: FutureWarning: Downcasting object dtype arrays on .fillna, .ffill, .bfill is deprecated and will change in a future version. Call result.infer_objects(copy=False) instead. To opt-in to the future behavior, set `pd.set_option('future.no_silent_downcasting', True)`\n",
      "  annual_growth = financials['Net Income'].pct_change().mean() * 100  # Average annual growth\n"
     ]
    },
    {
     "name": "stdout",
     "output_type": "stream",
     "text": [
      "Results for AOS:\n",
      "Earnings Growth (C): -29.19318415109834\n",
      "Annual Earnings Growth (A): 6.604738132048444\n",
      "Institutional Sponsorship (I): 50497166\n",
      "ROE: N/A\n",
      "Debt-to-Equity: N/A\n",
      "Dividend Growth: 2.930894859398583\n",
      "\n"
     ]
    },
    {
     "name": "stderr",
     "output_type": "stream",
     "text": [
      "/var/folders/83/3t5wk1pn2fq83ss49zg61zf40000gn/T/ipykernel_24432/1337409805.py:11: FutureWarning: The default fill_method='pad' in Series.pct_change is deprecated and will be removed in a future version. Either fill in any non-leading NA values prior to calling pct_change or specify 'fill_method=None' to not fill NA values.\n",
      "  earnings_growth = financials['Net Income'].pct_change().iloc[-1] * 100  # Latest YoY growth in net income\n",
      "/var/folders/83/3t5wk1pn2fq83ss49zg61zf40000gn/T/ipykernel_24432/1337409805.py:11: FutureWarning: Downcasting object dtype arrays on .fillna, .ffill, .bfill is deprecated and will change in a future version. Call result.infer_objects(copy=False) instead. To opt-in to the future behavior, set `pd.set_option('future.no_silent_downcasting', True)`\n",
      "  earnings_growth = financials['Net Income'].pct_change().iloc[-1] * 100  # Latest YoY growth in net income\n",
      "/var/folders/83/3t5wk1pn2fq83ss49zg61zf40000gn/T/ipykernel_24432/1337409805.py:21: FutureWarning: The default fill_method='pad' in Series.pct_change is deprecated and will be removed in a future version. Either fill in any non-leading NA values prior to calling pct_change or specify 'fill_method=None' to not fill NA values.\n",
      "  annual_growth = financials['Net Income'].pct_change().mean() * 100  # Average annual growth\n",
      "/var/folders/83/3t5wk1pn2fq83ss49zg61zf40000gn/T/ipykernel_24432/1337409805.py:21: FutureWarning: Downcasting object dtype arrays on .fillna, .ffill, .bfill is deprecated and will change in a future version. Call result.infer_objects(copy=False) instead. To opt-in to the future behavior, set `pd.set_option('future.no_silent_downcasting', True)`\n",
      "  annual_growth = financials['Net Income'].pct_change().mean() * 100  # Average annual growth\n"
     ]
    },
    {
     "name": "stdout",
     "output_type": "stream",
     "text": [
      "Results for ABT:\n",
      "Earnings Growth (C): 0.0\n",
      "Annual Earnings Growth (A): -3.3243132825334865\n",
      "Institutional Sponsorship (I): 643105840\n",
      "ROE: N/A\n",
      "Debt-to-Equity: N/A\n",
      "Dividend Growth: 8.882511258907371\n",
      "\n"
     ]
    },
    {
     "name": "stderr",
     "output_type": "stream",
     "text": [
      "/var/folders/83/3t5wk1pn2fq83ss49zg61zf40000gn/T/ipykernel_24432/1337409805.py:11: FutureWarning: The default fill_method='pad' in Series.pct_change is deprecated and will be removed in a future version. Either fill in any non-leading NA values prior to calling pct_change or specify 'fill_method=None' to not fill NA values.\n",
      "  earnings_growth = financials['Net Income'].pct_change().iloc[-1] * 100  # Latest YoY growth in net income\n",
      "/var/folders/83/3t5wk1pn2fq83ss49zg61zf40000gn/T/ipykernel_24432/1337409805.py:11: FutureWarning: Downcasting object dtype arrays on .fillna, .ffill, .bfill is deprecated and will change in a future version. Call result.infer_objects(copy=False) instead. To opt-in to the future behavior, set `pd.set_option('future.no_silent_downcasting', True)`\n",
      "  earnings_growth = financials['Net Income'].pct_change().iloc[-1] * 100  # Latest YoY growth in net income\n",
      "/var/folders/83/3t5wk1pn2fq83ss49zg61zf40000gn/T/ipykernel_24432/1337409805.py:21: FutureWarning: The default fill_method='pad' in Series.pct_change is deprecated and will be removed in a future version. Either fill in any non-leading NA values prior to calling pct_change or specify 'fill_method=None' to not fill NA values.\n",
      "  annual_growth = financials['Net Income'].pct_change().mean() * 100  # Average annual growth\n",
      "/var/folders/83/3t5wk1pn2fq83ss49zg61zf40000gn/T/ipykernel_24432/1337409805.py:21: FutureWarning: Downcasting object dtype arrays on .fillna, .ffill, .bfill is deprecated and will change in a future version. Call result.infer_objects(copy=False) instead. To opt-in to the future behavior, set `pd.set_option('future.no_silent_downcasting', True)`\n",
      "  annual_growth = financials['Net Income'].pct_change().mean() * 100  # Average annual growth\n"
     ]
    },
    {
     "name": "stdout",
     "output_type": "stream",
     "text": [
      "Results for ABBV:\n",
      "Earnings Growth (C): 0.0\n",
      "Annual Earnings Growth (A): 20.224494032310652\n",
      "Institutional Sponsorship (I): 619568392\n",
      "ROE: N/A\n",
      "Debt-to-Equity: N/A\n",
      "Dividend Growth: 3.17405392284769\n",
      "\n"
     ]
    },
    {
     "name": "stderr",
     "output_type": "stream",
     "text": [
      "/var/folders/83/3t5wk1pn2fq83ss49zg61zf40000gn/T/ipykernel_24432/1337409805.py:11: FutureWarning: Downcasting object dtype arrays on .fillna, .ffill, .bfill is deprecated and will change in a future version. Call result.infer_objects(copy=False) instead. To opt-in to the future behavior, set `pd.set_option('future.no_silent_downcasting', True)`\n",
      "  earnings_growth = financials['Net Income'].pct_change().iloc[-1] * 100  # Latest YoY growth in net income\n",
      "/var/folders/83/3t5wk1pn2fq83ss49zg61zf40000gn/T/ipykernel_24432/1337409805.py:21: FutureWarning: Downcasting object dtype arrays on .fillna, .ffill, .bfill is deprecated and will change in a future version. Call result.infer_objects(copy=False) instead. To opt-in to the future behavior, set `pd.set_option('future.no_silent_downcasting', True)`\n",
      "  annual_growth = financials['Net Income'].pct_change().mean() * 100  # Average annual growth\n"
     ]
    },
    {
     "name": "stdout",
     "output_type": "stream",
     "text": [
      "Results for ACN:\n",
      "Earnings Growth (C): -13.526254192407439\n",
      "Annual Earnings Growth (A): -9.184819978790381\n",
      "Institutional Sponsorship (I): 221801823\n",
      "ROE: N/A\n",
      "Debt-to-Equity: N/A\n",
      "Dividend Growth: 4.962923972803026\n",
      "\n"
     ]
    },
    {
     "name": "stderr",
     "output_type": "stream",
     "text": [
      "/var/folders/83/3t5wk1pn2fq83ss49zg61zf40000gn/T/ipykernel_24432/1337409805.py:11: FutureWarning: The default fill_method='pad' in Series.pct_change is deprecated and will be removed in a future version. Either fill in any non-leading NA values prior to calling pct_change or specify 'fill_method=None' to not fill NA values.\n",
      "  earnings_growth = financials['Net Income'].pct_change().iloc[-1] * 100  # Latest YoY growth in net income\n",
      "/var/folders/83/3t5wk1pn2fq83ss49zg61zf40000gn/T/ipykernel_24432/1337409805.py:11: FutureWarning: Downcasting object dtype arrays on .fillna, .ffill, .bfill is deprecated and will change in a future version. Call result.infer_objects(copy=False) instead. To opt-in to the future behavior, set `pd.set_option('future.no_silent_downcasting', True)`\n",
      "  earnings_growth = financials['Net Income'].pct_change().iloc[-1] * 100  # Latest YoY growth in net income\n",
      "/var/folders/83/3t5wk1pn2fq83ss49zg61zf40000gn/T/ipykernel_24432/1337409805.py:21: FutureWarning: The default fill_method='pad' in Series.pct_change is deprecated and will be removed in a future version. Either fill in any non-leading NA values prior to calling pct_change or specify 'fill_method=None' to not fill NA values.\n",
      "  annual_growth = financials['Net Income'].pct_change().mean() * 100  # Average annual growth\n",
      "/var/folders/83/3t5wk1pn2fq83ss49zg61zf40000gn/T/ipykernel_24432/1337409805.py:21: FutureWarning: Downcasting object dtype arrays on .fillna, .ffill, .bfill is deprecated and will change in a future version. Call result.infer_objects(copy=False) instead. To opt-in to the future behavior, set `pd.set_option('future.no_silent_downcasting', True)`\n",
      "  annual_growth = financials['Net Income'].pct_change().mean() * 100  # Average annual growth\n"
     ]
    },
    {
     "name": "stdout",
     "output_type": "stream",
     "text": [
      "Results for ADBE:\n",
      "Earnings Growth (C): 0.0\n",
      "Annual Earnings Growth (A): -0.47729047044804684\n",
      "Institutional Sponsorship (I): 151472716\n",
      "ROE: N/A\n",
      "Debt-to-Equity: N/A\n",
      "Dividend Growth: 31.76523297491039\n",
      "\n"
     ]
    },
    {
     "name": "stderr",
     "output_type": "stream",
     "text": [
      "/var/folders/83/3t5wk1pn2fq83ss49zg61zf40000gn/T/ipykernel_24432/1337409805.py:11: FutureWarning: The default fill_method='pad' in Series.pct_change is deprecated and will be removed in a future version. Either fill in any non-leading NA values prior to calling pct_change or specify 'fill_method=None' to not fill NA values.\n",
      "  earnings_growth = financials['Net Income'].pct_change().iloc[-1] * 100  # Latest YoY growth in net income\n",
      "/var/folders/83/3t5wk1pn2fq83ss49zg61zf40000gn/T/ipykernel_24432/1337409805.py:11: FutureWarning: Downcasting object dtype arrays on .fillna, .ffill, .bfill is deprecated and will change in a future version. Call result.infer_objects(copy=False) instead. To opt-in to the future behavior, set `pd.set_option('future.no_silent_downcasting', True)`\n",
      "  earnings_growth = financials['Net Income'].pct_change().iloc[-1] * 100  # Latest YoY growth in net income\n",
      "/var/folders/83/3t5wk1pn2fq83ss49zg61zf40000gn/T/ipykernel_24432/1337409805.py:21: FutureWarning: The default fill_method='pad' in Series.pct_change is deprecated and will be removed in a future version. Either fill in any non-leading NA values prior to calling pct_change or specify 'fill_method=None' to not fill NA values.\n",
      "  annual_growth = financials['Net Income'].pct_change().mean() * 100  # Average annual growth\n",
      "/var/folders/83/3t5wk1pn2fq83ss49zg61zf40000gn/T/ipykernel_24432/1337409805.py:21: FutureWarning: Downcasting object dtype arrays on .fillna, .ffill, .bfill is deprecated and will change in a future version. Call result.infer_objects(copy=False) instead. To opt-in to the future behavior, set `pd.set_option('future.no_silent_downcasting', True)`\n",
      "  annual_growth = financials['Net Income'].pct_change().mean() * 100  # Average annual growth\n"
     ]
    },
    {
     "name": "stdout",
     "output_type": "stream",
     "text": [
      "Results for AMD:\n",
      "Earnings Growth (C): 0.0\n",
      "Annual Earnings Growth (A): 43.21495683990629\n",
      "Institutional Sponsorship (I): 536489760\n",
      "ROE: N/A\n",
      "Debt-to-Equity: N/A\n",
      "Dividend Growth: N/A\n",
      "\n"
     ]
    },
    {
     "name": "stderr",
     "output_type": "stream",
     "text": [
      "/var/folders/83/3t5wk1pn2fq83ss49zg61zf40000gn/T/ipykernel_24432/1337409805.py:11: FutureWarning: The default fill_method='pad' in Series.pct_change is deprecated and will be removed in a future version. Either fill in any non-leading NA values prior to calling pct_change or specify 'fill_method=None' to not fill NA values.\n",
      "  earnings_growth = financials['Net Income'].pct_change().iloc[-1] * 100  # Latest YoY growth in net income\n",
      "/var/folders/83/3t5wk1pn2fq83ss49zg61zf40000gn/T/ipykernel_24432/1337409805.py:11: FutureWarning: Downcasting object dtype arrays on .fillna, .ffill, .bfill is deprecated and will change in a future version. Call result.infer_objects(copy=False) instead. To opt-in to the future behavior, set `pd.set_option('future.no_silent_downcasting', True)`\n",
      "  earnings_growth = financials['Net Income'].pct_change().iloc[-1] * 100  # Latest YoY growth in net income\n",
      "/var/folders/83/3t5wk1pn2fq83ss49zg61zf40000gn/T/ipykernel_24432/1337409805.py:21: FutureWarning: The default fill_method='pad' in Series.pct_change is deprecated and will be removed in a future version. Either fill in any non-leading NA values prior to calling pct_change or specify 'fill_method=None' to not fill NA values.\n",
      "  annual_growth = financials['Net Income'].pct_change().mean() * 100  # Average annual growth\n",
      "/var/folders/83/3t5wk1pn2fq83ss49zg61zf40000gn/T/ipykernel_24432/1337409805.py:21: FutureWarning: Downcasting object dtype arrays on .fillna, .ffill, .bfill is deprecated and will change in a future version. Call result.infer_objects(copy=False) instead. To opt-in to the future behavior, set `pd.set_option('future.no_silent_downcasting', True)`\n",
      "  annual_growth = financials['Net Income'].pct_change().mean() * 100  # Average annual growth\n"
     ]
    },
    {
     "name": "stdout",
     "output_type": "stream",
     "text": [
      "Results for AES:\n",
      "Earnings Growth (C): 0.0\n",
      "Annual Earnings Growth (A): -113.90390682264781\n",
      "Institutional Sponsorship (I): 382699358\n",
      "ROE: N/A\n",
      "Debt-to-Equity: N/A\n",
      "Dividend Growth: 5.7197964481959795\n",
      "\n"
     ]
    },
    {
     "name": "stderr",
     "output_type": "stream",
     "text": [
      "/var/folders/83/3t5wk1pn2fq83ss49zg61zf40000gn/T/ipykernel_24432/1337409805.py:11: FutureWarning: The default fill_method='pad' in Series.pct_change is deprecated and will be removed in a future version. Either fill in any non-leading NA values prior to calling pct_change or specify 'fill_method=None' to not fill NA values.\n",
      "  earnings_growth = financials['Net Income'].pct_change().iloc[-1] * 100  # Latest YoY growth in net income\n",
      "/var/folders/83/3t5wk1pn2fq83ss49zg61zf40000gn/T/ipykernel_24432/1337409805.py:11: FutureWarning: Downcasting object dtype arrays on .fillna, .ffill, .bfill is deprecated and will change in a future version. Call result.infer_objects(copy=False) instead. To opt-in to the future behavior, set `pd.set_option('future.no_silent_downcasting', True)`\n",
      "  earnings_growth = financials['Net Income'].pct_change().iloc[-1] * 100  # Latest YoY growth in net income\n",
      "/var/folders/83/3t5wk1pn2fq83ss49zg61zf40000gn/T/ipykernel_24432/1337409805.py:21: FutureWarning: The default fill_method='pad' in Series.pct_change is deprecated and will be removed in a future version. Either fill in any non-leading NA values prior to calling pct_change or specify 'fill_method=None' to not fill NA values.\n",
      "  annual_growth = financials['Net Income'].pct_change().mean() * 100  # Average annual growth\n",
      "/var/folders/83/3t5wk1pn2fq83ss49zg61zf40000gn/T/ipykernel_24432/1337409805.py:21: FutureWarning: Downcasting object dtype arrays on .fillna, .ffill, .bfill is deprecated and will change in a future version. Call result.infer_objects(copy=False) instead. To opt-in to the future behavior, set `pd.set_option('future.no_silent_downcasting', True)`\n",
      "  annual_growth = financials['Net Income'].pct_change().mean() * 100  # Average annual growth\n"
     ]
    },
    {
     "name": "stdout",
     "output_type": "stream",
     "text": [
      "Results for AFL:\n",
      "Earnings Growth (C): 0.0\n",
      "Annual Earnings Growth (A): 0.880729348151435\n",
      "Institutional Sponsorship (I): 230018204\n",
      "ROE: N/A\n",
      "Debt-to-Equity: N/A\n",
      "Dividend Growth: 3.7265360046065052\n",
      "\n"
     ]
    },
    {
     "name": "stderr",
     "output_type": "stream",
     "text": [
      "/var/folders/83/3t5wk1pn2fq83ss49zg61zf40000gn/T/ipykernel_24432/1337409805.py:11: FutureWarning: Downcasting object dtype arrays on .fillna, .ffill, .bfill is deprecated and will change in a future version. Call result.infer_objects(copy=False) instead. To opt-in to the future behavior, set `pd.set_option('future.no_silent_downcasting', True)`\n",
      "  earnings_growth = financials['Net Income'].pct_change().iloc[-1] * 100  # Latest YoY growth in net income\n",
      "/var/folders/83/3t5wk1pn2fq83ss49zg61zf40000gn/T/ipykernel_24432/1337409805.py:21: FutureWarning: Downcasting object dtype arrays on .fillna, .ffill, .bfill is deprecated and will change in a future version. Call result.infer_objects(copy=False) instead. To opt-in to the future behavior, set `pd.set_option('future.no_silent_downcasting', True)`\n",
      "  annual_growth = financials['Net Income'].pct_change().mean() * 100  # Average annual growth\n"
     ]
    },
    {
     "name": "stdout",
     "output_type": "stream",
     "text": [
      "Results for A:\n",
      "Earnings Growth (C): -40.57851239669421\n",
      "Annual Earnings Growth (A): -14.31941735615142\n",
      "Institutional Sponsorship (I): 125878751\n",
      "ROE: N/A\n",
      "Debt-to-Equity: N/A\n",
      "Dividend Growth: 0.6262346393120584\n",
      "\n"
     ]
    },
    {
     "name": "stderr",
     "output_type": "stream",
     "text": [
      "/var/folders/83/3t5wk1pn2fq83ss49zg61zf40000gn/T/ipykernel_24432/1337409805.py:11: FutureWarning: The default fill_method='pad' in Series.pct_change is deprecated and will be removed in a future version. Either fill in any non-leading NA values prior to calling pct_change or specify 'fill_method=None' to not fill NA values.\n",
      "  earnings_growth = financials['Net Income'].pct_change().iloc[-1] * 100  # Latest YoY growth in net income\n",
      "/var/folders/83/3t5wk1pn2fq83ss49zg61zf40000gn/T/ipykernel_24432/1337409805.py:11: FutureWarning: Downcasting object dtype arrays on .fillna, .ffill, .bfill is deprecated and will change in a future version. Call result.infer_objects(copy=False) instead. To opt-in to the future behavior, set `pd.set_option('future.no_silent_downcasting', True)`\n",
      "  earnings_growth = financials['Net Income'].pct_change().iloc[-1] * 100  # Latest YoY growth in net income\n",
      "/var/folders/83/3t5wk1pn2fq83ss49zg61zf40000gn/T/ipykernel_24432/1337409805.py:21: FutureWarning: The default fill_method='pad' in Series.pct_change is deprecated and will be removed in a future version. Either fill in any non-leading NA values prior to calling pct_change or specify 'fill_method=None' to not fill NA values.\n",
      "  annual_growth = financials['Net Income'].pct_change().mean() * 100  # Average annual growth\n",
      "/var/folders/83/3t5wk1pn2fq83ss49zg61zf40000gn/T/ipykernel_24432/1337409805.py:21: FutureWarning: Downcasting object dtype arrays on .fillna, .ffill, .bfill is deprecated and will change in a future version. Call result.infer_objects(copy=False) instead. To opt-in to the future behavior, set `pd.set_option('future.no_silent_downcasting', True)`\n",
      "  annual_growth = financials['Net Income'].pct_change().mean() * 100  # Average annual growth\n"
     ]
    },
    {
     "name": "stdout",
     "output_type": "stream",
     "text": [
      "Results for APD:\n",
      "Earnings Growth (C): 0.0\n",
      "Annual Earnings Growth (A): -4.748689562905834\n",
      "Institutional Sponsorship (I): 91201959\n",
      "ROE: N/A\n",
      "Debt-to-Equity: N/A\n",
      "Dividend Growth: 2.6887767901500066\n",
      "\n"
     ]
    },
    {
     "name": "stderr",
     "output_type": "stream",
     "text": [
      "/var/folders/83/3t5wk1pn2fq83ss49zg61zf40000gn/T/ipykernel_24432/1337409805.py:11: FutureWarning: Downcasting object dtype arrays on .fillna, .ffill, .bfill is deprecated and will change in a future version. Call result.infer_objects(copy=False) instead. To opt-in to the future behavior, set `pd.set_option('future.no_silent_downcasting', True)`\n",
      "  earnings_growth = financials['Net Income'].pct_change().iloc[-1] * 100  # Latest YoY growth in net income\n",
      "/var/folders/83/3t5wk1pn2fq83ss49zg61zf40000gn/T/ipykernel_24432/1337409805.py:21: FutureWarning: Downcasting object dtype arrays on .fillna, .ffill, .bfill is deprecated and will change in a future version. Call result.infer_objects(copy=False) instead. To opt-in to the future behavior, set `pd.set_option('future.no_silent_downcasting', True)`\n",
      "  annual_growth = financials['Net Income'].pct_change().mean() * 100  # Average annual growth\n"
     ]
    },
    {
     "name": "stdout",
     "output_type": "stream",
     "text": [
      "Results for ABNB:\n",
      "Earnings Growth (C): 1202.4761363636364\n",
      "Annual Earnings Growth (A): 341.1282174098587\n",
      "Institutional Sponsorship (I): 156387949\n",
      "ROE: N/A\n",
      "Debt-to-Equity: N/A\n",
      "Dividend Growth: N/A\n",
      "\n"
     ]
    },
    {
     "name": "stderr",
     "output_type": "stream",
     "text": [
      "/var/folders/83/3t5wk1pn2fq83ss49zg61zf40000gn/T/ipykernel_24432/1337409805.py:11: FutureWarning: The default fill_method='pad' in Series.pct_change is deprecated and will be removed in a future version. Either fill in any non-leading NA values prior to calling pct_change or specify 'fill_method=None' to not fill NA values.\n",
      "  earnings_growth = financials['Net Income'].pct_change().iloc[-1] * 100  # Latest YoY growth in net income\n",
      "/var/folders/83/3t5wk1pn2fq83ss49zg61zf40000gn/T/ipykernel_24432/1337409805.py:11: FutureWarning: Downcasting object dtype arrays on .fillna, .ffill, .bfill is deprecated and will change in a future version. Call result.infer_objects(copy=False) instead. To opt-in to the future behavior, set `pd.set_option('future.no_silent_downcasting', True)`\n",
      "  earnings_growth = financials['Net Income'].pct_change().iloc[-1] * 100  # Latest YoY growth in net income\n",
      "/var/folders/83/3t5wk1pn2fq83ss49zg61zf40000gn/T/ipykernel_24432/1337409805.py:21: FutureWarning: The default fill_method='pad' in Series.pct_change is deprecated and will be removed in a future version. Either fill in any non-leading NA values prior to calling pct_change or specify 'fill_method=None' to not fill NA values.\n",
      "  annual_growth = financials['Net Income'].pct_change().mean() * 100  # Average annual growth\n",
      "/var/folders/83/3t5wk1pn2fq83ss49zg61zf40000gn/T/ipykernel_24432/1337409805.py:21: FutureWarning: Downcasting object dtype arrays on .fillna, .ffill, .bfill is deprecated and will change in a future version. Call result.infer_objects(copy=False) instead. To opt-in to the future behavior, set `pd.set_option('future.no_silent_downcasting', True)`\n",
      "  annual_growth = financials['Net Income'].pct_change().mean() * 100  # Average annual growth\n"
     ]
    },
    {
     "name": "stdout",
     "output_type": "stream",
     "text": [
      "Results for AKAM:\n",
      "Earnings Growth (C): 0.0\n",
      "Annual Earnings Growth (A): 1.3867607864327587\n",
      "Institutional Sponsorship (I): 64270823\n",
      "ROE: N/A\n",
      "Debt-to-Equity: N/A\n",
      "Dividend Growth: N/A\n",
      "\n"
     ]
    },
    {
     "name": "stderr",
     "output_type": "stream",
     "text": [
      "/var/folders/83/3t5wk1pn2fq83ss49zg61zf40000gn/T/ipykernel_24432/1337409805.py:11: FutureWarning: The default fill_method='pad' in Series.pct_change is deprecated and will be removed in a future version. Either fill in any non-leading NA values prior to calling pct_change or specify 'fill_method=None' to not fill NA values.\n",
      "  earnings_growth = financials['Net Income'].pct_change().iloc[-1] * 100  # Latest YoY growth in net income\n",
      "/var/folders/83/3t5wk1pn2fq83ss49zg61zf40000gn/T/ipykernel_24432/1337409805.py:11: FutureWarning: Downcasting object dtype arrays on .fillna, .ffill, .bfill is deprecated and will change in a future version. Call result.infer_objects(copy=False) instead. To opt-in to the future behavior, set `pd.set_option('future.no_silent_downcasting', True)`\n",
      "  earnings_growth = financials['Net Income'].pct_change().iloc[-1] * 100  # Latest YoY growth in net income\n",
      "/var/folders/83/3t5wk1pn2fq83ss49zg61zf40000gn/T/ipykernel_24432/1337409805.py:21: FutureWarning: The default fill_method='pad' in Series.pct_change is deprecated and will be removed in a future version. Either fill in any non-leading NA values prior to calling pct_change or specify 'fill_method=None' to not fill NA values.\n",
      "  annual_growth = financials['Net Income'].pct_change().mean() * 100  # Average annual growth\n",
      "/var/folders/83/3t5wk1pn2fq83ss49zg61zf40000gn/T/ipykernel_24432/1337409805.py:21: FutureWarning: Downcasting object dtype arrays on .fillna, .ffill, .bfill is deprecated and will change in a future version. Call result.infer_objects(copy=False) instead. To opt-in to the future behavior, set `pd.set_option('future.no_silent_downcasting', True)`\n",
      "  annual_growth = financials['Net Income'].pct_change().mean() * 100  # Average annual growth\n"
     ]
    },
    {
     "name": "stdout",
     "output_type": "stream",
     "text": [
      "Results for ALB:\n",
      "Earnings Growth (C): 0.0\n",
      "Annual Earnings Growth (A): 44.84608858447169\n",
      "Institutional Sponsorship (I): 50417212\n",
      "ROE: N/A\n",
      "Debt-to-Equity: N/A\n",
      "Dividend Growth: 4.549015497608717\n",
      "\n"
     ]
    },
    {
     "name": "stderr",
     "output_type": "stream",
     "text": [
      "/var/folders/83/3t5wk1pn2fq83ss49zg61zf40000gn/T/ipykernel_24432/1337409805.py:11: FutureWarning: The default fill_method='pad' in Series.pct_change is deprecated and will be removed in a future version. Either fill in any non-leading NA values prior to calling pct_change or specify 'fill_method=None' to not fill NA values.\n",
      "  earnings_growth = financials['Net Income'].pct_change().iloc[-1] * 100  # Latest YoY growth in net income\n",
      "/var/folders/83/3t5wk1pn2fq83ss49zg61zf40000gn/T/ipykernel_24432/1337409805.py:11: FutureWarning: Downcasting object dtype arrays on .fillna, .ffill, .bfill is deprecated and will change in a future version. Call result.infer_objects(copy=False) instead. To opt-in to the future behavior, set `pd.set_option('future.no_silent_downcasting', True)`\n",
      "  earnings_growth = financials['Net Income'].pct_change().iloc[-1] * 100  # Latest YoY growth in net income\n",
      "/var/folders/83/3t5wk1pn2fq83ss49zg61zf40000gn/T/ipykernel_24432/1337409805.py:21: FutureWarning: The default fill_method='pad' in Series.pct_change is deprecated and will be removed in a future version. Either fill in any non-leading NA values prior to calling pct_change or specify 'fill_method=None' to not fill NA values.\n",
      "  annual_growth = financials['Net Income'].pct_change().mean() * 100  # Average annual growth\n",
      "/var/folders/83/3t5wk1pn2fq83ss49zg61zf40000gn/T/ipykernel_24432/1337409805.py:21: FutureWarning: Downcasting object dtype arrays on .fillna, .ffill, .bfill is deprecated and will change in a future version. Call result.infer_objects(copy=False) instead. To opt-in to the future behavior, set `pd.set_option('future.no_silent_downcasting', True)`\n",
      "  annual_growth = financials['Net Income'].pct_change().mean() * 100  # Average annual growth\n"
     ]
    },
    {
     "name": "stdout",
     "output_type": "stream",
     "text": [
      "Results for ARE:\n",
      "Earnings Growth (C): 0.0\n",
      "Annual Earnings Growth (A): 111.95241536331586\n",
      "Institutional Sponsorship (I): 101332765\n",
      "ROE: N/A\n",
      "Debt-to-Equity: N/A\n",
      "Dividend Growth: 1.4444995995419758\n",
      "\n"
     ]
    },
    {
     "name": "stderr",
     "output_type": "stream",
     "text": [
      "/var/folders/83/3t5wk1pn2fq83ss49zg61zf40000gn/T/ipykernel_24432/1337409805.py:11: FutureWarning: The default fill_method='pad' in Series.pct_change is deprecated and will be removed in a future version. Either fill in any non-leading NA values prior to calling pct_change or specify 'fill_method=None' to not fill NA values.\n",
      "  earnings_growth = financials['Net Income'].pct_change().iloc[-1] * 100  # Latest YoY growth in net income\n",
      "/var/folders/83/3t5wk1pn2fq83ss49zg61zf40000gn/T/ipykernel_24432/1337409805.py:11: FutureWarning: Downcasting object dtype arrays on .fillna, .ffill, .bfill is deprecated and will change in a future version. Call result.infer_objects(copy=False) instead. To opt-in to the future behavior, set `pd.set_option('future.no_silent_downcasting', True)`\n",
      "  earnings_growth = financials['Net Income'].pct_change().iloc[-1] * 100  # Latest YoY growth in net income\n",
      "/var/folders/83/3t5wk1pn2fq83ss49zg61zf40000gn/T/ipykernel_24432/1337409805.py:21: FutureWarning: The default fill_method='pad' in Series.pct_change is deprecated and will be removed in a future version. Either fill in any non-leading NA values prior to calling pct_change or specify 'fill_method=None' to not fill NA values.\n",
      "  annual_growth = financials['Net Income'].pct_change().mean() * 100  # Average annual growth\n",
      "/var/folders/83/3t5wk1pn2fq83ss49zg61zf40000gn/T/ipykernel_24432/1337409805.py:21: FutureWarning: Downcasting object dtype arrays on .fillna, .ffill, .bfill is deprecated and will change in a future version. Call result.infer_objects(copy=False) instead. To opt-in to the future behavior, set `pd.set_option('future.no_silent_downcasting', True)`\n",
      "  annual_growth = financials['Net Income'].pct_change().mean() * 100  # Average annual growth\n"
     ]
    },
    {
     "name": "stdout",
     "output_type": "stream",
     "text": [
      "Results for ALGN:\n",
      "Earnings Growth (C): 0.0\n",
      "Annual Earnings Growth (A): 56.19776972745056\n",
      "Institutional Sponsorship (I): 33332322\n",
      "ROE: N/A\n",
      "Debt-to-Equity: N/A\n",
      "Dividend Growth: N/A\n",
      "\n"
     ]
    },
    {
     "name": "stderr",
     "output_type": "stream",
     "text": [
      "/var/folders/83/3t5wk1pn2fq83ss49zg61zf40000gn/T/ipykernel_24432/1337409805.py:11: FutureWarning: The default fill_method='pad' in Series.pct_change is deprecated and will be removed in a future version. Either fill in any non-leading NA values prior to calling pct_change or specify 'fill_method=None' to not fill NA values.\n",
      "  earnings_growth = financials['Net Income'].pct_change().iloc[-1] * 100  # Latest YoY growth in net income\n",
      "/var/folders/83/3t5wk1pn2fq83ss49zg61zf40000gn/T/ipykernel_24432/1337409805.py:11: FutureWarning: Downcasting object dtype arrays on .fillna, .ffill, .bfill is deprecated and will change in a future version. Call result.infer_objects(copy=False) instead. To opt-in to the future behavior, set `pd.set_option('future.no_silent_downcasting', True)`\n",
      "  earnings_growth = financials['Net Income'].pct_change().iloc[-1] * 100  # Latest YoY growth in net income\n",
      "/var/folders/83/3t5wk1pn2fq83ss49zg61zf40000gn/T/ipykernel_24432/1337409805.py:21: FutureWarning: The default fill_method='pad' in Series.pct_change is deprecated and will be removed in a future version. Either fill in any non-leading NA values prior to calling pct_change or specify 'fill_method=None' to not fill NA values.\n",
      "  annual_growth = financials['Net Income'].pct_change().mean() * 100  # Average annual growth\n",
      "/var/folders/83/3t5wk1pn2fq83ss49zg61zf40000gn/T/ipykernel_24432/1337409805.py:21: FutureWarning: Downcasting object dtype arrays on .fillna, .ffill, .bfill is deprecated and will change in a future version. Call result.infer_objects(copy=False) instead. To opt-in to the future behavior, set `pd.set_option('future.no_silent_downcasting', True)`\n",
      "  annual_growth = financials['Net Income'].pct_change().mean() * 100  # Average annual growth\n"
     ]
    },
    {
     "name": "stdout",
     "output_type": "stream",
     "text": [
      "Results for ALLE:\n",
      "Earnings Growth (C): 0.0\n",
      "Annual Earnings Growth (A): -11.179246354700915\n",
      "Institutional Sponsorship (I): 45667846\n",
      "ROE: N/A\n",
      "Debt-to-Equity: N/A\n",
      "Dividend Growth: 4.865486183897844\n",
      "\n"
     ]
    },
    {
     "name": "stderr",
     "output_type": "stream",
     "text": [
      "/var/folders/83/3t5wk1pn2fq83ss49zg61zf40000gn/T/ipykernel_24432/1337409805.py:11: FutureWarning: The default fill_method='pad' in Series.pct_change is deprecated and will be removed in a future version. Either fill in any non-leading NA values prior to calling pct_change or specify 'fill_method=None' to not fill NA values.\n",
      "  earnings_growth = financials['Net Income'].pct_change().iloc[-1] * 100  # Latest YoY growth in net income\n",
      "/var/folders/83/3t5wk1pn2fq83ss49zg61zf40000gn/T/ipykernel_24432/1337409805.py:11: FutureWarning: Downcasting object dtype arrays on .fillna, .ffill, .bfill is deprecated and will change in a future version. Call result.infer_objects(copy=False) instead. To opt-in to the future behavior, set `pd.set_option('future.no_silent_downcasting', True)`\n",
      "  earnings_growth = financials['Net Income'].pct_change().iloc[-1] * 100  # Latest YoY growth in net income\n",
      "/var/folders/83/3t5wk1pn2fq83ss49zg61zf40000gn/T/ipykernel_24432/1337409805.py:21: FutureWarning: The default fill_method='pad' in Series.pct_change is deprecated and will be removed in a future version. Either fill in any non-leading NA values prior to calling pct_change or specify 'fill_method=None' to not fill NA values.\n",
      "  annual_growth = financials['Net Income'].pct_change().mean() * 100  # Average annual growth\n",
      "/var/folders/83/3t5wk1pn2fq83ss49zg61zf40000gn/T/ipykernel_24432/1337409805.py:21: FutureWarning: Downcasting object dtype arrays on .fillna, .ffill, .bfill is deprecated and will change in a future version. Call result.infer_objects(copy=False) instead. To opt-in to the future behavior, set `pd.set_option('future.no_silent_downcasting', True)`\n",
      "  annual_growth = financials['Net Income'].pct_change().mean() * 100  # Average annual growth\n"
     ]
    },
    {
     "name": "stdout",
     "output_type": "stream",
     "text": [
      "Results for LNT:\n",
      "Earnings Growth (C): 0.0\n",
      "Annual Earnings Growth (A): -2.896469111126146\n",
      "Institutional Sponsorship (I): 109007879\n",
      "ROE: N/A\n",
      "Debt-to-Equity: N/A\n",
      "Dividend Growth: 1.8564730850800237\n",
      "\n"
     ]
    },
    {
     "name": "stderr",
     "output_type": "stream",
     "text": [
      "/var/folders/83/3t5wk1pn2fq83ss49zg61zf40000gn/T/ipykernel_24432/1337409805.py:11: FutureWarning: The default fill_method='pad' in Series.pct_change is deprecated and will be removed in a future version. Either fill in any non-leading NA values prior to calling pct_change or specify 'fill_method=None' to not fill NA values.\n",
      "  earnings_growth = financials['Net Income'].pct_change().iloc[-1] * 100  # Latest YoY growth in net income\n",
      "/var/folders/83/3t5wk1pn2fq83ss49zg61zf40000gn/T/ipykernel_24432/1337409805.py:11: FutureWarning: Downcasting object dtype arrays on .fillna, .ffill, .bfill is deprecated and will change in a future version. Call result.infer_objects(copy=False) instead. To opt-in to the future behavior, set `pd.set_option('future.no_silent_downcasting', True)`\n",
      "  earnings_growth = financials['Net Income'].pct_change().iloc[-1] * 100  # Latest YoY growth in net income\n",
      "/var/folders/83/3t5wk1pn2fq83ss49zg61zf40000gn/T/ipykernel_24432/1337409805.py:21: FutureWarning: The default fill_method='pad' in Series.pct_change is deprecated and will be removed in a future version. Either fill in any non-leading NA values prior to calling pct_change or specify 'fill_method=None' to not fill NA values.\n",
      "  annual_growth = financials['Net Income'].pct_change().mean() * 100  # Average annual growth\n",
      "/var/folders/83/3t5wk1pn2fq83ss49zg61zf40000gn/T/ipykernel_24432/1337409805.py:21: FutureWarning: Downcasting object dtype arrays on .fillna, .ffill, .bfill is deprecated and will change in a future version. Call result.infer_objects(copy=False) instead. To opt-in to the future behavior, set `pd.set_option('future.no_silent_downcasting', True)`\n",
      "  annual_growth = financials['Net Income'].pct_change().mean() * 100  # Average annual growth\n"
     ]
    },
    {
     "name": "stdout",
     "output_type": "stream",
     "text": [
      "Results for ALL:\n",
      "Earnings Growth (C): 0.0\n",
      "Annual Earnings Growth (A): 151.47550744591774\n",
      "Institutional Sponsorship (I): 98844274\n",
      "ROE: N/A\n",
      "Debt-to-Equity: N/A\n",
      "Dividend Growth: 2.239009836727676\n",
      "\n"
     ]
    },
    {
     "name": "stderr",
     "output_type": "stream",
     "text": [
      "/var/folders/83/3t5wk1pn2fq83ss49zg61zf40000gn/T/ipykernel_24432/1337409805.py:11: FutureWarning: The default fill_method='pad' in Series.pct_change is deprecated and will be removed in a future version. Either fill in any non-leading NA values prior to calling pct_change or specify 'fill_method=None' to not fill NA values.\n",
      "  earnings_growth = financials['Net Income'].pct_change().iloc[-1] * 100  # Latest YoY growth in net income\n",
      "/var/folders/83/3t5wk1pn2fq83ss49zg61zf40000gn/T/ipykernel_24432/1337409805.py:11: FutureWarning: Downcasting object dtype arrays on .fillna, .ffill, .bfill is deprecated and will change in a future version. Call result.infer_objects(copy=False) instead. To opt-in to the future behavior, set `pd.set_option('future.no_silent_downcasting', True)`\n",
      "  earnings_growth = financials['Net Income'].pct_change().iloc[-1] * 100  # Latest YoY growth in net income\n",
      "/var/folders/83/3t5wk1pn2fq83ss49zg61zf40000gn/T/ipykernel_24432/1337409805.py:21: FutureWarning: The default fill_method='pad' in Series.pct_change is deprecated and will be removed in a future version. Either fill in any non-leading NA values prior to calling pct_change or specify 'fill_method=None' to not fill NA values.\n",
      "  annual_growth = financials['Net Income'].pct_change().mean() * 100  # Average annual growth\n",
      "/var/folders/83/3t5wk1pn2fq83ss49zg61zf40000gn/T/ipykernel_24432/1337409805.py:21: FutureWarning: Downcasting object dtype arrays on .fillna, .ffill, .bfill is deprecated and will change in a future version. Call result.infer_objects(copy=False) instead. To opt-in to the future behavior, set `pd.set_option('future.no_silent_downcasting', True)`\n",
      "  annual_growth = financials['Net Income'].pct_change().mean() * 100  # Average annual growth\n"
     ]
    },
    {
     "name": "stdout",
     "output_type": "stream",
     "text": [
      "Results for GOOGL:\n",
      "Earnings Growth (C): 0.0\n",
      "Annual Earnings Growth (A): -9.74706522526474\n",
      "Institutional Sponsorship (I): 1936978699\n",
      "ROE: N/A\n",
      "Debt-to-Equity: N/A\n",
      "Dividend Growth: 0.0\n",
      "\n"
     ]
    },
    {
     "name": "stderr",
     "output_type": "stream",
     "text": [
      "/var/folders/83/3t5wk1pn2fq83ss49zg61zf40000gn/T/ipykernel_24432/1337409805.py:11: FutureWarning: The default fill_method='pad' in Series.pct_change is deprecated and will be removed in a future version. Either fill in any non-leading NA values prior to calling pct_change or specify 'fill_method=None' to not fill NA values.\n",
      "  earnings_growth = financials['Net Income'].pct_change().iloc[-1] * 100  # Latest YoY growth in net income\n",
      "/var/folders/83/3t5wk1pn2fq83ss49zg61zf40000gn/T/ipykernel_24432/1337409805.py:11: FutureWarning: Downcasting object dtype arrays on .fillna, .ffill, .bfill is deprecated and will change in a future version. Call result.infer_objects(copy=False) instead. To opt-in to the future behavior, set `pd.set_option('future.no_silent_downcasting', True)`\n",
      "  earnings_growth = financials['Net Income'].pct_change().iloc[-1] * 100  # Latest YoY growth in net income\n",
      "/var/folders/83/3t5wk1pn2fq83ss49zg61zf40000gn/T/ipykernel_24432/1337409805.py:21: FutureWarning: The default fill_method='pad' in Series.pct_change is deprecated and will be removed in a future version. Either fill in any non-leading NA values prior to calling pct_change or specify 'fill_method=None' to not fill NA values.\n",
      "  annual_growth = financials['Net Income'].pct_change().mean() * 100  # Average annual growth\n",
      "/var/folders/83/3t5wk1pn2fq83ss49zg61zf40000gn/T/ipykernel_24432/1337409805.py:21: FutureWarning: Downcasting object dtype arrays on .fillna, .ffill, .bfill is deprecated and will change in a future version. Call result.infer_objects(copy=False) instead. To opt-in to the future behavior, set `pd.set_option('future.no_silent_downcasting', True)`\n",
      "  annual_growth = financials['Net Income'].pct_change().mean() * 100  # Average annual growth\n"
     ]
    },
    {
     "name": "stdout",
     "output_type": "stream",
     "text": [
      "Results for GOOG:\n",
      "Earnings Growth (C): 0.0\n",
      "Annual Earnings Growth (A): -9.74706522526474\n",
      "Institutional Sponsorship (I): 1589336516\n",
      "ROE: N/A\n",
      "Debt-to-Equity: N/A\n",
      "Dividend Growth: 0.0\n",
      "\n"
     ]
    },
    {
     "name": "stderr",
     "output_type": "stream",
     "text": [
      "/var/folders/83/3t5wk1pn2fq83ss49zg61zf40000gn/T/ipykernel_24432/1337409805.py:11: FutureWarning: The default fill_method='pad' in Series.pct_change is deprecated and will be removed in a future version. Either fill in any non-leading NA values prior to calling pct_change or specify 'fill_method=None' to not fill NA values.\n",
      "  earnings_growth = financials['Net Income'].pct_change().iloc[-1] * 100  # Latest YoY growth in net income\n",
      "/var/folders/83/3t5wk1pn2fq83ss49zg61zf40000gn/T/ipykernel_24432/1337409805.py:11: FutureWarning: Downcasting object dtype arrays on .fillna, .ffill, .bfill is deprecated and will change in a future version. Call result.infer_objects(copy=False) instead. To opt-in to the future behavior, set `pd.set_option('future.no_silent_downcasting', True)`\n",
      "  earnings_growth = financials['Net Income'].pct_change().iloc[-1] * 100  # Latest YoY growth in net income\n",
      "/var/folders/83/3t5wk1pn2fq83ss49zg61zf40000gn/T/ipykernel_24432/1337409805.py:21: FutureWarning: The default fill_method='pad' in Series.pct_change is deprecated and will be removed in a future version. Either fill in any non-leading NA values prior to calling pct_change or specify 'fill_method=None' to not fill NA values.\n",
      "  annual_growth = financials['Net Income'].pct_change().mean() * 100  # Average annual growth\n",
      "/var/folders/83/3t5wk1pn2fq83ss49zg61zf40000gn/T/ipykernel_24432/1337409805.py:21: FutureWarning: Downcasting object dtype arrays on .fillna, .ffill, .bfill is deprecated and will change in a future version. Call result.infer_objects(copy=False) instead. To opt-in to the future behavior, set `pd.set_option('future.no_silent_downcasting', True)`\n",
      "  annual_growth = financials['Net Income'].pct_change().mean() * 100  # Average annual growth\n"
     ]
    },
    {
     "name": "stdout",
     "output_type": "stream",
     "text": [
      "Results for MO:\n",
      "Earnings Growth (C): 0.0\n",
      "Annual Earnings Growth (A): -1.419577809587949\n",
      "Institutional Sponsorship (I): 620009247\n",
      "ROE: N/A\n",
      "Debt-to-Equity: N/A\n",
      "Dividend Growth: 39.539759002681144\n",
      "\n"
     ]
    },
    {
     "name": "stderr",
     "output_type": "stream",
     "text": [
      "/var/folders/83/3t5wk1pn2fq83ss49zg61zf40000gn/T/ipykernel_24432/1337409805.py:11: FutureWarning: The default fill_method='pad' in Series.pct_change is deprecated and will be removed in a future version. Either fill in any non-leading NA values prior to calling pct_change or specify 'fill_method=None' to not fill NA values.\n",
      "  earnings_growth = financials['Net Income'].pct_change().iloc[-1] * 100  # Latest YoY growth in net income\n",
      "/var/folders/83/3t5wk1pn2fq83ss49zg61zf40000gn/T/ipykernel_24432/1337409805.py:11: FutureWarning: Downcasting object dtype arrays on .fillna, .ffill, .bfill is deprecated and will change in a future version. Call result.infer_objects(copy=False) instead. To opt-in to the future behavior, set `pd.set_option('future.no_silent_downcasting', True)`\n",
      "  earnings_growth = financials['Net Income'].pct_change().iloc[-1] * 100  # Latest YoY growth in net income\n",
      "/var/folders/83/3t5wk1pn2fq83ss49zg61zf40000gn/T/ipykernel_24432/1337409805.py:21: FutureWarning: The default fill_method='pad' in Series.pct_change is deprecated and will be removed in a future version. Either fill in any non-leading NA values prior to calling pct_change or specify 'fill_method=None' to not fill NA values.\n",
      "  annual_growth = financials['Net Income'].pct_change().mean() * 100  # Average annual growth\n",
      "/var/folders/83/3t5wk1pn2fq83ss49zg61zf40000gn/T/ipykernel_24432/1337409805.py:21: FutureWarning: Downcasting object dtype arrays on .fillna, .ffill, .bfill is deprecated and will change in a future version. Call result.infer_objects(copy=False) instead. To opt-in to the future behavior, set `pd.set_option('future.no_silent_downcasting', True)`\n",
      "  annual_growth = financials['Net Income'].pct_change().mean() * 100  # Average annual growth\n"
     ]
    },
    {
     "name": "stdout",
     "output_type": "stream",
     "text": [
      "Results for AMZN:\n",
      "Earnings Growth (C): 0.0\n",
      "Annual Earnings Growth (A): -367.68219860812\n",
      "Institutional Sponsorship (I): 2820695309\n",
      "ROE: N/A\n",
      "Debt-to-Equity: N/A\n",
      "Dividend Growth: N/A\n",
      "\n"
     ]
    },
    {
     "name": "stderr",
     "output_type": "stream",
     "text": [
      "/var/folders/83/3t5wk1pn2fq83ss49zg61zf40000gn/T/ipykernel_24432/1337409805.py:11: FutureWarning: The default fill_method='pad' in Series.pct_change is deprecated and will be removed in a future version. Either fill in any non-leading NA values prior to calling pct_change or specify 'fill_method=None' to not fill NA values.\n",
      "  earnings_growth = financials['Net Income'].pct_change().iloc[-1] * 100  # Latest YoY growth in net income\n",
      "/var/folders/83/3t5wk1pn2fq83ss49zg61zf40000gn/T/ipykernel_24432/1337409805.py:11: FutureWarning: Downcasting object dtype arrays on .fillna, .ffill, .bfill is deprecated and will change in a future version. Call result.infer_objects(copy=False) instead. To opt-in to the future behavior, set `pd.set_option('future.no_silent_downcasting', True)`\n",
      "  earnings_growth = financials['Net Income'].pct_change().iloc[-1] * 100  # Latest YoY growth in net income\n",
      "/var/folders/83/3t5wk1pn2fq83ss49zg61zf40000gn/T/ipykernel_24432/1337409805.py:21: FutureWarning: The default fill_method='pad' in Series.pct_change is deprecated and will be removed in a future version. Either fill in any non-leading NA values prior to calling pct_change or specify 'fill_method=None' to not fill NA values.\n",
      "  annual_growth = financials['Net Income'].pct_change().mean() * 100  # Average annual growth\n",
      "/var/folders/83/3t5wk1pn2fq83ss49zg61zf40000gn/T/ipykernel_24432/1337409805.py:21: FutureWarning: Downcasting object dtype arrays on .fillna, .ffill, .bfill is deprecated and will change in a future version. Call result.infer_objects(copy=False) instead. To opt-in to the future behavior, set `pd.set_option('future.no_silent_downcasting', True)`\n",
      "  annual_growth = financials['Net Income'].pct_change().mean() * 100  # Average annual growth\n"
     ]
    },
    {
     "name": "stdout",
     "output_type": "stream",
     "text": [
      "Results for AMCR:\n",
      "Earnings Growth (C): 0.0\n",
      "Annual Earnings Growth (A): 9.255145916943086\n",
      "Institutional Sponsorship (I): N/A\n",
      "ROE: N/A\n",
      "Debt-to-Equity: N/A\n",
      "Dividend Growth: -0.3484709718514733\n",
      "\n"
     ]
    },
    {
     "name": "stderr",
     "output_type": "stream",
     "text": [
      "/var/folders/83/3t5wk1pn2fq83ss49zg61zf40000gn/T/ipykernel_24432/1337409805.py:11: FutureWarning: The default fill_method='pad' in Series.pct_change is deprecated and will be removed in a future version. Either fill in any non-leading NA values prior to calling pct_change or specify 'fill_method=None' to not fill NA values.\n",
      "  earnings_growth = financials['Net Income'].pct_change().iloc[-1] * 100  # Latest YoY growth in net income\n",
      "/var/folders/83/3t5wk1pn2fq83ss49zg61zf40000gn/T/ipykernel_24432/1337409805.py:11: FutureWarning: Downcasting object dtype arrays on .fillna, .ffill, .bfill is deprecated and will change in a future version. Call result.infer_objects(copy=False) instead. To opt-in to the future behavior, set `pd.set_option('future.no_silent_downcasting', True)`\n",
      "  earnings_growth = financials['Net Income'].pct_change().iloc[-1] * 100  # Latest YoY growth in net income\n",
      "/var/folders/83/3t5wk1pn2fq83ss49zg61zf40000gn/T/ipykernel_24432/1337409805.py:21: FutureWarning: The default fill_method='pad' in Series.pct_change is deprecated and will be removed in a future version. Either fill in any non-leading NA values prior to calling pct_change or specify 'fill_method=None' to not fill NA values.\n",
      "  annual_growth = financials['Net Income'].pct_change().mean() * 100  # Average annual growth\n",
      "/var/folders/83/3t5wk1pn2fq83ss49zg61zf40000gn/T/ipykernel_24432/1337409805.py:21: FutureWarning: Downcasting object dtype arrays on .fillna, .ffill, .bfill is deprecated and will change in a future version. Call result.infer_objects(copy=False) instead. To opt-in to the future behavior, set `pd.set_option('future.no_silent_downcasting', True)`\n",
      "  annual_growth = financials['Net Income'].pct_change().mean() * 100  # Average annual growth\n"
     ]
    },
    {
     "name": "stdout",
     "output_type": "stream",
     "text": [
      "Results for AEE:\n",
      "Earnings Growth (C): 0.0\n",
      "Annual Earnings Growth (A): -6.653066100953672\n",
      "Institutional Sponsorship (I): 121094079\n",
      "ROE: N/A\n",
      "Debt-to-Equity: N/A\n",
      "Dividend Growth: 0.1647671178289718\n",
      "\n"
     ]
    },
    {
     "name": "stderr",
     "output_type": "stream",
     "text": [
      "/var/folders/83/3t5wk1pn2fq83ss49zg61zf40000gn/T/ipykernel_24432/1337409805.py:11: FutureWarning: The default fill_method='pad' in Series.pct_change is deprecated and will be removed in a future version. Either fill in any non-leading NA values prior to calling pct_change or specify 'fill_method=None' to not fill NA values.\n",
      "  earnings_growth = financials['Net Income'].pct_change().iloc[-1] * 100  # Latest YoY growth in net income\n",
      "/var/folders/83/3t5wk1pn2fq83ss49zg61zf40000gn/T/ipykernel_24432/1337409805.py:11: FutureWarning: Downcasting object dtype arrays on .fillna, .ffill, .bfill is deprecated and will change in a future version. Call result.infer_objects(copy=False) instead. To opt-in to the future behavior, set `pd.set_option('future.no_silent_downcasting', True)`\n",
      "  earnings_growth = financials['Net Income'].pct_change().iloc[-1] * 100  # Latest YoY growth in net income\n",
      "/var/folders/83/3t5wk1pn2fq83ss49zg61zf40000gn/T/ipykernel_24432/1337409805.py:21: FutureWarning: The default fill_method='pad' in Series.pct_change is deprecated and will be removed in a future version. Either fill in any non-leading NA values prior to calling pct_change or specify 'fill_method=None' to not fill NA values.\n",
      "  annual_growth = financials['Net Income'].pct_change().mean() * 100  # Average annual growth\n",
      "/var/folders/83/3t5wk1pn2fq83ss49zg61zf40000gn/T/ipykernel_24432/1337409805.py:21: FutureWarning: Downcasting object dtype arrays on .fillna, .ffill, .bfill is deprecated and will change in a future version. Call result.infer_objects(copy=False) instead. To opt-in to the future behavior, set `pd.set_option('future.no_silent_downcasting', True)`\n",
      "  annual_growth = financials['Net Income'].pct_change().mean() * 100  # Average annual growth\n"
     ]
    },
    {
     "name": "stdout",
     "output_type": "stream",
     "text": [
      "Results for AEP:\n",
      "Earnings Growth (C): 0.0\n",
      "Annual Earnings Growth (A): 0.1883991471882257\n",
      "Institutional Sponsorship (I): 198598964\n",
      "ROE: N/A\n",
      "Debt-to-Equity: N/A\n",
      "Dividend Growth: 4.277793039044131\n",
      "\n"
     ]
    },
    {
     "name": "stderr",
     "output_type": "stream",
     "text": [
      "/var/folders/83/3t5wk1pn2fq83ss49zg61zf40000gn/T/ipykernel_24432/1337409805.py:11: FutureWarning: The default fill_method='pad' in Series.pct_change is deprecated and will be removed in a future version. Either fill in any non-leading NA values prior to calling pct_change or specify 'fill_method=None' to not fill NA values.\n",
      "  earnings_growth = financials['Net Income'].pct_change().iloc[-1] * 100  # Latest YoY growth in net income\n",
      "/var/folders/83/3t5wk1pn2fq83ss49zg61zf40000gn/T/ipykernel_24432/1337409805.py:11: FutureWarning: Downcasting object dtype arrays on .fillna, .ffill, .bfill is deprecated and will change in a future version. Call result.infer_objects(copy=False) instead. To opt-in to the future behavior, set `pd.set_option('future.no_silent_downcasting', True)`\n",
      "  earnings_growth = financials['Net Income'].pct_change().iloc[-1] * 100  # Latest YoY growth in net income\n",
      "/var/folders/83/3t5wk1pn2fq83ss49zg61zf40000gn/T/ipykernel_24432/1337409805.py:21: FutureWarning: The default fill_method='pad' in Series.pct_change is deprecated and will be removed in a future version. Either fill in any non-leading NA values prior to calling pct_change or specify 'fill_method=None' to not fill NA values.\n",
      "  annual_growth = financials['Net Income'].pct_change().mean() * 100  # Average annual growth\n",
      "/var/folders/83/3t5wk1pn2fq83ss49zg61zf40000gn/T/ipykernel_24432/1337409805.py:21: FutureWarning: Downcasting object dtype arrays on .fillna, .ffill, .bfill is deprecated and will change in a future version. Call result.infer_objects(copy=False) instead. To opt-in to the future behavior, set `pd.set_option('future.no_silent_downcasting', True)`\n",
      "  annual_growth = financials['Net Income'].pct_change().mean() * 100  # Average annual growth\n"
     ]
    },
    {
     "name": "stdout",
     "output_type": "stream",
     "text": [
      "Results for AXP:\n",
      "Earnings Growth (C): 0.0\n",
      "Annual Earnings Growth (A): -16.026916336806185\n",
      "Institutional Sponsorship (I): 364821518\n",
      "ROE: N/A\n",
      "Debt-to-Equity: N/A\n",
      "Dividend Growth: 2.2082335243878055\n",
      "\n"
     ]
    },
    {
     "name": "stderr",
     "output_type": "stream",
     "text": [
      "/var/folders/83/3t5wk1pn2fq83ss49zg61zf40000gn/T/ipykernel_24432/1337409805.py:11: FutureWarning: The default fill_method='pad' in Series.pct_change is deprecated and will be removed in a future version. Either fill in any non-leading NA values prior to calling pct_change or specify 'fill_method=None' to not fill NA values.\n",
      "  earnings_growth = financials['Net Income'].pct_change().iloc[-1] * 100  # Latest YoY growth in net income\n",
      "/var/folders/83/3t5wk1pn2fq83ss49zg61zf40000gn/T/ipykernel_24432/1337409805.py:11: FutureWarning: Downcasting object dtype arrays on .fillna, .ffill, .bfill is deprecated and will change in a future version. Call result.infer_objects(copy=False) instead. To opt-in to the future behavior, set `pd.set_option('future.no_silent_downcasting', True)`\n",
      "  earnings_growth = financials['Net Income'].pct_change().iloc[-1] * 100  # Latest YoY growth in net income\n",
      "/var/folders/83/3t5wk1pn2fq83ss49zg61zf40000gn/T/ipykernel_24432/1337409805.py:21: FutureWarning: The default fill_method='pad' in Series.pct_change is deprecated and will be removed in a future version. Either fill in any non-leading NA values prior to calling pct_change or specify 'fill_method=None' to not fill NA values.\n",
      "  annual_growth = financials['Net Income'].pct_change().mean() * 100  # Average annual growth\n",
      "/var/folders/83/3t5wk1pn2fq83ss49zg61zf40000gn/T/ipykernel_24432/1337409805.py:21: FutureWarning: Downcasting object dtype arrays on .fillna, .ffill, .bfill is deprecated and will change in a future version. Call result.infer_objects(copy=False) instead. To opt-in to the future behavior, set `pd.set_option('future.no_silent_downcasting', True)`\n",
      "  annual_growth = financials['Net Income'].pct_change().mean() * 100  # Average annual growth\n"
     ]
    },
    {
     "name": "stdout",
     "output_type": "stream",
     "text": [
      "Results for AIG:\n",
      "Earnings Growth (C): 0.0\n",
      "Annual Earnings Growth (A): 6.190828963329281\n",
      "Institutional Sponsorship (I): 333723499\n",
      "ROE: N/A\n",
      "Debt-to-Equity: N/A\n",
      "Dividend Growth: 4.9746702868021675\n",
      "\n"
     ]
    },
    {
     "name": "stderr",
     "output_type": "stream",
     "text": [
      "/var/folders/83/3t5wk1pn2fq83ss49zg61zf40000gn/T/ipykernel_24432/1337409805.py:11: FutureWarning: The default fill_method='pad' in Series.pct_change is deprecated and will be removed in a future version. Either fill in any non-leading NA values prior to calling pct_change or specify 'fill_method=None' to not fill NA values.\n",
      "  earnings_growth = financials['Net Income'].pct_change().iloc[-1] * 100  # Latest YoY growth in net income\n",
      "/var/folders/83/3t5wk1pn2fq83ss49zg61zf40000gn/T/ipykernel_24432/1337409805.py:11: FutureWarning: Downcasting object dtype arrays on .fillna, .ffill, .bfill is deprecated and will change in a future version. Call result.infer_objects(copy=False) instead. To opt-in to the future behavior, set `pd.set_option('future.no_silent_downcasting', True)`\n",
      "  earnings_growth = financials['Net Income'].pct_change().iloc[-1] * 100  # Latest YoY growth in net income\n",
      "/var/folders/83/3t5wk1pn2fq83ss49zg61zf40000gn/T/ipykernel_24432/1337409805.py:21: FutureWarning: The default fill_method='pad' in Series.pct_change is deprecated and will be removed in a future version. Either fill in any non-leading NA values prior to calling pct_change or specify 'fill_method=None' to not fill NA values.\n",
      "  annual_growth = financials['Net Income'].pct_change().mean() * 100  # Average annual growth\n",
      "/var/folders/83/3t5wk1pn2fq83ss49zg61zf40000gn/T/ipykernel_24432/1337409805.py:21: FutureWarning: Downcasting object dtype arrays on .fillna, .ffill, .bfill is deprecated and will change in a future version. Call result.infer_objects(copy=False) instead. To opt-in to the future behavior, set `pd.set_option('future.no_silent_downcasting', True)`\n",
      "  annual_growth = financials['Net Income'].pct_change().mean() * 100  # Average annual growth\n"
     ]
    },
    {
     "name": "stdout",
     "output_type": "stream",
     "text": [
      "Results for AMT:\n",
      "Earnings Growth (C): 0.0\n",
      "Annual Earnings Growth (A): 7.5748102211678825\n",
      "Institutional Sponsorship (I): 176815801\n",
      "ROE: N/A\n",
      "Debt-to-Equity: N/A\n",
      "Dividend Growth: 3.405390421293953\n",
      "\n"
     ]
    },
    {
     "name": "stderr",
     "output_type": "stream",
     "text": [
      "/var/folders/83/3t5wk1pn2fq83ss49zg61zf40000gn/T/ipykernel_24432/1337409805.py:11: FutureWarning: The default fill_method='pad' in Series.pct_change is deprecated and will be removed in a future version. Either fill in any non-leading NA values prior to calling pct_change or specify 'fill_method=None' to not fill NA values.\n",
      "  earnings_growth = financials['Net Income'].pct_change().iloc[-1] * 100  # Latest YoY growth in net income\n",
      "/var/folders/83/3t5wk1pn2fq83ss49zg61zf40000gn/T/ipykernel_24432/1337409805.py:11: FutureWarning: Downcasting object dtype arrays on .fillna, .ffill, .bfill is deprecated and will change in a future version. Call result.infer_objects(copy=False) instead. To opt-in to the future behavior, set `pd.set_option('future.no_silent_downcasting', True)`\n",
      "  earnings_growth = financials['Net Income'].pct_change().iloc[-1] * 100  # Latest YoY growth in net income\n",
      "/var/folders/83/3t5wk1pn2fq83ss49zg61zf40000gn/T/ipykernel_24432/1337409805.py:21: FutureWarning: The default fill_method='pad' in Series.pct_change is deprecated and will be removed in a future version. Either fill in any non-leading NA values prior to calling pct_change or specify 'fill_method=None' to not fill NA values.\n",
      "  annual_growth = financials['Net Income'].pct_change().mean() * 100  # Average annual growth\n",
      "/var/folders/83/3t5wk1pn2fq83ss49zg61zf40000gn/T/ipykernel_24432/1337409805.py:21: FutureWarning: Downcasting object dtype arrays on .fillna, .ffill, .bfill is deprecated and will change in a future version. Call result.infer_objects(copy=False) instead. To opt-in to the future behavior, set `pd.set_option('future.no_silent_downcasting', True)`\n",
      "  annual_growth = financials['Net Income'].pct_change().mean() * 100  # Average annual growth\n"
     ]
    },
    {
     "name": "stdout",
     "output_type": "stream",
     "text": [
      "Results for AWK:\n",
      "Earnings Growth (C): 0.0\n",
      "Annual Earnings Growth (A): -0.7437548217021667\n",
      "Institutional Sponsorship (I): 85876733\n",
      "ROE: N/A\n",
      "Debt-to-Equity: N/A\n",
      "Dividend Growth: 2.191977000634091\n",
      "\n"
     ]
    },
    {
     "name": "stderr",
     "output_type": "stream",
     "text": [
      "/var/folders/83/3t5wk1pn2fq83ss49zg61zf40000gn/T/ipykernel_24432/1337409805.py:11: FutureWarning: The default fill_method='pad' in Series.pct_change is deprecated and will be removed in a future version. Either fill in any non-leading NA values prior to calling pct_change or specify 'fill_method=None' to not fill NA values.\n",
      "  earnings_growth = financials['Net Income'].pct_change().iloc[-1] * 100  # Latest YoY growth in net income\n",
      "/var/folders/83/3t5wk1pn2fq83ss49zg61zf40000gn/T/ipykernel_24432/1337409805.py:11: FutureWarning: Downcasting object dtype arrays on .fillna, .ffill, .bfill is deprecated and will change in a future version. Call result.infer_objects(copy=False) instead. To opt-in to the future behavior, set `pd.set_option('future.no_silent_downcasting', True)`\n",
      "  earnings_growth = financials['Net Income'].pct_change().iloc[-1] * 100  # Latest YoY growth in net income\n",
      "/var/folders/83/3t5wk1pn2fq83ss49zg61zf40000gn/T/ipykernel_24432/1337409805.py:21: FutureWarning: The default fill_method='pad' in Series.pct_change is deprecated and will be removed in a future version. Either fill in any non-leading NA values prior to calling pct_change or specify 'fill_method=None' to not fill NA values.\n",
      "  annual_growth = financials['Net Income'].pct_change().mean() * 100  # Average annual growth\n",
      "/var/folders/83/3t5wk1pn2fq83ss49zg61zf40000gn/T/ipykernel_24432/1337409805.py:21: FutureWarning: Downcasting object dtype arrays on .fillna, .ffill, .bfill is deprecated and will change in a future version. Call result.infer_objects(copy=False) instead. To opt-in to the future behavior, set `pd.set_option('future.no_silent_downcasting', True)`\n",
      "  annual_growth = financials['Net Income'].pct_change().mean() * 100  # Average annual growth\n"
     ]
    },
    {
     "name": "stdout",
     "output_type": "stream",
     "text": [
      "Results for AMP:\n",
      "Earnings Growth (C): 0.0\n",
      "Annual Earnings Growth (A): -5.84896689000601\n",
      "Institutional Sponsorship (I): 44282574\n",
      "ROE: N/A\n",
      "Debt-to-Equity: N/A\n",
      "Dividend Growth: 3.7895578059001873\n",
      "\n"
     ]
    },
    {
     "name": "stderr",
     "output_type": "stream",
     "text": [
      "/var/folders/83/3t5wk1pn2fq83ss49zg61zf40000gn/T/ipykernel_24432/1337409805.py:11: FutureWarning: Downcasting object dtype arrays on .fillna, .ffill, .bfill is deprecated and will change in a future version. Call result.infer_objects(copy=False) instead. To opt-in to the future behavior, set `pd.set_option('future.no_silent_downcasting', True)`\n",
      "  earnings_growth = financials['Net Income'].pct_change().iloc[-1] * 100  # Latest YoY growth in net income\n",
      "/var/folders/83/3t5wk1pn2fq83ss49zg61zf40000gn/T/ipykernel_24432/1337409805.py:21: FutureWarning: Downcasting object dtype arrays on .fillna, .ffill, .bfill is deprecated and will change in a future version. Call result.infer_objects(copy=False) instead. To opt-in to the future behavior, set `pd.set_option('future.no_silent_downcasting', True)`\n",
      "  annual_growth = financials['Net Income'].pct_change().mean() * 100  # Average annual growth\n"
     ]
    },
    {
     "name": "stdout",
     "output_type": "stream",
     "text": [
      "Results for AME:\n",
      "Earnings Growth (C): -11.879566043434043\n",
      "Annual Earnings Growth (A): -12.73222888049719\n",
      "Institutional Sponsorship (I): 94141957\n",
      "ROE: N/A\n",
      "Debt-to-Equity: N/A\n",
      "Dividend Growth: 5.676324781247661\n",
      "\n"
     ]
    },
    {
     "name": "stderr",
     "output_type": "stream",
     "text": [
      "/var/folders/83/3t5wk1pn2fq83ss49zg61zf40000gn/T/ipykernel_24432/1337409805.py:11: FutureWarning: The default fill_method='pad' in Series.pct_change is deprecated and will be removed in a future version. Either fill in any non-leading NA values prior to calling pct_change or specify 'fill_method=None' to not fill NA values.\n",
      "  earnings_growth = financials['Net Income'].pct_change().iloc[-1] * 100  # Latest YoY growth in net income\n",
      "/var/folders/83/3t5wk1pn2fq83ss49zg61zf40000gn/T/ipykernel_24432/1337409805.py:11: FutureWarning: Downcasting object dtype arrays on .fillna, .ffill, .bfill is deprecated and will change in a future version. Call result.infer_objects(copy=False) instead. To opt-in to the future behavior, set `pd.set_option('future.no_silent_downcasting', True)`\n",
      "  earnings_growth = financials['Net Income'].pct_change().iloc[-1] * 100  # Latest YoY growth in net income\n",
      "/var/folders/83/3t5wk1pn2fq83ss49zg61zf40000gn/T/ipykernel_24432/1337409805.py:21: FutureWarning: The default fill_method='pad' in Series.pct_change is deprecated and will be removed in a future version. Either fill in any non-leading NA values prior to calling pct_change or specify 'fill_method=None' to not fill NA values.\n",
      "  annual_growth = financials['Net Income'].pct_change().mean() * 100  # Average annual growth\n",
      "/var/folders/83/3t5wk1pn2fq83ss49zg61zf40000gn/T/ipykernel_24432/1337409805.py:21: FutureWarning: Downcasting object dtype arrays on .fillna, .ffill, .bfill is deprecated and will change in a future version. Call result.infer_objects(copy=False) instead. To opt-in to the future behavior, set `pd.set_option('future.no_silent_downcasting', True)`\n",
      "  annual_growth = financials['Net Income'].pct_change().mean() * 100  # Average annual growth\n"
     ]
    },
    {
     "name": "stdout",
     "output_type": "stream",
     "text": [
      "Results for AMGN:\n",
      "Earnings Growth (C): 0.0\n",
      "Annual Earnings Growth (A): 2.687609804026028\n",
      "Institutional Sponsorship (I): 200263410\n",
      "ROE: N/A\n",
      "Debt-to-Equity: N/A\n",
      "Dividend Growth: 4.4352981630647905\n",
      "\n"
     ]
    },
    {
     "name": "stderr",
     "output_type": "stream",
     "text": [
      "/var/folders/83/3t5wk1pn2fq83ss49zg61zf40000gn/T/ipykernel_24432/1337409805.py:11: FutureWarning: The default fill_method='pad' in Series.pct_change is deprecated and will be removed in a future version. Either fill in any non-leading NA values prior to calling pct_change or specify 'fill_method=None' to not fill NA values.\n",
      "  earnings_growth = financials['Net Income'].pct_change().iloc[-1] * 100  # Latest YoY growth in net income\n",
      "/var/folders/83/3t5wk1pn2fq83ss49zg61zf40000gn/T/ipykernel_24432/1337409805.py:11: FutureWarning: Downcasting object dtype arrays on .fillna, .ffill, .bfill is deprecated and will change in a future version. Call result.infer_objects(copy=False) instead. To opt-in to the future behavior, set `pd.set_option('future.no_silent_downcasting', True)`\n",
      "  earnings_growth = financials['Net Income'].pct_change().iloc[-1] * 100  # Latest YoY growth in net income\n",
      "/var/folders/83/3t5wk1pn2fq83ss49zg61zf40000gn/T/ipykernel_24432/1337409805.py:21: FutureWarning: The default fill_method='pad' in Series.pct_change is deprecated and will be removed in a future version. Either fill in any non-leading NA values prior to calling pct_change or specify 'fill_method=None' to not fill NA values.\n",
      "  annual_growth = financials['Net Income'].pct_change().mean() * 100  # Average annual growth\n",
      "/var/folders/83/3t5wk1pn2fq83ss49zg61zf40000gn/T/ipykernel_24432/1337409805.py:21: FutureWarning: Downcasting object dtype arrays on .fillna, .ffill, .bfill is deprecated and will change in a future version. Call result.infer_objects(copy=False) instead. To opt-in to the future behavior, set `pd.set_option('future.no_silent_downcasting', True)`\n",
      "  annual_growth = financials['Net Income'].pct_change().mean() * 100  # Average annual growth\n"
     ]
    },
    {
     "name": "stdout",
     "output_type": "stream",
     "text": [
      "Results for APH:\n",
      "Earnings Growth (C): 0.0\n",
      "Annual Earnings Growth (A): -10.515107289845762\n",
      "Institutional Sponsorship (I): 293772418\n",
      "ROE: N/A\n",
      "Debt-to-Equity: N/A\n",
      "Dividend Growth: 11.589142663582418\n",
      "\n"
     ]
    },
    {
     "name": "stderr",
     "output_type": "stream",
     "text": [
      "/var/folders/83/3t5wk1pn2fq83ss49zg61zf40000gn/T/ipykernel_24432/1337409805.py:11: FutureWarning: The default fill_method='pad' in Series.pct_change is deprecated and will be removed in a future version. Either fill in any non-leading NA values prior to calling pct_change or specify 'fill_method=None' to not fill NA values.\n",
      "  earnings_growth = financials['Net Income'].pct_change().iloc[-1] * 100  # Latest YoY growth in net income\n",
      "/var/folders/83/3t5wk1pn2fq83ss49zg61zf40000gn/T/ipykernel_24432/1337409805.py:11: FutureWarning: Downcasting object dtype arrays on .fillna, .ffill, .bfill is deprecated and will change in a future version. Call result.infer_objects(copy=False) instead. To opt-in to the future behavior, set `pd.set_option('future.no_silent_downcasting', True)`\n",
      "  earnings_growth = financials['Net Income'].pct_change().iloc[-1] * 100  # Latest YoY growth in net income\n",
      "/var/folders/83/3t5wk1pn2fq83ss49zg61zf40000gn/T/ipykernel_24432/1337409805.py:21: FutureWarning: The default fill_method='pad' in Series.pct_change is deprecated and will be removed in a future version. Either fill in any non-leading NA values prior to calling pct_change or specify 'fill_method=None' to not fill NA values.\n",
      "  annual_growth = financials['Net Income'].pct_change().mean() * 100  # Average annual growth\n",
      "/var/folders/83/3t5wk1pn2fq83ss49zg61zf40000gn/T/ipykernel_24432/1337409805.py:21: FutureWarning: Downcasting object dtype arrays on .fillna, .ffill, .bfill is deprecated and will change in a future version. Call result.infer_objects(copy=False) instead. To opt-in to the future behavior, set `pd.set_option('future.no_silent_downcasting', True)`\n",
      "  annual_growth = financials['Net Income'].pct_change().mean() * 100  # Average annual growth\n"
     ]
    },
    {
     "name": "stdout",
     "output_type": "stream",
     "text": [
      "Results for ADI:\n",
      "Earnings Growth (C): 0.0\n",
      "Annual Earnings Growth (A): -19.67286751159438\n",
      "Institutional Sponsorship (I): 189258503\n",
      "ROE: N/A\n",
      "Debt-to-Equity: N/A\n",
      "Dividend Growth: 4.279598473069701\n",
      "\n"
     ]
    },
    {
     "name": "stderr",
     "output_type": "stream",
     "text": [
      "/var/folders/83/3t5wk1pn2fq83ss49zg61zf40000gn/T/ipykernel_24432/1337409805.py:11: FutureWarning: Downcasting object dtype arrays on .fillna, .ffill, .bfill is deprecated and will change in a future version. Call result.infer_objects(copy=False) instead. To opt-in to the future behavior, set `pd.set_option('future.no_silent_downcasting', True)`\n",
      "  earnings_growth = financials['Net Income'].pct_change().iloc[-1] * 100  # Latest YoY growth in net income\n",
      "/var/folders/83/3t5wk1pn2fq83ss49zg61zf40000gn/T/ipykernel_24432/1337409805.py:21: FutureWarning: Downcasting object dtype arrays on .fillna, .ffill, .bfill is deprecated and will change in a future version. Call result.infer_objects(copy=False) instead. To opt-in to the future behavior, set `pd.set_option('future.no_silent_downcasting', True)`\n",
      "  annual_growth = financials['Net Income'].pct_change().mean() * 100  # Average annual growth\n"
     ]
    },
    {
     "name": "stdout",
     "output_type": "stream",
     "text": [
      "Results for ANSS:\n",
      "Earnings Growth (C): -4.56198158050446\n",
      "Annual Earnings Growth (A): -4.36576565401385\n",
      "Institutional Sponsorship (I): 37251609\n",
      "ROE: N/A\n",
      "Debt-to-Equity: N/A\n",
      "Dividend Growth: N/A\n",
      "\n"
     ]
    },
    {
     "name": "stderr",
     "output_type": "stream",
     "text": [
      "/var/folders/83/3t5wk1pn2fq83ss49zg61zf40000gn/T/ipykernel_24432/1337409805.py:11: FutureWarning: The default fill_method='pad' in Series.pct_change is deprecated and will be removed in a future version. Either fill in any non-leading NA values prior to calling pct_change or specify 'fill_method=None' to not fill NA values.\n",
      "  earnings_growth = financials['Net Income'].pct_change().iloc[-1] * 100  # Latest YoY growth in net income\n",
      "/var/folders/83/3t5wk1pn2fq83ss49zg61zf40000gn/T/ipykernel_24432/1337409805.py:11: FutureWarning: Downcasting object dtype arrays on .fillna, .ffill, .bfill is deprecated and will change in a future version. Call result.infer_objects(copy=False) instead. To opt-in to the future behavior, set `pd.set_option('future.no_silent_downcasting', True)`\n",
      "  earnings_growth = financials['Net Income'].pct_change().iloc[-1] * 100  # Latest YoY growth in net income\n",
      "/var/folders/83/3t5wk1pn2fq83ss49zg61zf40000gn/T/ipykernel_24432/1337409805.py:21: FutureWarning: The default fill_method='pad' in Series.pct_change is deprecated and will be removed in a future version. Either fill in any non-leading NA values prior to calling pct_change or specify 'fill_method=None' to not fill NA values.\n",
      "  annual_growth = financials['Net Income'].pct_change().mean() * 100  # Average annual growth\n",
      "/var/folders/83/3t5wk1pn2fq83ss49zg61zf40000gn/T/ipykernel_24432/1337409805.py:21: FutureWarning: Downcasting object dtype arrays on .fillna, .ffill, .bfill is deprecated and will change in a future version. Call result.infer_objects(copy=False) instead. To opt-in to the future behavior, set `pd.set_option('future.no_silent_downcasting', True)`\n",
      "  annual_growth = financials['Net Income'].pct_change().mean() * 100  # Average annual growth\n"
     ]
    },
    {
     "name": "stdout",
     "output_type": "stream",
     "text": [
      "Results for AON:\n",
      "Earnings Growth (C): 0.0\n",
      "Annual Earnings Growth (A): 1.5854459218878791\n",
      "Institutional Sponsorship (I): 89910163\n",
      "ROE: N/A\n",
      "Debt-to-Equity: N/A\n",
      "Dividend Growth: 1.5987368537377695\n",
      "\n"
     ]
    },
    {
     "name": "stderr",
     "output_type": "stream",
     "text": [
      "/var/folders/83/3t5wk1pn2fq83ss49zg61zf40000gn/T/ipykernel_24432/1337409805.py:11: FutureWarning: The default fill_method='pad' in Series.pct_change is deprecated and will be removed in a future version. Either fill in any non-leading NA values prior to calling pct_change or specify 'fill_method=None' to not fill NA values.\n",
      "  earnings_growth = financials['Net Income'].pct_change().iloc[-1] * 100  # Latest YoY growth in net income\n",
      "/var/folders/83/3t5wk1pn2fq83ss49zg61zf40000gn/T/ipykernel_24432/1337409805.py:11: FutureWarning: Downcasting object dtype arrays on .fillna, .ffill, .bfill is deprecated and will change in a future version. Call result.infer_objects(copy=False) instead. To opt-in to the future behavior, set `pd.set_option('future.no_silent_downcasting', True)`\n",
      "  earnings_growth = financials['Net Income'].pct_change().iloc[-1] * 100  # Latest YoY growth in net income\n",
      "/var/folders/83/3t5wk1pn2fq83ss49zg61zf40000gn/T/ipykernel_24432/1337409805.py:21: FutureWarning: The default fill_method='pad' in Series.pct_change is deprecated and will be removed in a future version. Either fill in any non-leading NA values prior to calling pct_change or specify 'fill_method=None' to not fill NA values.\n",
      "  annual_growth = financials['Net Income'].pct_change().mean() * 100  # Average annual growth\n",
      "/var/folders/83/3t5wk1pn2fq83ss49zg61zf40000gn/T/ipykernel_24432/1337409805.py:21: FutureWarning: Downcasting object dtype arrays on .fillna, .ffill, .bfill is deprecated and will change in a future version. Call result.infer_objects(copy=False) instead. To opt-in to the future behavior, set `pd.set_option('future.no_silent_downcasting', True)`\n",
      "  annual_growth = financials['Net Income'].pct_change().mean() * 100  # Average annual growth\n"
     ]
    },
    {
     "name": "stdout",
     "output_type": "stream",
     "text": [
      "Results for APA:\n",
      "Earnings Growth (C): 0.0\n",
      "Annual Earnings Growth (A): -140.94258388906508\n",
      "Institutional Sponsorship (I): 150105876\n",
      "ROE: N/A\n",
      "Debt-to-Equity: N/A\n",
      "Dividend Growth: 4.0809702967115715\n",
      "\n"
     ]
    },
    {
     "name": "stderr",
     "output_type": "stream",
     "text": [
      "/var/folders/83/3t5wk1pn2fq83ss49zg61zf40000gn/T/ipykernel_24432/1337409805.py:11: FutureWarning: Downcasting object dtype arrays on .fillna, .ffill, .bfill is deprecated and will change in a future version. Call result.infer_objects(copy=False) instead. To opt-in to the future behavior, set `pd.set_option('future.no_silent_downcasting', True)`\n",
      "  earnings_growth = financials['Net Income'].pct_change().iloc[-1] * 100  # Latest YoY growth in net income\n",
      "/var/folders/83/3t5wk1pn2fq83ss49zg61zf40000gn/T/ipykernel_24432/1337409805.py:21: FutureWarning: Downcasting object dtype arrays on .fillna, .ffill, .bfill is deprecated and will change in a future version. Call result.infer_objects(copy=False) instead. To opt-in to the future behavior, set `pd.set_option('future.no_silent_downcasting', True)`\n",
      "  annual_growth = financials['Net Income'].pct_change().mean() * 100  # Average annual growth\n"
     ]
    },
    {
     "name": "stdout",
     "output_type": "stream",
     "text": [
      "Results for AAPL:\n",
      "Earnings Growth (C): -39.363117870722434\n",
      "Annual Earnings Growth (A): -13.867078504822613\n",
      "Institutional Sponsorship (I): 5199668652\n",
      "ROE: N/A\n",
      "Debt-to-Equity: N/A\n",
      "Dividend Growth: 107.42356607533581\n",
      "\n"
     ]
    },
    {
     "name": "stderr",
     "output_type": "stream",
     "text": [
      "/var/folders/83/3t5wk1pn2fq83ss49zg61zf40000gn/T/ipykernel_24432/1337409805.py:11: FutureWarning: Downcasting object dtype arrays on .fillna, .ffill, .bfill is deprecated and will change in a future version. Call result.infer_objects(copy=False) instead. To opt-in to the future behavior, set `pd.set_option('future.no_silent_downcasting', True)`\n",
      "  earnings_growth = financials['Net Income'].pct_change().iloc[-1] * 100  # Latest YoY growth in net income\n",
      "/var/folders/83/3t5wk1pn2fq83ss49zg61zf40000gn/T/ipykernel_24432/1337409805.py:21: FutureWarning: Downcasting object dtype arrays on .fillna, .ffill, .bfill is deprecated and will change in a future version. Call result.infer_objects(copy=False) instead. To opt-in to the future behavior, set `pd.set_option('future.no_silent_downcasting', True)`\n",
      "  annual_growth = financials['Net Income'].pct_change().mean() * 100  # Average annual growth\n"
     ]
    },
    {
     "name": "stdout",
     "output_type": "stream",
     "text": [
      "Results for AMAT:\n",
      "Earnings Growth (C): -38.5360054347826\n",
      "Annual Earnings Growth (A): -17.70878184113084\n",
      "Institutional Sponsorship (I): 304963116\n",
      "ROE: N/A\n",
      "Debt-to-Equity: N/A\n",
      "Dividend Growth: 4.11030167523674\n",
      "\n"
     ]
    },
    {
     "name": "stderr",
     "output_type": "stream",
     "text": [
      "/var/folders/83/3t5wk1pn2fq83ss49zg61zf40000gn/T/ipykernel_24432/1337409805.py:11: FutureWarning: The default fill_method='pad' in Series.pct_change is deprecated and will be removed in a future version. Either fill in any non-leading NA values prior to calling pct_change or specify 'fill_method=None' to not fill NA values.\n",
      "  earnings_growth = financials['Net Income'].pct_change().iloc[-1] * 100  # Latest YoY growth in net income\n",
      "/var/folders/83/3t5wk1pn2fq83ss49zg61zf40000gn/T/ipykernel_24432/1337409805.py:11: FutureWarning: Downcasting object dtype arrays on .fillna, .ffill, .bfill is deprecated and will change in a future version. Call result.infer_objects(copy=False) instead. To opt-in to the future behavior, set `pd.set_option('future.no_silent_downcasting', True)`\n",
      "  earnings_growth = financials['Net Income'].pct_change().iloc[-1] * 100  # Latest YoY growth in net income\n",
      "/var/folders/83/3t5wk1pn2fq83ss49zg61zf40000gn/T/ipykernel_24432/1337409805.py:21: FutureWarning: The default fill_method='pad' in Series.pct_change is deprecated and will be removed in a future version. Either fill in any non-leading NA values prior to calling pct_change or specify 'fill_method=None' to not fill NA values.\n",
      "  annual_growth = financials['Net Income'].pct_change().mean() * 100  # Average annual growth\n",
      "/var/folders/83/3t5wk1pn2fq83ss49zg61zf40000gn/T/ipykernel_24432/1337409805.py:21: FutureWarning: Downcasting object dtype arrays on .fillna, .ffill, .bfill is deprecated and will change in a future version. Call result.infer_objects(copy=False) instead. To opt-in to the future behavior, set `pd.set_option('future.no_silent_downcasting', True)`\n",
      "  annual_growth = financials['Net Income'].pct_change().mean() * 100  # Average annual growth\n"
     ]
    },
    {
     "name": "stdout",
     "output_type": "stream",
     "text": [
      "Results for APTV:\n",
      "Earnings Growth (C): 0.0\n",
      "Annual Earnings Growth (A): 31.326786613272294\n",
      "Institutional Sponsorship (I): 106448831\n",
      "ROE: N/A\n",
      "Debt-to-Equity: N/A\n",
      "Dividend Growth: 2.0600864254299363\n",
      "\n"
     ]
    },
    {
     "name": "stderr",
     "output_type": "stream",
     "text": [
      "/var/folders/83/3t5wk1pn2fq83ss49zg61zf40000gn/T/ipykernel_24432/1337409805.py:11: FutureWarning: Downcasting object dtype arrays on .fillna, .ffill, .bfill is deprecated and will change in a future version. Call result.infer_objects(copy=False) instead. To opt-in to the future behavior, set `pd.set_option('future.no_silent_downcasting', True)`\n",
      "  earnings_growth = financials['Net Income'].pct_change().iloc[-1] * 100  # Latest YoY growth in net income\n",
      "/var/folders/83/3t5wk1pn2fq83ss49zg61zf40000gn/T/ipykernel_24432/1337409805.py:21: FutureWarning: Downcasting object dtype arrays on .fillna, .ffill, .bfill is deprecated and will change in a future version. Call result.infer_objects(copy=False) instead. To opt-in to the future behavior, set `pd.set_option('future.no_silent_downcasting', True)`\n",
      "  annual_growth = financials['Net Income'].pct_change().mean() * 100  # Average annual growth\n"
     ]
    },
    {
     "name": "stdout",
     "output_type": "stream",
     "text": [
      "Results for ACGL:\n",
      "Earnings Growth (C): -34.83908205841446\n",
      "Annual Earnings Growth (A): -18.493357972451328\n",
      "Institutional Sponsorship (I): 180272787\n",
      "ROE: N/A\n",
      "Debt-to-Equity: N/A\n",
      "Dividend Growth: N/A\n",
      "\n"
     ]
    },
    {
     "name": "stderr",
     "output_type": "stream",
     "text": [
      "/var/folders/83/3t5wk1pn2fq83ss49zg61zf40000gn/T/ipykernel_24432/1337409805.py:11: FutureWarning: The default fill_method='pad' in Series.pct_change is deprecated and will be removed in a future version. Either fill in any non-leading NA values prior to calling pct_change or specify 'fill_method=None' to not fill NA values.\n",
      "  earnings_growth = financials['Net Income'].pct_change().iloc[-1] * 100  # Latest YoY growth in net income\n",
      "/var/folders/83/3t5wk1pn2fq83ss49zg61zf40000gn/T/ipykernel_24432/1337409805.py:11: FutureWarning: Downcasting object dtype arrays on .fillna, .ffill, .bfill is deprecated and will change in a future version. Call result.infer_objects(copy=False) instead. To opt-in to the future behavior, set `pd.set_option('future.no_silent_downcasting', True)`\n",
      "  earnings_growth = financials['Net Income'].pct_change().iloc[-1] * 100  # Latest YoY growth in net income\n",
      "/var/folders/83/3t5wk1pn2fq83ss49zg61zf40000gn/T/ipykernel_24432/1337409805.py:21: FutureWarning: The default fill_method='pad' in Series.pct_change is deprecated and will be removed in a future version. Either fill in any non-leading NA values prior to calling pct_change or specify 'fill_method=None' to not fill NA values.\n",
      "  annual_growth = financials['Net Income'].pct_change().mean() * 100  # Average annual growth\n",
      "/var/folders/83/3t5wk1pn2fq83ss49zg61zf40000gn/T/ipykernel_24432/1337409805.py:21: FutureWarning: Downcasting object dtype arrays on .fillna, .ffill, .bfill is deprecated and will change in a future version. Call result.infer_objects(copy=False) instead. To opt-in to the future behavior, set `pd.set_option('future.no_silent_downcasting', True)`\n",
      "  annual_growth = financials['Net Income'].pct_change().mean() * 100  # Average annual growth\n"
     ]
    },
    {
     "name": "stdout",
     "output_type": "stream",
     "text": [
      "Results for ADM:\n",
      "Earnings Growth (C): 0.0\n",
      "Annual Earnings Growth (A): -11.8909571969712\n",
      "Institutional Sponsorship (I): 262798728\n",
      "ROE: N/A\n",
      "Debt-to-Equity: N/A\n",
      "Dividend Growth: 13.72958338530765\n",
      "\n"
     ]
    },
    {
     "name": "stderr",
     "output_type": "stream",
     "text": [
      "/var/folders/83/3t5wk1pn2fq83ss49zg61zf40000gn/T/ipykernel_24432/1337409805.py:11: FutureWarning: The default fill_method='pad' in Series.pct_change is deprecated and will be removed in a future version. Either fill in any non-leading NA values prior to calling pct_change or specify 'fill_method=None' to not fill NA values.\n",
      "  earnings_growth = financials['Net Income'].pct_change().iloc[-1] * 100  # Latest YoY growth in net income\n",
      "/var/folders/83/3t5wk1pn2fq83ss49zg61zf40000gn/T/ipykernel_24432/1337409805.py:11: FutureWarning: Downcasting object dtype arrays on .fillna, .ffill, .bfill is deprecated and will change in a future version. Call result.infer_objects(copy=False) instead. To opt-in to the future behavior, set `pd.set_option('future.no_silent_downcasting', True)`\n",
      "  earnings_growth = financials['Net Income'].pct_change().iloc[-1] * 100  # Latest YoY growth in net income\n",
      "/var/folders/83/3t5wk1pn2fq83ss49zg61zf40000gn/T/ipykernel_24432/1337409805.py:21: FutureWarning: The default fill_method='pad' in Series.pct_change is deprecated and will be removed in a future version. Either fill in any non-leading NA values prior to calling pct_change or specify 'fill_method=None' to not fill NA values.\n",
      "  annual_growth = financials['Net Income'].pct_change().mean() * 100  # Average annual growth\n",
      "/var/folders/83/3t5wk1pn2fq83ss49zg61zf40000gn/T/ipykernel_24432/1337409805.py:21: FutureWarning: Downcasting object dtype arrays on .fillna, .ffill, .bfill is deprecated and will change in a future version. Call result.infer_objects(copy=False) instead. To opt-in to the future behavior, set `pd.set_option('future.no_silent_downcasting', True)`\n",
      "  annual_growth = financials['Net Income'].pct_change().mean() * 100  # Average annual growth\n"
     ]
    },
    {
     "name": "stdout",
     "output_type": "stream",
     "text": [
      "Results for ANET:\n",
      "Earnings Growth (C): 0.0\n",
      "Annual Earnings Growth (A): -24.39200043752174\n",
      "Institutional Sponsorship (I): 107824947\n",
      "ROE: N/A\n",
      "Debt-to-Equity: N/A\n",
      "Dividend Growth: N/A\n",
      "\n"
     ]
    },
    {
     "name": "stderr",
     "output_type": "stream",
     "text": [
      "/var/folders/83/3t5wk1pn2fq83ss49zg61zf40000gn/T/ipykernel_24432/1337409805.py:11: FutureWarning: The default fill_method='pad' in Series.pct_change is deprecated and will be removed in a future version. Either fill in any non-leading NA values prior to calling pct_change or specify 'fill_method=None' to not fill NA values.\n",
      "  earnings_growth = financials['Net Income'].pct_change().iloc[-1] * 100  # Latest YoY growth in net income\n",
      "/var/folders/83/3t5wk1pn2fq83ss49zg61zf40000gn/T/ipykernel_24432/1337409805.py:11: FutureWarning: Downcasting object dtype arrays on .fillna, .ffill, .bfill is deprecated and will change in a future version. Call result.infer_objects(copy=False) instead. To opt-in to the future behavior, set `pd.set_option('future.no_silent_downcasting', True)`\n",
      "  earnings_growth = financials['Net Income'].pct_change().iloc[-1] * 100  # Latest YoY growth in net income\n",
      "/var/folders/83/3t5wk1pn2fq83ss49zg61zf40000gn/T/ipykernel_24432/1337409805.py:21: FutureWarning: The default fill_method='pad' in Series.pct_change is deprecated and will be removed in a future version. Either fill in any non-leading NA values prior to calling pct_change or specify 'fill_method=None' to not fill NA values.\n",
      "  annual_growth = financials['Net Income'].pct_change().mean() * 100  # Average annual growth\n",
      "/var/folders/83/3t5wk1pn2fq83ss49zg61zf40000gn/T/ipykernel_24432/1337409805.py:21: FutureWarning: Downcasting object dtype arrays on .fillna, .ffill, .bfill is deprecated and will change in a future version. Call result.infer_objects(copy=False) instead. To opt-in to the future behavior, set `pd.set_option('future.no_silent_downcasting', True)`\n",
      "  annual_growth = financials['Net Income'].pct_change().mean() * 100  # Average annual growth\n"
     ]
    },
    {
     "name": "stdout",
     "output_type": "stream",
     "text": [
      "Results for AJG:\n",
      "Earnings Growth (C): 0.0\n",
      "Annual Earnings Growth (A): -3.348372105103395\n",
      "Institutional Sponsorship (I): 98555092\n",
      "ROE: N/A\n",
      "Debt-to-Equity: N/A\n",
      "Dividend Growth: 2.247702685450585\n",
      "\n"
     ]
    },
    {
     "name": "stderr",
     "output_type": "stream",
     "text": [
      "/var/folders/83/3t5wk1pn2fq83ss49zg61zf40000gn/T/ipykernel_24432/1337409805.py:11: FutureWarning: The default fill_method='pad' in Series.pct_change is deprecated and will be removed in a future version. Either fill in any non-leading NA values prior to calling pct_change or specify 'fill_method=None' to not fill NA values.\n",
      "  earnings_growth = financials['Net Income'].pct_change().iloc[-1] * 100  # Latest YoY growth in net income\n",
      "/var/folders/83/3t5wk1pn2fq83ss49zg61zf40000gn/T/ipykernel_24432/1337409805.py:11: FutureWarning: Downcasting object dtype arrays on .fillna, .ffill, .bfill is deprecated and will change in a future version. Call result.infer_objects(copy=False) instead. To opt-in to the future behavior, set `pd.set_option('future.no_silent_downcasting', True)`\n",
      "  earnings_growth = financials['Net Income'].pct_change().iloc[-1] * 100  # Latest YoY growth in net income\n",
      "/var/folders/83/3t5wk1pn2fq83ss49zg61zf40000gn/T/ipykernel_24432/1337409805.py:21: FutureWarning: The default fill_method='pad' in Series.pct_change is deprecated and will be removed in a future version. Either fill in any non-leading NA values prior to calling pct_change or specify 'fill_method=None' to not fill NA values.\n",
      "  annual_growth = financials['Net Income'].pct_change().mean() * 100  # Average annual growth\n",
      "/var/folders/83/3t5wk1pn2fq83ss49zg61zf40000gn/T/ipykernel_24432/1337409805.py:21: FutureWarning: Downcasting object dtype arrays on .fillna, .ffill, .bfill is deprecated and will change in a future version. Call result.infer_objects(copy=False) instead. To opt-in to the future behavior, set `pd.set_option('future.no_silent_downcasting', True)`\n",
      "  annual_growth = financials['Net Income'].pct_change().mean() * 100  # Average annual growth\n"
     ]
    },
    {
     "name": "stdout",
     "output_type": "stream",
     "text": [
      "Results for AIZ:\n",
      "Earnings Growth (C): 0.0\n",
      "Annual Earnings Growth (A): 66.93875241798561\n",
      "Institutional Sponsorship (I): 31605642\n",
      "ROE: N/A\n",
      "Debt-to-Equity: N/A\n",
      "Dividend Growth: 3.2240460478426525\n",
      "\n"
     ]
    },
    {
     "name": "stderr",
     "output_type": "stream",
     "text": [
      "/var/folders/83/3t5wk1pn2fq83ss49zg61zf40000gn/T/ipykernel_24432/1337409805.py:11: FutureWarning: The default fill_method='pad' in Series.pct_change is deprecated and will be removed in a future version. Either fill in any non-leading NA values prior to calling pct_change or specify 'fill_method=None' to not fill NA values.\n",
      "  earnings_growth = financials['Net Income'].pct_change().iloc[-1] * 100  # Latest YoY growth in net income\n",
      "/var/folders/83/3t5wk1pn2fq83ss49zg61zf40000gn/T/ipykernel_24432/1337409805.py:11: FutureWarning: Downcasting object dtype arrays on .fillna, .ffill, .bfill is deprecated and will change in a future version. Call result.infer_objects(copy=False) instead. To opt-in to the future behavior, set `pd.set_option('future.no_silent_downcasting', True)`\n",
      "  earnings_growth = financials['Net Income'].pct_change().iloc[-1] * 100  # Latest YoY growth in net income\n",
      "/var/folders/83/3t5wk1pn2fq83ss49zg61zf40000gn/T/ipykernel_24432/1337409805.py:21: FutureWarning: The default fill_method='pad' in Series.pct_change is deprecated and will be removed in a future version. Either fill in any non-leading NA values prior to calling pct_change or specify 'fill_method=None' to not fill NA values.\n",
      "  annual_growth = financials['Net Income'].pct_change().mean() * 100  # Average annual growth\n",
      "/var/folders/83/3t5wk1pn2fq83ss49zg61zf40000gn/T/ipykernel_24432/1337409805.py:21: FutureWarning: Downcasting object dtype arrays on .fillna, .ffill, .bfill is deprecated and will change in a future version. Call result.infer_objects(copy=False) instead. To opt-in to the future behavior, set `pd.set_option('future.no_silent_downcasting', True)`\n",
      "  annual_growth = financials['Net Income'].pct_change().mean() * 100  # Average annual growth\n"
     ]
    },
    {
     "name": "stdout",
     "output_type": "stream",
     "text": [
      "Results for T:\n",
      "Earnings Growth (C): 0.0\n",
      "Annual Earnings Growth (A): -155.13798491678986\n",
      "Institutional Sponsorship (I): 2138901830\n",
      "ROE: N/A\n",
      "Debt-to-Equity: N/A\n",
      "Dividend Growth: 0.6986791651597853\n",
      "\n"
     ]
    },
    {
     "name": "stderr",
     "output_type": "stream",
     "text": [
      "/var/folders/83/3t5wk1pn2fq83ss49zg61zf40000gn/T/ipykernel_24432/1337409805.py:11: FutureWarning: The default fill_method='pad' in Series.pct_change is deprecated and will be removed in a future version. Either fill in any non-leading NA values prior to calling pct_change or specify 'fill_method=None' to not fill NA values.\n",
      "  earnings_growth = financials['Net Income'].pct_change().iloc[-1] * 100  # Latest YoY growth in net income\n",
      "/var/folders/83/3t5wk1pn2fq83ss49zg61zf40000gn/T/ipykernel_24432/1337409805.py:11: FutureWarning: Downcasting object dtype arrays on .fillna, .ffill, .bfill is deprecated and will change in a future version. Call result.infer_objects(copy=False) instead. To opt-in to the future behavior, set `pd.set_option('future.no_silent_downcasting', True)`\n",
      "  earnings_growth = financials['Net Income'].pct_change().iloc[-1] * 100  # Latest YoY growth in net income\n",
      "/var/folders/83/3t5wk1pn2fq83ss49zg61zf40000gn/T/ipykernel_24432/1337409805.py:21: FutureWarning: The default fill_method='pad' in Series.pct_change is deprecated and will be removed in a future version. Either fill in any non-leading NA values prior to calling pct_change or specify 'fill_method=None' to not fill NA values.\n",
      "  annual_growth = financials['Net Income'].pct_change().mean() * 100  # Average annual growth\n",
      "/var/folders/83/3t5wk1pn2fq83ss49zg61zf40000gn/T/ipykernel_24432/1337409805.py:21: FutureWarning: Downcasting object dtype arrays on .fillna, .ffill, .bfill is deprecated and will change in a future version. Call result.infer_objects(copy=False) instead. To opt-in to the future behavior, set `pd.set_option('future.no_silent_downcasting', True)`\n",
      "  annual_growth = financials['Net Income'].pct_change().mean() * 100  # Average annual growth\n"
     ]
    },
    {
     "name": "stdout",
     "output_type": "stream",
     "text": [
      "Results for ATO:\n",
      "Earnings Growth (C): 0.0\n",
      "Annual Earnings Growth (A): -9.067659605399342\n",
      "Institutional Sponsorship (I): 79827219\n",
      "ROE: N/A\n",
      "Debt-to-Equity: N/A\n",
      "Dividend Growth: 1.0826514753893597\n",
      "\n"
     ]
    },
    {
     "name": "stderr",
     "output_type": "stream",
     "text": [
      "/var/folders/83/3t5wk1pn2fq83ss49zg61zf40000gn/T/ipykernel_24432/1337409805.py:11: FutureWarning: Downcasting object dtype arrays on .fillna, .ffill, .bfill is deprecated and will change in a future version. Call result.infer_objects(copy=False) instead. To opt-in to the future behavior, set `pd.set_option('future.no_silent_downcasting', True)`\n",
      "  earnings_growth = financials['Net Income'].pct_change().iloc[-1] * 100  # Latest YoY growth in net income\n",
      "/var/folders/83/3t5wk1pn2fq83ss49zg61zf40000gn/T/ipykernel_24432/1337409805.py:21: FutureWarning: Downcasting object dtype arrays on .fillna, .ffill, .bfill is deprecated and will change in a future version. Call result.infer_objects(copy=False) instead. To opt-in to the future behavior, set `pd.set_option('future.no_silent_downcasting', True)`\n",
      "  annual_growth = financials['Net Income'].pct_change().mean() * 100  # Average annual growth\n"
     ]
    },
    {
     "name": "stdout",
     "output_type": "stream",
     "text": [
      "Results for ADSK:\n",
      "Earnings Growth (C): -82.24337748344371\n",
      "Annual Earnings Growth (A): 7.067931334112032\n",
      "Institutional Sponsorship (I): 80836613\n",
      "ROE: N/A\n",
      "Debt-to-Equity: N/A\n",
      "Dividend Growth: 24.075268817204304\n",
      "\n"
     ]
    },
    {
     "name": "stderr",
     "output_type": "stream",
     "text": [
      "/var/folders/83/3t5wk1pn2fq83ss49zg61zf40000gn/T/ipykernel_24432/1337409805.py:11: FutureWarning: The default fill_method='pad' in Series.pct_change is deprecated and will be removed in a future version. Either fill in any non-leading NA values prior to calling pct_change or specify 'fill_method=None' to not fill NA values.\n",
      "  earnings_growth = financials['Net Income'].pct_change().iloc[-1] * 100  # Latest YoY growth in net income\n",
      "/var/folders/83/3t5wk1pn2fq83ss49zg61zf40000gn/T/ipykernel_24432/1337409805.py:11: FutureWarning: Downcasting object dtype arrays on .fillna, .ffill, .bfill is deprecated and will change in a future version. Call result.infer_objects(copy=False) instead. To opt-in to the future behavior, set `pd.set_option('future.no_silent_downcasting', True)`\n",
      "  earnings_growth = financials['Net Income'].pct_change().iloc[-1] * 100  # Latest YoY growth in net income\n",
      "/var/folders/83/3t5wk1pn2fq83ss49zg61zf40000gn/T/ipykernel_24432/1337409805.py:21: FutureWarning: The default fill_method='pad' in Series.pct_change is deprecated and will be removed in a future version. Either fill in any non-leading NA values prior to calling pct_change or specify 'fill_method=None' to not fill NA values.\n",
      "  annual_growth = financials['Net Income'].pct_change().mean() * 100  # Average annual growth\n",
      "/var/folders/83/3t5wk1pn2fq83ss49zg61zf40000gn/T/ipykernel_24432/1337409805.py:21: FutureWarning: Downcasting object dtype arrays on .fillna, .ffill, .bfill is deprecated and will change in a future version. Call result.infer_objects(copy=False) instead. To opt-in to the future behavior, set `pd.set_option('future.no_silent_downcasting', True)`\n",
      "  annual_growth = financials['Net Income'].pct_change().mean() * 100  # Average annual growth\n"
     ]
    },
    {
     "name": "stdout",
     "output_type": "stream",
     "text": [
      "Results for ADP:\n",
      "Earnings Growth (C): 0.0\n",
      "Annual Earnings Growth (A): -8.629228789268225\n",
      "Institutional Sponsorship (I): 151736701\n",
      "ROE: N/A\n",
      "Debt-to-Equity: N/A\n",
      "Dividend Growth: 3.4296419226431\n",
      "\n",
      "Results saved to 'sp500_canslim_results.csv'\n",
      "  Ticker  Earnings Growth  Annual Growth  Institutional Sponsorship   ROE  \\\n",
      "0    MMM         0.000000     -47.016636                191314025.0  None   \n",
      "1    AOS       -29.193184       6.604738                 50497166.0  None   \n",
      "2    ABT         0.000000      -3.324313                643105840.0  None   \n",
      "3   ABBV         0.000000      20.224494                619568392.0  None   \n",
      "4    ACN       -13.526254      -9.184820                221801823.0  None   \n",
      "\n",
      "  Debt to Equity  Dividend Growth  \n",
      "0           None         3.232370  \n",
      "1           None         2.930895  \n",
      "2           None         8.882511  \n",
      "3           None         3.174054  \n",
      "4           None         4.962924  \n"
     ]
    }
   ],
   "source": [
    "import yfinance as yf\n",
    "import pandas as pd\n",
    "import numpy as np\n",
    "\n",
    "# Function to calculate earnings growth (C - Current Earnings Growth)\n",
    "def calculate_earnings_growth(ticker):\n",
    "    stock = yf.Ticker(ticker)\n",
    "    try:\n",
    "        # Retrieve historical financial data\n",
    "        financials = stock.financials.T\n",
    "        earnings_growth = financials['Net Income'].pct_change().iloc[-1] * 100  # Latest YoY growth in net income\n",
    "        return earnings_growth\n",
    "    except KeyError:\n",
    "        return None\n",
    "\n",
    "# Function to calculate annual earnings growth (A - Annual Earnings Growth)\n",
    "def calculate_annual_earnings_growth(ticker):\n",
    "    stock = yf.Ticker(ticker)\n",
    "    try:\n",
    "        financials = stock.financials.T\n",
    "        annual_growth = financials['Net Income'].pct_change().mean() * 100  # Average annual growth\n",
    "        return annual_growth\n",
    "    except KeyError:\n",
    "        return None\n",
    "\n",
    "# Function to get institutional sponsorship (I - Institutional Sponsorship)\n",
    "def get_institutional_sponsorship(ticker):\n",
    "    stock = yf.Ticker(ticker)\n",
    "    try:\n",
    "        major_holders = stock.institutional_holders\n",
    "        if major_holders is not None:\n",
    "            # Sum institutional holdings\n",
    "            institutional_ownership = major_holders['Shares'].sum()\n",
    "            return institutional_ownership\n",
    "        else:\n",
    "            return None\n",
    "    except Exception:\n",
    "        return None\n",
    "\n",
    "# Function to calculate ROE (Return on Equity)\n",
    "def calculate_roe(ticker):\n",
    "    stock = yf.Ticker(ticker)\n",
    "    try:\n",
    "        financials = stock.financials.T\n",
    "        balance_sheet = stock.balance_sheet.T\n",
    "        net_income = financials['Net Income'].iloc[-1]\n",
    "        equity = balance_sheet['Total Stockholder Equity'].iloc[-1]\n",
    "        roe = (net_income / equity) * 100  # ROE percentage\n",
    "        return roe\n",
    "    except KeyError:\n",
    "        return None\n",
    "\n",
    "# Function to calculate debt-to-equity ratio\n",
    "def calculate_debt_to_equity(ticker):\n",
    "    stock = yf.Ticker(ticker)\n",
    "    try:\n",
    "        balance_sheet = stock.balance_sheet.T\n",
    "        total_debt = balance_sheet.get('Total Debt', None)\n",
    "        total_equity = balance_sheet.get('Total Stockholder Equity', None)\n",
    "        if total_debt is not None and total_equity is not None:\n",
    "            debt_to_equity = total_debt / total_equity\n",
    "            return debt_to_equity\n",
    "        else:\n",
    "            return None\n",
    "    except KeyError:\n",
    "        return None\n",
    "\n",
    "# Function to calculate dividend growth\n",
    "def calculate_dividend_growth(ticker):\n",
    "    stock = yf.Ticker(ticker)\n",
    "    try:\n",
    "        dividends = stock.dividends\n",
    "        if not dividends.empty:\n",
    "            dividend_growth = dividends.pct_change().mean() * 100  # Average YoY dividend growth\n",
    "            return dividend_growth\n",
    "        else:\n",
    "            return None\n",
    "    except Exception:\n",
    "        return None\n",
    "\n",
    "# Function to rank S&P 500 companies based on CANSLIM strategy\n",
    "def evaluate_canslim_parameters(ticker):\n",
    "    try:\n",
    "        earnings_growth = calculate_earnings_growth(ticker)\n",
    "        annual_earnings_growth = calculate_annual_earnings_growth(ticker)\n",
    "        institutional_sponsorship = get_institutional_sponsorship(ticker)\n",
    "        roe = calculate_roe(ticker)\n",
    "        debt_to_equity = calculate_debt_to_equity(ticker)\n",
    "        dividend_growth = calculate_dividend_growth(ticker)\n",
    "        \n",
    "        print(f\"Results for {ticker}:\")\n",
    "        print(f\"Earnings Growth (C): {earnings_growth if earnings_growth is not None else 'N/A'}\")\n",
    "        print(f\"Annual Earnings Growth (A): {annual_earnings_growth if annual_earnings_growth is not None else 'N/A'}\")\n",
    "        print(f\"Institutional Sponsorship (I): {institutional_sponsorship if institutional_sponsorship is not None else 'N/A'}\")\n",
    "        print(f\"ROE: {roe if roe is not None else 'N/A'}\")\n",
    "        print(f\"Debt-to-Equity: {debt_to_equity if debt_to_equity is not None else 'N/A'}\")\n",
    "        print(f\"Dividend Growth: {dividend_growth if dividend_growth is not None else 'N/A'}\\n\")\n",
    "        \n",
    "        return {\n",
    "            'Ticker': ticker,\n",
    "            'Earnings Growth': earnings_growth,\n",
    "            'Annual Growth': annual_earnings_growth,\n",
    "            'Institutional Sponsorship': institutional_sponsorship,\n",
    "            'ROE': roe,\n",
    "            'Debt to Equity': debt_to_equity,\n",
    "            'Dividend Growth': dividend_growth\n",
    "        }\n",
    "    except Exception as e:\n",
    "        print(f\"Error processing {ticker}: {e}\")\n",
    "        return None\n",
    "\n",
    "# Load the list of S&P 500 companies (You can download this as a CSV or use yfinance)\n",
    "def get_sp500_companies():\n",
    "    sp500 = pd.read_html('https://en.wikipedia.org/wiki/List_of_S%26P_500_companies')[0]\n",
    "    return sp500['Symbol'].tolist()\n",
    "\n",
    "# Evaluate CANSLIM strategy for all S&P 500 companies\n",
    "def evaluate_sp500_canslim():\n",
    "    sp500_tickers = get_sp500_companies()\n",
    "    results = []\n",
    "    \n",
    "    for ticker in sp500_tickers[:50]:  # Limit to first 50 tickers for demonstration\n",
    "        result = evaluate_canslim_parameters(ticker)\n",
    "        if result:\n",
    "            results.append(result)\n",
    "    \n",
    "    # Convert results to DataFrame\n",
    "    results_df = pd.DataFrame(results)\n",
    "    \n",
    "    # Save the results to CSV\n",
    "    results_df.to_csv('sp500_canslim_results.csv', index=False)\n",
    "    print(\"Results saved to 'sp500_canslim_results.csv'\")\n",
    "    \n",
    "    return results_df\n",
    "\n",
    "# Main function\n",
    "if __name__ == \"__main__\":\n",
    "    sp500_results = evaluate_sp500_canslim()\n",
    "    print(sp500_results.head())\n"
   ]
  }
 ],
 "metadata": {
  "kernelspec": {
   "display_name": "base",
   "language": "python",
   "name": "python3"
  },
  "language_info": {
   "codemirror_mode": {
    "name": "ipython",
    "version": 3
   },
   "file_extension": ".py",
   "mimetype": "text/x-python",
   "name": "python",
   "nbconvert_exporter": "python",
   "pygments_lexer": "ipython3",
   "version": "3.12.4"
  }
 },
 "nbformat": 4,
 "nbformat_minor": 2
}
